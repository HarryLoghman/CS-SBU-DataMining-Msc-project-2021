{
  "nbformat": 4,
  "nbformat_minor": 0,
  "metadata": {
    "colab": {
      "name": "HW3_Q22_Q27.ipynb",
      "provenance": [],
      "collapsed_sections": []
    },
    "kernelspec": {
      "name": "python3",
      "display_name": "Python 3"
    },
    "language_info": {
      "name": "python"
    }
  },
  "cells": [
    {
      "cell_type": "markdown",
      "metadata": {
        "id": "3tVIC2lvEWQU"
      },
      "source": [
        "# **Description**\n",
        "* This colab includes codings required for questions 22-27.\n",
        "* To avoid messy code and improve the organization, codes for the first part of homework (1-21) are in the following link: https://colab.research.google.com/drive/190aRzS0ULWFs_leintfBwr8DdVSsWkaO?usp=sharing"
      ]
    },
    {
      "cell_type": "markdown",
      "metadata": {
        "id": "C_Bzqyv-Mya-"
      },
      "source": [
        "**LSTM for classification**"
      ]
    },
    {
      "cell_type": "code",
      "metadata": {
        "id": "V4dm6T4eMx_j"
      },
      "source": [
        "import pandas as pd\n",
        "\n",
        "bitcoin_path = '/content/drive/MyDrive/Data Mining Class (Master)/HW3/Dataset/Bitcoin Historical Data - Investing.com.csv'\n",
        "bitcoin_df = pd.read_csv(bitcoin_path)\n",
        "\n",
        "for col in bitcoin_df.columns:\n",
        "  if col == 'Date':\n",
        "    bitcoin_df[col] = pd.to_datetime(bitcoin_df[col])\n",
        "  elif col in ['Price', 'Open', 'High']:\n",
        "    bitcoin_df[col] = bitcoin_df[col].str.replace(',', '').astype('float64')\n",
        "\n",
        "bitcoin_df= bitcoin_df.sort_values(by = 'Date', ascending=True).reset_index(drop = True)"
      ],
      "execution_count": null,
      "outputs": []
    },
    {
      "cell_type": "code",
      "metadata": {
        "id": "VOdA9pFZaJYk"
      },
      "source": [
        "bitcoin_df['Change %'] = bitcoin_df['Change %'].str.replace('%', '').astype('float64')\n",
        "bitcoin_df.loc[bitcoin_df['Change %'] <= 0, 'Change %'] = 0\n",
        "bitcoin_df.loc[bitcoin_df['Change %'] > 0, 'Change %'] = 1"
      ],
      "execution_count": null,
      "outputs": []
    },
    {
      "cell_type": "code",
      "metadata": {
        "id": "KaNZgo4UenNb"
      },
      "source": [
        "from sklearn.preprocessing import MinMaxScaler\n",
        "import numpy as np\n",
        "\n",
        "# convert an array of values into a dataset matrix\n",
        "def create_dataset(dataset, col, look_back=1):\n",
        "\tdataX, dataY = [], []\n",
        "\tfor i in range(len(dataset)-look_back-1):\n",
        "\t\ta = dataset[i:(i+look_back), 0]\n",
        "\t\tdataX.append(a)\n",
        "\t\tdataY.append(col[i + look_back])\n",
        "\treturn np.array(dataX), np.array(dataY)\n",
        "\n",
        "#LSTM is sensitive to scale of input data, so we rescale everything between 0 and 1\n",
        "scaler = MinMaxScaler(feature_range=(0, 1))\n",
        "bitcoin_df_scaled = scaler.fit_transform(bitcoin_df['Price'].values.reshape(-1,1))\n",
        "\n",
        "bitcoin_train_df_scaled = bitcoin_df_scaled[bitcoin_df['Date']<='2020-01-01']\n",
        "bitcoin_test_df_scaled = bitcoin_df_scaled[bitcoin_df['Date']>='2020-01-02']\n",
        "\n",
        "look_back = 1\n",
        "trainX, trainY = create_dataset(bitcoin_train_df_scaled, bitcoin_df['Change %'].values.tolist(), look_back)\n",
        "testX, testY = create_dataset(bitcoin_test_df_scaled, bitcoin_df['Change %'].values.tolist(), look_back)\n",
        "\n",
        "# reshape input to be [samples, time steps, features]\n",
        "trainX = np.reshape(trainX, (trainX.shape[0], 1, trainX.shape[1]))\n",
        "testX = np.reshape(testX, (testX.shape[0], 1, testX.shape[1]))"
      ],
      "execution_count": null,
      "outputs": []
    },
    {
      "cell_type": "code",
      "metadata": {
        "colab": {
          "base_uri": "https://localhost:8080/"
        },
        "id": "KswywIWcZ8bx",
        "outputId": "951a9c50-98b9-4c21-e4a2-f35dede2c34d"
      },
      "source": [
        "from keras.models import Sequential\n",
        "from keras.layers import Dense\n",
        "from keras.layers import LSTM\n",
        "\n",
        "model = Sequential()\n",
        "model.add(LSTM(4, input_shape=(1, look_back)))\n",
        "model.add(Dense(1, activation='sigmoid'))\n",
        "model.compile(loss='binary_crossentropy', optimizer='adam', metrics=['accuracy'])\n",
        "model.fit(trainX, trainY, epochs=50, batch_size=1, verbose=2)"
      ],
      "execution_count": null,
      "outputs": [
        {
          "output_type": "stream",
          "text": [
            "Epoch 1/50\n",
            "3453/3453 - 6s - loss: 0.6920 - accuracy: 0.5219\n",
            "Epoch 2/50\n",
            "3453/3453 - 4s - loss: 0.6920 - accuracy: 0.5274\n",
            "Epoch 3/50\n",
            "3453/3453 - 4s - loss: 0.6919 - accuracy: 0.5274\n",
            "Epoch 4/50\n",
            "3453/3453 - 4s - loss: 0.6918 - accuracy: 0.5274\n",
            "Epoch 5/50\n",
            "3453/3453 - 4s - loss: 0.6917 - accuracy: 0.5274\n",
            "Epoch 6/50\n",
            "3453/3453 - 4s - loss: 0.6914 - accuracy: 0.5271\n",
            "Epoch 7/50\n",
            "3453/3453 - 4s - loss: 0.6915 - accuracy: 0.5268\n",
            "Epoch 8/50\n",
            "3453/3453 - 4s - loss: 0.6911 - accuracy: 0.5251\n",
            "Epoch 9/50\n",
            "3453/3453 - 4s - loss: 0.6912 - accuracy: 0.5262\n",
            "Epoch 10/50\n",
            "3453/3453 - 4s - loss: 0.6912 - accuracy: 0.5268\n",
            "Epoch 11/50\n",
            "3453/3453 - 4s - loss: 0.6911 - accuracy: 0.5198\n",
            "Epoch 12/50\n",
            "3453/3453 - 4s - loss: 0.6910 - accuracy: 0.5222\n",
            "Epoch 13/50\n",
            "3453/3453 - 4s - loss: 0.6910 - accuracy: 0.5236\n",
            "Epoch 14/50\n",
            "3453/3453 - 4s - loss: 0.6907 - accuracy: 0.5259\n",
            "Epoch 15/50\n",
            "3453/3453 - 4s - loss: 0.6906 - accuracy: 0.5282\n",
            "Epoch 16/50\n",
            "3453/3453 - 4s - loss: 0.6908 - accuracy: 0.5303\n",
            "Epoch 17/50\n",
            "3453/3453 - 4s - loss: 0.6907 - accuracy: 0.5253\n",
            "Epoch 18/50\n",
            "3453/3453 - 4s - loss: 0.6908 - accuracy: 0.5248\n",
            "Epoch 19/50\n",
            "3453/3453 - 4s - loss: 0.6906 - accuracy: 0.5236\n",
            "Epoch 20/50\n",
            "3453/3453 - 4s - loss: 0.6907 - accuracy: 0.5262\n",
            "Epoch 21/50\n",
            "3453/3453 - 4s - loss: 0.6906 - accuracy: 0.5314\n",
            "Epoch 22/50\n",
            "3453/3453 - 4s - loss: 0.6905 - accuracy: 0.5285\n",
            "Epoch 23/50\n",
            "3453/3453 - 4s - loss: 0.6905 - accuracy: 0.5303\n",
            "Epoch 24/50\n",
            "3453/3453 - 4s - loss: 0.6906 - accuracy: 0.5294\n",
            "Epoch 25/50\n",
            "3453/3453 - 4s - loss: 0.6903 - accuracy: 0.5268\n",
            "Epoch 26/50\n",
            "3453/3453 - 4s - loss: 0.6905 - accuracy: 0.5308\n",
            "Epoch 27/50\n",
            "3453/3453 - 4s - loss: 0.6904 - accuracy: 0.5277\n",
            "Epoch 28/50\n",
            "3453/3453 - 4s - loss: 0.6902 - accuracy: 0.5288\n",
            "Epoch 29/50\n",
            "3453/3453 - 4s - loss: 0.6903 - accuracy: 0.5306\n",
            "Epoch 30/50\n",
            "3453/3453 - 4s - loss: 0.6898 - accuracy: 0.5320\n",
            "Epoch 31/50\n",
            "3453/3453 - 4s - loss: 0.6902 - accuracy: 0.5277\n",
            "Epoch 32/50\n",
            "3453/3453 - 4s - loss: 0.6901 - accuracy: 0.5337\n",
            "Epoch 33/50\n",
            "3453/3453 - 4s - loss: 0.6900 - accuracy: 0.5294\n",
            "Epoch 34/50\n",
            "3453/3453 - 4s - loss: 0.6900 - accuracy: 0.5285\n",
            "Epoch 35/50\n",
            "3453/3453 - 4s - loss: 0.6897 - accuracy: 0.5291\n",
            "Epoch 36/50\n",
            "3453/3453 - 4s - loss: 0.6899 - accuracy: 0.5363\n",
            "Epoch 37/50\n",
            "3453/3453 - 4s - loss: 0.6897 - accuracy: 0.5320\n",
            "Epoch 38/50\n",
            "3453/3453 - 4s - loss: 0.6897 - accuracy: 0.5363\n",
            "Epoch 39/50\n",
            "3453/3453 - 4s - loss: 0.6896 - accuracy: 0.5340\n",
            "Epoch 40/50\n",
            "3453/3453 - 4s - loss: 0.6897 - accuracy: 0.5340\n",
            "Epoch 41/50\n",
            "3453/3453 - 4s - loss: 0.6897 - accuracy: 0.5355\n",
            "Epoch 42/50\n",
            "3453/3453 - 4s - loss: 0.6894 - accuracy: 0.5337\n",
            "Epoch 43/50\n",
            "3453/3453 - 4s - loss: 0.6896 - accuracy: 0.5332\n",
            "Epoch 44/50\n",
            "3453/3453 - 4s - loss: 0.6895 - accuracy: 0.5358\n",
            "Epoch 45/50\n",
            "3453/3453 - 4s - loss: 0.6891 - accuracy: 0.5282\n",
            "Epoch 46/50\n",
            "3453/3453 - 4s - loss: 0.6891 - accuracy: 0.5358\n",
            "Epoch 47/50\n",
            "3453/3453 - 4s - loss: 0.6894 - accuracy: 0.5340\n",
            "Epoch 48/50\n",
            "3453/3453 - 4s - loss: 0.6892 - accuracy: 0.5372\n",
            "Epoch 49/50\n",
            "3453/3453 - 4s - loss: 0.6892 - accuracy: 0.5366\n",
            "Epoch 50/50\n",
            "3453/3453 - 4s - loss: 0.6890 - accuracy: 0.5349\n"
          ],
          "name": "stdout"
        },
        {
          "output_type": "execute_result",
          "data": {
            "text/plain": [
              "<keras.callbacks.History at 0x7f57e524c490>"
            ]
          },
          "metadata": {
            "tags": []
          },
          "execution_count": 122
        }
      ]
    },
    {
      "cell_type": "code",
      "metadata": {
        "colab": {
          "base_uri": "https://localhost:8080/"
        },
        "id": "JliFhY3qnFk5",
        "outputId": "bee9c621-e796-4870-9e58-d2b48f531d6d"
      },
      "source": [
        "scores = model.evaluate(testX, testY, verbose=0)\n",
        "print(\"Accuracy: %.2f%%\" % (scores[1]*100))"
      ],
      "execution_count": null,
      "outputs": [
        {
          "output_type": "stream",
          "text": [
            "Accuracy: 33.26%\n"
          ],
          "name": "stdout"
        }
      ]
    },
    {
      "cell_type": "code",
      "metadata": {
        "id": "0moRyxSEoD5o"
      },
      "source": [
        "y_pred = model.predict(testX)"
      ],
      "execution_count": null,
      "outputs": []
    },
    {
      "cell_type": "code",
      "metadata": {
        "id": "oHn0SOZnqkM3"
      },
      "source": [
        "y_pred_binary = [1 if y>0.5 else 0 for y in y_pred]"
      ],
      "execution_count": null,
      "outputs": []
    },
    {
      "cell_type": "code",
      "metadata": {
        "colab": {
          "base_uri": "https://localhost:8080/"
        },
        "id": "t6wsQRpaqOsf",
        "outputId": "0506dbf2-602c-4528-b92c-dc5db6d550f8"
      },
      "source": [
        "from sklearn.metrics import precision_recall_fscore_support\n",
        "\n",
        "print(precision_recall_fscore_support(testY, y_pred_binary))"
      ],
      "execution_count": null,
      "outputs": [
        {
          "output_type": "stream",
          "text": [
            "(array([0.72413793, 0.16519174]), array([0.27061856, 0.58333333]), array([0.39399625, 0.25747126]), array([388,  96]))\n"
          ],
          "name": "stdout"
        }
      ]
    },
    {
      "cell_type": "markdown",
      "metadata": {
        "id": "0MXkxRnlM5jg"
      },
      "source": [
        "**Add a new feature (Change %) to the LSTM model**"
      ]
    },
    {
      "cell_type": "code",
      "metadata": {
        "id": "jlLtwXBmM4bT"
      },
      "source": [
        "import pandas as pd\n",
        "\n",
        "bitcoin_path = '/content/drive/MyDrive/Data Mining Class (Master)/HW3/Dataset/Bitcoin Historical Data - Investing.com.csv'\n",
        "bitcoin_df = pd.read_csv(bitcoin_path)\n",
        "\n",
        "for col in bitcoin_df.columns:\n",
        "  if col == 'Date':\n",
        "    bitcoin_df[col] = pd.to_datetime(bitcoin_df[col])\n",
        "  elif col in ['Price', 'Open', 'High']:\n",
        "    bitcoin_df[col] = bitcoin_df[col].str.replace(',', '').astype('float64')\n",
        "\n",
        "bitcoin_df= bitcoin_df.sort_values(by = 'Date', ascending=True).reset_index(drop = True)"
      ],
      "execution_count": null,
      "outputs": []
    },
    {
      "cell_type": "code",
      "metadata": {
        "id": "IshPODfwP9Rz"
      },
      "source": [
        "bitcoin_df['Change %'] = bitcoin_df['Change %'].str.replace('%', '').astype('float64')\n",
        "bitcoin_df.loc[bitcoin_df['Change %'] <= 0, 'Change %'] = 0\n",
        "bitcoin_df.loc[bitcoin_df['Change %'] > 0, 'Change %'] = 1"
      ],
      "execution_count": null,
      "outputs": []
    },
    {
      "cell_type": "code",
      "metadata": {
        "id": "r02273IvQRi5"
      },
      "source": [
        "from sklearn.preprocessing import MinMaxScaler\n",
        "import numpy as np\n",
        "\n",
        "# convert an array of values into a dataset matrix\n",
        "def create_dataset(dataset, col, look_back=1):\n",
        "  dataX, dataY = [], []\n",
        "  for i in range(len(dataset)-look_back-1):\n",
        "    a = dataset[i:(i+look_back), 0]\n",
        "    a = np.append(a, col[i + look_back])\n",
        "    dataX.append(a)\n",
        "    dataY.append(dataset[i + look_back, 0])\n",
        "  return np.array(dataX), np.array(dataY)\n",
        "\n",
        "#LSTM is sensitive to scale of input data, so we rescale everything between 0 and 1\n",
        "scaler = MinMaxScaler(feature_range=(0, 1))\n",
        "bitcoin_df_scaled = scaler.fit_transform(bitcoin_df['Price'].values.reshape(-1,1))\n",
        "\n",
        "bitcoin_train_df_scaled = bitcoin_df_scaled[bitcoin_df['Date']<='2020-01-01']\n",
        "bitcoin_test_df_scaled = bitcoin_df_scaled[bitcoin_df['Date']>='2020-01-02']\n",
        "\n",
        "look_back = 1\n",
        "trainX, trainY = create_dataset(bitcoin_train_df_scaled, bitcoin_df['Change %'].values.tolist(), look_back)\n",
        "testX, testY = create_dataset(bitcoin_test_df_scaled, bitcoin_df['Change %'].values.tolist(), look_back)\n",
        "\n",
        "# reshape input to be [samples, time steps, features]\n",
        "trainX = np.reshape(trainX, (trainX.shape[0], 1, trainX.shape[1]))\n",
        "testX = np.reshape(testX, (testX.shape[0], 1, testX.shape[1]))"
      ],
      "execution_count": null,
      "outputs": []
    },
    {
      "cell_type": "code",
      "metadata": {
        "colab": {
          "base_uri": "https://localhost:8080/"
        },
        "id": "O5cMztceQyhf",
        "outputId": "f321f9f0-2a2c-490e-8361-c4ef94f166dd"
      },
      "source": [
        "from keras.models import Sequential\n",
        "from keras.layers import Dense\n",
        "from keras.layers import LSTM\n",
        "\n",
        "# create and fit the LSTM network\n",
        "model = Sequential()\n",
        "model.add(LSTM(4, input_shape=(1, look_back+1)))\n",
        "model.add(Dense(1))\n",
        "model.compile(loss='mean_squared_error', optimizer='adam')\n",
        "model.fit(trainX, trainY, epochs=50, batch_size=1, verbose=2)"
      ],
      "execution_count": null,
      "outputs": [
        {
          "output_type": "stream",
          "text": [
            "Epoch 1/50\n",
            "3453/3453 - 16s - loss: 0.0015\n",
            "Epoch 2/50\n",
            "3453/3453 - 3s - loss: 9.2016e-06\n",
            "Epoch 3/50\n",
            "3453/3453 - 3s - loss: 9.9398e-06\n",
            "Epoch 4/50\n",
            "3453/3453 - 3s - loss: 9.8092e-06\n",
            "Epoch 5/50\n",
            "3453/3453 - 3s - loss: 1.0257e-05\n",
            "Epoch 6/50\n",
            "3453/3453 - 3s - loss: 8.9668e-06\n",
            "Epoch 7/50\n",
            "3453/3453 - 3s - loss: 8.6970e-06\n",
            "Epoch 8/50\n",
            "3453/3453 - 3s - loss: 9.0792e-06\n",
            "Epoch 9/50\n",
            "3453/3453 - 3s - loss: 8.8467e-06\n",
            "Epoch 10/50\n",
            "3453/3453 - 3s - loss: 9.1233e-06\n",
            "Epoch 11/50\n",
            "3453/3453 - 3s - loss: 9.5246e-06\n",
            "Epoch 12/50\n",
            "3453/3453 - 3s - loss: 9.4978e-06\n",
            "Epoch 13/50\n",
            "3453/3453 - 3s - loss: 8.9310e-06\n",
            "Epoch 14/50\n",
            "3453/3453 - 3s - loss: 8.6985e-06\n",
            "Epoch 15/50\n",
            "3453/3453 - 3s - loss: 9.0593e-06\n",
            "Epoch 16/50\n",
            "3453/3453 - 3s - loss: 8.7955e-06\n",
            "Epoch 17/50\n",
            "3453/3453 - 3s - loss: 8.6561e-06\n",
            "Epoch 18/50\n",
            "3453/3453 - 3s - loss: 8.5585e-06\n",
            "Epoch 19/50\n",
            "3453/3453 - 3s - loss: 8.4886e-06\n",
            "Epoch 20/50\n",
            "3453/3453 - 3s - loss: 8.3426e-06\n",
            "Epoch 21/50\n",
            "3453/3453 - 3s - loss: 8.4539e-06\n",
            "Epoch 22/50\n",
            "3453/3453 - 3s - loss: 8.7447e-06\n",
            "Epoch 23/50\n",
            "3453/3453 - 3s - loss: 8.7062e-06\n",
            "Epoch 24/50\n",
            "3453/3453 - 3s - loss: 8.2021e-06\n",
            "Epoch 25/50\n",
            "3453/3453 - 3s - loss: 8.5566e-06\n",
            "Epoch 26/50\n",
            "3453/3453 - 3s - loss: 8.2520e-06\n",
            "Epoch 27/50\n",
            "3453/3453 - 3s - loss: 7.9969e-06\n",
            "Epoch 28/50\n",
            "3453/3453 - 3s - loss: 8.4936e-06\n",
            "Epoch 29/50\n",
            "3453/3453 - 3s - loss: 8.3568e-06\n",
            "Epoch 30/50\n",
            "3453/3453 - 3s - loss: 8.6480e-06\n",
            "Epoch 31/50\n",
            "3453/3453 - 3s - loss: 7.9939e-06\n",
            "Epoch 32/50\n",
            "3453/3453 - 3s - loss: 8.5396e-06\n",
            "Epoch 33/50\n",
            "3453/3453 - 3s - loss: 8.0596e-06\n",
            "Epoch 34/50\n",
            "3453/3453 - 3s - loss: 8.5896e-06\n",
            "Epoch 35/50\n",
            "3453/3453 - 3s - loss: 8.4935e-06\n",
            "Epoch 36/50\n",
            "3453/3453 - 3s - loss: 8.4674e-06\n",
            "Epoch 37/50\n",
            "3453/3453 - 3s - loss: 8.2119e-06\n",
            "Epoch 38/50\n",
            "3453/3453 - 3s - loss: 8.5655e-06\n",
            "Epoch 39/50\n",
            "3453/3453 - 3s - loss: 7.8667e-06\n",
            "Epoch 40/50\n",
            "3453/3453 - 3s - loss: 7.8743e-06\n",
            "Epoch 41/50\n",
            "3453/3453 - 3s - loss: 8.0661e-06\n",
            "Epoch 42/50\n",
            "3453/3453 - 3s - loss: 8.3090e-06\n",
            "Epoch 43/50\n",
            "3453/3453 - 3s - loss: 8.5905e-06\n",
            "Epoch 44/50\n",
            "3453/3453 - 3s - loss: 8.2182e-06\n",
            "Epoch 45/50\n",
            "3453/3453 - 3s - loss: 8.1598e-06\n",
            "Epoch 46/50\n",
            "3453/3453 - 3s - loss: 8.0852e-06\n",
            "Epoch 47/50\n",
            "3453/3453 - 3s - loss: 8.1757e-06\n",
            "Epoch 48/50\n",
            "3453/3453 - 3s - loss: 7.7936e-06\n",
            "Epoch 49/50\n",
            "3453/3453 - 3s - loss: 8.1117e-06\n",
            "Epoch 50/50\n",
            "3453/3453 - 3s - loss: 8.3238e-06\n"
          ],
          "name": "stdout"
        },
        {
          "output_type": "execute_result",
          "data": {
            "text/plain": [
              "<keras.callbacks.History at 0x7f6207049e90>"
            ]
          },
          "metadata": {
            "tags": []
          },
          "execution_count": 23
        }
      ]
    },
    {
      "cell_type": "code",
      "metadata": {
        "id": "G2pu-dm6X_fd"
      },
      "source": [
        "def accuracy_reg(y_true, y_pred, error_bound = 0.05):\n",
        "  y_ratio = [x/y for x, y in zip(y_true , y_pred)]\n",
        "  count = 0\n",
        "  for x in y_ratio:\n",
        "    if x >= 1-error_bound and x<= 1+ error_bound:\n",
        "      count+=1\n",
        "  #count = len(y_ratio[(y_ratio>= 1 - error_bound) & (y_ratio<= 1 + error_bound)])\n",
        "  print(count, len(y_true), len(y_pred))\n",
        "  return (count/len(y_true)*100.0)"
      ],
      "execution_count": null,
      "outputs": []
    },
    {
      "cell_type": "code",
      "metadata": {
        "id": "hWH1v6NUWLbM"
      },
      "source": [
        "# make predictions\n",
        "trainPredict = model.predict(trainX)\n",
        "testPredict = model.predict(testX)\n",
        "# invert predictions\n",
        "trainPredict = scaler.inverse_transform(trainPredict)\n",
        "trainY = scaler.inverse_transform([trainY])\n",
        "testPredict = scaler.inverse_transform(testPredict)\n",
        "testY = scaler.inverse_transform([testY])"
      ],
      "execution_count": null,
      "outputs": []
    },
    {
      "cell_type": "code",
      "metadata": {
        "colab": {
          "base_uri": "https://localhost:8080/"
        },
        "id": "X6wyeQn3XqWe",
        "outputId": "ee8021e9-5711-499b-f82c-6093144fb2d7"
      },
      "source": [
        "import math\n",
        "from sklearn.metrics import mean_squared_error\n",
        "\n",
        "# calculate root mean squared error\n",
        "trainScore = math.sqrt(mean_squared_error(trainY[0], trainPredict[:,0]))\n",
        "print('Train Score: %.2f RMSE' % (trainScore))\n",
        "testScore = math.sqrt(mean_squared_error(testY[0], testPredict[:,0]))\n",
        "print('Test Score: %.2f RMSE' % (testScore))\n",
        "\n",
        "\n",
        "train_rmse = mean_squared_error(trainY[0], trainPredict[:,0], squared=False)\n",
        "test_rmse = mean_squared_error(testY[0], testPredict[:,0], squared=False)\n",
        "print('train error: {}, test error: {}'.format(train_rmse, test_rmse))\n",
        "\n",
        "\n",
        "train_acc = accuracy_reg(trainY[0], trainPredict[:,0], error_bound=0.05)\n",
        "test_acc = accuracy_reg(testY[0], testPredict[:,0], error_bound=0.05)\n",
        "print('train accuracy 5%: {}, test accuracy 5%: {}'.format(train_acc, test_acc))"
      ],
      "execution_count": null,
      "outputs": [
        {
          "output_type": "stream",
          "text": [
            "Train Score: 149.36 RMSE\n",
            "Test Score: 6750.50 RMSE\n",
            "train error: 149.36408023926046, test error: 6750.497141738015\n",
            "1218 3453 3453\n",
            "277 484 484\n",
            "train accuracy 5%: 35.27367506516073, test accuracy 5%: 57.231404958677686\n"
          ],
          "name": "stdout"
        }
      ]
    },
    {
      "cell_type": "markdown",
      "metadata": {
        "id": "PGsuRmcVe0k6"
      },
      "source": [
        "**Improvements**"
      ]
    },
    {
      "cell_type": "code",
      "metadata": {
        "id": "HUKvVayHginE"
      },
      "source": [
        "import pandas as pd\n",
        "\n",
        "bitcoin_path = '/content/drive/MyDrive/Data Mining Class (Master)/HW3/Dataset/Bitcoin Historical Data - Investing.com.csv'\n",
        "bitcoin_df = pd.read_csv(bitcoin_path)\n",
        "\n",
        "for col in bitcoin_df.columns:\n",
        "  if col == 'Date':\n",
        "    bitcoin_df[col] = pd.to_datetime(bitcoin_df[col])\n",
        "  elif col in ['Price', 'Open', 'High']:\n",
        "    bitcoin_df[col] = bitcoin_df[col].str.replace(',', '').astype('float64')\n",
        "\n",
        "bitcoin_df= bitcoin_df.sort_values(by = 'Date', ascending=True).reset_index(drop = True)"
      ],
      "execution_count": null,
      "outputs": []
    },
    {
      "cell_type": "code",
      "metadata": {
        "id": "2d71wbvOgpCx"
      },
      "source": [
        "bitcoin_df['Change %'] = bitcoin_df['Change %'].str.replace('%', '').astype('float64')\n",
        "bitcoin_df.loc[bitcoin_df['Change %'] <= 0, 'Change %'] = 0\n",
        "bitcoin_df.loc[bitcoin_df['Change %'] > 0, 'Change %'] = 1"
      ],
      "execution_count": null,
      "outputs": []
    },
    {
      "cell_type": "code",
      "metadata": {
        "id": "-7OQ2L4yr7eW"
      },
      "source": [
        "from sklearn.preprocessing import MinMaxScaler\n",
        "import numpy as np\n",
        "\n",
        "# convert an array of values into a dataset matrix\n",
        "def create_dataset(dataset, col, look_back=1):\n",
        "  dataX, dataY = [], []\n",
        "  for i in range(len(dataset)-look_back-1):\n",
        "    a = dataset[i:(i+look_back), 0]\n",
        "    a = np.append(a, col[i + look_back-1])\n",
        "    dataX.append(a)\n",
        "    dataY.append(dataset[i + look_back, 0])\n",
        "  return np.array(dataX), np.array(dataY)\n",
        "\n",
        "#LSTM is sensitive to scale of input data, so we rescale everything between 0 and 1\n",
        "scaler = MinMaxScaler(feature_range=(0, 1))\n",
        "bitcoin_df_scaled = scaler.fit_transform(bitcoin_df['Price'].values.reshape(-1,1))\n",
        "\n",
        "bitcoin_train_df_scaled = bitcoin_df_scaled[bitcoin_df['Date']<='2020-01-01']\n",
        "bitcoin_test_df_scaled = bitcoin_df_scaled[bitcoin_df['Date']>='2020-01-02']\n",
        "\n",
        "look_back = 1\n",
        "trainX, trainY = create_dataset(bitcoin_train_df_scaled, bitcoin_df['Change %'].values.tolist(), look_back)\n",
        "testX, testY = create_dataset(bitcoin_test_df_scaled, bitcoin_df['Change %'].values.tolist(), look_back)\n",
        "\n",
        "# reshape input to be [samples, time steps, features]\n",
        "trainX = np.reshape(trainX, (trainX.shape[0], trainX.shape[1]))\n",
        "testX = np.reshape(testX, (testX.shape[0], testX.shape[1]))"
      ],
      "execution_count": null,
      "outputs": []
    },
    {
      "cell_type": "code",
      "metadata": {
        "colab": {
          "base_uri": "https://localhost:8080/"
        },
        "id": "12_XpKGPe7kF",
        "outputId": "0e33f829-8cdc-42ae-9ed5-b8c604e378c5"
      },
      "source": [
        "# Model Training\n",
        "from sklearn.metrics import mean_squared_error\n",
        "\n",
        "from xgboost import XGBRegressor\n",
        "from sklearn.linear_model import LinearRegression\n",
        "from sklearn.tree import DecisionTreeRegressor\n",
        "from sklearn.ensemble import RandomForestRegressor\n",
        "from sklearn.ensemble import BaggingRegressor\n",
        "from sklearn.ensemble import VotingRegressor\n",
        "from sklearn.ensemble import ExtraTreesRegressor\n",
        "from sklearn.ensemble import AdaBoostRegressor\n",
        "from sklearn.svm import SVR\n",
        "\n",
        "def model_train(X, y, X_test, cf):\n",
        "  cf.fit(X, y)\n",
        "  y_pred = cf.predict(X_test)\n",
        "  return y_pred\n",
        "\n",
        "\n",
        "def error_calc(y_pred, y_true):\n",
        "  return mean_squared_error(y_true, y_pred), mean_squared_error(y_true, y_pred, squared=False) # MSE, RMSE\n",
        "\n",
        "\n",
        "methods = {\"XGB\": XGBRegressor(learning_rate=.1), \n",
        "           \"LR\": LinearRegression(), \\\n",
        "           \"DT\": DecisionTreeRegressor(), \\\n",
        "           \"RF\": RandomForestRegressor(), \\\n",
        "           \"BAG\": BaggingRegressor(base_estimator=SVR()), \\\n",
        "           \"VOT\": VotingRegressor([('lr', LinearRegression()), ('rf', RandomForestRegressor())]), \\\n",
        "           \"EXT\": ExtraTreesRegressor(), \\\n",
        "           \"ADA\": AdaBoostRegressor()}\n",
        "\n",
        "results = {method: [] for method in methods}\n",
        "\n",
        "for method in methods:\n",
        "  y_pred = model_train(trainX, trainY, testX, methods[method])\n",
        "  results[method] = y_pred\n",
        "  print(\"MSE, RMSE error for {}: {}\".format(method, error_calc(y_pred, testY)))"
      ],
      "execution_count": null,
      "outputs": [
        {
          "output_type": "stream",
          "text": [
            "[23:56:20] WARNING: /workspace/src/objective/regression_obj.cu:152: reg:linear is now deprecated in favor of reg:squarederror.\n",
            "MSE, RMSE error for XGB: (0.059588748609196364, 0.2441080674807704)\n",
            "MSE, RMSE error for LR: (0.00029374816679205833, 0.017139083020747008)\n",
            "MSE, RMSE error for DT: (0.05878280480005465, 0.2424516545624192)\n",
            "MSE, RMSE error for RF: (0.059816032088914214, 0.24457316305947024)\n",
            "MSE, RMSE error for BAG: (0.058607247891527235, 0.2420893386572966)\n",
            "MSE, RMSE error for VOT: (0.015373209626986763, 0.12398874798539891)\n",
            "MSE, RMSE error for EXT: (0.058669735695529225, 0.24221836366289246)\n",
            "MSE, RMSE error for ADA: (0.06184227682186922, 0.2486810745148678)\n"
          ],
          "name": "stdout"
        }
      ]
    },
    {
      "cell_type": "markdown",
      "metadata": {
        "id": "yb9_T6k6yfdL"
      },
      "source": [
        "**Indicators**\n",
        "# https://towardsdatascience.com/building-a-comprehensive-set-of-technical-indicators-in-python-for-quantitative-trading-8d98751b5fb"
      ]
    },
    {
      "cell_type": "code",
      "metadata": {
        "id": "xKk4ibYyfYev"
      },
      "source": [
        "import pandas as pd\n",
        "\n",
        "bitcoin_path = '/content/drive/MyDrive/Data Mining Class (Master)/HW3/Dataset/Bitcoin Historical Data - Investing.com.csv'\n",
        "bitcoin_df = pd.read_csv(bitcoin_path)\n",
        "\n",
        "for col in bitcoin_df.columns:\n",
        "  if col == 'Date':\n",
        "    bitcoin_df[col] = pd.to_datetime(bitcoin_df[col])\n",
        "  elif col in ['Price', 'Open', 'High']:\n",
        "    bitcoin_df[col] = bitcoin_df[col].str.replace(',', '').astype('float64')\n",
        "\n",
        "bitcoin_df= bitcoin_df.sort_values(by = 'Date', ascending=True).reset_index(drop = True)"
      ],
      "execution_count": null,
      "outputs": []
    },
    {
      "cell_type": "markdown",
      "metadata": {
        "id": "PrldAgkq4IKv"
      },
      "source": [
        "**(1) Simple Moving Average (SMA)**"
      ]
    },
    {
      "cell_type": "code",
      "metadata": {
        "id": "036-759s1vK0"
      },
      "source": [
        "# Simple Moving Average\n",
        "bitcoin_df['SMA_5'] = bitcoin_df['Price'].transform(lambda x: x.rolling(window = 5).mean())\n",
        "bitcoin_df['SMA_15'] = bitcoin_df['Price'].transform(lambda x: x.rolling(window = 15).mean())\n",
        "bitcoin_df['SMA_Ratio'] = bitcoin_df['SMA_15'] / bitcoin_df['SMA_5']"
      ],
      "execution_count": null,
      "outputs": []
    },
    {
      "cell_type": "markdown",
      "metadata": {
        "id": "g7SfBaGDEaKz"
      },
      "source": [
        "**(2) Simple Moving Average Volume (SMA-Volume)**"
      ]
    },
    {
      "cell_type": "code",
      "metadata": {
        "id": "rfYOhe05E2GX"
      },
      "source": [
        "bitcoin_df['Vol.'] = bitcoin_df['Vol.'].str.replace('K', '')\n",
        "bitcoin_df['Vol.'] = bitcoin_df['Vol.'].str.replace('M', '')\n",
        "bitcoin_df['Vol.'] = bitcoin_df['Vol.'].str.replace('-', '')\n",
        "bitcoin_df['Vol.'] = bitcoin_df['Vol.'].str.replace('', '0')\n",
        "\n",
        "bitcoin_df['Vol.'] = bitcoin_df['Vol.'].astype('float64')"
      ],
      "execution_count": null,
      "outputs": []
    },
    {
      "cell_type": "code",
      "metadata": {
        "id": "aUoXEeGgEjZm"
      },
      "source": [
        "bitcoin_df['SMA5_Volume'] = bitcoin_df['Vol.'].transform(lambda x: x.rolling(window = 5).mean())\n",
        "bitcoin_df['SMA15_Volume'] = bitcoin_df['Vol.'].transform(lambda x: x.rolling(window = 15).mean())\n",
        "bitcoin_df['SMA_Volume_Ratio'] = bitcoin_df['SMA15_Volume'] / bitcoin_df['SMA5_Volume']"
      ],
      "execution_count": null,
      "outputs": []
    },
    {
      "cell_type": "markdown",
      "metadata": {
        "id": "N9gr0jho4E0-"
      },
      "source": [
        "**(3) Average True Range (ATR)**"
      ]
    },
    {
      "cell_type": "code",
      "metadata": {
        "id": "yeeCHice7Bfi"
      },
      "source": [
        "import numpy as np\n",
        "\n",
        "def Wilder(data, periods):\n",
        "    start = np.where(~np.isnan(data))[0][0] #Check if nans present in beginning\n",
        "    Wilder = np.array([np.nan]*len(data))\n",
        "    Wilder[start+periods-1] = data[start:(start+periods)].mean() #Simple Moving Average\n",
        "    for i in range(start+periods,len(data)):\n",
        "        Wilder[i] = (Wilder[i-1]*(periods-1) + data[i])/periods #Wilder Smoothing\n",
        "    return(Wilder)\n",
        "\n",
        "bitcoin_df['prev_close'] = bitcoin_df['Price'].shift(1)"
      ],
      "execution_count": null,
      "outputs": []
    },
    {
      "cell_type": "code",
      "metadata": {
        "id": "J-0HaMi97RLL"
      },
      "source": [
        "bitcoin_df['High'] = bitcoin_df['High'].astype('float64')\n",
        "bitcoin_df['Low'] = bitcoin_df['Low'].str.replace(',', '').astype('float64')"
      ],
      "execution_count": null,
      "outputs": []
    },
    {
      "cell_type": "code",
      "metadata": {
        "id": "Yu_weeJs2OV7"
      },
      "source": [
        "bitcoin_df['TR'] = np.maximum((bitcoin_df['High'] - bitcoin_df['Low']), \n",
        "                     np.maximum(abs(bitcoin_df['High'] - bitcoin_df['prev_close']), \n",
        "                     abs(bitcoin_df['prev_close'] - bitcoin_df['Low'])))\n",
        "\n",
        "TR_data = bitcoin_df.copy(deep=True)\n",
        "bitcoin_df['ATR_5'] = Wilder(TR_data['TR'], 5)\n",
        "bitcoin_df['ATR_15'] = Wilder(TR_data['TR'], 15)\n",
        "\n",
        "bitcoin_df['ATR_Ratio'] = bitcoin_df['ATR_5'] / bitcoin_df['ATR_15']"
      ],
      "execution_count": null,
      "outputs": []
    },
    {
      "cell_type": "markdown",
      "metadata": {
        "id": "q5SAzK5yu1D0"
      },
      "source": [
        "**(4) Relative Strength Index (RSI)**"
      ]
    },
    {
      "cell_type": "code",
      "metadata": {
        "id": "DSLvh9EHu_LR"
      },
      "source": [
        "bitcoin_df['Diff'] = bitcoin_df['Price'].transform(lambda x: x.diff())\n",
        "bitcoin_df['Up'] = bitcoin_df['Diff']\n",
        "bitcoin_df.loc[(bitcoin_df['Up']<0), 'Up'] = 0\n",
        "\n",
        "bitcoin_df['Down'] = bitcoin_df['Diff']\n",
        "bitcoin_df.loc[(bitcoin_df['Down']>0), 'Down'] = 0 \n",
        "bitcoin_df['Down'] = abs(bitcoin_df['Down'])\n",
        "\n",
        "bitcoin_df['avg_5up'] = bitcoin_df['Up'].transform(lambda x: x.rolling(window=5).mean())\n",
        "bitcoin_df['avg_5down'] = bitcoin_df['Down'].transform(lambda x: x.rolling(window=5).mean())\n",
        "\n",
        "bitcoin_df['avg_15up'] = bitcoin_df['Up'].transform(lambda x: x.rolling(window=15).mean())\n",
        "bitcoin_df['avg_15down'] = bitcoin_df['Down'].transform(lambda x: x.rolling(window=15).mean())\n",
        "\n",
        "bitcoin_df['RS_5'] = bitcoin_df['avg_5up'] / bitcoin_df['avg_5down']\n",
        "bitcoin_df['RS_15'] = bitcoin_df['avg_15up'] / bitcoin_df['avg_15down']\n",
        "\n",
        "bitcoin_df['RSI_5'] = 100 - (100/(1+bitcoin_df['RS_5']))\n",
        "bitcoin_df['RSI_15'] = 100 - (100/(1+bitcoin_df['RS_15']))\n",
        "\n",
        "bitcoin_df['RSI_Ratio'] = bitcoin_df['RSI_5']/bitcoin_df['RSI_15']"
      ],
      "execution_count": null,
      "outputs": []
    },
    {
      "cell_type": "markdown",
      "metadata": {
        "id": "VnCrUJcdwQ2S"
      },
      "source": [
        "**(5) Moving Average Convergence Divergence (MACD)**"
      ]
    },
    {
      "cell_type": "code",
      "metadata": {
        "id": "TVjBVsfGwPwP"
      },
      "source": [
        "bitcoin_df['5Ewm'] = bitcoin_df['Price'].transform(lambda x: x.ewm(span=5, adjust=False).mean())\n",
        "bitcoin_df['15Ewm'] = bitcoin_df['Price'].transform(lambda x: x.ewm(span=15, adjust=False).mean())\n",
        "bitcoin_df['MACD'] = bitcoin_df['15Ewm'] - bitcoin_df['5Ewm']"
      ],
      "execution_count": null,
      "outputs": []
    },
    {
      "cell_type": "code",
      "metadata": {
        "id": "JClbnP4v9jQ0"
      },
      "source": [
        "bitcoin_df = bitcoin_df.fillna(0)"
      ],
      "execution_count": null,
      "outputs": []
    },
    {
      "cell_type": "code",
      "metadata": {
        "colab": {
          "base_uri": "https://localhost:8080/",
          "height": 607
        },
        "id": "AdaDXatjC-Us",
        "outputId": "a7c707b1-e0c2-48eb-f0d1-d56639105c72"
      },
      "source": [
        "bitcoin_df"
      ],
      "execution_count": null,
      "outputs": [
        {
          "output_type": "execute_result",
          "data": {
            "text/html": [
              "<div>\n",
              "<style scoped>\n",
              "    .dataframe tbody tr th:only-of-type {\n",
              "        vertical-align: middle;\n",
              "    }\n",
              "\n",
              "    .dataframe tbody tr th {\n",
              "        vertical-align: top;\n",
              "    }\n",
              "\n",
              "    .dataframe thead th {\n",
              "        text-align: right;\n",
              "    }\n",
              "</style>\n",
              "<table border=\"1\" class=\"dataframe\">\n",
              "  <thead>\n",
              "    <tr style=\"text-align: right;\">\n",
              "      <th></th>\n",
              "      <th>Date</th>\n",
              "      <th>Price</th>\n",
              "      <th>Open</th>\n",
              "      <th>High</th>\n",
              "      <th>Low</th>\n",
              "      <th>Vol.</th>\n",
              "      <th>Change %</th>\n",
              "      <th>SMA_5</th>\n",
              "      <th>SMA_15</th>\n",
              "      <th>SMA_Ratio</th>\n",
              "      <th>SMA5_Volume</th>\n",
              "      <th>SMA15_Volume</th>\n",
              "      <th>SMA_Volume_Ratio</th>\n",
              "      <th>prev_close</th>\n",
              "      <th>TR</th>\n",
              "      <th>ATR_5</th>\n",
              "      <th>ATR_15</th>\n",
              "      <th>ATR_Ratio</th>\n",
              "      <th>Diff</th>\n",
              "      <th>Up</th>\n",
              "      <th>Down</th>\n",
              "      <th>avg_5up</th>\n",
              "      <th>avg_5down</th>\n",
              "      <th>avg_15up</th>\n",
              "      <th>avg_15down</th>\n",
              "      <th>RS_5</th>\n",
              "      <th>RS_15</th>\n",
              "      <th>RSI_5</th>\n",
              "      <th>RSI_15</th>\n",
              "      <th>RSI_Ratio</th>\n",
              "      <th>5Ewm</th>\n",
              "      <th>15Ewm</th>\n",
              "      <th>MACD</th>\n",
              "    </tr>\n",
              "  </thead>\n",
              "  <tbody>\n",
              "    <tr>\n",
              "      <th>0</th>\n",
              "      <td>2010-07-18</td>\n",
              "      <td>0.1</td>\n",
              "      <td>0.0</td>\n",
              "      <td>0.1</td>\n",
              "      <td>0.1</td>\n",
              "      <td>0.0008</td>\n",
              "      <td>0.00%</td>\n",
              "      <td>0.00</td>\n",
              "      <td>0.000000</td>\n",
              "      <td>0.000000</td>\n",
              "      <td>0.00000</td>\n",
              "      <td>0.000000</td>\n",
              "      <td>0.000000</td>\n",
              "      <td>0.0</td>\n",
              "      <td>0.0</td>\n",
              "      <td>0.000000</td>\n",
              "      <td>0.000000</td>\n",
              "      <td>0.000000</td>\n",
              "      <td>0.0</td>\n",
              "      <td>0.0</td>\n",
              "      <td>0.0</td>\n",
              "      <td>0.00</td>\n",
              "      <td>0.00</td>\n",
              "      <td>0.000000</td>\n",
              "      <td>0.000000</td>\n",
              "      <td>0.000000</td>\n",
              "      <td>0.000000</td>\n",
              "      <td>0.000000</td>\n",
              "      <td>0.000000</td>\n",
              "      <td>0.000000</td>\n",
              "      <td>0.100000</td>\n",
              "      <td>0.100000</td>\n",
              "      <td>0.000000</td>\n",
              "    </tr>\n",
              "    <tr>\n",
              "      <th>1</th>\n",
              "      <td>2010-07-19</td>\n",
              "      <td>0.1</td>\n",
              "      <td>0.1</td>\n",
              "      <td>0.1</td>\n",
              "      <td>0.1</td>\n",
              "      <td>0.0507</td>\n",
              "      <td>0.00%</td>\n",
              "      <td>0.00</td>\n",
              "      <td>0.000000</td>\n",
              "      <td>0.000000</td>\n",
              "      <td>0.00000</td>\n",
              "      <td>0.000000</td>\n",
              "      <td>0.000000</td>\n",
              "      <td>0.1</td>\n",
              "      <td>0.0</td>\n",
              "      <td>0.000000</td>\n",
              "      <td>0.000000</td>\n",
              "      <td>0.000000</td>\n",
              "      <td>0.0</td>\n",
              "      <td>0.0</td>\n",
              "      <td>0.0</td>\n",
              "      <td>0.00</td>\n",
              "      <td>0.00</td>\n",
              "      <td>0.000000</td>\n",
              "      <td>0.000000</td>\n",
              "      <td>0.000000</td>\n",
              "      <td>0.000000</td>\n",
              "      <td>0.000000</td>\n",
              "      <td>0.000000</td>\n",
              "      <td>0.000000</td>\n",
              "      <td>0.100000</td>\n",
              "      <td>0.100000</td>\n",
              "      <td>0.000000</td>\n",
              "    </tr>\n",
              "    <tr>\n",
              "      <th>2</th>\n",
              "      <td>2010-07-20</td>\n",
              "      <td>0.1</td>\n",
              "      <td>0.1</td>\n",
              "      <td>0.1</td>\n",
              "      <td>0.1</td>\n",
              "      <td>0.0206</td>\n",
              "      <td>0.00%</td>\n",
              "      <td>0.00</td>\n",
              "      <td>0.000000</td>\n",
              "      <td>0.000000</td>\n",
              "      <td>0.00000</td>\n",
              "      <td>0.000000</td>\n",
              "      <td>0.000000</td>\n",
              "      <td>0.1</td>\n",
              "      <td>0.0</td>\n",
              "      <td>0.000000</td>\n",
              "      <td>0.000000</td>\n",
              "      <td>0.000000</td>\n",
              "      <td>0.0</td>\n",
              "      <td>0.0</td>\n",
              "      <td>0.0</td>\n",
              "      <td>0.00</td>\n",
              "      <td>0.00</td>\n",
              "      <td>0.000000</td>\n",
              "      <td>0.000000</td>\n",
              "      <td>0.000000</td>\n",
              "      <td>0.000000</td>\n",
              "      <td>0.000000</td>\n",
              "      <td>0.000000</td>\n",
              "      <td>0.000000</td>\n",
              "      <td>0.100000</td>\n",
              "      <td>0.100000</td>\n",
              "      <td>0.000000</td>\n",
              "    </tr>\n",
              "    <tr>\n",
              "      <th>3</th>\n",
              "      <td>2010-07-21</td>\n",
              "      <td>0.1</td>\n",
              "      <td>0.1</td>\n",
              "      <td>0.1</td>\n",
              "      <td>0.1</td>\n",
              "      <td>0.0508</td>\n",
              "      <td>0.00%</td>\n",
              "      <td>0.00</td>\n",
              "      <td>0.000000</td>\n",
              "      <td>0.000000</td>\n",
              "      <td>0.00000</td>\n",
              "      <td>0.000000</td>\n",
              "      <td>0.000000</td>\n",
              "      <td>0.1</td>\n",
              "      <td>0.0</td>\n",
              "      <td>0.000000</td>\n",
              "      <td>0.000000</td>\n",
              "      <td>0.000000</td>\n",
              "      <td>0.0</td>\n",
              "      <td>0.0</td>\n",
              "      <td>0.0</td>\n",
              "      <td>0.00</td>\n",
              "      <td>0.00</td>\n",
              "      <td>0.000000</td>\n",
              "      <td>0.000000</td>\n",
              "      <td>0.000000</td>\n",
              "      <td>0.000000</td>\n",
              "      <td>0.000000</td>\n",
              "      <td>0.000000</td>\n",
              "      <td>0.000000</td>\n",
              "      <td>0.100000</td>\n",
              "      <td>0.100000</td>\n",
              "      <td>0.000000</td>\n",
              "    </tr>\n",
              "    <tr>\n",
              "      <th>4</th>\n",
              "      <td>2010-07-22</td>\n",
              "      <td>0.1</td>\n",
              "      <td>0.1</td>\n",
              "      <td>0.1</td>\n",
              "      <td>0.1</td>\n",
              "      <td>20.0106</td>\n",
              "      <td>0.00%</td>\n",
              "      <td>0.10</td>\n",
              "      <td>0.000000</td>\n",
              "      <td>0.000000</td>\n",
              "      <td>4.02670</td>\n",
              "      <td>0.000000</td>\n",
              "      <td>0.000000</td>\n",
              "      <td>0.1</td>\n",
              "      <td>0.0</td>\n",
              "      <td>0.000000</td>\n",
              "      <td>0.000000</td>\n",
              "      <td>0.000000</td>\n",
              "      <td>0.0</td>\n",
              "      <td>0.0</td>\n",
              "      <td>0.0</td>\n",
              "      <td>0.00</td>\n",
              "      <td>0.00</td>\n",
              "      <td>0.000000</td>\n",
              "      <td>0.000000</td>\n",
              "      <td>0.000000</td>\n",
              "      <td>0.000000</td>\n",
              "      <td>0.000000</td>\n",
              "      <td>0.000000</td>\n",
              "      <td>0.000000</td>\n",
              "      <td>0.100000</td>\n",
              "      <td>0.100000</td>\n",
              "      <td>0.000000</td>\n",
              "    </tr>\n",
              "    <tr>\n",
              "      <th>...</th>\n",
              "      <td>...</td>\n",
              "      <td>...</td>\n",
              "      <td>...</td>\n",
              "      <td>...</td>\n",
              "      <td>...</td>\n",
              "      <td>...</td>\n",
              "      <td>...</td>\n",
              "      <td>...</td>\n",
              "      <td>...</td>\n",
              "      <td>...</td>\n",
              "      <td>...</td>\n",
              "      <td>...</td>\n",
              "      <td>...</td>\n",
              "      <td>...</td>\n",
              "      <td>...</td>\n",
              "      <td>...</td>\n",
              "      <td>...</td>\n",
              "      <td>...</td>\n",
              "      <td>...</td>\n",
              "      <td>...</td>\n",
              "      <td>...</td>\n",
              "      <td>...</td>\n",
              "      <td>...</td>\n",
              "      <td>...</td>\n",
              "      <td>...</td>\n",
              "      <td>...</td>\n",
              "      <td>...</td>\n",
              "      <td>...</td>\n",
              "      <td>...</td>\n",
              "      <td>...</td>\n",
              "      <td>...</td>\n",
              "      <td>...</td>\n",
              "      <td>...</td>\n",
              "    </tr>\n",
              "    <tr>\n",
              "      <th>3936</th>\n",
              "      <td>2021-04-27</td>\n",
              "      <td>55036.5</td>\n",
              "      <td>54011.1</td>\n",
              "      <td>55427.8</td>\n",
              "      <td>53345.0</td>\n",
              "      <td>8040.0008</td>\n",
              "      <td>1.88%</td>\n",
              "      <td>51850.62</td>\n",
              "      <td>56286.540000</td>\n",
              "      <td>1.085552</td>\n",
              "      <td>64856.03050</td>\n",
              "      <td>83784.041160</td>\n",
              "      <td>1.291847</td>\n",
              "      <td>54020.5</td>\n",
              "      <td>2082.8</td>\n",
              "      <td>3606.277931</td>\n",
              "      <td>3368.405753</td>\n",
              "      <td>1.070619</td>\n",
              "      <td>1016.0</td>\n",
              "      <td>1016.0</td>\n",
              "      <td>0.0</td>\n",
              "      <td>1214.58</td>\n",
              "      <td>553.18</td>\n",
              "      <td>721.513333</td>\n",
              "      <td>1043.333333</td>\n",
              "      <td>2.195633</td>\n",
              "      <td>0.691546</td>\n",
              "      <td>68.707291</td>\n",
              "      <td>40.882494</td>\n",
              "      <td>1.680604</td>\n",
              "      <td>53138.969817</td>\n",
              "      <td>54826.378969</td>\n",
              "      <td>1687.409152</td>\n",
              "    </tr>\n",
              "    <tr>\n",
              "      <th>3937</th>\n",
              "      <td>2021-04-28</td>\n",
              "      <td>54841.4</td>\n",
              "      <td>55036.0</td>\n",
              "      <td>56419.9</td>\n",
              "      <td>53876.4</td>\n",
              "      <td>8060.0906</td>\n",
              "      <td>-0.35%</td>\n",
              "      <td>52590.18</td>\n",
              "      <td>55706.573333</td>\n",
              "      <td>1.059258</td>\n",
              "      <td>26260.04050</td>\n",
              "      <td>77517.377160</td>\n",
              "      <td>2.951914</td>\n",
              "      <td>55036.5</td>\n",
              "      <td>2543.5</td>\n",
              "      <td>3393.722345</td>\n",
              "      <td>3313.412036</td>\n",
              "      <td>1.024238</td>\n",
              "      <td>-195.1</td>\n",
              "      <td>0.0</td>\n",
              "      <td>195.1</td>\n",
              "      <td>1214.58</td>\n",
              "      <td>475.02</td>\n",
              "      <td>476.373333</td>\n",
              "      <td>1056.340000</td>\n",
              "      <td>2.556903</td>\n",
              "      <td>0.450966</td>\n",
              "      <td>71.885653</td>\n",
              "      <td>31.080393</td>\n",
              "      <td>2.312894</td>\n",
              "      <td>53706.446545</td>\n",
              "      <td>54828.256598</td>\n",
              "      <td>1121.810053</td>\n",
              "    </tr>\n",
              "    <tr>\n",
              "      <th>3938</th>\n",
              "      <td>2021-04-29</td>\n",
              "      <td>53560.8</td>\n",
              "      <td>54838.6</td>\n",
              "      <td>55173.7</td>\n",
              "      <td>52400.0</td>\n",
              "      <td>8030.0900</td>\n",
              "      <td>-2.34%</td>\n",
              "      <td>53284.56</td>\n",
              "      <td>55078.600000</td>\n",
              "      <td>1.033669</td>\n",
              "      <td>26262.05440</td>\n",
              "      <td>71186.047140</td>\n",
              "      <td>2.710605</td>\n",
              "      <td>54841.4</td>\n",
              "      <td>2773.7</td>\n",
              "      <td>3269.717876</td>\n",
              "      <td>3277.431233</td>\n",
              "      <td>0.997647</td>\n",
              "      <td>-1280.6</td>\n",
              "      <td>0.0</td>\n",
              "      <td>1280.6</td>\n",
              "      <td>1214.58</td>\n",
              "      <td>520.20</td>\n",
              "      <td>476.373333</td>\n",
              "      <td>1104.346667</td>\n",
              "      <td>2.334833</td>\n",
              "      <td>0.431362</td>\n",
              "      <td>70.013489</td>\n",
              "      <td>30.136478</td>\n",
              "      <td>2.323214</td>\n",
              "      <td>53657.897697</td>\n",
              "      <td>54669.824523</td>\n",
              "      <td>1011.926826</td>\n",
              "    </tr>\n",
              "    <tr>\n",
              "      <th>3939</th>\n",
              "      <td>2021-04-30</td>\n",
              "      <td>57720.3</td>\n",
              "      <td>53562.3</td>\n",
              "      <td>57925.6</td>\n",
              "      <td>53088.7</td>\n",
              "      <td>100030.0704</td>\n",
              "      <td>7.77%</td>\n",
              "      <td>55035.90</td>\n",
              "      <td>54712.220000</td>\n",
              "      <td>0.994119</td>\n",
              "      <td>45250.06448</td>\n",
              "      <td>77384.045787</td>\n",
              "      <td>1.710142</td>\n",
              "      <td>53560.8</td>\n",
              "      <td>4836.9</td>\n",
              "      <td>3583.154300</td>\n",
              "      <td>3381.395818</td>\n",
              "      <td>1.059667</td>\n",
              "      <td>4159.5</td>\n",
              "      <td>4159.5</td>\n",
              "      <td>0.0</td>\n",
              "      <td>2046.48</td>\n",
              "      <td>295.14</td>\n",
              "      <td>737.966667</td>\n",
              "      <td>1104.346667</td>\n",
              "      <td>6.933930</td>\n",
              "      <td>0.668238</td>\n",
              "      <td>87.395905</td>\n",
              "      <td>40.056523</td>\n",
              "      <td>2.181815</td>\n",
              "      <td>55012.031798</td>\n",
              "      <td>55051.133958</td>\n",
              "      <td>39.102160</td>\n",
              "    </tr>\n",
              "    <tr>\n",
              "      <th>3940</th>\n",
              "      <td>2021-05-01</td>\n",
              "      <td>57807.1</td>\n",
              "      <td>57719.1</td>\n",
              "      <td>58449.4</td>\n",
              "      <td>57029.5</td>\n",
              "      <td>6030.0401</td>\n",
              "      <td>0.15%</td>\n",
              "      <td>55793.22</td>\n",
              "      <td>54474.046667</td>\n",
              "      <td>0.976356</td>\n",
              "      <td>26038.05838</td>\n",
              "      <td>70915.376427</td>\n",
              "      <td>2.723528</td>\n",
              "      <td>57720.3</td>\n",
              "      <td>1419.9</td>\n",
              "      <td>3150.503440</td>\n",
              "      <td>3250.629430</td>\n",
              "      <td>0.969198</td>\n",
              "      <td>86.8</td>\n",
              "      <td>86.8</td>\n",
              "      <td>0.0</td>\n",
              "      <td>1052.46</td>\n",
              "      <td>295.14</td>\n",
              "      <td>743.753333</td>\n",
              "      <td>981.926667</td>\n",
              "      <td>3.565969</td>\n",
              "      <td>0.757443</td>\n",
              "      <td>78.098842</td>\n",
              "      <td>43.099145</td>\n",
              "      <td>1.812074</td>\n",
              "      <td>55943.721198</td>\n",
              "      <td>55395.629713</td>\n",
              "      <td>-548.091486</td>\n",
              "    </tr>\n",
              "  </tbody>\n",
              "</table>\n",
              "<p>3941 rows × 33 columns</p>\n",
              "</div>"
            ],
            "text/plain": [
              "           Date    Price     Open  ...          5Ewm         15Ewm         MACD\n",
              "0    2010-07-18      0.1      0.0  ...      0.100000      0.100000     0.000000\n",
              "1    2010-07-19      0.1      0.1  ...      0.100000      0.100000     0.000000\n",
              "2    2010-07-20      0.1      0.1  ...      0.100000      0.100000     0.000000\n",
              "3    2010-07-21      0.1      0.1  ...      0.100000      0.100000     0.000000\n",
              "4    2010-07-22      0.1      0.1  ...      0.100000      0.100000     0.000000\n",
              "...         ...      ...      ...  ...           ...           ...          ...\n",
              "3936 2021-04-27  55036.5  54011.1  ...  53138.969817  54826.378969  1687.409152\n",
              "3937 2021-04-28  54841.4  55036.0  ...  53706.446545  54828.256598  1121.810053\n",
              "3938 2021-04-29  53560.8  54838.6  ...  53657.897697  54669.824523  1011.926826\n",
              "3939 2021-04-30  57720.3  53562.3  ...  55012.031798  55051.133958    39.102160\n",
              "3940 2021-05-01  57807.1  57719.1  ...  55943.721198  55395.629713  -548.091486\n",
              "\n",
              "[3941 rows x 33 columns]"
            ]
          },
          "metadata": {
            "tags": []
          },
          "execution_count": 30
        }
      ]
    },
    {
      "cell_type": "code",
      "metadata": {
        "id": "t5gxbqQl-bXy"
      },
      "source": [
        "from sklearn.preprocessing import MinMaxScaler\n",
        "import numpy as np\n",
        "\n",
        "# convert an array of values into a dataset matrix\n",
        "def create_dataset(dataset, col, look_back=1):\n",
        "  dataX, dataY = [], []\n",
        "  for i in range(len(dataset)-look_back-1):\n",
        "    a = dataset[i:(i+look_back), 0]\n",
        "    a = np.append(a, col[i + look_back-1])\n",
        "    dataX.append(a)\n",
        "    dataY.append(dataset[i + look_back, 0])\n",
        "  return np.array(dataX), np.array(dataY)\n",
        "\n",
        "#LSTM is sensitive to scale of input data, so we rescale everything between 0 and 1\n",
        "scaler = MinMaxScaler(feature_range=(0, 1))\n",
        "bitcoin_df_scaled = scaler.fit_transform(bitcoin_df['Price'].values.reshape(-1,1))\n",
        "\n",
        "bitcoin_train_df_scaled = bitcoin_df_scaled[bitcoin_df['Date']<='2020-01-01']\n",
        "bitcoin_test_df_scaled = bitcoin_df_scaled[bitcoin_df['Date']>='2020-01-02']\n",
        "\n",
        "look_back = 1\n",
        "cols = ['SMA_Ratio', 'ATR_Ratio', 'SMA_Volume_Ratio', 'RSI_Ratio', 'MACD']\n",
        "# cols = ['SMA_Volume_Ratio']\n",
        "\n",
        "trainX, trainY = create_dataset(bitcoin_train_df_scaled, bitcoin_df[cols].values.tolist(), look_back)\n",
        "testX, testY = create_dataset(bitcoin_test_df_scaled, bitcoin_df[cols].values.tolist(), look_back)\n",
        "\n",
        "# reshape input to be [samples, time steps, features]\n",
        "trainX = np.reshape(trainX, (trainX.shape[0], trainX.shape[1]))\n",
        "testX = np.reshape(testX, (testX.shape[0], testX.shape[1]))"
      ],
      "execution_count": null,
      "outputs": []
    },
    {
      "cell_type": "code",
      "metadata": {
        "id": "1p43mAhsINCp"
      },
      "source": [
        "trainX[np.any(np.isnan(trainX))] = 0\n",
        "trainX[np.any(np.isfinite(trainX))] = 0\n",
        "testX[np.any(np.isnan(testX))] = 0\n",
        "testX[np.any(np.isfinite(testX))] = 0"
      ],
      "execution_count": null,
      "outputs": []
    },
    {
      "cell_type": "code",
      "metadata": {
        "colab": {
          "base_uri": "https://localhost:8080/"
        },
        "id": "tes4LMzGImaO",
        "outputId": "fce41421-8046-4b9a-a23e-e35f0e449b78"
      },
      "source": [
        "testX.shape"
      ],
      "execution_count": null,
      "outputs": [
        {
          "output_type": "execute_result",
          "data": {
            "text/plain": [
              "(484, 6)"
            ]
          },
          "metadata": {
            "tags": []
          },
          "execution_count": 67
        }
      ]
    },
    {
      "cell_type": "code",
      "metadata": {
        "colab": {
          "base_uri": "https://localhost:8080/"
        },
        "id": "Hl3CuuRgB2Z5",
        "outputId": "f146c276-548e-4523-dbba-b921eef313ea"
      },
      "source": [
        "# Model Training\n",
        "\n",
        "from scipy import stats\n",
        "from sklearn.metrics import mean_squared_error\n",
        "\n",
        "from xgboost import XGBRegressor\n",
        "from sklearn.linear_model import LinearRegression\n",
        "from sklearn.tree import DecisionTreeRegressor\n",
        "from sklearn.ensemble import RandomForestRegressor\n",
        "from sklearn.ensemble import BaggingRegressor\n",
        "from sklearn.ensemble import VotingRegressor\n",
        "from sklearn.ensemble import ExtraTreesRegressor\n",
        "from sklearn.ensemble import AdaBoostRegressor\n",
        "from sklearn.svm import SVR\n",
        "\n",
        "def model_train(X, y, X_test, cf):\n",
        "  cf.fit(X, y)\n",
        "  y_pred = cf.predict(X_test)\n",
        "  return y_pred\n",
        "\n",
        "\n",
        "def error_calc(y_pred, y_true):\n",
        "  return mean_squared_error(y_true, y_pred), mean_squared_error(y_true, y_pred, squared=False) # MSE, RMSE\n",
        "\n",
        "\n",
        "methods = {\"XGB\": XGBRegressor(learning_rate=.1), \n",
        "           \"LR\": LinearRegression(), \\\n",
        "           \"DT\": DecisionTreeRegressor(), \\\n",
        "           \"RF\": RandomForestRegressor(), \\\n",
        "           \"BAG\": BaggingRegressor(base_estimator=SVR()), \\\n",
        "           \"VOT\": VotingRegressor([('lr', LinearRegression()), ('rf', RandomForestRegressor())]), \\\n",
        "           \"EXT\": ExtraTreesRegressor(), \\\n",
        "           \"ADA\": AdaBoostRegressor()}\n",
        "\n",
        "results = {method: [] for method in methods}\n",
        "\n",
        "for method in methods:\n",
        "  y_pred = model_train(trainX, trainY, testX, methods[method])\n",
        "  results[method] = y_pred\n",
        "  print(\"MSE, RMSE error for {}: {}\".format(method, error_calc(y_pred, testY)))"
      ],
      "execution_count": null,
      "outputs": [
        {
          "output_type": "stream",
          "text": [
            "[00:01:44] WARNING: /workspace/src/objective/regression_obj.cu:152: reg:linear is now deprecated in favor of reg:squarederror.\n",
            "MSE, RMSE error for XGB: (0.154615580519115, 0.3932118773881519)\n",
            "MSE, RMSE error for LR: (0.15462266574612846, 0.3932208867114366)\n",
            "MSE, RMSE error for DT: (0.1546226657461284, 0.3932208867114365)\n",
            "MSE, RMSE error for RF: (0.1545972361143889, 0.3931885503348093)\n",
            "MSE, RMSE error for BAG: (0.15469541891867805, 0.39331338512524344)\n",
            "MSE, RMSE error for VOT: (0.15465693518026233, 0.39326445959463757)\n",
            "MSE, RMSE error for EXT: (0.15462266574612854, 0.3932208867114367)\n",
            "MSE, RMSE error for ADA: (0.1399759097718205, 0.37413354537092836)\n"
          ],
          "name": "stdout"
        }
      ]
    },
    {
      "cell_type": "markdown",
      "metadata": {
        "id": "zFF_zFt_-Gzy"
      },
      "source": [
        "**Questions with New dataset Q26, Q27**"
      ]
    },
    {
      "cell_type": "code",
      "metadata": {
        "colab": {
          "base_uri": "https://localhost:8080/"
        },
        "id": "9A6RgqpK-F8B",
        "outputId": "ae0cf9a1-010f-48e5-c758-18250d0d6f68"
      },
      "source": [
        "# Data\n",
        "train = '/content/drive/MyDrive/Data Mining Class (Master)/HW3/Dataset/training_data.csv'\n",
        "tour = '/content/drive/MyDrive/Data Mining Class (Master)/HW3/Dataset/tournament_data.csv'\n",
        "\n",
        "# Count nrows\n",
        "\n",
        "def count_lines(path):\n",
        "  with open(path) as fp:\n",
        "      for (count, _) in enumerate(fp, 1):\n",
        "        pass\n",
        "  return count\n",
        "\n",
        "\n",
        "print(count_lines(train))\n",
        "print(count_lines(tour))\n",
        "\n",
        "# Read Data\n",
        "import pandas as pd\n",
        "\n",
        "train_data = pd.read_csv(train, nrows=10000).set_index('id')\n",
        "\n",
        "tour_data = pd.read_csv(tour, nrows=10000).set_index('id')\n",
        "\n",
        "features = [f for f in train_data.columns if 'feature' in f]\n",
        "\n",
        "X = train_data[features]\n",
        "y = train_data['target']\n",
        "X_test = tour_data[features]\n",
        "y_true = tour_data['target']"
      ],
      "execution_count": null,
      "outputs": [
        {
          "output_type": "stream",
          "text": [
            "501809\n",
            "1725603\n"
          ],
          "name": "stdout"
        }
      ]
    },
    {
      "cell_type": "code",
      "metadata": {
        "colab": {
          "base_uri": "https://localhost:8080/"
        },
        "id": "JSZMJkzY-S77",
        "outputId": "dd7c5d76-63df-479a-9ab3-112e93e42044"
      },
      "source": [
        "# Model Training\n",
        "\n",
        "from sklearn.metrics import mean_squared_error\n",
        "\n",
        "from xgboost import XGBRegressor\n",
        "from sklearn.linear_model import LinearRegression\n",
        "from sklearn.tree import DecisionTreeRegressor\n",
        "from sklearn.ensemble import RandomForestRegressor\n",
        "from sklearn.ensemble import BaggingRegressor\n",
        "from sklearn.ensemble import VotingRegressor\n",
        "from sklearn.ensemble import ExtraTreesRegressor\n",
        "from sklearn.ensemble import AdaBoostRegressor\n",
        "from sklearn.svm import SVR\n",
        "\n",
        "def model_train(X, y, X_test, cf):\n",
        "  cf.fit(X, y)\n",
        "  y_pred = cf.predict(X_test)\n",
        "  return y_pred\n",
        "\n",
        "\n",
        "def error_calc(y_pred, y_true):\n",
        "  return mean_squared_error(y_true, y_pred), mean_squared_error(y_true, y_pred, squared=False) # MSE, RMSE\n",
        "\n",
        "\n",
        "methods = {\"XGB\": XGBRegressor(learning_rate=.1), \n",
        "           \"LR\": LinearRegression(), \\\n",
        "           \"DT\": DecisionTreeRegressor(), \\\n",
        "           \"RF\": RandomForestRegressor(), \\\n",
        "           \"BAG\": BaggingRegressor(base_estimator=SVR()), \\\n",
        "           \"VOT\": VotingRegressor([('lr', LinearRegression()), ('rf', RandomForestRegressor())]), \\\n",
        "           \"EXT\": ExtraTreesRegressor(), \\\n",
        "           \"ADA\": AdaBoostRegressor()}\n",
        "\n",
        "results = {method: [] for method in methods}\n",
        "\n",
        "for method in methods:\n",
        "  y_pred = model_train(X, y, X_test, methods[method])\n",
        "  results[method] = y_pred\n",
        "  print(\"MSE, RMSE error for {}: {}\".format(method, error_calc(y_pred, y_true)))"
      ],
      "execution_count": null,
      "outputs": [
        {
          "output_type": "stream",
          "text": [
            "[06:51:32] WARNING: /workspace/src/objective/regression_obj.cu:152: reg:linear is now deprecated in favor of reg:squarederror.\n",
            "MSE, RMSE error for XGB: (0.05101390215442374, 0.2258625736026749)\n",
            "MSE, RMSE error for LR: (0.05278123475952705, 0.2297416696194381)\n",
            "MSE, RMSE error for DT: (0.11835, 0.34402034823539146)\n",
            "MSE, RMSE error for RF: (0.050840847499999994, 0.2254791509208778)\n",
            "MSE, RMSE error for BAG: (0.05596810163949772, 0.23657578413586144)\n",
            "MSE, RMSE error for VOT: (0.05107260476268298, 0.22599248828817958)\n",
            "MSE, RMSE error for EXT: (0.051203181874999996, 0.22628120088730305)\n",
            "MSE, RMSE error for ADA: (0.05005330248051367, 0.223725953971625)\n"
          ],
          "name": "stdout"
        }
      ]
    },
    {
      "cell_type": "code",
      "metadata": {
        "colab": {
          "base_uri": "https://localhost:8080/"
        },
        "id": "npd7I0kM-beZ",
        "outputId": "5b7b1808-db53-4bbd-fddb-f1fb5d97b21f"
      },
      "source": [
        "# Spearman between models and y_true\n",
        "from scipy import stats\n",
        "\n",
        "for m in results:\n",
        "  rho, pval = stats.spearmanr(results[m], y_true)\n",
        "  print(\"Spearman correlation (rho, pval) between {} and y_true: {}, {}\".format(m, rho, pval))"
      ],
      "execution_count": null,
      "outputs": [
        {
          "output_type": "stream",
          "text": [
            "Spearman correlation (rho, pval) between XGB and y_true: -0.015677615078634587, 0.11696006662725852\n",
            "Spearman correlation (rho, pval) between LR and y_true: -0.0015004768539846427, 0.8807417254055534\n",
            "Spearman correlation (rho, pval) between DT and y_true: -0.010461672684597542, 0.2955309709091788\n",
            "Spearman correlation (rho, pval) between RF and y_true: -0.0014734940785052406, 0.882870711258991\n",
            "Spearman correlation (rho, pval) between BAG and y_true: -0.011644831126105147, 0.24427125665803498\n",
            "Spearman correlation (rho, pval) between VOT and y_true: -0.0039875420253721455, 0.6901098903154018\n",
            "Spearman correlation (rho, pval) between EXT and y_true: -0.015566345691622992, 0.11958109830750738\n",
            "Spearman correlation (rho, pval) between ADA and y_true: -0.01847725125314812, 0.06465272160591216\n"
          ],
          "name": "stdout"
        }
      ]
    },
    {
      "cell_type": "code",
      "metadata": {
        "id": "vRtcjdIK-hBT"
      },
      "source": [
        "# Spearman between outputs from different models\n",
        "from scipy import stats\n",
        "\n",
        "for i, m1 in enumerate(results):\n",
        "  for j, m2 in enumerate(results):\n",
        "    if j > i:\n",
        "      rho, pval = stats.spearmanr(results[m1], results[m2])\n",
        "      print(\"Spearman correlation (rho, pval) between {} and {}: {}, {}\".format(m1, m2, rho, pval))"
      ],
      "execution_count": null,
      "outputs": []
    }
  ]
}