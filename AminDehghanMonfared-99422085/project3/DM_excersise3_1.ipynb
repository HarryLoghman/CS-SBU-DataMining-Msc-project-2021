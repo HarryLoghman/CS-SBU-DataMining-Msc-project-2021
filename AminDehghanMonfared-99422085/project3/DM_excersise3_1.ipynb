{
  "nbformat": 4,
  "nbformat_minor": 0,
  "metadata": {
    "colab": {
      "name": "DM_excersise3_1.ipynb",
      "provenance": [],
      "collapsed_sections": []
    },
    "kernelspec": {
      "name": "python3",
      "display_name": "Python 3"
    },
    "language_info": {
      "name": "python"
    }
  },
  "cells": [
    {
      "cell_type": "markdown",
      "metadata": {
        "id": "ocU6Iq95m3zu"
      },
      "source": [
        "Data Mining Exercise 3.1 \t\t\n",
        "\n",
        "\n",
        "---\n",
        "\n",
        "\n",
        "\n",
        "\n",
        "Teacher : Dr.Farahani\n",
        "\n",
        "Student : Amin Dehghan Monfared  \n",
        "SID : 99422085\n",
        "\n",
        "\n",
        "Spring 2021\n"
      ]
    },
    {
      "cell_type": "code",
      "metadata": {
        "id": "o3PUxqSZm3nA"
      },
      "source": [
        "import pandas as pd\n",
        "import numpy as np\n",
        "import matplotlib.pyplot as plt\n",
        "\n",
        "import time\n",
        "%matplotlib inline\n",
        "\n",
        "\n",
        "from sklearn.preprocessing import  StandardScaler\n",
        "from sklearn.model_selection import train_test_split\n",
        "from sklearn.linear_model import LogisticRegression\n",
        "from sklearn import metrics\n",
        "\n",
        "from sklearn import svm\n",
        "import seaborn as sns\n",
        "from scipy import stats\n",
        "from sklearn.tree import DecisionTreeClassifier\n",
        "from sklearn.ensemble import RandomForestClassifier\n",
        "\n",
        "\n",
        "\n",
        "np.random.seed(seed=42)"
      ],
      "execution_count": null,
      "outputs": []
    },
    {
      "cell_type": "markdown",
      "metadata": {
        "id": "ek66svaqoHas"
      },
      "source": [
        "# Download and Extract Data"
      ]
    },
    {
      "cell_type": "markdown",
      "metadata": {
        "id": "Dv7eOummoJs_"
      },
      "source": [
        "https://www.kaggle.com/iabhishekofficial/mobile-price-classification"
      ]
    },
    {
      "cell_type": "code",
      "metadata": {
        "id": "vq-TP9WOmNy9",
        "colab": {
          "resources": {
            "http://localhost:8080/nbextensions/google.colab/files.js": {
              "data": "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",
              "ok": true,
              "headers": [
                [
                  "content-type",
                  "application/javascript"
                ]
              ],
              "status": 200,
              "status_text": "OK"
            }
          },
          "base_uri": "https://localhost:8080/",
          "height": 173
        },
        "outputId": "066a35c7-05c3-42d1-bc3c-b7d94e7a88ec"
      },
      "source": [
        "!pip instal -q kaggle\n",
        "\n",
        "from google.colab import files\n",
        "files.upload()\n",
        "\n",
        "!mkdir -p ~/.kaggle\n",
        "!cp kaggle.json ~/.kaggle/kaggle.json\n",
        "\n",
        "!chmod 600 ~/.kaggle/kaggle.json\n",
        "\n",
        "!kaggle datasets download -d iabhishekofficial/mobile-price-classification\n",
        "\n",
        "import zipfile\n",
        "\n",
        "zip_ref = zipfile.ZipFile('mobile-price-classification.zip','r')\n",
        "zip_ref.extractall('files')\n",
        "zip_ref.close"
      ],
      "execution_count": null,
      "outputs": [
        {
          "output_type": "stream",
          "text": [
            "ERROR: unknown command \"instal\" - maybe you meant \"install\"\n"
          ],
          "name": "stdout"
        },
        {
          "output_type": "display_data",
          "data": {
            "text/html": [
              "\n",
              "     <input type=\"file\" id=\"files-95ceeaa2-6767-486f-bc8e-44c647f6c237\" name=\"files[]\" multiple disabled\n",
              "        style=\"border:none\" />\n",
              "     <output id=\"result-95ceeaa2-6767-486f-bc8e-44c647f6c237\">\n",
              "      Upload widget is only available when the cell has been executed in the\n",
              "      current browser session. Please rerun this cell to enable.\n",
              "      </output>\n",
              "      <script src=\"/nbextensions/google.colab/files.js\"></script> "
            ],
            "text/plain": [
              "<IPython.core.display.HTML object>"
            ]
          },
          "metadata": {
            "tags": []
          }
        },
        {
          "output_type": "stream",
          "text": [
            "Saving kaggle.json to kaggle.json\n",
            "Downloading mobile-price-classification.zip to /content\n",
            "  0% 0.00/70.6k [00:00<?, ?B/s]\n",
            "100% 70.6k/70.6k [00:00<00:00, 26.8MB/s]\n"
          ],
          "name": "stdout"
        },
        {
          "output_type": "execute_result",
          "data": {
            "text/plain": [
              "<bound method ZipFile.close of <zipfile.ZipFile filename='mobile-price-classification.zip' mode='r'>>"
            ]
          },
          "metadata": {
            "tags": []
          },
          "execution_count": 55
        }
      ]
    },
    {
      "cell_type": "markdown",
      "metadata": {
        "id": "zLlL9DN1SGus"
      },
      "source": [
        "# SVM\n"
      ]
    },
    {
      "cell_type": "markdown",
      "metadata": {
        "id": "2q8iTDMzVvwp"
      },
      "source": [
        "## Load Data \n"
      ]
    },
    {
      "cell_type": "code",
      "metadata": {
        "id": "nUaalXTwSGg6"
      },
      "source": [
        "train = pd.read_csv(\"./files/train.csv\")\n",
        "test = pd.read_csv(\"./files/test.csv\")"
      ],
      "execution_count": null,
      "outputs": []
    },
    {
      "cell_type": "code",
      "metadata": {
        "id": "rRmj8ul3VoHq",
        "colab": {
          "base_uri": "https://localhost:8080/"
        },
        "outputId": "dc125368-b482-427d-b8c5-28f1be249f72"
      },
      "source": [
        "train.info()"
      ],
      "execution_count": null,
      "outputs": [
        {
          "output_type": "stream",
          "text": [
            "<class 'pandas.core.frame.DataFrame'>\n",
            "RangeIndex: 2000 entries, 0 to 1999\n",
            "Data columns (total 21 columns):\n",
            " #   Column         Non-Null Count  Dtype  \n",
            "---  ------         --------------  -----  \n",
            " 0   battery_power  2000 non-null   int64  \n",
            " 1   blue           2000 non-null   int64  \n",
            " 2   clock_speed    2000 non-null   float64\n",
            " 3   dual_sim       2000 non-null   int64  \n",
            " 4   fc             2000 non-null   int64  \n",
            " 5   four_g         2000 non-null   int64  \n",
            " 6   int_memory     2000 non-null   int64  \n",
            " 7   m_dep          2000 non-null   float64\n",
            " 8   mobile_wt      2000 non-null   int64  \n",
            " 9   n_cores        2000 non-null   int64  \n",
            " 10  pc             2000 non-null   int64  \n",
            " 11  px_height      2000 non-null   int64  \n",
            " 12  px_width       2000 non-null   int64  \n",
            " 13  ram            2000 non-null   int64  \n",
            " 14  sc_h           2000 non-null   int64  \n",
            " 15  sc_w           2000 non-null   int64  \n",
            " 16  talk_time      2000 non-null   int64  \n",
            " 17  three_g        2000 non-null   int64  \n",
            " 18  touch_screen   2000 non-null   int64  \n",
            " 19  wifi           2000 non-null   int64  \n",
            " 20  price_range    2000 non-null   int64  \n",
            "dtypes: float64(2), int64(19)\n",
            "memory usage: 328.2 KB\n"
          ],
          "name": "stdout"
        }
      ]
    },
    {
      "cell_type": "code",
      "metadata": {
        "colab": {
          "base_uri": "https://localhost:8080/",
          "height": 320
        },
        "id": "CQ2Azsm6ORJX",
        "outputId": "22ce5da1-d283-4b40-b427-296fa82b91ed"
      },
      "source": [
        "train.describe()"
      ],
      "execution_count": null,
      "outputs": [
        {
          "output_type": "execute_result",
          "data": {
            "text/html": [
              "<div>\n",
              "<style scoped>\n",
              "    .dataframe tbody tr th:only-of-type {\n",
              "        vertical-align: middle;\n",
              "    }\n",
              "\n",
              "    .dataframe tbody tr th {\n",
              "        vertical-align: top;\n",
              "    }\n",
              "\n",
              "    .dataframe thead th {\n",
              "        text-align: right;\n",
              "    }\n",
              "</style>\n",
              "<table border=\"1\" class=\"dataframe\">\n",
              "  <thead>\n",
              "    <tr style=\"text-align: right;\">\n",
              "      <th></th>\n",
              "      <th>battery_power</th>\n",
              "      <th>blue</th>\n",
              "      <th>clock_speed</th>\n",
              "      <th>dual_sim</th>\n",
              "      <th>fc</th>\n",
              "      <th>four_g</th>\n",
              "      <th>int_memory</th>\n",
              "      <th>m_dep</th>\n",
              "      <th>mobile_wt</th>\n",
              "      <th>n_cores</th>\n",
              "      <th>pc</th>\n",
              "      <th>px_height</th>\n",
              "      <th>px_width</th>\n",
              "      <th>ram</th>\n",
              "      <th>sc_h</th>\n",
              "      <th>sc_w</th>\n",
              "      <th>talk_time</th>\n",
              "      <th>three_g</th>\n",
              "      <th>touch_screen</th>\n",
              "      <th>wifi</th>\n",
              "      <th>price_range</th>\n",
              "    </tr>\n",
              "  </thead>\n",
              "  <tbody>\n",
              "    <tr>\n",
              "      <th>count</th>\n",
              "      <td>2000.000000</td>\n",
              "      <td>2000.0000</td>\n",
              "      <td>2000.000000</td>\n",
              "      <td>2000.000000</td>\n",
              "      <td>2000.000000</td>\n",
              "      <td>2000.000000</td>\n",
              "      <td>2000.000000</td>\n",
              "      <td>2000.000000</td>\n",
              "      <td>2000.000000</td>\n",
              "      <td>2000.000000</td>\n",
              "      <td>2000.000000</td>\n",
              "      <td>2000.000000</td>\n",
              "      <td>2000.000000</td>\n",
              "      <td>2000.000000</td>\n",
              "      <td>2000.000000</td>\n",
              "      <td>2000.000000</td>\n",
              "      <td>2000.000000</td>\n",
              "      <td>2000.000000</td>\n",
              "      <td>2000.000000</td>\n",
              "      <td>2000.000000</td>\n",
              "      <td>2000.000000</td>\n",
              "    </tr>\n",
              "    <tr>\n",
              "      <th>mean</th>\n",
              "      <td>1238.518500</td>\n",
              "      <td>0.4950</td>\n",
              "      <td>1.522250</td>\n",
              "      <td>0.509500</td>\n",
              "      <td>4.309500</td>\n",
              "      <td>0.521500</td>\n",
              "      <td>32.046500</td>\n",
              "      <td>0.501750</td>\n",
              "      <td>140.249000</td>\n",
              "      <td>4.520500</td>\n",
              "      <td>9.916500</td>\n",
              "      <td>645.108000</td>\n",
              "      <td>1251.515500</td>\n",
              "      <td>2124.213000</td>\n",
              "      <td>12.306500</td>\n",
              "      <td>5.767000</td>\n",
              "      <td>11.011000</td>\n",
              "      <td>0.761500</td>\n",
              "      <td>0.503000</td>\n",
              "      <td>0.507000</td>\n",
              "      <td>1.500000</td>\n",
              "    </tr>\n",
              "    <tr>\n",
              "      <th>std</th>\n",
              "      <td>439.418206</td>\n",
              "      <td>0.5001</td>\n",
              "      <td>0.816004</td>\n",
              "      <td>0.500035</td>\n",
              "      <td>4.341444</td>\n",
              "      <td>0.499662</td>\n",
              "      <td>18.145715</td>\n",
              "      <td>0.288416</td>\n",
              "      <td>35.399655</td>\n",
              "      <td>2.287837</td>\n",
              "      <td>6.064315</td>\n",
              "      <td>443.780811</td>\n",
              "      <td>432.199447</td>\n",
              "      <td>1084.732044</td>\n",
              "      <td>4.213245</td>\n",
              "      <td>4.356398</td>\n",
              "      <td>5.463955</td>\n",
              "      <td>0.426273</td>\n",
              "      <td>0.500116</td>\n",
              "      <td>0.500076</td>\n",
              "      <td>1.118314</td>\n",
              "    </tr>\n",
              "    <tr>\n",
              "      <th>min</th>\n",
              "      <td>501.000000</td>\n",
              "      <td>0.0000</td>\n",
              "      <td>0.500000</td>\n",
              "      <td>0.000000</td>\n",
              "      <td>0.000000</td>\n",
              "      <td>0.000000</td>\n",
              "      <td>2.000000</td>\n",
              "      <td>0.100000</td>\n",
              "      <td>80.000000</td>\n",
              "      <td>1.000000</td>\n",
              "      <td>0.000000</td>\n",
              "      <td>0.000000</td>\n",
              "      <td>500.000000</td>\n",
              "      <td>256.000000</td>\n",
              "      <td>5.000000</td>\n",
              "      <td>0.000000</td>\n",
              "      <td>2.000000</td>\n",
              "      <td>0.000000</td>\n",
              "      <td>0.000000</td>\n",
              "      <td>0.000000</td>\n",
              "      <td>0.000000</td>\n",
              "    </tr>\n",
              "    <tr>\n",
              "      <th>25%</th>\n",
              "      <td>851.750000</td>\n",
              "      <td>0.0000</td>\n",
              "      <td>0.700000</td>\n",
              "      <td>0.000000</td>\n",
              "      <td>1.000000</td>\n",
              "      <td>0.000000</td>\n",
              "      <td>16.000000</td>\n",
              "      <td>0.200000</td>\n",
              "      <td>109.000000</td>\n",
              "      <td>3.000000</td>\n",
              "      <td>5.000000</td>\n",
              "      <td>282.750000</td>\n",
              "      <td>874.750000</td>\n",
              "      <td>1207.500000</td>\n",
              "      <td>9.000000</td>\n",
              "      <td>2.000000</td>\n",
              "      <td>6.000000</td>\n",
              "      <td>1.000000</td>\n",
              "      <td>0.000000</td>\n",
              "      <td>0.000000</td>\n",
              "      <td>0.750000</td>\n",
              "    </tr>\n",
              "    <tr>\n",
              "      <th>50%</th>\n",
              "      <td>1226.000000</td>\n",
              "      <td>0.0000</td>\n",
              "      <td>1.500000</td>\n",
              "      <td>1.000000</td>\n",
              "      <td>3.000000</td>\n",
              "      <td>1.000000</td>\n",
              "      <td>32.000000</td>\n",
              "      <td>0.500000</td>\n",
              "      <td>141.000000</td>\n",
              "      <td>4.000000</td>\n",
              "      <td>10.000000</td>\n",
              "      <td>564.000000</td>\n",
              "      <td>1247.000000</td>\n",
              "      <td>2146.500000</td>\n",
              "      <td>12.000000</td>\n",
              "      <td>5.000000</td>\n",
              "      <td>11.000000</td>\n",
              "      <td>1.000000</td>\n",
              "      <td>1.000000</td>\n",
              "      <td>1.000000</td>\n",
              "      <td>1.500000</td>\n",
              "    </tr>\n",
              "    <tr>\n",
              "      <th>75%</th>\n",
              "      <td>1615.250000</td>\n",
              "      <td>1.0000</td>\n",
              "      <td>2.200000</td>\n",
              "      <td>1.000000</td>\n",
              "      <td>7.000000</td>\n",
              "      <td>1.000000</td>\n",
              "      <td>48.000000</td>\n",
              "      <td>0.800000</td>\n",
              "      <td>170.000000</td>\n",
              "      <td>7.000000</td>\n",
              "      <td>15.000000</td>\n",
              "      <td>947.250000</td>\n",
              "      <td>1633.000000</td>\n",
              "      <td>3064.500000</td>\n",
              "      <td>16.000000</td>\n",
              "      <td>9.000000</td>\n",
              "      <td>16.000000</td>\n",
              "      <td>1.000000</td>\n",
              "      <td>1.000000</td>\n",
              "      <td>1.000000</td>\n",
              "      <td>2.250000</td>\n",
              "    </tr>\n",
              "    <tr>\n",
              "      <th>max</th>\n",
              "      <td>1998.000000</td>\n",
              "      <td>1.0000</td>\n",
              "      <td>3.000000</td>\n",
              "      <td>1.000000</td>\n",
              "      <td>19.000000</td>\n",
              "      <td>1.000000</td>\n",
              "      <td>64.000000</td>\n",
              "      <td>1.000000</td>\n",
              "      <td>200.000000</td>\n",
              "      <td>8.000000</td>\n",
              "      <td>20.000000</td>\n",
              "      <td>1960.000000</td>\n",
              "      <td>1998.000000</td>\n",
              "      <td>3998.000000</td>\n",
              "      <td>19.000000</td>\n",
              "      <td>18.000000</td>\n",
              "      <td>20.000000</td>\n",
              "      <td>1.000000</td>\n",
              "      <td>1.000000</td>\n",
              "      <td>1.000000</td>\n",
              "      <td>3.000000</td>\n",
              "    </tr>\n",
              "  </tbody>\n",
              "</table>\n",
              "</div>"
            ],
            "text/plain": [
              "       battery_power       blue  ...         wifi  price_range\n",
              "count    2000.000000  2000.0000  ...  2000.000000  2000.000000\n",
              "mean     1238.518500     0.4950  ...     0.507000     1.500000\n",
              "std       439.418206     0.5001  ...     0.500076     1.118314\n",
              "min       501.000000     0.0000  ...     0.000000     0.000000\n",
              "25%       851.750000     0.0000  ...     0.000000     0.750000\n",
              "50%      1226.000000     0.0000  ...     1.000000     1.500000\n",
              "75%      1615.250000     1.0000  ...     1.000000     2.250000\n",
              "max      1998.000000     1.0000  ...     1.000000     3.000000\n",
              "\n",
              "[8 rows x 21 columns]"
            ]
          },
          "metadata": {
            "tags": []
          },
          "execution_count": 58
        }
      ]
    },
    {
      "cell_type": "code",
      "metadata": {
        "colab": {
          "base_uri": "https://localhost:8080/"
        },
        "id": "QRgMeiiYB8Ea",
        "outputId": "4ea3b47e-adc4-4fd8-c9e5-156936ff2ed4"
      },
      "source": [
        "# split train and validation\n",
        "X_train, X_val, y_train, y_val = train_test_split(train.drop(columns=['price_range']), train['price_range'], train_size = 0.8, stratify=train['price_range'], random_state=42)\n",
        "\n",
        "X_train.shape , y_train.shape, X_val.shape, y_val.shape"
      ],
      "execution_count": null,
      "outputs": [
        {
          "output_type": "execute_result",
          "data": {
            "text/plain": [
              "((1600, 20), (1600,), (400, 20), (400,))"
            ]
          },
          "metadata": {
            "tags": []
          },
          "execution_count": 59
        }
      ]
    },
    {
      "cell_type": "code",
      "metadata": {
        "id": "GOhvVVHQBvIA"
      },
      "source": [
        "# Scale X\n",
        "scaler = StandardScaler()\n",
        "scaler.fit(X_train)\n",
        "X_train = pd.DataFrame(scaler.transform(X_train), columns=X_train.columns)\n",
        "X_val = pd.DataFrame(scaler.transform(X_val), columns=X_train.columns)"
      ],
      "execution_count": null,
      "outputs": []
    },
    {
      "cell_type": "markdown",
      "metadata": {
        "id": "Nvh9YQDmVzJm"
      },
      "source": [
        "## Model Experiments"
      ]
    },
    {
      "cell_type": "markdown",
      "metadata": {
        "id": "pd268NyLktHD"
      },
      "source": [
        "### Apply SVM"
      ]
    },
    {
      "cell_type": "code",
      "metadata": {
        "id": "63JmhMYoVyvd"
      },
      "source": [
        "\n",
        "clf_1 = svm.SVC(kernel='linear')\n",
        "\n",
        "clf_1.fit(X_train, y_train)\n",
        "\n",
        "y_val_pred = clf_1.predict(X_val)"
      ],
      "execution_count": null,
      "outputs": []
    },
    {
      "cell_type": "code",
      "metadata": {
        "id": "TsJT_lm4sEXZ",
        "colab": {
          "base_uri": "https://localhost:8080/"
        },
        "outputId": "e1037ac8-a5d4-422a-ea79-23b8f339431b"
      },
      "source": [
        "print(metrics.classification_report(y_val, y_val_pred))"
      ],
      "execution_count": null,
      "outputs": [
        {
          "output_type": "stream",
          "text": [
            "              precision    recall  f1-score   support\n",
            "\n",
            "           0       0.99      0.96      0.97       100\n",
            "           1       0.95      0.95      0.95       100\n",
            "           2       0.95      0.95      0.95       100\n",
            "           3       0.96      0.99      0.98       100\n",
            "\n",
            "    accuracy                           0.96       400\n",
            "   macro avg       0.96      0.96      0.96       400\n",
            "weighted avg       0.96      0.96      0.96       400\n",
            "\n"
          ],
          "name": "stdout"
        }
      ]
    },
    {
      "cell_type": "markdown",
      "metadata": {
        "id": "E-wpUDUSqFl3"
      },
      "source": [
        "### use different kernels and parameters"
      ]
    },
    {
      "cell_type": "code",
      "metadata": {
        "colab": {
          "base_uri": "https://localhost:8080/"
        },
        "id": "v-xup2ZzoOii",
        "outputId": "2faa1b0c-fcbc-4c8d-cfa8-01725ff0d22d"
      },
      "source": [
        "\n",
        "clf_2 = svm.SVC(kernel='poly', degree=2)\n",
        "\n",
        "clf_2.fit(X_train, y_train)\n",
        "\n",
        "y_val_pred = clf_2.predict(X_val)\n",
        "\n",
        "# Results\n",
        "print(metrics.classification_report(y_val, y_val_pred))"
      ],
      "execution_count": null,
      "outputs": [
        {
          "output_type": "stream",
          "text": [
            "              precision    recall  f1-score   support\n",
            "\n",
            "           0       0.56      0.49      0.52       100\n",
            "           1       0.41      0.45      0.43       100\n",
            "           2       0.42      0.52      0.46       100\n",
            "           3       0.55      0.42      0.47       100\n",
            "\n",
            "    accuracy                           0.47       400\n",
            "   macro avg       0.48      0.47      0.47       400\n",
            "weighted avg       0.48      0.47      0.47       400\n",
            "\n"
          ],
          "name": "stdout"
        }
      ]
    },
    {
      "cell_type": "code",
      "metadata": {
        "colab": {
          "base_uri": "https://localhost:8080/",
          "height": 265
        },
        "id": "8KrNbkp0weUE",
        "outputId": "5be6ac8c-ca19-4fd6-f43e-b4d948706faf"
      },
      "source": [
        "accs = []\n",
        "for i in range(2,21):\n",
        "\n",
        "  clf_2 = svm.SVC(kernel='poly', degree=i)\n",
        "\n",
        "  clf_2.fit(X_train, y_train)\n",
        "\n",
        "  y_val_pred = clf_2.predict(X_val)\n",
        "\n",
        "  # Results\n",
        "  accs.append(metrics.accuracy_score(y_val, y_val_pred))\n",
        "\n",
        "\n",
        "plt.plot(np.arange(2,21), accs)\n",
        "plt.xticks(np.arange(2,21))\n",
        "plt.show()"
      ],
      "execution_count": null,
      "outputs": [
        {
          "output_type": "display_data",
          "data": {
            "image/png": "[encoded data removed]",
            "text/plain": [
              "<Figure size 432x288 with 1 Axes>"
            ]
          },
          "metadata": {
            "tags": [],
            "needs_background": "light"
          }
        }
      ]
    },
    {
      "cell_type": "code",
      "metadata": {
        "colab": {
          "base_uri": "https://localhost:8080/"
        },
        "id": "SZKVevdxwjgy",
        "outputId": "20d9a0f5-286d-4ae2-9c5b-db2a52562523"
      },
      "source": [
        "clf_2 = svm.SVC(kernel='poly', degree=3)\n",
        "\n",
        "clf_2.fit(X_train, y_train)\n",
        "\n",
        "y_val_pred = clf_2.predict(X_val)\n",
        "\n",
        "# Results\n",
        "print(metrics.classification_report(y_val, y_val_pred))"
      ],
      "execution_count": null,
      "outputs": [
        {
          "output_type": "stream",
          "text": [
            "              precision    recall  f1-score   support\n",
            "\n",
            "           0       0.94      0.82      0.88       100\n",
            "           1       0.71      0.84      0.77       100\n",
            "           2       0.73      0.72      0.73       100\n",
            "           3       0.89      0.85      0.87       100\n",
            "\n",
            "    accuracy                           0.81       400\n",
            "   macro avg       0.82      0.81      0.81       400\n",
            "weighted avg       0.82      0.81      0.81       400\n",
            "\n"
          ],
          "name": "stdout"
        }
      ]
    },
    {
      "cell_type": "code",
      "metadata": {
        "colab": {
          "base_uri": "https://localhost:8080/"
        },
        "id": "xeYPaii3rqtv",
        "outputId": "bf89467a-fd6a-406c-b6d3-840597fb78f8"
      },
      "source": [
        "\n",
        "clf_3 = svm.SVC(kernel='rbf')\n",
        "\n",
        "clf_3.fit(X_train, y_train)\n",
        "\n",
        "y_val_pred = clf_3.predict(X_val)\n",
        "\n",
        "# Results\n",
        "print(metrics.classification_report(y_val, y_val_pred))"
      ],
      "execution_count": null,
      "outputs": [
        {
          "output_type": "stream",
          "text": [
            "              precision    recall  f1-score   support\n",
            "\n",
            "           0       0.96      0.94      0.95       100\n",
            "           1       0.87      0.87      0.87       100\n",
            "           2       0.82      0.87      0.84       100\n",
            "           3       0.94      0.90      0.92       100\n",
            "\n",
            "    accuracy                           0.90       400\n",
            "   macro avg       0.90      0.90      0.90       400\n",
            "weighted avg       0.90      0.90      0.90       400\n",
            "\n"
          ],
          "name": "stdout"
        }
      ]
    },
    {
      "cell_type": "code",
      "metadata": {
        "id": "uyGRekMhr51c",
        "colab": {
          "base_uri": "https://localhost:8080/"
        },
        "outputId": "2ff6f03f-ed60-47e1-a9ac-39d7789213ca"
      },
      "source": [
        "clf_4 = svm.SVC(kernel='sigmoid')\n",
        "\n",
        "clf_4.fit(X_train, y_train)\n",
        "\n",
        "y_val_pred = clf_4.predict(X_val)\n",
        "\n",
        "# Results\n",
        "print(metrics.classification_report(y_val, y_val_pred))"
      ],
      "execution_count": null,
      "outputs": [
        {
          "output_type": "stream",
          "text": [
            "              precision    recall  f1-score   support\n",
            "\n",
            "           0       0.98      0.96      0.97       100\n",
            "           1       0.89      0.92      0.91       100\n",
            "           2       0.89      0.87      0.88       100\n",
            "           3       0.94      0.95      0.95       100\n",
            "\n",
            "    accuracy                           0.93       400\n",
            "   macro avg       0.93      0.93      0.93       400\n",
            "weighted avg       0.93      0.93      0.93       400\n",
            "\n"
          ],
          "name": "stdout"
        }
      ]
    },
    {
      "cell_type": "markdown",
      "metadata": {
        "id": "IrTqqnxPoZZf"
      },
      "source": [
        "### Try Soft-margin and Hard margin "
      ]
    },
    {
      "cell_type": "code",
      "metadata": {
        "id": "7FGjVbizvR3x",
        "colab": {
          "base_uri": "https://localhost:8080/",
          "height": 483
        },
        "outputId": "53eb2239-978c-46bd-d69b-e01513a055f4"
      },
      "source": [
        "x = np.arange(5,200,1)\n",
        "accs = []\n",
        "for i in x:\n",
        "\n",
        "  clf = svm.SVC(kernel='linear', C=i)\n",
        "  clf.fit(X_train, y_train)\n",
        "  y_val_pred = clf.predict(X_val)\n",
        "\n",
        "  accs.append(metrics.accuracy_score(y_val, y_val_pred))\n",
        "\n",
        "plt.figure(figsize=(15,8))\n",
        "plt.plot(x, accs)\n",
        "plt.xticks(x[0::5])\n",
        "plt.show()"
      ],
      "execution_count": null,
      "outputs": [
        {
          "output_type": "display_data",
          "data": {
            "image/png": "[encoded data removed]",
            "text/plain": [
              "<Figure size 1080x576 with 1 Axes>"
            ]
          },
          "metadata": {
            "tags": [],
            "needs_background": "light"
          }
        }
      ]
    },
    {
      "cell_type": "markdown",
      "metadata": {
        "id": "-R0yPdgmqlGt"
      },
      "source": [
        "### Feature enginearing"
      ]
    },
    {
      "cell_type": "markdown",
      "metadata": {
        "id": "1U9bTM64sTq8"
      },
      "source": [
        "#### a."
      ]
    },
    {
      "cell_type": "code",
      "metadata": {
        "id": "QPcMcMqlpxbq",
        "colab": {
          "base_uri": "https://localhost:8080/"
        },
        "outputId": "d1387d20-9b8d-4f2d-f993-bb6fe62cbf13"
      },
      "source": [
        "# min 501 ~= 500 , max 1998 ~= 2000\n",
        "train_1 = train.copy()\n",
        "bins = [0,500,1000,1500,2000]\n",
        "labels =[1,2,3,4]\n",
        "train_1['bin'] = pd.cut(train_1['battery_power'], bins=bins,labels=False)\n",
        "train_1.drop(columns=['battery_power'])\n",
        "\n",
        "\n",
        "# split train and validation\n",
        "X_train, X_val, y_train, y_val = train_test_split(train_1.drop(columns=['price_range']), train_1['price_range'], train_size = 0.8, stratify=train_1['price_range'], random_state=42)\n",
        "\n",
        "# Scale X\n",
        "scaler = StandardScaler()\n",
        "scaler.fit(X_train)\n",
        "X_train = pd.DataFrame(scaler.transform(X_train), columns=X_train.columns)\n",
        "X_val = pd.DataFrame(scaler.transform(X_val), columns=X_train.columns)\n",
        "\n",
        "# SVM\n",
        "clf = svm.SVC(kernel='linear')\n",
        "clf.fit(X_train, y_train)\n",
        "y_val_pred = clf.predict(X_val)\n",
        "\n",
        "# Results\n",
        "print(metrics.classification_report(y_val, y_val_pred))"
      ],
      "execution_count": null,
      "outputs": [
        {
          "output_type": "stream",
          "text": [
            "              precision    recall  f1-score   support\n",
            "\n",
            "           0       0.99      0.98      0.98       100\n",
            "           1       0.95      0.93      0.94       100\n",
            "           2       0.93      0.93      0.93       100\n",
            "           3       0.96      0.99      0.98       100\n",
            "\n",
            "    accuracy                           0.96       400\n",
            "   macro avg       0.96      0.96      0.96       400\n",
            "weighted avg       0.96      0.96      0.96       400\n",
            "\n"
          ],
          "name": "stdout"
        }
      ]
    },
    {
      "cell_type": "code",
      "metadata": {
        "colab": {
          "base_uri": "https://localhost:8080/"
        },
        "id": "e0aD2RlpTDGJ",
        "outputId": "18251e97-6f97-45c6-9a13-27adc00001f4"
      },
      "source": [
        "# min 501 ~= 500 , max 1998 ~= 2000\n",
        "train_1 = train.copy()\n",
        "bins = [0,250,500,750,1000,1250,1500,1750,2000]\n",
        "labels =[1,2,3,4]\n",
        "train_1['bin'] = pd.cut(train_1['battery_power'], bins=bins,labels=False)\n",
        "train_1.drop(columns=['battery_power'])\n",
        "\n",
        "\n",
        "# split train and validation\n",
        "X_train, X_val, y_train, y_val = train_test_split(train_1.drop(columns=['price_range']), train_1['price_range'], train_size = 0.8, stratify=train_1['price_range'], random_state=42)\n",
        "\n",
        "# Scale X\n",
        "scaler = StandardScaler()\n",
        "scaler.fit(X_train)\n",
        "X_train = pd.DataFrame(scaler.transform(X_train), columns=X_train.columns)\n",
        "X_val = pd.DataFrame(scaler.transform(X_val), columns=X_train.columns)\n",
        "\n",
        "# SVM\n",
        "clf = svm.SVC(kernel='linear')\n",
        "clf.fit(X_train, y_train)\n",
        "y_val_pred = clf.predict(X_val)\n",
        "\n",
        "# Results\n",
        "print(metrics.classification_report(y_val, y_val_pred))"
      ],
      "execution_count": null,
      "outputs": [
        {
          "output_type": "stream",
          "text": [
            "              precision    recall  f1-score   support\n",
            "\n",
            "           0       0.98      0.97      0.97       100\n",
            "           1       0.95      0.93      0.94       100\n",
            "           2       0.92      0.93      0.93       100\n",
            "           3       0.95      0.97      0.96       100\n",
            "\n",
            "    accuracy                           0.95       400\n",
            "   macro avg       0.95      0.95      0.95       400\n",
            "weighted avg       0.95      0.95      0.95       400\n",
            "\n"
          ],
          "name": "stdout"
        }
      ]
    },
    {
      "cell_type": "code",
      "metadata": {
        "colab": {
          "base_uri": "https://localhost:8080/"
        },
        "id": "DzqSFsfUNRlV",
        "outputId": "29c129d9-e425-491e-dcbc-fb441da85d98"
      },
      "source": [
        "# min 501 ~= 500 , max 1998 ~= 2000\n",
        "train_1 = train.copy()\n",
        "bins = [0,1000,1400,1800,2000]\n",
        "labels =[1,2,3,4]\n",
        "train_1['bin'] = pd.cut(train_1['battery_power'], bins=bins, labels=labels)\n",
        "train_1.drop(columns=['battery_power'])\n",
        "\n",
        "\n",
        "# split train and validation\n",
        "X_train, X_val, y_train, y_val = train_test_split(train_1.drop(columns=['price_range']), train_1['price_range'], train_size = 0.8, stratify=train_1['price_range'], random_state=42)\n",
        "\n",
        "# Scale X\n",
        "scaler = StandardScaler()\n",
        "scaler.fit(X_train)\n",
        "X_train = pd.DataFrame(scaler.transform(X_train), columns=X_train.columns)\n",
        "X_val = pd.DataFrame(scaler.transform(X_val), columns=X_train.columns)\n",
        "\n",
        "# SVM\n",
        "\n",
        "\n",
        "clf = svm.SVC(kernel='linear')\n",
        "\n",
        "clf.fit(X_train, y_train)\n",
        "\n",
        "y_val_pred = clf.predict(X_val)\n",
        "\n",
        "# Results\n",
        "print(metrics.classification_report(y_val, y_val_pred))"
      ],
      "execution_count": null,
      "outputs": [
        {
          "output_type": "stream",
          "text": [
            "              precision    recall  f1-score   support\n",
            "\n",
            "           0       0.99      0.96      0.97       100\n",
            "           1       0.95      0.95      0.95       100\n",
            "           2       0.95      0.95      0.95       100\n",
            "           3       0.96      0.99      0.98       100\n",
            "\n",
            "    accuracy                           0.96       400\n",
            "   macro avg       0.96      0.96      0.96       400\n",
            "weighted avg       0.96      0.96      0.96       400\n",
            "\n"
          ],
          "name": "stdout"
        }
      ]
    },
    {
      "cell_type": "code",
      "metadata": {
        "colab": {
          "base_uri": "https://localhost:8080/"
        },
        "id": "yKyD4JqIPte7",
        "outputId": "7d7d6530-9c41-4797-e115-ecd6b1f561cd"
      },
      "source": [
        "# min 501 ~= 500 , max 1998 ~= 2000\n",
        "train_1 = train.copy()\n",
        "bins = [0,400,700,1000,1300,2000]\n",
        "labels =[1,2,3,4,5]\n",
        "train_1['bin'] = pd.cut(train_1['battery_power'], bins=bins, labels=labels)\n",
        "train_1.drop(columns=['battery_power'])\n",
        "\n",
        "\n",
        "# split train and validation\n",
        "X_train, X_val, y_train, y_val = train_test_split(train_1.drop(columns=['price_range']), train_1['price_range'], train_size = 0.8, stratify=train_1['price_range'], random_state=42)\n",
        "\n",
        "# Scale X\n",
        "scaler = StandardScaler()\n",
        "scaler.fit(X_train)\n",
        "X_train = pd.DataFrame(scaler.transform(X_train), columns=X_train.columns)\n",
        "X_val = pd.DataFrame(scaler.transform(X_val), columns=X_train.columns)\n",
        "\n",
        "# SVM\n",
        "clf = svm.SVC(kernel='linear')\n",
        "clf.fit(X_train, y_train)\n",
        "y_val_pred = clf.predict(X_val)\n",
        "\n",
        "# Results\n",
        "print(metrics.classification_report(y_val, y_val_pred))"
      ],
      "execution_count": null,
      "outputs": [
        {
          "output_type": "stream",
          "text": [
            "              precision    recall  f1-score   support\n",
            "\n",
            "           0       0.99      0.96      0.97       100\n",
            "           1       0.95      0.95      0.95       100\n",
            "           2       0.96      0.94      0.95       100\n",
            "           3       0.95      1.00      0.98       100\n",
            "\n",
            "    accuracy                           0.96       400\n",
            "   macro avg       0.96      0.96      0.96       400\n",
            "weighted avg       0.96      0.96      0.96       400\n",
            "\n"
          ],
          "name": "stdout"
        }
      ]
    },
    {
      "cell_type": "markdown",
      "metadata": {
        "id": "eN3Tas4qx0OU"
      },
      "source": [
        "#### b."
      ]
    },
    {
      "cell_type": "code",
      "metadata": {
        "id": "-6IhCkv_Cyl8"
      },
      "source": [
        "# Helper function for one-hot encodeing with pandas\n",
        "def onehot_encode(df, column):\n",
        "    #df = df.copy()\n",
        "    dummies = pd.get_dummies(df[column], prefix=column)\n",
        "    df = pd.concat([df, dummies], axis=1)\n",
        "    df = df.drop(column, axis=1)\n",
        "    return df\n"
      ],
      "execution_count": null,
      "outputs": []
    },
    {
      "cell_type": "code",
      "metadata": {
        "id": "NEcr488uujvS",
        "colab": {
          "base_uri": "https://localhost:8080/"
        },
        "outputId": "e8ef9350-34ae-48b8-cfea-de28d14282bb"
      },
      "source": [
        "# Encode Categorical Data\n",
        "cat_cols_names = ['blue','dual_sim', 'four_g', 'three_g', 'touch_screen', 'wifi']\n",
        "train_tr = train.copy()\n",
        "for column in cat_cols_names:\n",
        "    train_tr = onehot_encode(train_tr, column)\n",
        "\n",
        "\n",
        "# split train and validation\n",
        "X_train, X_val, y_train, y_val = train_test_split(train_tr.drop(columns=['price_range']), train_tr['price_range'], train_size = 0.8, stratify=train_tr['price_range'], random_state=42)\n",
        "\n",
        "# Scale X\n",
        "scaler = StandardScaler()\n",
        "scaler.fit(X_train)\n",
        "X_train = pd.DataFrame(scaler.transform(X_train), columns=X_train.columns)\n",
        "X_val = pd.DataFrame(scaler.transform(X_val), columns=X_train.columns)\n",
        "\n",
        "# SVM\n",
        "clf = svm.SVC(kernel='linear')\n",
        "clf.fit(X_train, y_train)\n",
        "y_val_pred = clf.predict(X_val)\n",
        "\n",
        "# Results\n",
        "print(metrics.classification_report(y_val, y_val_pred))"
      ],
      "execution_count": null,
      "outputs": [
        {
          "output_type": "stream",
          "text": [
            "              precision    recall  f1-score   support\n",
            "\n",
            "           0       1.00      0.96      0.98       100\n",
            "           1       0.93      1.00      0.97       100\n",
            "           2       1.00      0.96      0.98       100\n",
            "           3       0.99      1.00      1.00       100\n",
            "\n",
            "    accuracy                           0.98       400\n",
            "   macro avg       0.98      0.98      0.98       400\n",
            "weighted avg       0.98      0.98      0.98       400\n",
            "\n"
          ],
          "name": "stdout"
        }
      ]
    },
    {
      "cell_type": "markdown",
      "metadata": {
        "id": "IjwblRGmx09m"
      },
      "source": [
        "#### c."
      ]
    },
    {
      "cell_type": "code",
      "metadata": {
        "id": "5qLNM1vPxuEW",
        "colab": {
          "base_uri": "https://localhost:8080/",
          "height": 879
        },
        "outputId": "f0870537-335c-4dcb-b6e1-aadfb1fc23cc"
      },
      "source": [
        "train.hist(figsize=(20,15))\n",
        "plt.show()"
      ],
      "execution_count": null,
      "outputs": [
        {
          "output_type": "display_data",
          "data": {
            "image/png": "[encoded data removed]",
            "text/plain": [
              "<Figure size 1440x1080 with 25 Axes>"
            ]
          },
          "metadata": {
            "tags": [],
            "needs_background": "light"
          }
        }
      ]
    },
    {
      "cell_type": "code",
      "metadata": {
        "colab": {
          "base_uri": "https://localhost:8080/",
          "height": 687
        },
        "id": "TvS5fmNuwB99",
        "outputId": "4f899249-70d3-4d8d-c25e-cecccde54845"
      },
      "source": [
        "\n",
        "\n",
        "sns.set(rc={'figure.figsize':(15,10)})\n",
        "sns.distplot(train['px_height'],kde_kws={\"label\": 'px_height'}, bins=20)"
      ],
      "execution_count": null,
      "outputs": [
        {
          "output_type": "stream",
          "text": [
            "/usr/local/lib/python3.7/dist-packages/seaborn/distributions.py:2557: FutureWarning: `distplot` is a deprecated function and will be removed in a future version. Please adapt your code to use either `displot` (a figure-level function with similar flexibility) or `histplot` (an axes-level function for histograms).\n",
            "  warnings.warn(msg, FutureWarning)\n"
          ],
          "name": "stderr"
        },
        {
          "output_type": "execute_result",
          "data": {
            "text/plain": [
              "<matplotlib.axes._subplots.AxesSubplot at 0x7f80bb3c74d0>"
            ]
          },
          "metadata": {
            "tags": []
          },
          "execution_count": 23
        },
        {
          "output_type": "display_data",
          "data": {
            "image/png": "[encoded data removed]",
            "text/plain": [
              "<Figure size 1080x720 with 1 Axes>"
            ]
          },
          "metadata": {
            "tags": []
          }
        }
      ]
    },
    {
      "cell_type": "code",
      "metadata": {
        "colab": {
          "base_uri": "https://localhost:8080/",
          "height": 688
        },
        "id": "DCFdnHNnwJsz",
        "outputId": "43ca510d-7b90-4239-c4c1-aaec7b7ecd77"
      },
      "source": [
        "sns.set(rc={'figure.figsize':(15,10)})\n",
        "sns.distplot(np.log(train[\"px_height\"]- (train['px_height'].min()-1)),kde_kws={\"label\": 'px_height'}, bins=20)\n"
      ],
      "execution_count": null,
      "outputs": [
        {
          "output_type": "stream",
          "text": [
            "/usr/local/lib/python3.7/dist-packages/seaborn/distributions.py:2557: FutureWarning: `distplot` is a deprecated function and will be removed in a future version. Please adapt your code to use either `displot` (a figure-level function with similar flexibility) or `histplot` (an axes-level function for histograms).\n",
            "  warnings.warn(msg, FutureWarning)\n"
          ],
          "name": "stderr"
        },
        {
          "output_type": "execute_result",
          "data": {
            "text/plain": [
              "<matplotlib.axes._subplots.AxesSubplot at 0x7f11e982c390>"
            ]
          },
          "metadata": {
            "tags": []
          },
          "execution_count": 76
        },
        {
          "output_type": "display_data",
          "data": {
            "image/png": "[encoded data removed]",
            "text/plain": [
              "<Figure size 1080x720 with 1 Axes>"
            ]
          },
          "metadata": {
            "tags": []
          }
        }
      ]
    },
    {
      "cell_type": "code",
      "metadata": {
        "colab": {
          "base_uri": "https://localhost:8080/",
          "height": 670
        },
        "id": "OogP1jN41VoD",
        "outputId": "f336fd23-b0e1-42e3-b412-09e4b5d19870"
      },
      "source": [
        "\n",
        "sns.set(rc={'figure.figsize':(15,10)})\n",
        "xt, _ = stats.boxcox(train[\"px_height\"]+1e-10 )\n",
        "sns.distplot(xt)\n"
      ],
      "execution_count": null,
      "outputs": [
        {
          "output_type": "stream",
          "text": [
            "/usr/local/lib/python3.7/dist-packages/seaborn/distributions.py:2557: FutureWarning: `distplot` is a deprecated function and will be removed in a future version. Please adapt your code to use either `displot` (a figure-level function with similar flexibility) or `histplot` (an axes-level function for histograms).\n",
            "  warnings.warn(msg, FutureWarning)\n"
          ],
          "name": "stderr"
        },
        {
          "output_type": "execute_result",
          "data": {
            "text/plain": [
              "<matplotlib.axes._subplots.AxesSubplot at 0x7f80bb257dd0>"
            ]
          },
          "metadata": {
            "tags": []
          },
          "execution_count": 26
        },
        {
          "output_type": "display_data",
          "data": {
            "image/png": "[encoded data removed]",
            "text/plain": [
              "<Figure size 1080x720 with 1 Axes>"
            ]
          },
          "metadata": {
            "tags": []
          }
        }
      ]
    },
    {
      "cell_type": "code",
      "metadata": {
        "colab": {
          "base_uri": "https://localhost:8080/"
        },
        "id": "TiCi0i50VbYA",
        "outputId": "878949a4-4375-4752-ce5e-2db77f1910e8"
      },
      "source": [
        "\n",
        "train_3 = train.copy()\n",
        "xt, _ = stats.boxcox(train[\"px_height\"]+1e-10 )\n",
        "train_3['px_height'] = xt\n",
        "\n",
        "\n",
        "# split train and validation\n",
        "X_train, X_val, y_train, y_val = train_test_split(train_3.drop(columns=['price_range']), train_3['price_range'], train_size = 0.8, stratify=train_3['price_range'], random_state=42)\n",
        "\n",
        "# Scale X\n",
        "scaler = StandardScaler()\n",
        "scaler.fit(X_train)\n",
        "X_train = pd.DataFrame(scaler.transform(X_train), columns=X_train.columns)\n",
        "X_val = pd.DataFrame(scaler.transform(X_val), columns=X_train.columns)\n",
        "\n",
        "# SVM\n",
        "clf = svm.SVC(kernel='linear')\n",
        "clf.fit(X_train, y_train)\n",
        "y_val_pred = clf.predict(X_val)\n",
        "\n",
        "# Results\n",
        "print(metrics.classification_report(y_val, y_val_pred))"
      ],
      "execution_count": null,
      "outputs": [
        {
          "output_type": "stream",
          "text": [
            "              precision    recall  f1-score   support\n",
            "\n",
            "           0       0.98      0.97      0.97       100\n",
            "           1       0.94      0.94      0.94       100\n",
            "           2       0.94      0.92      0.93       100\n",
            "           3       0.95      0.98      0.97       100\n",
            "\n",
            "    accuracy                           0.95       400\n",
            "   macro avg       0.95      0.95      0.95       400\n",
            "weighted avg       0.95      0.95      0.95       400\n",
            "\n"
          ],
          "name": "stdout"
        }
      ]
    },
    {
      "cell_type": "markdown",
      "metadata": {
        "id": "9Eu7bB_Fx1fr"
      },
      "source": [
        "#### d"
      ]
    },
    {
      "cell_type": "code",
      "metadata": {
        "id": "ogT1XLXjsUqS",
        "colab": {
          "base_uri": "https://localhost:8080/"
        },
        "outputId": "eada1683-dc15-4621-af97-be874fdb8a6c"
      },
      "source": [
        "# 1 \n",
        "\n",
        "\n",
        "# X_train['sc_area'] = X_train['sc_h']* X_train['sc_w']\n",
        "# X_val['sc_area'] = X_val['sc_h']* X_val['sc_w']\n",
        "\n",
        "train_new = train.copy()\n",
        "train_new['sc_area'] = train_new['sc_h']* train_new['sc_w']\n",
        "train_new = train_new.drop(columns=['sc_h', 'sc_w'])\n",
        "\n",
        "\n",
        "# split train and validation\n",
        "X_train, X_val, y_train, y_val = train_test_split(train_new.drop(columns=['price_range']), train_new['price_range'], train_size = 0.8,\n",
        "                                                  stratify=train_new['price_range'], random_state=42)\n",
        "\n",
        "# Scale X\n",
        "scaler = StandardScaler()\n",
        "scaler.fit(X_train)\n",
        "X_train = pd.DataFrame(scaler.transform(X_train), columns=X_train.columns)\n",
        "X_val = pd.DataFrame(scaler.transform(X_val), columns=X_train.columns)\n",
        "\n",
        "# SVM\n",
        "clf = svm.SVC(kernel='linear')\n",
        "clf.fit(X_train, y_train)\n",
        "y_val_pred = clf.predict(X_val)\n",
        "\n",
        "# Results\n",
        "print(metrics.classification_report(y_val, y_val_pred))"
      ],
      "execution_count": null,
      "outputs": [
        {
          "output_type": "stream",
          "text": [
            "              precision    recall  f1-score   support\n",
            "\n",
            "           0       0.99      0.97      0.98       100\n",
            "           1       0.95      0.95      0.95       100\n",
            "           2       0.94      0.94      0.94       100\n",
            "           3       0.96      0.98      0.97       100\n",
            "\n",
            "    accuracy                           0.96       400\n",
            "   macro avg       0.96      0.96      0.96       400\n",
            "weighted avg       0.96      0.96      0.96       400\n",
            "\n"
          ],
          "name": "stdout"
        }
      ]
    },
    {
      "cell_type": "code",
      "metadata": {
        "id": "pJ1JYxHlvJvB",
        "colab": {
          "base_uri": "https://localhost:8080/"
        },
        "outputId": "a18b0d56-ca6e-4394-a98f-2b3e6391b1f4"
      },
      "source": [
        "#2 \n",
        "\n",
        "# df['sc_area'] = df['sc_h']* df['sc_w']\n",
        "# df['m_vol'] = df['sc_h']* df['sc_w']* df['m_dep']\n",
        "\n",
        "\n",
        "train_new = train.copy()\n",
        "train_new['m_vol'] = train_new['sc_h']* train_new['sc_w']* train_new['m_dep']\n",
        "train_new = train_new.drop(columns=['sc_h', 'sc_w','m_dep'])\n",
        "\n",
        "\n",
        "# split train and validation\n",
        "X_train, X_val, y_train, y_val = train_test_split(train_new.drop(columns=['price_range']), train_new['price_range'], train_size = 0.8,\n",
        "                                                  stratify=train_new['price_range'], random_state=42)\n",
        "\n",
        "# Scale X\n",
        "scaler = StandardScaler()\n",
        "scaler.fit(X_train)\n",
        "X_train = pd.DataFrame(scaler.transform(X_train), columns=X_train.columns)\n",
        "X_val = pd.DataFrame(scaler.transform(X_val), columns=X_train.columns)\n",
        "\n",
        "# SVM\n",
        "clf = svm.SVC(kernel='linear')\n",
        "clf.fit(X_train, y_train)\n",
        "y_val_pred = clf.predict(X_val)\n",
        "\n",
        "# Results\n",
        "print(metrics.classification_report(y_val, y_val_pred))"
      ],
      "execution_count": null,
      "outputs": [
        {
          "output_type": "stream",
          "text": [
            "              precision    recall  f1-score   support\n",
            "\n",
            "           0       0.99      0.98      0.98       100\n",
            "           1       0.95      0.95      0.95       100\n",
            "           2       0.94      0.93      0.93       100\n",
            "           3       0.96      0.98      0.97       100\n",
            "\n",
            "    accuracy                           0.96       400\n",
            "   macro avg       0.96      0.96      0.96       400\n",
            "weighted avg       0.96      0.96      0.96       400\n",
            "\n"
          ],
          "name": "stdout"
        }
      ]
    },
    {
      "cell_type": "code",
      "metadata": {
        "colab": {
          "base_uri": "https://localhost:8080/"
        },
        "id": "ec-JrMuQRIrg",
        "outputId": "bd5d1f65-b313-4c0b-c510-90f3e6a2f508"
      },
      "source": [
        "# Apply both features\n",
        "train_new = train.copy()\n",
        "train_new['m_vol'] = train_new['sc_h']* train_new['sc_w']* train_new['m_dep']\n",
        "train_new['sc_area'] = train_new['sc_h']* train_new['sc_w']\n",
        "#train_new = train_new.drop(columns=['sc_h', 'sc_w','m_dep'])\n",
        "\n",
        "\n",
        "# split train and validation\n",
        "X_train, X_val, y_train, y_val = train_test_split(train_new.drop(columns=['price_range']), train_new['price_range'], train_size = 0.8,\n",
        "                                                  stratify=train_new['price_range'], random_state=42)\n",
        "\n",
        "# Scale X\n",
        "scaler = StandardScaler()\n",
        "scaler.fit(X_train)\n",
        "X_train = pd.DataFrame(scaler.transform(X_train), columns=X_train.columns)\n",
        "X_val = pd.DataFrame(scaler.transform(X_val), columns=X_train.columns)\n",
        "\n",
        "# SVM\n",
        "clf = svm.SVC(kernel='linear')\n",
        "clf.fit(X_train, y_train)\n",
        "y_val_pred = clf.predict(X_val)\n",
        "\n",
        "# Results\n",
        "print(metrics.classification_report(y_val, y_val_pred))"
      ],
      "execution_count": null,
      "outputs": [
        {
          "output_type": "stream",
          "text": [
            "              precision    recall  f1-score   support\n",
            "\n",
            "           0       0.99      0.97      0.98       100\n",
            "           1       0.96      0.95      0.95       100\n",
            "           2       0.95      0.94      0.94       100\n",
            "           3       0.95      0.99      0.97       100\n",
            "\n",
            "    accuracy                           0.96       400\n",
            "   macro avg       0.96      0.96      0.96       400\n",
            "weighted avg       0.96      0.96      0.96       400\n",
            "\n"
          ],
          "name": "stdout"
        }
      ]
    },
    {
      "cell_type": "code",
      "metadata": {
        "colab": {
          "base_uri": "https://localhost:8080/"
        },
        "id": "8lIiIfshRgy8",
        "outputId": "2d20b326-6df0-4210-c400-62536a5b791c"
      },
      "source": [
        "train_new.info()"
      ],
      "execution_count": null,
      "outputs": [
        {
          "output_type": "stream",
          "text": [
            "<class 'pandas.core.frame.DataFrame'>\n",
            "RangeIndex: 2000 entries, 0 to 1999\n",
            "Data columns (total 20 columns):\n",
            " #   Column         Non-Null Count  Dtype  \n",
            "---  ------         --------------  -----  \n",
            " 0   battery_power  2000 non-null   int64  \n",
            " 1   blue           2000 non-null   int64  \n",
            " 2   clock_speed    2000 non-null   float64\n",
            " 3   dual_sim       2000 non-null   int64  \n",
            " 4   fc             2000 non-null   int64  \n",
            " 5   four_g         2000 non-null   int64  \n",
            " 6   int_memory     2000 non-null   int64  \n",
            " 7   mobile_wt      2000 non-null   int64  \n",
            " 8   n_cores        2000 non-null   int64  \n",
            " 9   pc             2000 non-null   int64  \n",
            " 10  px_height      2000 non-null   int64  \n",
            " 11  px_width       2000 non-null   int64  \n",
            " 12  ram            2000 non-null   int64  \n",
            " 13  talk_time      2000 non-null   int64  \n",
            " 14  three_g        2000 non-null   int64  \n",
            " 15  touch_screen   2000 non-null   int64  \n",
            " 16  wifi           2000 non-null   int64  \n",
            " 17  price_range    2000 non-null   int64  \n",
            " 18  m_vol          2000 non-null   float64\n",
            " 19  sc_area        2000 non-null   int64  \n",
            "dtypes: float64(2), int64(18)\n",
            "memory usage: 312.6 KB\n"
          ],
          "name": "stdout"
        }
      ]
    },
    {
      "cell_type": "markdown",
      "metadata": {
        "id": "Fn0Plwmxxu72"
      },
      "source": [
        "### Expriments with Feature enginearing"
      ]
    },
    {
      "cell_type": "code",
      "metadata": {
        "id": "YiFn7aiqyBIg",
        "colab": {
          "base_uri": "https://localhost:8080/"
        },
        "outputId": "61bf1ce5-5c01-4aa9-d9b4-db1e30723861"
      },
      "source": [
        "train_all = train.copy()\n",
        "\n",
        "bins = [0,500,1000,1500,2000]\n",
        "labels =[1,2,3,4]\n",
        "train_all['bin'] = pd.cut(train_all['battery_power'], bins=bins,labels=False)\n",
        "train_all.drop(columns=['battery_power'])\n",
        "\n",
        "cat_cols_names = ['blue','dual_sim', 'four_g', 'three_g', 'touch_screen', 'wifi']\n",
        "\n",
        "for column in cat_cols_names:\n",
        "    train_all = onehot_encode(train_all, column)\n",
        "\n",
        "xt, _ = stats.boxcox(train[\"px_height\"]+1e-10 )\n",
        "train_all['px_height'] = xt\n",
        "\n",
        "train_all['m_vol'] = train_all['sc_h']* train_all['sc_w']* train_all['m_dep']\n",
        "train_all['sc_area'] = train_all['sc_h']* train_all['sc_w']\n",
        "\n",
        "# split train and validation\n",
        "X_train, X_val, y_train, y_val = train_test_split(train_all.drop(columns=['price_range']), train_all['price_range'], train_size = 0.8,\n",
        "                                                  stratify=train_all['price_range'], random_state=42)\n",
        "\n",
        "# Scale X\n",
        "scaler = StandardScaler()\n",
        "scaler.fit(X_train)\n",
        "X_train = pd.DataFrame(scaler.transform(X_train), columns=X_train.columns)\n",
        "X_val = pd.DataFrame(scaler.transform(X_val), columns=X_train.columns)\n",
        "\n",
        "# SVM\n",
        "clf = svm.SVC(kernel='linear')\n",
        "clf.fit(X_train, y_train)\n",
        "y_val_pred = clf.predict(X_val)\n",
        "\n",
        "# Results\n",
        "print(metrics.classification_report(y_val, y_val_pred))"
      ],
      "execution_count": null,
      "outputs": [
        {
          "output_type": "stream",
          "text": [
            "              precision    recall  f1-score   support\n",
            "\n",
            "           0       0.98      0.97      0.97       100\n",
            "           1       0.93      0.95      0.94       100\n",
            "           2       0.94      0.90      0.92       100\n",
            "           3       0.94      0.97      0.96       100\n",
            "\n",
            "    accuracy                           0.95       400\n",
            "   macro avg       0.95      0.95      0.95       400\n",
            "weighted avg       0.95      0.95      0.95       400\n",
            "\n"
          ],
          "name": "stdout"
        }
      ]
    },
    {
      "cell_type": "markdown",
      "metadata": {
        "id": "YI8rrDogEokk"
      },
      "source": [
        "## Descision Tree\n",
        "\n"
      ]
    },
    {
      "cell_type": "code",
      "metadata": {
        "id": "LNE5o1i_ErD4",
        "colab": {
          "base_uri": "https://localhost:8080/"
        },
        "outputId": "f159f31a-70c3-4bfc-8f97-c76f8cc58a2e"
      },
      "source": [
        "\n",
        "tr_clf = DecisionTreeClassifier(random_state=42)\n",
        "\n",
        "tr_clf.fit(X_train, y_train)\n",
        "\n",
        "y_val_pred = tr_clf.predict(X_val)\n",
        "\n",
        "print(metrics.classification_report(y_val, y_val_pred))"
      ],
      "execution_count": null,
      "outputs": [
        {
          "output_type": "stream",
          "text": [
            "              precision    recall  f1-score   support\n",
            "\n",
            "           0       0.88      0.92      0.90       100\n",
            "           1       0.78      0.74      0.76       100\n",
            "           2       0.75      0.80      0.77       100\n",
            "           3       0.92      0.86      0.89       100\n",
            "\n",
            "    accuracy                           0.83       400\n",
            "   macro avg       0.83      0.83      0.83       400\n",
            "weighted avg       0.83      0.83      0.83       400\n",
            "\n"
          ],
          "name": "stdout"
        }
      ]
    },
    {
      "cell_type": "markdown",
      "metadata": {
        "id": "9CSvIKY7FiHl"
      },
      "source": [
        "### Expriments with DT"
      ]
    },
    {
      "cell_type": "code",
      "metadata": {
        "id": "P5kxBIFcFbOY",
        "colab": {
          "base_uri": "https://localhost:8080/",
          "height": 412
        },
        "outputId": "78032206-2e46-49b1-adee-51d85eb038c2"
      },
      "source": [
        "\n",
        "t = np.arange(1,20)\n",
        "accs = []\n",
        "for i in t:\n",
        "  tr_clf = DecisionTreeClassifier(max_depth=i, random_state=42)\n",
        "  tr_clf.fit(X_train, y_train)\n",
        "  y_val_pred = tr_clf.predict(X_val)\n",
        "  accs.append(metrics.accuracy_score(y_val, y_val_pred))\n",
        "\n",
        "best = max(accs)\n",
        "best_idx  = accs.index(best)\n",
        "print('best accuracy {:.2f} with max_depth = {}'.format(best, t[best_idx]))\n",
        "\n",
        "\n",
        "plt.figure(figsize=(10,6))\n",
        "plt.plot(t, accs)\n",
        "plt.title('best accuracy {:.2f} with max_depth = {}'.format(best, t[best_idx]))\n",
        "plt.xticks(t)\n",
        "plt.show()"
      ],
      "execution_count": 100,
      "outputs": [
        {
          "output_type": "stream",
          "text": [
            "best accuracy 0.84 with max_depth = 10\n"
          ],
          "name": "stdout"
        },
        {
          "output_type": "display_data",
          "data": {
            "image/png": "[encoded data removed]",
            "text/plain": [
              "<Figure size 720x432 with 1 Axes>"
            ]
          },
          "metadata": {
            "tags": []
          }
        }
      ]
    },
    {
      "cell_type": "code",
      "metadata": {
        "colab": {
          "base_uri": "https://localhost:8080/",
          "height": 412
        },
        "id": "Y0XWSWtc19XB",
        "outputId": "89385723-1efb-41a7-f251-9d4a39dadc37"
      },
      "source": [
        "\n",
        "t = np.arange(2,100)\n",
        "accs = []\n",
        "for i in t:\n",
        "  tr_clf = DecisionTreeClassifier(min_samples_split=i,random_state=42)\n",
        "  tr_clf.fit(X_train, y_train)\n",
        "  y_val_pred = tr_clf.predict(X_val)\n",
        "  accs.append(metrics.accuracy_score(y_val, y_val_pred))\n",
        "\n",
        "best = max(accs)\n",
        "best_idx  = accs.index(best)\n",
        "print('best accuracy {:.2f} with min_samples_split = {}'.format(best, t[best_idx]))\n",
        "\n",
        "\n",
        "plt.figure(figsize=(10,6))\n",
        "plt.plot(t, accs)\n",
        "plt.xticks(t[0::5])\n",
        "plt.title('best accuracy {:.2f} with min_samples_split = {}'.format(best, t[best_idx]))\n",
        "plt.show()"
      ],
      "execution_count": 102,
      "outputs": [
        {
          "output_type": "stream",
          "text": [
            "best accuracy 0.86 with min_samples_split = 6\n"
          ],
          "name": "stdout"
        },
        {
          "output_type": "display_data",
          "data": {
            "image/png": "[encoded data removed]",
            "text/plain": [
              "<Figure size 720x432 with 1 Axes>"
            ]
          },
          "metadata": {
            "tags": []
          }
        }
      ]
    },
    {
      "cell_type": "code",
      "metadata": {
        "colab": {
          "base_uri": "https://localhost:8080/",
          "height": 412
        },
        "id": "UzAPZuB42swI",
        "outputId": "967b8f7d-3a29-40bc-86b0-54c93a26647a"
      },
      "source": [
        "\n",
        "t = np.arange(2,100)\n",
        "accs = []\n",
        "for i in t:\n",
        "  tr_clf = DecisionTreeClassifier(min_samples_leaf=i,random_state=42)\n",
        "  tr_clf.fit(X_train, y_train)\n",
        "  y_val_pred = tr_clf.predict(X_val)\n",
        "  accs.append(metrics.accuracy_score(y_val, y_val_pred))\n",
        "\n",
        "best = max(accs)\n",
        "best_idx  = accs.index(best)\n",
        "print('best accuracy {:.2f} with min_samples_leaf = {}'.format(best, t[best_idx]))\n",
        "\n",
        "plt.figure(figsize=(10,6))\n",
        "plt.plot(t, accs)\n",
        "plt.title('best accuracy {:.2f} with min_samples_leaf = {}'.format(best, t[best_idx]))\n",
        "plt.xticks(t[0::10])\n",
        "plt.show()"
      ],
      "execution_count": 103,
      "outputs": [
        {
          "output_type": "stream",
          "text": [
            "best accuracy 0.85 with min_samples_leaf = 2\n"
          ],
          "name": "stdout"
        },
        {
          "output_type": "display_data",
          "data": {
            "image/png": "[encoded data removed]",
            "text/plain": [
              "<Figure size 720x432 with 1 Axes>"
            ]
          },
          "metadata": {
            "tags": []
          }
        }
      ]
    },
    {
      "cell_type": "code",
      "metadata": {
        "colab": {
          "base_uri": "https://localhost:8080/",
          "height": 412
        },
        "id": "8UYlNcPg3Io0",
        "outputId": "d8a51e4f-adec-4859-e4d4-f2f9eebd5a0f"
      },
      "source": [
        "\n",
        "t = np.arange(2,100)\n",
        "accs = []\n",
        "for i in t:\n",
        "  tr_clf = DecisionTreeClassifier(max_leaf_nodes=i,random_state=42)\n",
        "  tr_clf.fit(X_train, y_train)\n",
        "  y_val_pred = tr_clf.predict(X_val)\n",
        "  accs.append(metrics.accuracy_score(y_val, y_val_pred))\n",
        "\n",
        "best = max(accs)\n",
        "best_idx  = accs.index(best)\n",
        "print('best accuracy {:.2f} with max_leaf_nodes = {}'.format(best, t[best_idx]))\n",
        "\n",
        "plt.figure(figsize=(10,6))\n",
        "plt.plot(t, accs)\n",
        "plt.title('best accuracy {:.2f} with max_leaf_nodes = {}'.format(best, t[best_idx]))\n",
        "plt.xticks(t[0::5])\n",
        "plt.show()"
      ],
      "execution_count": 104,
      "outputs": [
        {
          "output_type": "stream",
          "text": [
            "best accuracy 0.85 with max_leaf_nodes = 54\n"
          ],
          "name": "stdout"
        },
        {
          "output_type": "display_data",
          "data": {
            "image/png": "[encoded data removed]",
            "text/plain": [
              "<Figure size 720x432 with 1 Axes>"
            ]
          },
          "metadata": {
            "tags": []
          }
        }
      ]
    },
    {
      "cell_type": "markdown",
      "metadata": {
        "id": "fH2DWDL86Ing"
      },
      "source": [
        "## Prunning"
      ]
    },
    {
      "cell_type": "markdown",
      "metadata": {
        "id": "uLhU_uBYQzhP"
      },
      "source": [
        "https://scikit-learn.org/stable/auto_examples/tree/plot_cost_complexity_pruning.html"
      ]
    },
    {
      "cell_type": "code",
      "metadata": {
        "id": "W1vV-Qis6L-X"
      },
      "source": [
        "clf = DecisionTreeClassifier(random_state=0)\n",
        "path = clf.cost_complexity_pruning_path(X_train, y_train)\n",
        "ccp_alphas, impurities = path.ccp_alphas, path.impurities"
      ],
      "execution_count": 105,
      "outputs": []
    },
    {
      "cell_type": "code",
      "metadata": {
        "colab": {
          "base_uri": "https://localhost:8080/",
          "height": 646
        },
        "id": "JOTdjwyLPGKe",
        "outputId": "a832dfb7-b74f-49f8-9d14-7642f2e73d6f"
      },
      "source": [
        "fig, ax = plt.subplots()\n",
        "ax.plot(ccp_alphas[:-1], impurities[:-1], marker='o', drawstyle=\"steps-post\")\n",
        "ax.set_xlabel(\"effective alpha\")\n",
        "ax.set_ylabel(\"total impurity of leaves\")\n",
        "ax.set_title(\"Total Impurity vs effective alpha for training set\")"
      ],
      "execution_count": 106,
      "outputs": [
        {
          "output_type": "execute_result",
          "data": {
            "text/plain": [
              "Text(0.5, 1.0, 'Total Impurity vs effective alpha for training set')"
            ]
          },
          "metadata": {
            "tags": []
          },
          "execution_count": 106
        },
        {
          "output_type": "display_data",
          "data": {
            "image/png": "[encoded data removed]",
            "text/plain": [
              "<Figure size 1080x720 with 1 Axes>"
            ]
          },
          "metadata": {
            "tags": []
          }
        }
      ]
    },
    {
      "cell_type": "code",
      "metadata": {
        "colab": {
          "base_uri": "https://localhost:8080/"
        },
        "id": "k1gpaDMXP_bX",
        "outputId": "cee5562a-661c-4f15-ec43-185dcfd74397"
      },
      "source": [
        "clfs = []\n",
        "for ccp_alpha in ccp_alphas:\n",
        "    clf = DecisionTreeClassifier(random_state=0, ccp_alpha=ccp_alpha)\n",
        "    clf.fit(X_train, y_train)\n",
        "    clfs.append(clf)\n",
        "print(\"Number of nodes in the last tree is: {} with ccp_alpha: {}\".format(\n",
        "      clfs[-1].tree_.node_count, ccp_alphas[-1]))"
      ],
      "execution_count": 107,
      "outputs": [
        {
          "output_type": "stream",
          "text": [
            "Number of nodes in the last tree is: 1 with ccp_alpha: 0.18256003721344005\n"
          ],
          "name": "stdout"
        }
      ]
    },
    {
      "cell_type": "code",
      "metadata": {
        "colab": {
          "base_uri": "https://localhost:8080/",
          "height": 725
        },
        "id": "6xJe_ADCQI4K",
        "outputId": "b0d67d1e-760a-4961-9acd-43d8a48dc9d3"
      },
      "source": [
        "clfs = clfs[:-1]\n",
        "ccp_alphas = ccp_alphas[:-1]\n",
        "\n",
        "node_counts = [clf.tree_.node_count for clf in clfs]\n",
        "depth = [clf.tree_.max_depth for clf in clfs]\n",
        "fig, ax = plt.subplots(2, 1)\n",
        "ax[0].plot(ccp_alphas, node_counts, marker='o', drawstyle=\"steps-post\")\n",
        "ax[0].set_xlabel(\"alpha\")\n",
        "ax[0].set_ylabel(\"number of nodes\")\n",
        "ax[0].set_title(\"Number of nodes vs alpha\")\n",
        "ax[1].plot(ccp_alphas, depth, marker='o', drawstyle=\"steps-post\")\n",
        "ax[1].set_xlabel(\"alpha\")\n",
        "ax[1].set_ylabel(\"depth of tree\")\n",
        "ax[1].set_title(\"Depth vs alpha\")\n",
        "fig.tight_layout()"
      ],
      "execution_count": 108,
      "outputs": [
        {
          "output_type": "display_data",
          "data": {
            "image/png": "[encoded data removed]",
            "text/plain": [
              "<Figure size 1080x720 with 2 Axes>"
            ]
          },
          "metadata": {
            "tags": []
          }
        }
      ]
    },
    {
      "cell_type": "code",
      "metadata": {
        "colab": {
          "base_uri": "https://localhost:8080/",
          "height": 627
        },
        "id": "UDy7JwE1QPaN",
        "outputId": "d3e0e04f-cd60-47cb-fb4e-3f1476d8fd20"
      },
      "source": [
        "train_scores = [clf.score(X_train, y_train) for clf in clfs]\n",
        "val_scores = [clf.score(X_val, y_val) for clf in clfs]\n",
        "\n",
        "fig, ax = plt.subplots()\n",
        "ax.set_xlabel(\"alpha\")\n",
        "ax.set_ylabel(\"accuracy\")\n",
        "ax.set_title(\"Accuracy vs alpha for training and testing sets\")\n",
        "ax.plot(ccp_alphas, train_scores, marker='o', label=\"train\",\n",
        "        drawstyle=\"steps-post\")\n",
        "ax.plot(ccp_alphas, val_scores, marker='o', label=\"validation\",\n",
        "        drawstyle=\"steps-post\")\n",
        "ax.legend()\n",
        "plt.show()"
      ],
      "execution_count": 109,
      "outputs": [
        {
          "output_type": "display_data",
          "data": {
            "image/png": "[encoded data removed]",
            "text/plain": [
              "<Figure size 1080x720 with 1 Axes>"
            ]
          },
          "metadata": {
            "tags": []
          }
        }
      ]
    },
    {
      "cell_type": "markdown",
      "metadata": {
        "id": "BFQ-Y3wQUt27"
      },
      "source": [
        "## Random Forest"
      ]
    },
    {
      "cell_type": "code",
      "metadata": {
        "colab": {
          "base_uri": "https://localhost:8080/"
        },
        "id": "SH61CmGGUzkr",
        "outputId": "f7ebbfe1-26ba-4572-c132-f6df16b1f9a5"
      },
      "source": [
        "\n",
        "\n",
        "rnd_clf = RandomForestClassifier(n_estimators=900, max_leaf_nodes=55, n_jobs=-1)\n",
        "rnd_clf.fit(X_train, y_train)\n",
        "y_val_pred = rnd_clf.predict(X_val)\n",
        "print(metrics.classification_report(y_val, y_val_pred))"
      ],
      "execution_count": null,
      "outputs": [
        {
          "output_type": "stream",
          "text": [
            "              precision    recall  f1-score   support\n",
            "\n",
            "           0       0.94      0.96      0.95       100\n",
            "           1       0.79      0.82      0.80       100\n",
            "           2       0.83      0.78      0.80       100\n",
            "           3       0.96      0.96      0.96       100\n",
            "\n",
            "    accuracy                           0.88       400\n",
            "   macro avg       0.88      0.88      0.88       400\n",
            "weighted avg       0.88      0.88      0.88       400\n",
            "\n"
          ],
          "name": "stdout"
        }
      ]
    },
    {
      "cell_type": "code",
      "metadata": {
        "colab": {
          "base_uri": "https://localhost:8080/",
          "height": 287
        },
        "id": "-feoUatO5U0Q",
        "outputId": "51890f5f-b6d8-456c-ba5f-8f6e6ce3cdcf"
      },
      "source": [
        "t = np.arange(1,500,10)\n",
        "accs = []\n",
        "for i in t:\n",
        "  rnd_clf = RandomForestClassifier(n_estimators=i, max_leaf_nodes=55, n_jobs=-1)\n",
        "  rnd_clf.fit(X_train, y_train)\n",
        "  y_val_pred = rnd_clf.predict(X_val)\n",
        "  accs.append(metrics.accuracy_score(y_val, y_val_pred))\n",
        "\n",
        "best = max(accs)\n",
        "best_idx  = accs.index(best)\n",
        "print('best accuracy {:.2f} with n_estimators = {}'.format(best, t[best_idx]))\n",
        "\n",
        "plt.plot(t, accs)\n",
        "plt.xticks(t)\n",
        "plt.show()"
      ],
      "execution_count": null,
      "outputs": [
        {
          "output_type": "stream",
          "text": [
            "best accuracy 0.89 with n_estimators = 281\n"
          ],
          "name": "stdout"
        },
        {
          "output_type": "display_data",
          "data": {
            "image/png": "[encoded data removed]",
            "text/plain": [
              "<Figure size 432x288 with 1 Axes>"
            ]
          },
          "metadata": {
            "tags": [],
            "needs_background": "light"
          }
        }
      ]
    },
    {
      "cell_type": "markdown",
      "metadata": {
        "id": "zC_hG--P5yon"
      },
      "source": [
        "# Bitcoin Data\n"
      ]
    },
    {
      "cell_type": "code",
      "metadata": {
        "id": "TOlgTlZA50-c"
      },
      "source": [
        "btc_train = pd.read_csv('Bitcoin Historical Data - train.csv')\n",
        "btc_test = pd.read_csv('Bitcoin Historical Data - test.csv')"
      ],
      "execution_count": null,
      "outputs": []
    },
    {
      "cell_type": "code",
      "metadata": {
        "colab": {
          "base_uri": "https://localhost:8080/",
          "height": 206
        },
        "id": "jrG3N8rrBOq7",
        "outputId": "29e56168-e98d-4a5a-ed10-7ff4e304e39a"
      },
      "source": [
        "btc_train.head()"
      ],
      "execution_count": null,
      "outputs": [
        {
          "output_type": "execute_result",
          "data": {
            "text/html": [
              "<div>\n",
              "<style scoped>\n",
              "    .dataframe tbody tr th:only-of-type {\n",
              "        vertical-align: middle;\n",
              "    }\n",
              "\n",
              "    .dataframe tbody tr th {\n",
              "        vertical-align: top;\n",
              "    }\n",
              "\n",
              "    .dataframe thead th {\n",
              "        text-align: right;\n",
              "    }\n",
              "</style>\n",
              "<table border=\"1\" class=\"dataframe\">\n",
              "  <thead>\n",
              "    <tr style=\"text-align: right;\">\n",
              "      <th></th>\n",
              "      <th>Date</th>\n",
              "      <th>Price</th>\n",
              "      <th>Open</th>\n",
              "      <th>High</th>\n",
              "      <th>Low</th>\n",
              "      <th>Vol.</th>\n",
              "      <th>Change %</th>\n",
              "    </tr>\n",
              "  </thead>\n",
              "  <tbody>\n",
              "    <tr>\n",
              "      <th>0</th>\n",
              "      <td>Jan 01, 2020</td>\n",
              "      <td>7,199.8</td>\n",
              "      <td>7,196.4</td>\n",
              "      <td>7,259.4</td>\n",
              "      <td>7,180.0</td>\n",
              "      <td>420.28K</td>\n",
              "      <td>0.05%</td>\n",
              "    </tr>\n",
              "    <tr>\n",
              "      <th>1</th>\n",
              "      <td>Dec 31, 2019</td>\n",
              "      <td>7,196.4</td>\n",
              "      <td>7,261.5</td>\n",
              "      <td>7,331.0</td>\n",
              "      <td>7,167.4</td>\n",
              "      <td>586.60K</td>\n",
              "      <td>-0.90%</td>\n",
              "    </tr>\n",
              "    <tr>\n",
              "      <th>2</th>\n",
              "      <td>Dec 30, 2019</td>\n",
              "      <td>7,261.8</td>\n",
              "      <td>7,397.5</td>\n",
              "      <td>7,420.9</td>\n",
              "      <td>7,244.1</td>\n",
              "      <td>606.11K</td>\n",
              "      <td>-1.84%</td>\n",
              "    </tr>\n",
              "    <tr>\n",
              "      <th>3</th>\n",
              "      <td>Dec 29, 2019</td>\n",
              "      <td>7,397.5</td>\n",
              "      <td>7,321.6</td>\n",
              "      <td>7,518.9</td>\n",
              "      <td>7,303.0</td>\n",
              "      <td>611.69K</td>\n",
              "      <td>1.04%</td>\n",
              "    </tr>\n",
              "    <tr>\n",
              "      <th>4</th>\n",
              "      <td>Dec 28, 2019</td>\n",
              "      <td>7,321.5</td>\n",
              "      <td>7,261.9</td>\n",
              "      <td>7,375.9</td>\n",
              "      <td>7,256.5</td>\n",
              "      <td>610.96K</td>\n",
              "      <td>0.82%</td>\n",
              "    </tr>\n",
              "  </tbody>\n",
              "</table>\n",
              "</div>"
            ],
            "text/plain": [
              "           Date    Price     Open     High      Low     Vol. Change %\n",
              "0  Jan 01, 2020  7,199.8  7,196.4  7,259.4  7,180.0  420.28K    0.05%\n",
              "1  Dec 31, 2019  7,196.4  7,261.5  7,331.0  7,167.4  586.60K   -0.90%\n",
              "2  Dec 30, 2019  7,261.8  7,397.5  7,420.9  7,244.1  606.11K   -1.84%\n",
              "3  Dec 29, 2019  7,397.5  7,321.6  7,518.9  7,303.0  611.69K    1.04%\n",
              "4  Dec 28, 2019  7,321.5  7,261.9  7,375.9  7,256.5  610.96K    0.82%"
            ]
          },
          "metadata": {
            "tags": []
          },
          "execution_count": 5
        }
      ]
    },
    {
      "cell_type": "code",
      "metadata": {
        "colab": {
          "base_uri": "https://localhost:8080/"
        },
        "id": "urL4xgciJc-1",
        "outputId": "e9a79907-630f-4878-9dba-a22c69d10748"
      },
      "source": [
        "btc_train.info()"
      ],
      "execution_count": null,
      "outputs": [
        {
          "output_type": "stream",
          "text": [
            "<class 'pandas.core.frame.DataFrame'>\n",
            "RangeIndex: 3455 entries, 0 to 3454\n",
            "Data columns (total 7 columns):\n",
            " #   Column    Non-Null Count  Dtype \n",
            "---  ------    --------------  ----- \n",
            " 0   Date      3455 non-null   object\n",
            " 1   Price     3455 non-null   object\n",
            " 2   Open      3455 non-null   object\n",
            " 3   High      3455 non-null   object\n",
            " 4   Low       3455 non-null   object\n",
            " 5   Vol.      3455 non-null   object\n",
            " 6   Change %  3455 non-null   object\n",
            "dtypes: object(7)\n",
            "memory usage: 189.1+ KB\n"
          ],
          "name": "stdout"
        }
      ]
    },
    {
      "cell_type": "code",
      "metadata": {
        "id": "v4ooYIIbQw-X"
      },
      "source": [
        "from datetime import datetime\n",
        "\n",
        "\n",
        "def mdy_to_ymd(d):\n",
        "    return datetime.strptime(d, '%b %d, %Y').strftime('%Y-%m-%d')\n",
        "\n",
        "\n",
        "def text_to_num(text, bad_data_val = 0):\n",
        "    d = {\n",
        "        'K': 1000,\n",
        "        'M': 1000000,\n",
        "        'B': 1000000000\n",
        "    }\n",
        "    if isinstance(text, (int, float)):\n",
        "      pass\n",
        "\n",
        "    elif text[-1] in d:\n",
        "        # separate out the K, M, or B\n",
        "        num, magnitude = text[:-1], text[-1]\n",
        "        #print(num)\n",
        "        return int(float(num) * d[magnitude])\n",
        "\n",
        "    elif not text[-1] in d:\n",
        "        return bad_data_val\n",
        "    else:\n",
        "\n",
        "        print(text)\n",
        "        return float(text)"
      ],
      "execution_count": null,
      "outputs": []
    },
    {
      "cell_type": "code",
      "metadata": {
        "id": "NS9U0xoeLsmz"
      },
      "source": [
        "\n",
        "btc_train['Date'] = btc_train['Date'].apply(mdy_to_ymd)\n",
        "btc_test['Date'] = btc_test['Date'].apply(mdy_to_ymd)\n",
        "\n",
        "btc_train['Date'] = pd.to_datetime(btc_train['Date'], format= '%Y-%m-%d', errors='coerce')\n",
        "btc_test['Date'] = pd.to_datetime(btc_test['Date'], format= '%Y-%m-%d', errors='coerce')\n",
        "\n",
        "btc_train.replace(',','', regex=True, inplace=True)\n",
        "btc_test.replace(',','', regex=True, inplace=True)\n",
        "\n",
        "btc_train.replace('%','', regex=True, inplace=True)\n",
        "btc_test.replace('%','', regex=True, inplace=True)\n",
        "\n",
        "btc_train['Vol.'] = btc_train['Vol.'].apply(text_to_num)\n",
        "btc_test['Vol.'] = btc_test['Vol.'].apply(text_to_num)\n",
        "\n",
        "cols = btc_train.columns.to_list()\n",
        "cols.remove('Date')\n",
        "for c in cols :\n",
        "  btc_train[c] = btc_train[c].apply(pd.to_numeric,errors='coerce')\n",
        "  btc_test[c] = btc_test[c].apply(pd.to_numeric,errors='coerce')\n"
      ],
      "execution_count": null,
      "outputs": []
    },
    {
      "cell_type": "code",
      "metadata": {
        "colab": {
          "base_uri": "https://localhost:8080/",
          "height": 206
        },
        "id": "-FPv7tP5DJ4n",
        "outputId": "69830912-f4b9-428b-f943-9426df31aa78"
      },
      "source": [
        "btc_train.head()"
      ],
      "execution_count": null,
      "outputs": [
        {
          "output_type": "execute_result",
          "data": {
            "text/html": [
              "<div>\n",
              "<style scoped>\n",
              "    .dataframe tbody tr th:only-of-type {\n",
              "        vertical-align: middle;\n",
              "    }\n",
              "\n",
              "    .dataframe tbody tr th {\n",
              "        vertical-align: top;\n",
              "    }\n",
              "\n",
              "    .dataframe thead th {\n",
              "        text-align: right;\n",
              "    }\n",
              "</style>\n",
              "<table border=\"1\" class=\"dataframe\">\n",
              "  <thead>\n",
              "    <tr style=\"text-align: right;\">\n",
              "      <th></th>\n",
              "      <th>Date</th>\n",
              "      <th>Price</th>\n",
              "      <th>Open</th>\n",
              "      <th>High</th>\n",
              "      <th>Low</th>\n",
              "      <th>Vol.</th>\n",
              "      <th>Change %</th>\n",
              "    </tr>\n",
              "  </thead>\n",
              "  <tbody>\n",
              "    <tr>\n",
              "      <th>0</th>\n",
              "      <td>2020-01-01</td>\n",
              "      <td>7199.8</td>\n",
              "      <td>7196.4</td>\n",
              "      <td>7259.4</td>\n",
              "      <td>7180.0</td>\n",
              "      <td>420280</td>\n",
              "      <td>0.05</td>\n",
              "    </tr>\n",
              "    <tr>\n",
              "      <th>1</th>\n",
              "      <td>2019-12-31</td>\n",
              "      <td>7196.4</td>\n",
              "      <td>7261.5</td>\n",
              "      <td>7331.0</td>\n",
              "      <td>7167.4</td>\n",
              "      <td>586600</td>\n",
              "      <td>-0.90</td>\n",
              "    </tr>\n",
              "    <tr>\n",
              "      <th>2</th>\n",
              "      <td>2019-12-30</td>\n",
              "      <td>7261.8</td>\n",
              "      <td>7397.5</td>\n",
              "      <td>7420.9</td>\n",
              "      <td>7244.1</td>\n",
              "      <td>606110</td>\n",
              "      <td>-1.84</td>\n",
              "    </tr>\n",
              "    <tr>\n",
              "      <th>3</th>\n",
              "      <td>2019-12-29</td>\n",
              "      <td>7397.5</td>\n",
              "      <td>7321.6</td>\n",
              "      <td>7518.9</td>\n",
              "      <td>7303.0</td>\n",
              "      <td>611690</td>\n",
              "      <td>1.04</td>\n",
              "    </tr>\n",
              "    <tr>\n",
              "      <th>4</th>\n",
              "      <td>2019-12-28</td>\n",
              "      <td>7321.5</td>\n",
              "      <td>7261.9</td>\n",
              "      <td>7375.9</td>\n",
              "      <td>7256.5</td>\n",
              "      <td>610960</td>\n",
              "      <td>0.82</td>\n",
              "    </tr>\n",
              "  </tbody>\n",
              "</table>\n",
              "</div>"
            ],
            "text/plain": [
              "        Date   Price    Open    High     Low    Vol.  Change %\n",
              "0 2020-01-01  7199.8  7196.4  7259.4  7180.0  420280      0.05\n",
              "1 2019-12-31  7196.4  7261.5  7331.0  7167.4  586600     -0.90\n",
              "2 2019-12-30  7261.8  7397.5  7420.9  7244.1  606110     -1.84\n",
              "3 2019-12-29  7397.5  7321.6  7518.9  7303.0  611690      1.04\n",
              "4 2019-12-28  7321.5  7261.9  7375.9  7256.5  610960      0.82"
            ]
          },
          "metadata": {
            "tags": []
          },
          "execution_count": 9
        }
      ]
    },
    {
      "cell_type": "code",
      "metadata": {
        "colab": {
          "base_uri": "https://localhost:8080/"
        },
        "id": "E_8MGeN4OGHy",
        "outputId": "2e725568-f222-4a03-a276-f270807c9712"
      },
      "source": [
        "btc_train.info()"
      ],
      "execution_count": null,
      "outputs": [
        {
          "output_type": "stream",
          "text": [
            "<class 'pandas.core.frame.DataFrame'>\n",
            "RangeIndex: 3455 entries, 0 to 3454\n",
            "Data columns (total 7 columns):\n",
            " #   Column    Non-Null Count  Dtype         \n",
            "---  ------    --------------  -----         \n",
            " 0   Date      3455 non-null   datetime64[ns]\n",
            " 1   Price     3455 non-null   float64       \n",
            " 2   Open      3455 non-null   float64       \n",
            " 3   High      3455 non-null   float64       \n",
            " 4   Low       3455 non-null   float64       \n",
            " 5   Vol.      3455 non-null   int64         \n",
            " 6   Change %  3455 non-null   float64       \n",
            "dtypes: datetime64[ns](1), float64(5), int64(1)\n",
            "memory usage: 189.1 KB\n"
          ],
          "name": "stdout"
        }
      ]
    },
    {
      "cell_type": "code",
      "metadata": {
        "colab": {
          "base_uri": "https://localhost:8080/",
          "height": 513
        },
        "id": "ruupm8avmDBd",
        "outputId": "4e1aa842-c2de-4f4d-fadb-9a0401726e4c"
      },
      "source": [
        "import matplotlib.dates as mdates # Formatting dates\n",
        "import datetime\n",
        "# Plot histograms\n",
        "df_plot = btc_train.copy()\n",
        "df_plot.set_index('Date')\n",
        "df_plot = df_plot.drop(columns=['Date'])\n",
        "list_length = df_plot.shape[1]\n",
        "ncols = 2\n",
        "nrows = int(round(list_length / ncols, 0))\n",
        "\n",
        "\n",
        "fig, ax = plt.subplots(nrows=nrows, ncols=ncols, sharex=True, figsize=(14, 7))\n",
        "fig.subplots_adjust(hspace=0.5, wspace=0.5)\n",
        "for i in range(0, list_length):\n",
        "        ax = plt.subplot(nrows,ncols,i+1)\n",
        "        sns.lineplot(data = df_plot.iloc[:, i], ax=ax)\n",
        "        ax.set_title(df_plot.columns[i])\n",
        "        ax.tick_params(axis=\"x\", rotation=30, labelsize=10, length=0)\n",
        "        #ax.xaxis.set_major_locator(mdates.AutoDateLocator())\n",
        "fig.tight_layout()\n",
        "plt.show()"
      ],
      "execution_count": null,
      "outputs": [
        {
          "output_type": "display_data",
          "data": {
            "image/png": "[encoded data removed]",
            "text/plain": [
              "<Figure size 1008x504 with 6 Axes>"
            ]
          },
          "metadata": {
            "tags": [],
            "needs_background": "light"
          }
        }
      ]
    },
    {
      "cell_type": "markdown",
      "metadata": {
        "id": "33C6MFP0xmbY"
      },
      "source": [
        "# seq"
      ]
    },
    {
      "cell_type": "code",
      "metadata": {
        "colab": {
          "base_uri": "https://localhost:8080/",
          "height": 206
        },
        "id": "udYjt0FtxTUI",
        "outputId": "90a36640-178e-47e7-e38a-34179eda2328"
      },
      "source": [
        "train_seq = btc_train.sort_values(by=['Date']).copy()\n",
        "train_seq.drop(columns=['Date'], inplace=True)\n",
        "# We safe a copy of the dates index, before we need to reset it to numbers\n",
        "date_index = train_seq.index\n",
        "\n",
        "# Adding Month and Year in separate columns\n",
        "# d = pd.to_datetime(train_df.index)\n",
        "# train_df['Month'] = d.strftime(\"%m\")\n",
        "# train_df['Year'] = d.strftime(\"%Y\") \n",
        "\n",
        "# We reset the index, so we can convert the date-index to a number-index\n",
        "train_seq = train_seq.reset_index(drop=True).copy()\n",
        "train_seq.head(5)"
      ],
      "execution_count": null,
      "outputs": [
        {
          "output_type": "execute_result",
          "data": {
            "text/html": [
              "<div>\n",
              "<style scoped>\n",
              "    .dataframe tbody tr th:only-of-type {\n",
              "        vertical-align: middle;\n",
              "    }\n",
              "\n",
              "    .dataframe tbody tr th {\n",
              "        vertical-align: top;\n",
              "    }\n",
              "\n",
              "    .dataframe thead th {\n",
              "        text-align: right;\n",
              "    }\n",
              "</style>\n",
              "<table border=\"1\" class=\"dataframe\">\n",
              "  <thead>\n",
              "    <tr style=\"text-align: right;\">\n",
              "      <th></th>\n",
              "      <th>Price</th>\n",
              "      <th>Open</th>\n",
              "      <th>High</th>\n",
              "      <th>Low</th>\n",
              "      <th>Vol.</th>\n",
              "      <th>Change %</th>\n",
              "    </tr>\n",
              "  </thead>\n",
              "  <tbody>\n",
              "    <tr>\n",
              "      <th>0</th>\n",
              "      <td>0.1</td>\n",
              "      <td>0.0</td>\n",
              "      <td>0.1</td>\n",
              "      <td>0.1</td>\n",
              "      <td>80</td>\n",
              "      <td>0.0</td>\n",
              "    </tr>\n",
              "    <tr>\n",
              "      <th>1</th>\n",
              "      <td>0.1</td>\n",
              "      <td>0.1</td>\n",
              "      <td>0.1</td>\n",
              "      <td>0.1</td>\n",
              "      <td>570</td>\n",
              "      <td>0.0</td>\n",
              "    </tr>\n",
              "    <tr>\n",
              "      <th>2</th>\n",
              "      <td>0.1</td>\n",
              "      <td>0.1</td>\n",
              "      <td>0.1</td>\n",
              "      <td>0.1</td>\n",
              "      <td>260</td>\n",
              "      <td>0.0</td>\n",
              "    </tr>\n",
              "    <tr>\n",
              "      <th>3</th>\n",
              "      <td>0.1</td>\n",
              "      <td>0.1</td>\n",
              "      <td>0.1</td>\n",
              "      <td>0.1</td>\n",
              "      <td>580</td>\n",
              "      <td>0.0</td>\n",
              "    </tr>\n",
              "    <tr>\n",
              "      <th>4</th>\n",
              "      <td>0.1</td>\n",
              "      <td>0.1</td>\n",
              "      <td>0.1</td>\n",
              "      <td>0.1</td>\n",
              "      <td>2160</td>\n",
              "      <td>0.0</td>\n",
              "    </tr>\n",
              "  </tbody>\n",
              "</table>\n",
              "</div>"
            ],
            "text/plain": [
              "   Price  Open  High  Low  Vol.  Change %\n",
              "0    0.1   0.0   0.1  0.1    80       0.0\n",
              "1    0.1   0.1   0.1  0.1   570       0.0\n",
              "2    0.1   0.1   0.1  0.1   260       0.0\n",
              "3    0.1   0.1   0.1  0.1   580       0.0\n",
              "4    0.1   0.1   0.1  0.1  2160       0.0"
            ]
          },
          "metadata": {
            "tags": []
          },
          "execution_count": 14
        }
      ]
    },
    {
      "cell_type": "code",
      "metadata": {
        "colab": {
          "base_uri": "https://localhost:8080/",
          "height": 244
        },
        "id": "5EWEQ1THzlIw",
        "outputId": "d04e226b-2b9d-4e55-c387-1c8fb3351311"
      },
      "source": [
        "# List of considered Features\n",
        "FEATURES = ['High', 'Low', 'Open', 'Vol.', 'Price']\n",
        "\n",
        "print('FEATURE LIST')\n",
        "print([f for f in FEATURES])\n",
        "\n",
        "# Create the dataset with features and filter the data to the list of FEATURES\n",
        "data = pd.DataFrame(train_seq)\n",
        "data_filtered = data[FEATURES]\n",
        "\n",
        "# We add a prediction column and set dummy values to prepare the data for scaling\n",
        "data_filtered_ext = data_filtered.copy()\n",
        "data_filtered_ext['Prediction'] = data_filtered_ext['Price']\n",
        "\n",
        "# Print the tail of the dataframe\n",
        "data_filtered_ext.tail()"
      ],
      "execution_count": null,
      "outputs": [
        {
          "output_type": "stream",
          "text": [
            "FEATURE LIST\n",
            "['High', 'Low', 'Open', 'Vol.', 'Price']\n"
          ],
          "name": "stdout"
        },
        {
          "output_type": "execute_result",
          "data": {
            "text/html": [
              "<div>\n",
              "<style scoped>\n",
              "    .dataframe tbody tr th:only-of-type {\n",
              "        vertical-align: middle;\n",
              "    }\n",
              "\n",
              "    .dataframe tbody tr th {\n",
              "        vertical-align: top;\n",
              "    }\n",
              "\n",
              "    .dataframe thead th {\n",
              "        text-align: right;\n",
              "    }\n",
              "</style>\n",
              "<table border=\"1\" class=\"dataframe\">\n",
              "  <thead>\n",
              "    <tr style=\"text-align: right;\">\n",
              "      <th></th>\n",
              "      <th>High</th>\n",
              "      <th>Low</th>\n",
              "      <th>Open</th>\n",
              "      <th>Vol.</th>\n",
              "      <th>Price</th>\n",
              "      <th>Prediction</th>\n",
              "    </tr>\n",
              "  </thead>\n",
              "  <tbody>\n",
              "    <tr>\n",
              "      <th>3450</th>\n",
              "      <td>7375.9</td>\n",
              "      <td>7256.5</td>\n",
              "      <td>7261.9</td>\n",
              "      <td>610960</td>\n",
              "      <td>7321.5</td>\n",
              "      <td>7321.5</td>\n",
              "    </tr>\n",
              "    <tr>\n",
              "      <th>3451</th>\n",
              "      <td>7518.9</td>\n",
              "      <td>7303.0</td>\n",
              "      <td>7321.6</td>\n",
              "      <td>611690</td>\n",
              "      <td>7397.5</td>\n",
              "      <td>7397.5</td>\n",
              "    </tr>\n",
              "    <tr>\n",
              "      <th>3452</th>\n",
              "      <td>7420.9</td>\n",
              "      <td>7244.1</td>\n",
              "      <td>7397.5</td>\n",
              "      <td>606110</td>\n",
              "      <td>7261.8</td>\n",
              "      <td>7261.8</td>\n",
              "    </tr>\n",
              "    <tr>\n",
              "      <th>3453</th>\n",
              "      <td>7331.0</td>\n",
              "      <td>7167.4</td>\n",
              "      <td>7261.5</td>\n",
              "      <td>586600</td>\n",
              "      <td>7196.4</td>\n",
              "      <td>7196.4</td>\n",
              "    </tr>\n",
              "    <tr>\n",
              "      <th>3454</th>\n",
              "      <td>7259.4</td>\n",
              "      <td>7180.0</td>\n",
              "      <td>7196.4</td>\n",
              "      <td>420280</td>\n",
              "      <td>7199.8</td>\n",
              "      <td>7199.8</td>\n",
              "    </tr>\n",
              "  </tbody>\n",
              "</table>\n",
              "</div>"
            ],
            "text/plain": [
              "        High     Low    Open    Vol.   Price  Prediction\n",
              "3450  7375.9  7256.5  7261.9  610960  7321.5      7321.5\n",
              "3451  7518.9  7303.0  7321.6  611690  7397.5      7397.5\n",
              "3452  7420.9  7244.1  7397.5  606110  7261.8      7261.8\n",
              "3453  7331.0  7167.4  7261.5  586600  7196.4      7196.4\n",
              "3454  7259.4  7180.0  7196.4  420280  7199.8      7199.8"
            ]
          },
          "metadata": {
            "tags": []
          },
          "execution_count": 15
        }
      ]
    },
    {
      "cell_type": "code",
      "metadata": {
        "colab": {
          "base_uri": "https://localhost:8080/"
        },
        "id": "vDY6qszV0BXv",
        "outputId": "5514a111-165a-4a58-b1b7-e968f579eaeb"
      },
      "source": [
        "from sklearn.preprocessing import MinMaxScaler\n",
        "# Get the number of rows in the data\n",
        "nrows = data_filtered.shape[0]\n",
        "\n",
        "# Convert the data to numpy values\n",
        "np_data_unscaled = np.array(data_filtered)\n",
        "np_data = np.reshape(np_data_unscaled, (nrows, -1))\n",
        "print(np_data.shape)\n",
        "\n",
        "# Transform the data by scaling each feature to a range between 0 and 1\n",
        "scaler = MinMaxScaler()\n",
        "np_data_scaled = scaler.fit_transform(np_data_unscaled)\n",
        "\n",
        "# Creating a separate scaler that works on a single column for scaling predictions\n",
        "scaler_pred = MinMaxScaler()\n",
        "df_Price = pd.DataFrame(data_filtered_ext['Price'])\n",
        "np_Price_scaled = scaler_pred.fit_transform(df_Price)"
      ],
      "execution_count": null,
      "outputs": [
        {
          "output_type": "stream",
          "text": [
            "(3455, 5)\n"
          ],
          "name": "stdout"
        }
      ]
    },
    {
      "cell_type": "code",
      "metadata": {
        "colab": {
          "base_uri": "https://localhost:8080/"
        },
        "id": "Wk1eRmwp0Uie",
        "outputId": "5f22ef48-f60b-421f-fc36-8e6581966fe4"
      },
      "source": [
        "import math\n",
        "# Set the sequence length - this is the timeframe used to make a single prediction\n",
        "sequence_length = 50\n",
        "\n",
        "# Prediction Index\n",
        "index_Close = 0\n",
        "\n",
        "# Split the training data into train and train data sets\n",
        "# As a first step, we get the number of rows to train the model on 80% of the data \n",
        "train_data_len = math.ceil(np_data.shape[0] * 0.8)\n",
        "\n",
        "# Create the training and test data\n",
        "train_data = np_data[0:train_data_len, :]\n",
        "test_data = np_data[train_data_len - sequence_length:, :]\n",
        "\n",
        "# The RNN needs data with the format of [samples, time steps, features]\n",
        "# Here, we create N samples, sequence_length time steps per sample, and 6 features\n",
        "def partition_dataset(sequence_length, data):\n",
        "    x, y = [], []\n",
        "    data_len = data.shape[0]\n",
        "    for i in range(sequence_length, data_len):\n",
        "        x.append(data[i-sequence_length:i,:]) #contains sequence_length values 0-sequence_length * columsn\n",
        "        y.append(data[i, index_Close]) #contains the prediction values for validation (3rd column = Close),  for single-step prediction\n",
        "    \n",
        "    # Convert the x and y to numpy arrays\n",
        "    x = np.array(x)\n",
        "    y = np.array(y)\n",
        "    return x, y\n",
        "\n",
        "# Generate training data and test data\n",
        "x_train, y_train = partition_dataset(sequence_length, train_data)\n",
        "x_test, y_test = partition_dataset(sequence_length, test_data)\n",
        "\n",
        "# Print the shapes: the result is: (rows, training_sequence, features) (prediction value, )\n",
        "print(x_train.shape, y_train.shape)\n",
        "print(x_test.shape, y_test.shape)\n",
        "\n",
        "# Validate that the prediction value and the input match up\n",
        "# The last close price of the second input sample should equal the first prediction value\n",
        "print(x_train[1][sequence_length-1][index_Close])\n",
        "print(y_train[0])"
      ],
      "execution_count": null,
      "outputs": [
        {
          "output_type": "stream",
          "text": [
            "(2714, 50, 5) (2714,)\n",
            "(691, 50, 5) (691,)\n",
            "0.1\n",
            "0.1\n"
          ],
          "name": "stdout"
        }
      ]
    },
    {
      "cell_type": "markdown",
      "metadata": {
        "id": "jez0znShSKrC"
      },
      "source": [
        "### Lstm"
      ]
    },
    {
      "cell_type": "code",
      "metadata": {
        "id": "7SuAY8BlSKLs"
      },
      "source": [
        ""
      ],
      "execution_count": null,
      "outputs": []
    },
    {
      "cell_type": "code",
      "metadata": {
        "colab": {
          "base_uri": "https://localhost:8080/"
        },
        "id": "UiGHGtLk0j0U",
        "outputId": "6aece5d5-4307-4d70-d193-470de7886c7e"
      },
      "source": [
        "from sklearn.metrics import mean_absolute_error, mean_squared_error # Packages for measuring model performance / errors\n",
        "from keras.models import Sequential # Deep learning library, used for neural networks\n",
        "from keras.layers import LSTM, Dense, Dropout # Deep learning classes for recurrent and regular densely-connected layers\n",
        "from keras.callbacks import EarlyStopping # EarlyStopping during model training\n",
        "from sklearn.preprocessing import RobustScaler, MinMaxScaler # This Scaler removes the median and scales the data according to the quantile range to normalize the price data \n",
        "import seaborn as sns\n",
        "\n",
        "# Configure the neural network model\n",
        "model = Sequential()\n",
        "\n",
        "# Model with n_neurons = inputshape Timestamps, each with x_train.shape[2] variables\n",
        "n_neurons = x_train.shape[1] * x_train.shape[2]\n",
        "print(n_neurons, x_train.shape[1], x_train.shape[2])\n",
        "model.add(LSTM(n_neurons, return_sequences=True, input_shape=(x_train.shape[1], x_train.shape[2]))) \n",
        "model.add(LSTM(n_neurons, return_sequences=False))\n",
        "model.add(Dense(5))\n",
        "model.add(Dense(1))\n",
        "\n",
        "# Compile the model\n",
        "model.compile(optimizer='adam', loss='mse')\n",
        "\n"
      ],
      "execution_count": null,
      "outputs": [
        {
          "output_type": "stream",
          "text": [
            "250 50 5\n"
          ],
          "name": "stdout"
        }
      ]
    },
    {
      "cell_type": "code",
      "metadata": {
        "colab": {
          "base_uri": "https://localhost:8080/"
        },
        "id": "96ajQ0NI0yzo",
        "outputId": "f3cfe8d8-29fd-4a59-ae74-0c9af6ab6f59"
      },
      "source": [
        "# Training the model\n",
        "epochs = 50\n",
        "batch_size = 16\n",
        "early_stop = EarlyStopping(monitor='loss', patience=5, verbose=1)\n",
        "history = model.fit(x_train, y_train, \n",
        "                    batch_size=batch_size, \n",
        "                    epochs=epochs,\n",
        "                    validation_data=(x_test, y_test)\n",
        "                   )\n",
        "                    \n",
        "                    #callbacks=[early_stop])"
      ],
      "execution_count": null,
      "outputs": [
        {
          "output_type": "stream",
          "text": [
            "Epoch 1/50\n",
            "170/170 [==============================] - 49s 187ms/step - loss: 7042420.5196 - val_loss: 57879964.0000\n",
            "Epoch 2/50\n",
            "170/170 [==============================] - 31s 180ms/step - loss: 7701126.7193 - val_loss: 55499028.0000\n",
            "Epoch 3/50\n",
            "170/170 [==============================] - 30s 176ms/step - loss: 7064107.2076 - val_loss: 52736988.0000\n",
            "Epoch 4/50\n",
            "170/170 [==============================] - 31s 181ms/step - loss: 5583394.8447 - val_loss: 51670868.0000\n",
            "Epoch 5/50\n",
            "170/170 [==============================] - 31s 181ms/step - loss: 6811707.6164 - val_loss: 49669028.0000\n",
            "Epoch 6/50\n",
            "170/170 [==============================] - 30s 175ms/step - loss: 5472147.1155 - val_loss: 51667224.0000\n",
            "Epoch 7/50\n",
            "170/170 [==============================] - 31s 183ms/step - loss: 6208724.8187 - val_loss: 51125796.0000\n",
            "Epoch 8/50\n",
            "170/170 [==============================] - 32s 189ms/step - loss: 5402315.4316 - val_loss: 49176660.0000\n",
            "Epoch 9/50\n",
            "170/170 [==============================] - 30s 177ms/step - loss: 4816292.5607 - val_loss: 45358428.0000\n",
            "Epoch 10/50\n",
            "170/170 [==============================] - 30s 179ms/step - loss: 5491116.7003 - val_loss: 45418332.0000\n",
            "Epoch 11/50\n",
            "170/170 [==============================] - 30s 177ms/step - loss: 5292517.5866 - val_loss: 40474704.0000\n",
            "Epoch 12/50\n",
            "170/170 [==============================] - 32s 188ms/step - loss: 5332561.5833 - val_loss: 43411600.0000\n",
            "Epoch 13/50\n",
            "170/170 [==============================] - 31s 183ms/step - loss: 5757616.6089 - val_loss: 45518540.0000\n",
            "Epoch 14/50\n",
            "170/170 [==============================] - 33s 192ms/step - loss: 5666937.5000 - val_loss: 38359192.0000\n",
            "Epoch 15/50\n",
            "170/170 [==============================] - 32s 186ms/step - loss: 6829993.8662 - val_loss: 42138216.0000\n",
            "Epoch 16/50\n",
            "170/170 [==============================] - 32s 187ms/step - loss: 6196800.7251 - val_loss: 41874296.0000\n",
            "Epoch 17/50\n",
            "170/170 [==============================] - 31s 183ms/step - loss: 4624321.5453 - val_loss: 39482288.0000\n",
            "Epoch 18/50\n",
            "170/170 [==============================] - 31s 182ms/step - loss: 5657711.1747 - val_loss: 44430908.0000\n",
            "Epoch 19/50\n",
            "170/170 [==============================] - 31s 183ms/step - loss: 4796089.6477 - val_loss: 46133796.0000\n",
            "Epoch 20/50\n",
            "170/170 [==============================] - 34s 199ms/step - loss: 3679601.1414 - val_loss: 45505576.0000\n",
            "Epoch 21/50\n",
            "170/170 [==============================] - 31s 185ms/step - loss: 4407458.5802 - val_loss: 45607260.0000\n",
            "Epoch 22/50\n",
            "170/170 [==============================] - 31s 185ms/step - loss: 4291356.3232 - val_loss: 42001340.0000\n",
            "Epoch 23/50\n",
            "170/170 [==============================] - 31s 184ms/step - loss: 3413330.4898 - val_loss: 40972820.0000\n",
            "Epoch 24/50\n",
            "170/170 [==============================] - 32s 186ms/step - loss: 4246887.2778 - val_loss: 44258576.0000\n",
            "Epoch 25/50\n",
            "170/170 [==============================] - 31s 181ms/step - loss: 3355789.2452 - val_loss: 50333804.0000\n",
            "Epoch 26/50\n",
            "170/170 [==============================] - 30s 178ms/step - loss: 3164751.0956 - val_loss: 42758056.0000\n",
            "Epoch 27/50\n",
            "170/170 [==============================] - 30s 178ms/step - loss: 2983421.1873 - val_loss: 52726272.0000\n",
            "Epoch 28/50\n",
            "170/170 [==============================] - 30s 177ms/step - loss: 3888885.4753 - val_loss: 45333988.0000\n",
            "Epoch 29/50\n",
            "170/170 [==============================] - 31s 180ms/step - loss: 2673162.6133 - val_loss: 43602836.0000\n",
            "Epoch 30/50\n",
            "170/170 [==============================] - 31s 182ms/step - loss: 2169360.4125 - val_loss: 43777372.0000\n",
            "Epoch 31/50\n",
            "170/170 [==============================] - 30s 178ms/step - loss: 3207996.4424 - val_loss: 40454256.0000\n",
            "Epoch 32/50\n",
            "170/170 [==============================] - 31s 182ms/step - loss: 2902422.8518 - val_loss: 38998896.0000\n",
            "Epoch 33/50\n",
            "170/170 [==============================] - 30s 179ms/step - loss: 2123821.2166 - val_loss: 45514084.0000\n",
            "Epoch 34/50\n",
            "170/170 [==============================] - 30s 177ms/step - loss: 4067369.0526 - val_loss: 44136780.0000\n",
            "Epoch 35/50\n",
            "170/170 [==============================] - 30s 178ms/step - loss: 4247024.1170 - val_loss: 37175512.0000\n",
            "Epoch 36/50\n",
            "170/170 [==============================] - 31s 179ms/step - loss: 3462386.9276 - val_loss: 47211476.0000\n",
            "Epoch 37/50\n",
            "170/170 [==============================] - 31s 183ms/step - loss: 3271198.7222 - val_loss: 44065280.0000\n",
            "Epoch 38/50\n",
            "170/170 [==============================] - 32s 185ms/step - loss: 3905368.3377 - val_loss: 41223012.0000\n",
            "Epoch 39/50\n",
            "170/170 [==============================] - 31s 184ms/step - loss: 3100589.7982 - val_loss: 44170712.0000\n",
            "Epoch 40/50\n",
            "170/170 [==============================] - 31s 183ms/step - loss: 2482207.0307 - val_loss: 40552028.0000\n",
            "Epoch 41/50\n",
            "170/170 [==============================] - 31s 182ms/step - loss: 2210893.5484 - val_loss: 48183864.0000\n",
            "Epoch 42/50\n",
            "170/170 [==============================] - 32s 186ms/step - loss: 2381689.8882 - val_loss: 43364780.0000\n",
            "Epoch 43/50\n",
            "170/170 [==============================] - 32s 190ms/step - loss: 1829493.6959 - val_loss: 44317784.0000\n",
            "Epoch 44/50\n",
            "170/170 [==============================] - 32s 187ms/step - loss: 3255385.2438 - val_loss: 51731948.0000\n",
            "Epoch 45/50\n",
            "170/170 [==============================] - 31s 182ms/step - loss: 4827475.7650 - val_loss: 44677608.0000\n",
            "Epoch 46/50\n",
            "170/170 [==============================] - 32s 188ms/step - loss: 3565079.4148 - val_loss: 45505996.0000\n",
            "Epoch 47/50\n",
            "170/170 [==============================] - 31s 183ms/step - loss: 2433290.9821 - val_loss: 48314916.0000\n",
            "Epoch 48/50\n",
            "170/170 [==============================] - 31s 183ms/step - loss: 1892768.3882 - val_loss: 41048212.0000\n",
            "Epoch 49/50\n",
            "170/170 [==============================] - 32s 188ms/step - loss: 1702471.3070 - val_loss: 43421812.0000\n",
            "Epoch 50/50\n",
            "170/170 [==============================] - 32s 187ms/step - loss: 1132320.5603 - val_loss: 46675700.0000\n"
          ],
          "name": "stdout"
        }
      ]
    },
    {
      "cell_type": "markdown",
      "metadata": {
        "id": "tNPvm7lCSNBt"
      },
      "source": [
        "## Without seq"
      ]
    },
    {
      "cell_type": "code",
      "metadata": {
        "id": "SEBs_D1PV4lI"
      },
      "source": [
        "from sklearn.metrics import mean_squared_error\n",
        "\n",
        "\n",
        "# Compute Accuracy of Regression using epsilon as error tolerence trashold\n",
        "def regressor_accuracy(y_orig,y_pred,epsilon = 0.1):\n",
        "\n",
        "  diff = np.abs(np.subtract(y_orig,y_pred))\n",
        "  return np.sum(np.where(diff<=y_orig*epsilon,1,0))/y_orig.shape[0]\n"
      ],
      "execution_count": 110,
      "outputs": []
    },
    {
      "cell_type": "code",
      "metadata": {
        "colab": {
          "base_uri": "https://localhost:8080/"
        },
        "id": "5BL2RZ9GUTDa",
        "outputId": "487fb487-ef4b-4fcf-b0a7-099366d2be5a"
      },
      "source": [
        "train_rf = btc_train.copy()\n",
        "test_rf = btc_train.copy()\n",
        "\n",
        "train_rf ['Date_year'] = train_rf ['Date'].dt.year\n",
        "train_rf ['Date_month'] = train_rf ['Date'].dt.month\n",
        "train_rf ['Date_week'] = train_rf ['Date'].dt.week\n",
        "train_rf ['Date_day'] = train_rf ['Date'].dt.day\n",
        "train_rf ['Date_dayofweek'] = train_rf ['Date'].dt.dayofweek\n",
        "train_rf.drop(columns=['Date'], inplace=True)\n",
        "\n",
        "test_rf ['Date_year'] = test_rf ['Date'].dt.year\n",
        "test_rf ['Date_month'] = test_rf ['Date'].dt.month\n",
        "test_rf ['Date_week'] = test_rf ['Date'].dt.week\n",
        "test_rf ['Date_day'] = test_rf ['Date'].dt.day\n",
        "test_rf ['Date_dayofweek'] = test_rf ['Date'].dt.dayofweek\n",
        "test_rf.drop(columns=['Date'], inplace=True)"
      ],
      "execution_count": 111,
      "outputs": [
        {
          "output_type": "stream",
          "text": [
            "/usr/local/lib/python3.7/dist-packages/ipykernel_launcher.py:6: FutureWarning: Series.dt.weekofyear and Series.dt.week have been deprecated.  Please use Series.dt.isocalendar().week instead.\n",
            "  \n",
            "/usr/local/lib/python3.7/dist-packages/ipykernel_launcher.py:13: FutureWarning: Series.dt.weekofyear and Series.dt.week have been deprecated.  Please use Series.dt.isocalendar().week instead.\n",
            "  del sys.path[0]\n"
          ],
          "name": "stderr"
        }
      ]
    },
    {
      "cell_type": "code",
      "metadata": {
        "id": "IKwYH3OtVCB6"
      },
      "source": [
        "# shuffle the samples\n",
        "train_rf = train_rf.sample(n = len(train_rf), random_state = 42)\n",
        "train_rf = train_rf.reset_index(drop = True)\n",
        "\n",
        "train_rf_valid = train_rf.sample(frac = 0.3, random_state = 42)\n",
        "train_rf_train = train_rf.drop(train_rf_valid.index)"
      ],
      "execution_count": 112,
      "outputs": []
    },
    {
      "cell_type": "code",
      "metadata": {
        "id": "ZhWWUJOdDMAq"
      },
      "source": [
        "X_train = train_rf_train.drop(columns=['Price'])\n",
        "y_train = train_rf_train['Price']\n",
        "\n",
        "X_val = train_rf_valid.drop(columns=['Price'])\n",
        "y_val = train_rf_valid['Price']\n",
        "\n",
        "X_test = test_rf.drop(columns=['Price'])\n",
        "y_test = test_rf['Price']"
      ],
      "execution_count": 113,
      "outputs": []
    },
    {
      "cell_type": "code",
      "metadata": {
        "colab": {
          "base_uri": "https://localhost:8080/",
          "height": 206
        },
        "id": "tRv-8xQJBVUi",
        "outputId": "f77e09c7-b4d0-4ec2-db16-61676a80ea80"
      },
      "source": [
        "X_train.head()"
      ],
      "execution_count": 114,
      "outputs": [
        {
          "output_type": "execute_result",
          "data": {
            "text/html": [
              "<div>\n",
              "<style scoped>\n",
              "    .dataframe tbody tr th:only-of-type {\n",
              "        vertical-align: middle;\n",
              "    }\n",
              "\n",
              "    .dataframe tbody tr th {\n",
              "        vertical-align: top;\n",
              "    }\n",
              "\n",
              "    .dataframe thead th {\n",
              "        text-align: right;\n",
              "    }\n",
              "</style>\n",
              "<table border=\"1\" class=\"dataframe\">\n",
              "  <thead>\n",
              "    <tr style=\"text-align: right;\">\n",
              "      <th></th>\n",
              "      <th>Open</th>\n",
              "      <th>High</th>\n",
              "      <th>Low</th>\n",
              "      <th>Vol.</th>\n",
              "      <th>Change %</th>\n",
              "      <th>Date_year</th>\n",
              "      <th>Date_month</th>\n",
              "      <th>Date_week</th>\n",
              "      <th>Date_day</th>\n",
              "      <th>Date_dayofweek</th>\n",
              "    </tr>\n",
              "  </thead>\n",
              "  <tbody>\n",
              "    <tr>\n",
              "      <th>1</th>\n",
              "      <td>9036.9</td>\n",
              "      <td>9066.4</td>\n",
              "      <td>8649.4</td>\n",
              "      <td>601160</td>\n",
              "      <td>-3.32</td>\n",
              "      <td>2019</td>\n",
              "      <td>11</td>\n",
              "      <td>46</td>\n",
              "      <td>11</td>\n",
              "      <td>0</td>\n",
              "    </tr>\n",
              "    <tr>\n",
              "      <th>2</th>\n",
              "      <td>640.1</td>\n",
              "      <td>641.3</td>\n",
              "      <td>634.9</td>\n",
              "      <td>27690</td>\n",
              "      <td>-0.43</td>\n",
              "      <td>2016</td>\n",
              "      <td>10</td>\n",
              "      <td>42</td>\n",
              "      <td>17</td>\n",
              "      <td>0</td>\n",
              "    </tr>\n",
              "    <tr>\n",
              "      <th>3</th>\n",
              "      <td>141.9</td>\n",
              "      <td>144.4</td>\n",
              "      <td>139.4</td>\n",
              "      <td>9570</td>\n",
              "      <td>-1.13</td>\n",
              "      <td>2013</td>\n",
              "      <td>10</td>\n",
              "      <td>40</td>\n",
              "      <td>1</td>\n",
              "      <td>1</td>\n",
              "    </tr>\n",
              "    <tr>\n",
              "      <th>4</th>\n",
              "      <td>6055.2</td>\n",
              "      <td>6259.0</td>\n",
              "      <td>6032.8</td>\n",
              "      <td>142900</td>\n",
              "      <td>1.84</td>\n",
              "      <td>2018</td>\n",
              "      <td>6</td>\n",
              "      <td>25</td>\n",
              "      <td>23</td>\n",
              "      <td>5</td>\n",
              "    </tr>\n",
              "    <tr>\n",
              "      <th>5</th>\n",
              "      <td>9732.6</td>\n",
              "      <td>9969.6</td>\n",
              "      <td>9638.2</td>\n",
              "      <td>87760</td>\n",
              "      <td>1.78</td>\n",
              "      <td>2017</td>\n",
              "      <td>11</td>\n",
              "      <td>48</td>\n",
              "      <td>28</td>\n",
              "      <td>1</td>\n",
              "    </tr>\n",
              "  </tbody>\n",
              "</table>\n",
              "</div>"
            ],
            "text/plain": [
              "     Open    High     Low  ...  Date_week  Date_day  Date_dayofweek\n",
              "1  9036.9  9066.4  8649.4  ...         46        11               0\n",
              "2   640.1   641.3   634.9  ...         42        17               0\n",
              "3   141.9   144.4   139.4  ...         40         1               1\n",
              "4  6055.2  6259.0  6032.8  ...         25        23               5\n",
              "5  9732.6  9969.6  9638.2  ...         48        28               1\n",
              "\n",
              "[5 rows x 10 columns]"
            ]
          },
          "metadata": {
            "tags": []
          },
          "execution_count": 114
        }
      ]
    },
    {
      "cell_type": "markdown",
      "metadata": {
        "id": "oMAq7HXdYIi9"
      },
      "source": [
        "### 19.adaboost"
      ]
    },
    {
      "cell_type": "code",
      "metadata": {
        "id": "zv4HmJYbYMJS",
        "colab": {
          "base_uri": "https://localhost:8080/"
        },
        "outputId": "3edea822-8a50-4fe1-c150-04b1b79366b8"
      },
      "source": [
        "from sklearn.ensemble import AdaBoostRegressor\n",
        "\n",
        "adab = AdaBoostRegressor(random_state=42, n_estimators=800)\n",
        "adab.fit(X_train, y_train)"
      ],
      "execution_count": 123,
      "outputs": [
        {
          "output_type": "execute_result",
          "data": {
            "text/plain": [
              "AdaBoostRegressor(base_estimator=None, learning_rate=1.0, loss='linear',\n",
              "                  n_estimators=800, random_state=42)"
            ]
          },
          "metadata": {
            "tags": []
          },
          "execution_count": 123
        }
      ]
    },
    {
      "cell_type": "code",
      "metadata": {
        "id": "4-U0-bKMY9l3",
        "colab": {
          "base_uri": "https://localhost:8080/"
        },
        "outputId": "7f063e37-9e60-4ed4-ef4f-d514eee62560"
      },
      "source": [
        "y_pred_val = adab.predict(X_val)\n",
        "\n",
        "print( 'validation mse : {:.4f}'.format(mean_squared_error(y_val, y_pred_val)))\n",
        "print('validation accuracy with epsilon error: {:.2f}'.format(regressor_accuracy(y_val,y_pred_val)))"
      ],
      "execution_count": 124,
      "outputs": [
        {
          "output_type": "stream",
          "text": [
            "validation mse : 62889.3881\n",
            "validation accuracy with epsilon error: 0.42\n"
          ],
          "name": "stdout"
        }
      ]
    },
    {
      "cell_type": "code",
      "metadata": {
        "id": "cg-0mIArY_cO",
        "colab": {
          "base_uri": "https://localhost:8080/"
        },
        "outputId": "2039692a-927e-40fd-8621-c4e87731b560"
      },
      "source": [
        "y_pred_test = adab.predict(X_test)\n",
        "\n",
        "print('test mse : {:.4f}'.format(mean_squared_error(y_test, y_pred_test)))\n",
        "print('test accuracy with epsilon error: {:.2f}'.format(regressor_accuracy(y_test,y_pred_test)))"
      ],
      "execution_count": 125,
      "outputs": [
        {
          "output_type": "stream",
          "text": [
            "test mse : 54391.8135\n",
            "test accuracy with epsilon error: 0.37\n"
          ],
          "name": "stdout"
        }
      ]
    },
    {
      "cell_type": "markdown",
      "metadata": {
        "id": "K2vdgGOxcJ5W"
      },
      "source": [
        "### 20.random forest"
      ]
    },
    {
      "cell_type": "code",
      "metadata": {
        "id": "GtiYeD0HS0Og",
        "colab": {
          "base_uri": "https://localhost:8080/"
        },
        "outputId": "c422761e-b5c7-4214-b9d2-e7304553b5ca"
      },
      "source": [
        "from sklearn.ensemble import RandomForestRegressor\n",
        "\n",
        "rf = RandomForestRegressor(max_depth = 100, n_estimators=500, random_state = 42)\n",
        "rf.fit(X_train, y_train)"
      ],
      "execution_count": null,
      "outputs": [
        {
          "output_type": "execute_result",
          "data": {
            "text/plain": [
              "RandomForestRegressor(bootstrap=True, ccp_alpha=0.0, criterion='mse',\n",
              "                      max_depth=100, max_features='auto', max_leaf_nodes=None,\n",
              "                      max_samples=None, min_impurity_decrease=0.0,\n",
              "                      min_impurity_split=None, min_samples_leaf=1,\n",
              "                      min_samples_split=2, min_weight_fraction_leaf=0.0,\n",
              "                      n_estimators=500, n_jobs=None, oob_score=False,\n",
              "                      random_state=42, verbose=0, warm_start=False)"
            ]
          },
          "metadata": {
            "tags": []
          },
          "execution_count": 45
        }
      ]
    },
    {
      "cell_type": "code",
      "metadata": {
        "id": "Y21GjQy_V3Wh",
        "colab": {
          "base_uri": "https://localhost:8080/"
        },
        "outputId": "d50376a0-07e6-42a4-929d-42cdb790fb75"
      },
      "source": [
        "y_pred_val = rf.predict(X_val)\n",
        "\n",
        "print( 'validation mse : {:.4f}'.format(mean_squared_error(y_val, y_pred_val)))\n",
        "print('validation accuracy with epsilon error: {:.2f}'.format(regressor_accuracy(y_val,y_pred_val)))"
      ],
      "execution_count": null,
      "outputs": [
        {
          "output_type": "stream",
          "text": [
            "validation mse : 14546.5734\n",
            "validation accuracy with epsilon error: 0.97\n"
          ],
          "name": "stdout"
        }
      ]
    },
    {
      "cell_type": "code",
      "metadata": {
        "id": "wysY3l_fX7dp",
        "colab": {
          "base_uri": "https://localhost:8080/"
        },
        "outputId": "cd747056-be46-439b-be68-4a9827e4ce66"
      },
      "source": [
        "y_pred_test = rf.predict(X_test)\n",
        "\n",
        "print('test mse : {:.4f}'.format(mean_squared_error(y_test, y_pred_test)))\n",
        "print('test accuracy with epsilon error: {:.2f}'.format(regressor_accuracy(y_test,y_pred_test)))"
      ],
      "execution_count": null,
      "outputs": [
        {
          "output_type": "stream",
          "text": [
            "test mse : 5339.7832\n",
            "test accuracy with epsilon error: 0.99\n"
          ],
          "name": "stdout"
        }
      ]
    },
    {
      "cell_type": "markdown",
      "metadata": {
        "id": "FR5kCDd0eO0j"
      },
      "source": [
        "# Predict increase in price"
      ]
    },
    {
      "cell_type": "code",
      "metadata": {
        "colab": {
          "base_uri": "https://localhost:8080/",
          "height": 206
        },
        "id": "urw6ds7peOZT",
        "outputId": "532ff2a7-6957-403e-d927-1efc24cb9263"
      },
      "source": [
        "train_inc = btc_train.copy()\n",
        "test_inc = btc_train.copy()\n",
        "\n",
        "\n",
        "train_inc['next_price'] = train_inc['Price'].shift(-1)\n",
        "train_inc['Increased'] = train_inc['Price'] < train_inc['next_price']\n",
        "train_inc.drop(columns=['next_price'], inplace=True)\n",
        "\n",
        "\n",
        "test_inc['next_price'] = test_inc['Price'].shift(-1)\n",
        "test_inc['Increased'] = test_inc['Price'] < test_inc['next_price']\n",
        "test_inc.drop(columns=['next_price'], inplace=True)\n",
        "\n",
        "train_inc.head()"
      ],
      "execution_count": null,
      "outputs": [
        {
          "output_type": "execute_result",
          "data": {
            "text/html": [
              "<div>\n",
              "<style scoped>\n",
              "    .dataframe tbody tr th:only-of-type {\n",
              "        vertical-align: middle;\n",
              "    }\n",
              "\n",
              "    .dataframe tbody tr th {\n",
              "        vertical-align: top;\n",
              "    }\n",
              "\n",
              "    .dataframe thead th {\n",
              "        text-align: right;\n",
              "    }\n",
              "</style>\n",
              "<table border=\"1\" class=\"dataframe\">\n",
              "  <thead>\n",
              "    <tr style=\"text-align: right;\">\n",
              "      <th></th>\n",
              "      <th>Date</th>\n",
              "      <th>Price</th>\n",
              "      <th>Open</th>\n",
              "      <th>High</th>\n",
              "      <th>Low</th>\n",
              "      <th>Vol.</th>\n",
              "      <th>Change %</th>\n",
              "      <th>Increased</th>\n",
              "    </tr>\n",
              "  </thead>\n",
              "  <tbody>\n",
              "    <tr>\n",
              "      <th>0</th>\n",
              "      <td>2020-01-01</td>\n",
              "      <td>7199.8</td>\n",
              "      <td>7196.4</td>\n",
              "      <td>7259.4</td>\n",
              "      <td>7180.0</td>\n",
              "      <td>420280</td>\n",
              "      <td>0.05</td>\n",
              "      <td>False</td>\n",
              "    </tr>\n",
              "    <tr>\n",
              "      <th>1</th>\n",
              "      <td>2019-12-31</td>\n",
              "      <td>7196.4</td>\n",
              "      <td>7261.5</td>\n",
              "      <td>7331.0</td>\n",
              "      <td>7167.4</td>\n",
              "      <td>586600</td>\n",
              "      <td>-0.90</td>\n",
              "      <td>True</td>\n",
              "    </tr>\n",
              "    <tr>\n",
              "      <th>2</th>\n",
              "      <td>2019-12-30</td>\n",
              "      <td>7261.8</td>\n",
              "      <td>7397.5</td>\n",
              "      <td>7420.9</td>\n",
              "      <td>7244.1</td>\n",
              "      <td>606110</td>\n",
              "      <td>-1.84</td>\n",
              "      <td>True</td>\n",
              "    </tr>\n",
              "    <tr>\n",
              "      <th>3</th>\n",
              "      <td>2019-12-29</td>\n",
              "      <td>7397.5</td>\n",
              "      <td>7321.6</td>\n",
              "      <td>7518.9</td>\n",
              "      <td>7303.0</td>\n",
              "      <td>611690</td>\n",
              "      <td>1.04</td>\n",
              "      <td>False</td>\n",
              "    </tr>\n",
              "    <tr>\n",
              "      <th>4</th>\n",
              "      <td>2019-12-28</td>\n",
              "      <td>7321.5</td>\n",
              "      <td>7261.9</td>\n",
              "      <td>7375.9</td>\n",
              "      <td>7256.5</td>\n",
              "      <td>610960</td>\n",
              "      <td>0.82</td>\n",
              "      <td>False</td>\n",
              "    </tr>\n",
              "  </tbody>\n",
              "</table>\n",
              "</div>"
            ],
            "text/plain": [
              "        Date   Price    Open    High     Low    Vol.  Change %  Increased\n",
              "0 2020-01-01  7199.8  7196.4  7259.4  7180.0  420280      0.05      False\n",
              "1 2019-12-31  7196.4  7261.5  7331.0  7167.4  586600     -0.90       True\n",
              "2 2019-12-30  7261.8  7397.5  7420.9  7244.1  606110     -1.84       True\n",
              "3 2019-12-29  7397.5  7321.6  7518.9  7303.0  611690      1.04      False\n",
              "4 2019-12-28  7321.5  7261.9  7375.9  7256.5  610960      0.82      False"
            ]
          },
          "metadata": {
            "tags": []
          },
          "execution_count": 14
        }
      ]
    },
    {
      "cell_type": "code",
      "metadata": {
        "id": "7QrxeVIvg8jQ"
      },
      "source": [
        ""
      ],
      "execution_count": null,
      "outputs": []
    }
  ]
}