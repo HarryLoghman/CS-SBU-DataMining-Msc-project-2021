{
  "nbformat": 4,
  "nbformat_minor": 0,
  "metadata": {
    "colab": {
      "name": "DM_hw3.ipynb",
      "provenance": [],
      "collapsed_sections": [
        "YHm8NTCG7QML",
        "Y-lmtZDP7G-9",
        "CcF5yglu7WbO",
        "STvDdnC-7a9t",
        "PHq3hOeZ7fxf",
        "tJ61md8g7kgy",
        "kHw1a8Bk7rHt",
        "34q1vXs57ycy",
        "3VDma2a071q_",
        "lXX9WbRH8COU"
      ],
      "toc_visible": true
    },
    "kernelspec": {
      "display_name": "Python 3",
      "name": "python3"
    },
    "language_info": {
      "name": "python"
    },
    "widgets": {
      "application/vnd.jupyter.widget-state+json": {
        "f9bf84c902c440fb9b33f4619dc70fa0": {
          "model_module": "@jupyter-widgets/controls",
          "model_name": "HBoxModel",
          "state": {
            "_dom_classes": [],
            "_model_module": "@jupyter-widgets/controls",
            "_model_module_version": "1.5.0",
            "_model_name": "HBoxModel",
            "_view_count": null,
            "_view_module": "@jupyter-widgets/controls",
            "_view_module_version": "1.5.0",
            "_view_name": "HBoxView",
            "box_style": "",
            "children": [
              "IPY_MODEL_41c74d22478441f5b2f83983ad763e0c",
              "IPY_MODEL_f54226bb448e4a3ab43b60bca7ea29f2"
            ],
            "layout": "IPY_MODEL_d5fcdde9cc2e48bb9b647d9db0baef51"
          }
        },
        "41c74d22478441f5b2f83983ad763e0c": {
          "model_module": "@jupyter-widgets/controls",
          "model_name": "FloatProgressModel",
          "state": {
            "_dom_classes": [],
            "_model_module": "@jupyter-widgets/controls",
            "_model_module_version": "1.5.0",
            "_model_name": "FloatProgressModel",
            "_view_count": null,
            "_view_module": "@jupyter-widgets/controls",
            "_view_module_version": "1.5.0",
            "_view_name": "ProgressView",
            "bar_style": "success",
            "description": "100%",
            "description_tooltip": null,
            "layout": "IPY_MODEL_4c337b5994ac4f2cbc63938a770310e8",
            "max": 3447,
            "min": 0,
            "orientation": "horizontal",
            "style": "IPY_MODEL_19b00afa6b094861a84454a1cd539b8d",
            "value": 3447
          }
        },
        "f54226bb448e4a3ab43b60bca7ea29f2": {
          "model_module": "@jupyter-widgets/controls",
          "model_name": "HTMLModel",
          "state": {
            "_dom_classes": [],
            "_model_module": "@jupyter-widgets/controls",
            "_model_module_version": "1.5.0",
            "_model_name": "HTMLModel",
            "_view_count": null,
            "_view_module": "@jupyter-widgets/controls",
            "_view_module_version": "1.5.0",
            "_view_name": "HTMLView",
            "description": "",
            "description_tooltip": null,
            "layout": "IPY_MODEL_ba58004003914e25bed855fe2a6fb757",
            "placeholder": "​",
            "style": "IPY_MODEL_b0c62bf9e94e415a9a367de1dd058d3c",
            "value": " 3447/3447 [03:11&lt;00:00, 17.96it/s]"
          }
        },
        "d5fcdde9cc2e48bb9b647d9db0baef51": {
          "model_module": "@jupyter-widgets/base",
          "model_name": "LayoutModel",
          "state": {
            "_model_module": "@jupyter-widgets/base",
            "_model_module_version": "1.2.0",
            "_model_name": "LayoutModel",
            "_view_count": null,
            "_view_module": "@jupyter-widgets/base",
            "_view_module_version": "1.2.0",
            "_view_name": "LayoutView",
            "align_content": null,
            "align_items": null,
            "align_self": null,
            "border": null,
            "bottom": null,
            "display": null,
            "flex": null,
            "flex_flow": null,
            "grid_area": null,
            "grid_auto_columns": null,
            "grid_auto_flow": null,
            "grid_auto_rows": null,
            "grid_column": null,
            "grid_gap": null,
            "grid_row": null,
            "grid_template_areas": null,
            "grid_template_columns": null,
            "grid_template_rows": null,
            "height": null,
            "justify_content": null,
            "justify_items": null,
            "left": null,
            "margin": null,
            "max_height": null,
            "max_width": null,
            "min_height": null,
            "min_width": null,
            "object_fit": null,
            "object_position": null,
            "order": null,
            "overflow": null,
            "overflow_x": null,
            "overflow_y": null,
            "padding": null,
            "right": null,
            "top": null,
            "visibility": null,
            "width": null
          }
        },
        "4c337b5994ac4f2cbc63938a770310e8": {
          "model_module": "@jupyter-widgets/base",
          "model_name": "LayoutModel",
          "state": {
            "_model_module": "@jupyter-widgets/base",
            "_model_module_version": "1.2.0",
            "_model_name": "LayoutModel",
            "_view_count": null,
            "_view_module": "@jupyter-widgets/base",
            "_view_module_version": "1.2.0",
            "_view_name": "LayoutView",
            "align_content": null,
            "align_items": null,
            "align_self": null,
            "border": null,
            "bottom": null,
            "display": null,
            "flex": null,
            "flex_flow": null,
            "grid_area": null,
            "grid_auto_columns": null,
            "grid_auto_flow": null,
            "grid_auto_rows": null,
            "grid_column": null,
            "grid_gap": null,
            "grid_row": null,
            "grid_template_areas": null,
            "grid_template_columns": null,
            "grid_template_rows": null,
            "height": null,
            "justify_content": null,
            "justify_items": null,
            "left": null,
            "margin": null,
            "max_height": null,
            "max_width": null,
            "min_height": null,
            "min_width": null,
            "object_fit": null,
            "object_position": null,
            "order": null,
            "overflow": null,
            "overflow_x": null,
            "overflow_y": null,
            "padding": null,
            "right": null,
            "top": null,
            "visibility": null,
            "width": null
          }
        },
        "19b00afa6b094861a84454a1cd539b8d": {
          "model_module": "@jupyter-widgets/controls",
          "model_name": "ProgressStyleModel",
          "state": {
            "_model_module": "@jupyter-widgets/controls",
            "_model_module_version": "1.5.0",
            "_model_name": "ProgressStyleModel",
            "_view_count": null,
            "_view_module": "@jupyter-widgets/base",
            "_view_module_version": "1.2.0",
            "_view_name": "StyleView",
            "bar_color": null,
            "description_width": "initial"
          }
        },
        "ba58004003914e25bed855fe2a6fb757": {
          "model_module": "@jupyter-widgets/base",
          "model_name": "LayoutModel",
          "state": {
            "_model_module": "@jupyter-widgets/base",
            "_model_module_version": "1.2.0",
            "_model_name": "LayoutModel",
            "_view_count": null,
            "_view_module": "@jupyter-widgets/base",
            "_view_module_version": "1.2.0",
            "_view_name": "LayoutView",
            "align_content": null,
            "align_items": null,
            "align_self": null,
            "border": null,
            "bottom": null,
            "display": null,
            "flex": null,
            "flex_flow": null,
            "grid_area": null,
            "grid_auto_columns": null,
            "grid_auto_flow": null,
            "grid_auto_rows": null,
            "grid_column": null,
            "grid_gap": null,
            "grid_row": null,
            "grid_template_areas": null,
            "grid_template_columns": null,
            "grid_template_rows": null,
            "height": null,
            "justify_content": null,
            "justify_items": null,
            "left": null,
            "margin": null,
            "max_height": null,
            "max_width": null,
            "min_height": null,
            "min_width": null,
            "object_fit": null,
            "object_position": null,
            "order": null,
            "overflow": null,
            "overflow_x": null,
            "overflow_y": null,
            "padding": null,
            "right": null,
            "top": null,
            "visibility": null,
            "width": null
          }
        },
        "b0c62bf9e94e415a9a367de1dd058d3c": {
          "model_module": "@jupyter-widgets/controls",
          "model_name": "DescriptionStyleModel",
          "state": {
            "_model_module": "@jupyter-widgets/controls",
            "_model_module_version": "1.5.0",
            "_model_name": "DescriptionStyleModel",
            "_view_count": null,
            "_view_module": "@jupyter-widgets/base",
            "_view_module_version": "1.2.0",
            "_view_name": "StyleView",
            "description_width": ""
          }
        },
        "3741e181643e4f909f7ee22aa648ed08": {
          "model_module": "@jupyter-widgets/controls",
          "model_name": "HBoxModel",
          "state": {
            "_dom_classes": [],
            "_model_module": "@jupyter-widgets/controls",
            "_model_module_version": "1.5.0",
            "_model_name": "HBoxModel",
            "_view_count": null,
            "_view_module": "@jupyter-widgets/controls",
            "_view_module_version": "1.5.0",
            "_view_name": "HBoxView",
            "box_style": "",
            "children": [
              "IPY_MODEL_d47f439efe664ea89b7a29300ed024c0",
              "IPY_MODEL_2f90354def7d44048678026d067fd97a"
            ],
            "layout": "IPY_MODEL_8d22fd25cb0845a9b14817de791cfbc2"
          }
        },
        "d47f439efe664ea89b7a29300ed024c0": {
          "model_module": "@jupyter-widgets/controls",
          "model_name": "FloatProgressModel",
          "state": {
            "_dom_classes": [],
            "_model_module": "@jupyter-widgets/controls",
            "_model_module_version": "1.5.0",
            "_model_name": "FloatProgressModel",
            "_view_count": null,
            "_view_module": "@jupyter-widgets/controls",
            "_view_module_version": "1.5.0",
            "_view_name": "ProgressView",
            "bar_style": "success",
            "description": "100%",
            "description_tooltip": null,
            "layout": "IPY_MODEL_5f8560a7e82e47da8fdf3a50b9c89532",
            "max": 478,
            "min": 0,
            "orientation": "horizontal",
            "style": "IPY_MODEL_cb4ca3c2146e43e086046ba4f61b7383",
            "value": 478
          }
        },
        "2f90354def7d44048678026d067fd97a": {
          "model_module": "@jupyter-widgets/controls",
          "model_name": "HTMLModel",
          "state": {
            "_dom_classes": [],
            "_model_module": "@jupyter-widgets/controls",
            "_model_module_version": "1.5.0",
            "_model_name": "HTMLModel",
            "_view_count": null,
            "_view_module": "@jupyter-widgets/controls",
            "_view_module_version": "1.5.0",
            "_view_name": "HTMLView",
            "description": "",
            "description_tooltip": null,
            "layout": "IPY_MODEL_9714583f760e4dee9abd69679bfd63d3",
            "placeholder": "​",
            "style": "IPY_MODEL_3b03205f179c4e9b966027edbfa7947a",
            "value": " 478/478 [03:10&lt;00:00,  2.51it/s]"
          }
        },
        "8d22fd25cb0845a9b14817de791cfbc2": {
          "model_module": "@jupyter-widgets/base",
          "model_name": "LayoutModel",
          "state": {
            "_model_module": "@jupyter-widgets/base",
            "_model_module_version": "1.2.0",
            "_model_name": "LayoutModel",
            "_view_count": null,
            "_view_module": "@jupyter-widgets/base",
            "_view_module_version": "1.2.0",
            "_view_name": "LayoutView",
            "align_content": null,
            "align_items": null,
            "align_self": null,
            "border": null,
            "bottom": null,
            "display": null,
            "flex": null,
            "flex_flow": null,
            "grid_area": null,
            "grid_auto_columns": null,
            "grid_auto_flow": null,
            "grid_auto_rows": null,
            "grid_column": null,
            "grid_gap": null,
            "grid_row": null,
            "grid_template_areas": null,
            "grid_template_columns": null,
            "grid_template_rows": null,
            "height": null,
            "justify_content": null,
            "justify_items": null,
            "left": null,
            "margin": null,
            "max_height": null,
            "max_width": null,
            "min_height": null,
            "min_width": null,
            "object_fit": null,
            "object_position": null,
            "order": null,
            "overflow": null,
            "overflow_x": null,
            "overflow_y": null,
            "padding": null,
            "right": null,
            "top": null,
            "visibility": null,
            "width": null
          }
        },
        "5f8560a7e82e47da8fdf3a50b9c89532": {
          "model_module": "@jupyter-widgets/base",
          "model_name": "LayoutModel",
          "state": {
            "_model_module": "@jupyter-widgets/base",
            "_model_module_version": "1.2.0",
            "_model_name": "LayoutModel",
            "_view_count": null,
            "_view_module": "@jupyter-widgets/base",
            "_view_module_version": "1.2.0",
            "_view_name": "LayoutView",
            "align_content": null,
            "align_items": null,
            "align_self": null,
            "border": null,
            "bottom": null,
            "display": null,
            "flex": null,
            "flex_flow": null,
            "grid_area": null,
            "grid_auto_columns": null,
            "grid_auto_flow": null,
            "grid_auto_rows": null,
            "grid_column": null,
            "grid_gap": null,
            "grid_row": null,
            "grid_template_areas": null,
            "grid_template_columns": null,
            "grid_template_rows": null,
            "height": null,
            "justify_content": null,
            "justify_items": null,
            "left": null,
            "margin": null,
            "max_height": null,
            "max_width": null,
            "min_height": null,
            "min_width": null,
            "object_fit": null,
            "object_position": null,
            "order": null,
            "overflow": null,
            "overflow_x": null,
            "overflow_y": null,
            "padding": null,
            "right": null,
            "top": null,
            "visibility": null,
            "width": null
          }
        },
        "cb4ca3c2146e43e086046ba4f61b7383": {
          "model_module": "@jupyter-widgets/controls",
          "model_name": "ProgressStyleModel",
          "state": {
            "_model_module": "@jupyter-widgets/controls",
            "_model_module_version": "1.5.0",
            "_model_name": "ProgressStyleModel",
            "_view_count": null,
            "_view_module": "@jupyter-widgets/base",
            "_view_module_version": "1.2.0",
            "_view_name": "StyleView",
            "bar_color": null,
            "description_width": "initial"
          }
        },
        "9714583f760e4dee9abd69679bfd63d3": {
          "model_module": "@jupyter-widgets/base",
          "model_name": "LayoutModel",
          "state": {
            "_model_module": "@jupyter-widgets/base",
            "_model_module_version": "1.2.0",
            "_model_name": "LayoutModel",
            "_view_count": null,
            "_view_module": "@jupyter-widgets/base",
            "_view_module_version": "1.2.0",
            "_view_name": "LayoutView",
            "align_content": null,
            "align_items": null,
            "align_self": null,
            "border": null,
            "bottom": null,
            "display": null,
            "flex": null,
            "flex_flow": null,
            "grid_area": null,
            "grid_auto_columns": null,
            "grid_auto_flow": null,
            "grid_auto_rows": null,
            "grid_column": null,
            "grid_gap": null,
            "grid_row": null,
            "grid_template_areas": null,
            "grid_template_columns": null,
            "grid_template_rows": null,
            "height": null,
            "justify_content": null,
            "justify_items": null,
            "left": null,
            "margin": null,
            "max_height": null,
            "max_width": null,
            "min_height": null,
            "min_width": null,
            "object_fit": null,
            "object_position": null,
            "order": null,
            "overflow": null,
            "overflow_x": null,
            "overflow_y": null,
            "padding": null,
            "right": null,
            "top": null,
            "visibility": null,
            "width": null
          }
        },
        "3b03205f179c4e9b966027edbfa7947a": {
          "model_module": "@jupyter-widgets/controls",
          "model_name": "DescriptionStyleModel",
          "state": {
            "_model_module": "@jupyter-widgets/controls",
            "_model_module_version": "1.5.0",
            "_model_name": "DescriptionStyleModel",
            "_view_count": null,
            "_view_module": "@jupyter-widgets/base",
            "_view_module_version": "1.2.0",
            "_view_name": "StyleView",
            "description_width": ""
          }
        },
        "ce32fa1c17e74d8dbaea3804f95d175e": {
          "model_module": "@jupyter-widgets/controls",
          "model_name": "HBoxModel",
          "state": {
            "_dom_classes": [],
            "_model_module": "@jupyter-widgets/controls",
            "_model_module_version": "1.5.0",
            "_model_name": "HBoxModel",
            "_view_count": null,
            "_view_module": "@jupyter-widgets/controls",
            "_view_module_version": "1.5.0",
            "_view_name": "HBoxView",
            "box_style": "",
            "children": [
              "IPY_MODEL_a296d157a9364c808cec1a0e61233b66",
              "IPY_MODEL_b5b6dda57efb4fa59936ba3111a35e41"
            ],
            "layout": "IPY_MODEL_ea731a57b61f4b839db17d14ecb13469"
          }
        },
        "a296d157a9364c808cec1a0e61233b66": {
          "model_module": "@jupyter-widgets/controls",
          "model_name": "FloatProgressModel",
          "state": {
            "_dom_classes": [],
            "_model_module": "@jupyter-widgets/controls",
            "_model_module_version": "1.5.0",
            "_model_name": "FloatProgressModel",
            "_view_count": null,
            "_view_module": "@jupyter-widgets/controls",
            "_view_module_version": "1.5.0",
            "_view_name": "ProgressView",
            "bar_style": "success",
            "description": "100%",
            "description_tooltip": null,
            "layout": "IPY_MODEL_d2203b7a0e0046ecafee700c1d450709",
            "max": 3447,
            "min": 0,
            "orientation": "horizontal",
            "style": "IPY_MODEL_4f6f036eb95749bc9d6c1a8df3512b9d",
            "value": 3447
          }
        },
        "b5b6dda57efb4fa59936ba3111a35e41": {
          "model_module": "@jupyter-widgets/controls",
          "model_name": "HTMLModel",
          "state": {
            "_dom_classes": [],
            "_model_module": "@jupyter-widgets/controls",
            "_model_module_version": "1.5.0",
            "_model_name": "HTMLModel",
            "_view_count": null,
            "_view_module": "@jupyter-widgets/controls",
            "_view_module_version": "1.5.0",
            "_view_name": "HTMLView",
            "description": "",
            "description_tooltip": null,
            "layout": "IPY_MODEL_c03bc87415b140f18385d2511c696ab4",
            "placeholder": "​",
            "style": "IPY_MODEL_9861f3583de1455481523136c31d9a1d",
            "value": " 3447/3447 [00:02&lt;00:00, 1645.50it/s]"
          }
        },
        "ea731a57b61f4b839db17d14ecb13469": {
          "model_module": "@jupyter-widgets/base",
          "model_name": "LayoutModel",
          "state": {
            "_model_module": "@jupyter-widgets/base",
            "_model_module_version": "1.2.0",
            "_model_name": "LayoutModel",
            "_view_count": null,
            "_view_module": "@jupyter-widgets/base",
            "_view_module_version": "1.2.0",
            "_view_name": "LayoutView",
            "align_content": null,
            "align_items": null,
            "align_self": null,
            "border": null,
            "bottom": null,
            "display": null,
            "flex": null,
            "flex_flow": null,
            "grid_area": null,
            "grid_auto_columns": null,
            "grid_auto_flow": null,
            "grid_auto_rows": null,
            "grid_column": null,
            "grid_gap": null,
            "grid_row": null,
            "grid_template_areas": null,
            "grid_template_columns": null,
            "grid_template_rows": null,
            "height": null,
            "justify_content": null,
            "justify_items": null,
            "left": null,
            "margin": null,
            "max_height": null,
            "max_width": null,
            "min_height": null,
            "min_width": null,
            "object_fit": null,
            "object_position": null,
            "order": null,
            "overflow": null,
            "overflow_x": null,
            "overflow_y": null,
            "padding": null,
            "right": null,
            "top": null,
            "visibility": null,
            "width": null
          }
        },
        "d2203b7a0e0046ecafee700c1d450709": {
          "model_module": "@jupyter-widgets/base",
          "model_name": "LayoutModel",
          "state": {
            "_model_module": "@jupyter-widgets/base",
            "_model_module_version": "1.2.0",
            "_model_name": "LayoutModel",
            "_view_count": null,
            "_view_module": "@jupyter-widgets/base",
            "_view_module_version": "1.2.0",
            "_view_name": "LayoutView",
            "align_content": null,
            "align_items": null,
            "align_self": null,
            "border": null,
            "bottom": null,
            "display": null,
            "flex": null,
            "flex_flow": null,
            "grid_area": null,
            "grid_auto_columns": null,
            "grid_auto_flow": null,
            "grid_auto_rows": null,
            "grid_column": null,
            "grid_gap": null,
            "grid_row": null,
            "grid_template_areas": null,
            "grid_template_columns": null,
            "grid_template_rows": null,
            "height": null,
            "justify_content": null,
            "justify_items": null,
            "left": null,
            "margin": null,
            "max_height": null,
            "max_width": null,
            "min_height": null,
            "min_width": null,
            "object_fit": null,
            "object_position": null,
            "order": null,
            "overflow": null,
            "overflow_x": null,
            "overflow_y": null,
            "padding": null,
            "right": null,
            "top": null,
            "visibility": null,
            "width": null
          }
        },
        "4f6f036eb95749bc9d6c1a8df3512b9d": {
          "model_module": "@jupyter-widgets/controls",
          "model_name": "ProgressStyleModel",
          "state": {
            "_model_module": "@jupyter-widgets/controls",
            "_model_module_version": "1.5.0",
            "_model_name": "ProgressStyleModel",
            "_view_count": null,
            "_view_module": "@jupyter-widgets/base",
            "_view_module_version": "1.2.0",
            "_view_name": "StyleView",
            "bar_color": null,
            "description_width": "initial"
          }
        },
        "c03bc87415b140f18385d2511c696ab4": {
          "model_module": "@jupyter-widgets/base",
          "model_name": "LayoutModel",
          "state": {
            "_model_module": "@jupyter-widgets/base",
            "_model_module_version": "1.2.0",
            "_model_name": "LayoutModel",
            "_view_count": null,
            "_view_module": "@jupyter-widgets/base",
            "_view_module_version": "1.2.0",
            "_view_name": "LayoutView",
            "align_content": null,
            "align_items": null,
            "align_self": null,
            "border": null,
            "bottom": null,
            "display": null,
            "flex": null,
            "flex_flow": null,
            "grid_area": null,
            "grid_auto_columns": null,
            "grid_auto_flow": null,
            "grid_auto_rows": null,
            "grid_column": null,
            "grid_gap": null,
            "grid_row": null,
            "grid_template_areas": null,
            "grid_template_columns": null,
            "grid_template_rows": null,
            "height": null,
            "justify_content": null,
            "justify_items": null,
            "left": null,
            "margin": null,
            "max_height": null,
            "max_width": null,
            "min_height": null,
            "min_width": null,
            "object_fit": null,
            "object_position": null,
            "order": null,
            "overflow": null,
            "overflow_x": null,
            "overflow_y": null,
            "padding": null,
            "right": null,
            "top": null,
            "visibility": null,
            "width": null
          }
        },
        "9861f3583de1455481523136c31d9a1d": {
          "model_module": "@jupyter-widgets/controls",
          "model_name": "DescriptionStyleModel",
          "state": {
            "_model_module": "@jupyter-widgets/controls",
            "_model_module_version": "1.5.0",
            "_model_name": "DescriptionStyleModel",
            "_view_count": null,
            "_view_module": "@jupyter-widgets/base",
            "_view_module_version": "1.2.0",
            "_view_name": "StyleView",
            "description_width": ""
          }
        },
        "aff97a507d0b40ca9b683b0cd1e86d53": {
          "model_module": "@jupyter-widgets/controls",
          "model_name": "HBoxModel",
          "state": {
            "_dom_classes": [],
            "_model_module": "@jupyter-widgets/controls",
            "_model_module_version": "1.5.0",
            "_model_name": "HBoxModel",
            "_view_count": null,
            "_view_module": "@jupyter-widgets/controls",
            "_view_module_version": "1.5.0",
            "_view_name": "HBoxView",
            "box_style": "",
            "children": [
              "IPY_MODEL_6dd3ca966cfe4ab1a586c6e37a2222d4",
              "IPY_MODEL_d10eb0533574456f83c547db8a9e8880"
            ],
            "layout": "IPY_MODEL_9d83cbae7b674391a5760feac1f5a9e2"
          }
        },
        "6dd3ca966cfe4ab1a586c6e37a2222d4": {
          "model_module": "@jupyter-widgets/controls",
          "model_name": "FloatProgressModel",
          "state": {
            "_dom_classes": [],
            "_model_module": "@jupyter-widgets/controls",
            "_model_module_version": "1.5.0",
            "_model_name": "FloatProgressModel",
            "_view_count": null,
            "_view_module": "@jupyter-widgets/controls",
            "_view_module_version": "1.5.0",
            "_view_name": "ProgressView",
            "bar_style": "success",
            "description": "100%",
            "description_tooltip": null,
            "layout": "IPY_MODEL_f3c8011d5d3e4203960d67c2b895789f",
            "max": 478,
            "min": 0,
            "orientation": "horizontal",
            "style": "IPY_MODEL_98b6e86303754ae78828adb96c962aad",
            "value": 478
          }
        },
        "d10eb0533574456f83c547db8a9e8880": {
          "model_module": "@jupyter-widgets/controls",
          "model_name": "HTMLModel",
          "state": {
            "_dom_classes": [],
            "_model_module": "@jupyter-widgets/controls",
            "_model_module_version": "1.5.0",
            "_model_name": "HTMLModel",
            "_view_count": null,
            "_view_module": "@jupyter-widgets/controls",
            "_view_module_version": "1.5.0",
            "_view_name": "HTMLView",
            "description": "",
            "description_tooltip": null,
            "layout": "IPY_MODEL_e6055a7dc7c749ceae7273e45d32206a",
            "placeholder": "​",
            "style": "IPY_MODEL_bd327dd9ef50420b9de3d2567718267f",
            "value": " 478/478 [00:00&lt;00:00, 1569.94it/s]"
          }
        },
        "9d83cbae7b674391a5760feac1f5a9e2": {
          "model_module": "@jupyter-widgets/base",
          "model_name": "LayoutModel",
          "state": {
            "_model_module": "@jupyter-widgets/base",
            "_model_module_version": "1.2.0",
            "_model_name": "LayoutModel",
            "_view_count": null,
            "_view_module": "@jupyter-widgets/base",
            "_view_module_version": "1.2.0",
            "_view_name": "LayoutView",
            "align_content": null,
            "align_items": null,
            "align_self": null,
            "border": null,
            "bottom": null,
            "display": null,
            "flex": null,
            "flex_flow": null,
            "grid_area": null,
            "grid_auto_columns": null,
            "grid_auto_flow": null,
            "grid_auto_rows": null,
            "grid_column": null,
            "grid_gap": null,
            "grid_row": null,
            "grid_template_areas": null,
            "grid_template_columns": null,
            "grid_template_rows": null,
            "height": null,
            "justify_content": null,
            "justify_items": null,
            "left": null,
            "margin": null,
            "max_height": null,
            "max_width": null,
            "min_height": null,
            "min_width": null,
            "object_fit": null,
            "object_position": null,
            "order": null,
            "overflow": null,
            "overflow_x": null,
            "overflow_y": null,
            "padding": null,
            "right": null,
            "top": null,
            "visibility": null,
            "width": null
          }
        },
        "f3c8011d5d3e4203960d67c2b895789f": {
          "model_module": "@jupyter-widgets/base",
          "model_name": "LayoutModel",
          "state": {
            "_model_module": "@jupyter-widgets/base",
            "_model_module_version": "1.2.0",
            "_model_name": "LayoutModel",
            "_view_count": null,
            "_view_module": "@jupyter-widgets/base",
            "_view_module_version": "1.2.0",
            "_view_name": "LayoutView",
            "align_content": null,
            "align_items": null,
            "align_self": null,
            "border": null,
            "bottom": null,
            "display": null,
            "flex": null,
            "flex_flow": null,
            "grid_area": null,
            "grid_auto_columns": null,
            "grid_auto_flow": null,
            "grid_auto_rows": null,
            "grid_column": null,
            "grid_gap": null,
            "grid_row": null,
            "grid_template_areas": null,
            "grid_template_columns": null,
            "grid_template_rows": null,
            "height": null,
            "justify_content": null,
            "justify_items": null,
            "left": null,
            "margin": null,
            "max_height": null,
            "max_width": null,
            "min_height": null,
            "min_width": null,
            "object_fit": null,
            "object_position": null,
            "order": null,
            "overflow": null,
            "overflow_x": null,
            "overflow_y": null,
            "padding": null,
            "right": null,
            "top": null,
            "visibility": null,
            "width": null
          }
        },
        "98b6e86303754ae78828adb96c962aad": {
          "model_module": "@jupyter-widgets/controls",
          "model_name": "ProgressStyleModel",
          "state": {
            "_model_module": "@jupyter-widgets/controls",
            "_model_module_version": "1.5.0",
            "_model_name": "ProgressStyleModel",
            "_view_count": null,
            "_view_module": "@jupyter-widgets/base",
            "_view_module_version": "1.2.0",
            "_view_name": "StyleView",
            "bar_color": null,
            "description_width": "initial"
          }
        },
        "e6055a7dc7c749ceae7273e45d32206a": {
          "model_module": "@jupyter-widgets/base",
          "model_name": "LayoutModel",
          "state": {
            "_model_module": "@jupyter-widgets/base",
            "_model_module_version": "1.2.0",
            "_model_name": "LayoutModel",
            "_view_count": null,
            "_view_module": "@jupyter-widgets/base",
            "_view_module_version": "1.2.0",
            "_view_name": "LayoutView",
            "align_content": null,
            "align_items": null,
            "align_self": null,
            "border": null,
            "bottom": null,
            "display": null,
            "flex": null,
            "flex_flow": null,
            "grid_area": null,
            "grid_auto_columns": null,
            "grid_auto_flow": null,
            "grid_auto_rows": null,
            "grid_column": null,
            "grid_gap": null,
            "grid_row": null,
            "grid_template_areas": null,
            "grid_template_columns": null,
            "grid_template_rows": null,
            "height": null,
            "justify_content": null,
            "justify_items": null,
            "left": null,
            "margin": null,
            "max_height": null,
            "max_width": null,
            "min_height": null,
            "min_width": null,
            "object_fit": null,
            "object_position": null,
            "order": null,
            "overflow": null,
            "overflow_x": null,
            "overflow_y": null,
            "padding": null,
            "right": null,
            "top": null,
            "visibility": null,
            "width": null
          }
        },
        "bd327dd9ef50420b9de3d2567718267f": {
          "model_module": "@jupyter-widgets/controls",
          "model_name": "DescriptionStyleModel",
          "state": {
            "_model_module": "@jupyter-widgets/controls",
            "_model_module_version": "1.5.0",
            "_model_name": "DescriptionStyleModel",
            "_view_count": null,
            "_view_module": "@jupyter-widgets/base",
            "_view_module_version": "1.2.0",
            "_view_name": "StyleView",
            "description_width": ""
          }
        },
        "6118400ff39b4c0681ab531b64e9903e": {
          "model_module": "@jupyter-widgets/controls",
          "model_name": "HBoxModel",
          "state": {
            "_dom_classes": [],
            "_model_module": "@jupyter-widgets/controls",
            "_model_module_version": "1.5.0",
            "_model_name": "HBoxModel",
            "_view_count": null,
            "_view_module": "@jupyter-widgets/controls",
            "_view_module_version": "1.5.0",
            "_view_name": "HBoxView",
            "box_style": "",
            "children": [
              "IPY_MODEL_d4a01b539c034c4aa2e69632ccb4089c",
              "IPY_MODEL_cd8c4dd43d1d4ab3944f8af573ba3500"
            ],
            "layout": "IPY_MODEL_11f683abd82b4556923e538af7a43152"
          }
        },
        "d4a01b539c034c4aa2e69632ccb4089c": {
          "model_module": "@jupyter-widgets/controls",
          "model_name": "FloatProgressModel",
          "state": {
            "_dom_classes": [],
            "_model_module": "@jupyter-widgets/controls",
            "_model_module_version": "1.5.0",
            "_model_name": "FloatProgressModel",
            "_view_count": null,
            "_view_module": "@jupyter-widgets/controls",
            "_view_module_version": "1.5.0",
            "_view_name": "ProgressView",
            "bar_style": "success",
            "description": "100%",
            "description_tooltip": null,
            "layout": "IPY_MODEL_6b314999f3984f4dac27a4b9d284bf4f",
            "max": 3447,
            "min": 0,
            "orientation": "horizontal",
            "style": "IPY_MODEL_e352c689d4d14d5092a5e4eeb83627da",
            "value": 3447
          }
        },
        "cd8c4dd43d1d4ab3944f8af573ba3500": {
          "model_module": "@jupyter-widgets/controls",
          "model_name": "HTMLModel",
          "state": {
            "_dom_classes": [],
            "_model_module": "@jupyter-widgets/controls",
            "_model_module_version": "1.5.0",
            "_model_name": "HTMLModel",
            "_view_count": null,
            "_view_module": "@jupyter-widgets/controls",
            "_view_module_version": "1.5.0",
            "_view_name": "HTMLView",
            "description": "",
            "description_tooltip": null,
            "layout": "IPY_MODEL_abd2f3e1664a4d67a750198a4974a9f8",
            "placeholder": "​",
            "style": "IPY_MODEL_daa998235a2641dbbc45804426cafb72",
            "value": " 3447/3447 [01:01&lt;00:00, 55.60it/s]"
          }
        },
        "11f683abd82b4556923e538af7a43152": {
          "model_module": "@jupyter-widgets/base",
          "model_name": "LayoutModel",
          "state": {
            "_model_module": "@jupyter-widgets/base",
            "_model_module_version": "1.2.0",
            "_model_name": "LayoutModel",
            "_view_count": null,
            "_view_module": "@jupyter-widgets/base",
            "_view_module_version": "1.2.0",
            "_view_name": "LayoutView",
            "align_content": null,
            "align_items": null,
            "align_self": null,
            "border": null,
            "bottom": null,
            "display": null,
            "flex": null,
            "flex_flow": null,
            "grid_area": null,
            "grid_auto_columns": null,
            "grid_auto_flow": null,
            "grid_auto_rows": null,
            "grid_column": null,
            "grid_gap": null,
            "grid_row": null,
            "grid_template_areas": null,
            "grid_template_columns": null,
            "grid_template_rows": null,
            "height": null,
            "justify_content": null,
            "justify_items": null,
            "left": null,
            "margin": null,
            "max_height": null,
            "max_width": null,
            "min_height": null,
            "min_width": null,
            "object_fit": null,
            "object_position": null,
            "order": null,
            "overflow": null,
            "overflow_x": null,
            "overflow_y": null,
            "padding": null,
            "right": null,
            "top": null,
            "visibility": null,
            "width": null
          }
        },
        "6b314999f3984f4dac27a4b9d284bf4f": {
          "model_module": "@jupyter-widgets/base",
          "model_name": "LayoutModel",
          "state": {
            "_model_module": "@jupyter-widgets/base",
            "_model_module_version": "1.2.0",
            "_model_name": "LayoutModel",
            "_view_count": null,
            "_view_module": "@jupyter-widgets/base",
            "_view_module_version": "1.2.0",
            "_view_name": "LayoutView",
            "align_content": null,
            "align_items": null,
            "align_self": null,
            "border": null,
            "bottom": null,
            "display": null,
            "flex": null,
            "flex_flow": null,
            "grid_area": null,
            "grid_auto_columns": null,
            "grid_auto_flow": null,
            "grid_auto_rows": null,
            "grid_column": null,
            "grid_gap": null,
            "grid_row": null,
            "grid_template_areas": null,
            "grid_template_columns": null,
            "grid_template_rows": null,
            "height": null,
            "justify_content": null,
            "justify_items": null,
            "left": null,
            "margin": null,
            "max_height": null,
            "max_width": null,
            "min_height": null,
            "min_width": null,
            "object_fit": null,
            "object_position": null,
            "order": null,
            "overflow": null,
            "overflow_x": null,
            "overflow_y": null,
            "padding": null,
            "right": null,
            "top": null,
            "visibility": null,
            "width": null
          }
        },
        "e352c689d4d14d5092a5e4eeb83627da": {
          "model_module": "@jupyter-widgets/controls",
          "model_name": "ProgressStyleModel",
          "state": {
            "_model_module": "@jupyter-widgets/controls",
            "_model_module_version": "1.5.0",
            "_model_name": "ProgressStyleModel",
            "_view_count": null,
            "_view_module": "@jupyter-widgets/base",
            "_view_module_version": "1.2.0",
            "_view_name": "StyleView",
            "bar_color": null,
            "description_width": "initial"
          }
        },
        "abd2f3e1664a4d67a750198a4974a9f8": {
          "model_module": "@jupyter-widgets/base",
          "model_name": "LayoutModel",
          "state": {
            "_model_module": "@jupyter-widgets/base",
            "_model_module_version": "1.2.0",
            "_model_name": "LayoutModel",
            "_view_count": null,
            "_view_module": "@jupyter-widgets/base",
            "_view_module_version": "1.2.0",
            "_view_name": "LayoutView",
            "align_content": null,
            "align_items": null,
            "align_self": null,
            "border": null,
            "bottom": null,
            "display": null,
            "flex": null,
            "flex_flow": null,
            "grid_area": null,
            "grid_auto_columns": null,
            "grid_auto_flow": null,
            "grid_auto_rows": null,
            "grid_column": null,
            "grid_gap": null,
            "grid_row": null,
            "grid_template_areas": null,
            "grid_template_columns": null,
            "grid_template_rows": null,
            "height": null,
            "justify_content": null,
            "justify_items": null,
            "left": null,
            "margin": null,
            "max_height": null,
            "max_width": null,
            "min_height": null,
            "min_width": null,
            "object_fit": null,
            "object_position": null,
            "order": null,
            "overflow": null,
            "overflow_x": null,
            "overflow_y": null,
            "padding": null,
            "right": null,
            "top": null,
            "visibility": null,
            "width": null
          }
        },
        "daa998235a2641dbbc45804426cafb72": {
          "model_module": "@jupyter-widgets/controls",
          "model_name": "DescriptionStyleModel",
          "state": {
            "_model_module": "@jupyter-widgets/controls",
            "_model_module_version": "1.5.0",
            "_model_name": "DescriptionStyleModel",
            "_view_count": null,
            "_view_module": "@jupyter-widgets/base",
            "_view_module_version": "1.2.0",
            "_view_name": "StyleView",
            "description_width": ""
          }
        },
        "990969e493ff41beb3617e83e373d2ca": {
          "model_module": "@jupyter-widgets/controls",
          "model_name": "HBoxModel",
          "state": {
            "_dom_classes": [],
            "_model_module": "@jupyter-widgets/controls",
            "_model_module_version": "1.5.0",
            "_model_name": "HBoxModel",
            "_view_count": null,
            "_view_module": "@jupyter-widgets/controls",
            "_view_module_version": "1.5.0",
            "_view_name": "HBoxView",
            "box_style": "",
            "children": [
              "IPY_MODEL_413eceb8f0094ea6b483dd2a080b44c4",
              "IPY_MODEL_5616d6cb1fe94253af08aa5d57ff3926"
            ],
            "layout": "IPY_MODEL_5c5063297da04f2b922000a6f952b7f8"
          }
        },
        "413eceb8f0094ea6b483dd2a080b44c4": {
          "model_module": "@jupyter-widgets/controls",
          "model_name": "FloatProgressModel",
          "state": {
            "_dom_classes": [],
            "_model_module": "@jupyter-widgets/controls",
            "_model_module_version": "1.5.0",
            "_model_name": "FloatProgressModel",
            "_view_count": null,
            "_view_module": "@jupyter-widgets/controls",
            "_view_module_version": "1.5.0",
            "_view_name": "ProgressView",
            "bar_style": "success",
            "description": "100%",
            "description_tooltip": null,
            "layout": "IPY_MODEL_c00289560eea4e1181d605afb4f06fd2",
            "max": 478,
            "min": 0,
            "orientation": "horizontal",
            "style": "IPY_MODEL_91ddd3122b42478cbda54548ec7c3d25",
            "value": 478
          }
        },
        "5616d6cb1fe94253af08aa5d57ff3926": {
          "model_module": "@jupyter-widgets/controls",
          "model_name": "HTMLModel",
          "state": {
            "_dom_classes": [],
            "_model_module": "@jupyter-widgets/controls",
            "_model_module_version": "1.5.0",
            "_model_name": "HTMLModel",
            "_view_count": null,
            "_view_module": "@jupyter-widgets/controls",
            "_view_module_version": "1.5.0",
            "_view_name": "HTMLView",
            "description": "",
            "description_tooltip": null,
            "layout": "IPY_MODEL_2e3f7d92a90a4acca6af6ddb4ae97c5b",
            "placeholder": "​",
            "style": "IPY_MODEL_f50b43c66abe40cba38ba559621449cb",
            "value": " 478/478 [00:59&lt;00:00,  8.00it/s]"
          }
        },
        "5c5063297da04f2b922000a6f952b7f8": {
          "model_module": "@jupyter-widgets/base",
          "model_name": "LayoutModel",
          "state": {
            "_model_module": "@jupyter-widgets/base",
            "_model_module_version": "1.2.0",
            "_model_name": "LayoutModel",
            "_view_count": null,
            "_view_module": "@jupyter-widgets/base",
            "_view_module_version": "1.2.0",
            "_view_name": "LayoutView",
            "align_content": null,
            "align_items": null,
            "align_self": null,
            "border": null,
            "bottom": null,
            "display": null,
            "flex": null,
            "flex_flow": null,
            "grid_area": null,
            "grid_auto_columns": null,
            "grid_auto_flow": null,
            "grid_auto_rows": null,
            "grid_column": null,
            "grid_gap": null,
            "grid_row": null,
            "grid_template_areas": null,
            "grid_template_columns": null,
            "grid_template_rows": null,
            "height": null,
            "justify_content": null,
            "justify_items": null,
            "left": null,
            "margin": null,
            "max_height": null,
            "max_width": null,
            "min_height": null,
            "min_width": null,
            "object_fit": null,
            "object_position": null,
            "order": null,
            "overflow": null,
            "overflow_x": null,
            "overflow_y": null,
            "padding": null,
            "right": null,
            "top": null,
            "visibility": null,
            "width": null
          }
        },
        "c00289560eea4e1181d605afb4f06fd2": {
          "model_module": "@jupyter-widgets/base",
          "model_name": "LayoutModel",
          "state": {
            "_model_module": "@jupyter-widgets/base",
            "_model_module_version": "1.2.0",
            "_model_name": "LayoutModel",
            "_view_count": null,
            "_view_module": "@jupyter-widgets/base",
            "_view_module_version": "1.2.0",
            "_view_name": "LayoutView",
            "align_content": null,
            "align_items": null,
            "align_self": null,
            "border": null,
            "bottom": null,
            "display": null,
            "flex": null,
            "flex_flow": null,
            "grid_area": null,
            "grid_auto_columns": null,
            "grid_auto_flow": null,
            "grid_auto_rows": null,
            "grid_column": null,
            "grid_gap": null,
            "grid_row": null,
            "grid_template_areas": null,
            "grid_template_columns": null,
            "grid_template_rows": null,
            "height": null,
            "justify_content": null,
            "justify_items": null,
            "left": null,
            "margin": null,
            "max_height": null,
            "max_width": null,
            "min_height": null,
            "min_width": null,
            "object_fit": null,
            "object_position": null,
            "order": null,
            "overflow": null,
            "overflow_x": null,
            "overflow_y": null,
            "padding": null,
            "right": null,
            "top": null,
            "visibility": null,
            "width": null
          }
        },
        "91ddd3122b42478cbda54548ec7c3d25": {
          "model_module": "@jupyter-widgets/controls",
          "model_name": "ProgressStyleModel",
          "state": {
            "_model_module": "@jupyter-widgets/controls",
            "_model_module_version": "1.5.0",
            "_model_name": "ProgressStyleModel",
            "_view_count": null,
            "_view_module": "@jupyter-widgets/base",
            "_view_module_version": "1.2.0",
            "_view_name": "StyleView",
            "bar_color": null,
            "description_width": "initial"
          }
        },
        "2e3f7d92a90a4acca6af6ddb4ae97c5b": {
          "model_module": "@jupyter-widgets/base",
          "model_name": "LayoutModel",
          "state": {
            "_model_module": "@jupyter-widgets/base",
            "_model_module_version": "1.2.0",
            "_model_name": "LayoutModel",
            "_view_count": null,
            "_view_module": "@jupyter-widgets/base",
            "_view_module_version": "1.2.0",
            "_view_name": "LayoutView",
            "align_content": null,
            "align_items": null,
            "align_self": null,
            "border": null,
            "bottom": null,
            "display": null,
            "flex": null,
            "flex_flow": null,
            "grid_area": null,
            "grid_auto_columns": null,
            "grid_auto_flow": null,
            "grid_auto_rows": null,
            "grid_column": null,
            "grid_gap": null,
            "grid_row": null,
            "grid_template_areas": null,
            "grid_template_columns": null,
            "grid_template_rows": null,
            "height": null,
            "justify_content": null,
            "justify_items": null,
            "left": null,
            "margin": null,
            "max_height": null,
            "max_width": null,
            "min_height": null,
            "min_width": null,
            "object_fit": null,
            "object_position": null,
            "order": null,
            "overflow": null,
            "overflow_x": null,
            "overflow_y": null,
            "padding": null,
            "right": null,
            "top": null,
            "visibility": null,
            "width": null
          }
        },
        "f50b43c66abe40cba38ba559621449cb": {
          "model_module": "@jupyter-widgets/controls",
          "model_name": "DescriptionStyleModel",
          "state": {
            "_model_module": "@jupyter-widgets/controls",
            "_model_module_version": "1.5.0",
            "_model_name": "DescriptionStyleModel",
            "_view_count": null,
            "_view_module": "@jupyter-widgets/base",
            "_view_module_version": "1.2.0",
            "_view_name": "StyleView",
            "description_width": ""
          }
        }
      }
    }
  },
  "cells": [
    {
      "cell_type": "code",
      "metadata": {
        "colab": {
          "base_uri": "https://localhost:8080/"
        },
        "id": "hVgRQQ_eVdTR",
        "outputId": "bea25470-cb37-4d25-ce58-dd28ae2d947b"
      },
      "source": [
        "import numpy as np\n",
        "import pandas as pd\n",
        "import time\n",
        "import torch\n",
        "import torch.nn as nn\n",
        "from sklearn.preprocessing import OrdinalEncoder, StandardScaler, MinMaxScaler\n",
        "from sklearn.metrics import mean_absolute_error, classification_report, roc_auc_score\n",
        "from sklearn.model_selection import cross_val_score, ShuffleSplit, KFold\n",
        "from sklearn.feature_extraction.text import TfidfVectorizer, CountVectorizer\n",
        "from sklearn.linear_model import LinearRegression, Ridge, Lasso, LogisticRegression\n",
        "from tqdm.notebook import tqdm\n",
        "from sklearn.utils import resample\n",
        "from sklearn.neural_network import MLPRegressor\n",
        "from sklearn.tree import DecisionTreeClassifier\n",
        "from sklearn.ensemble import RandomForestClassifier, RandomForestRegressor, AdaBoostRegressor, GradientBoostingRegressor, StackingRegressor\n",
        "from nltk.corpus import stopwords\n",
        "from sklearn.model_selection import GridSearchCV\n",
        "from imblearn.over_sampling import SMOTE\n",
        "from sklearn.decomposition import PCA\n",
        "from xgboost import XGBRegressor\n",
        "import nltk\n",
        "from scipy.stats import binned_statistic\n",
        "import seaborn as sn\n",
        "from sklearn.metrics import mean_absolute_error, mean_squared_error, r2_score\n",
        "import matplotlib.pyplot as plt\n",
        "from sklearn.svm import SVC, SVR\n",
        "from random import random, randrange\n",
        "from datetime import datetime\n",
        "from sklearn.model_selection import train_test_split\n",
        "nltk.download(\"stopwords\")"
      ],
      "execution_count": null,
      "outputs": [
        {
          "output_type": "stream",
          "text": [
            "/usr/local/lib/python3.7/dist-packages/sklearn/externals/six.py:31: FutureWarning: The module is deprecated in version 0.21 and will be removed in version 0.23 since we've dropped support for Python 2.7. Please rely on the official version of six (https://pypi.org/project/six/).\n",
            "  \"(https://pypi.org/project/six/).\", FutureWarning)\n",
            "/usr/local/lib/python3.7/dist-packages/sklearn/utils/deprecation.py:144: FutureWarning: The sklearn.neighbors.base module is  deprecated in version 0.22 and will be removed in version 0.24. The corresponding classes / functions should instead be imported from sklearn.neighbors. Anything that cannot be imported from sklearn.neighbors is now part of the private API.\n",
            "  warnings.warn(message, FutureWarning)\n"
          ],
          "name": "stderr"
        },
        {
          "output_type": "stream",
          "text": [
            "[nltk_data] Downloading package stopwords to /root/nltk_data...\n",
            "[nltk_data]   Unzipping corpora/stopwords.zip.\n"
          ],
          "name": "stdout"
        },
        {
          "output_type": "execute_result",
          "data": {
            "text/plain": [
              "True"
            ]
          },
          "metadata": {
            "tags": []
          },
          "execution_count": 1
        }
      ]
    },
    {
      "cell_type": "code",
      "metadata": {
        "colab": {
          "base_uri": "https://localhost:8080/"
        },
        "id": "p-g_wEyHViOv",
        "outputId": "a0a47ae8-9bee-4cec-b0fb-eaeb6cc6000c"
      },
      "source": [
        "!pip install kaggle\n",
        "!pip install ta"
      ],
      "execution_count": null,
      "outputs": [
        {
          "output_type": "stream",
          "text": [
            "Requirement already satisfied: kaggle in /usr/local/lib/python3.7/dist-packages (1.5.12)\n",
            "Requirement already satisfied: python-dateutil in /usr/local/lib/python3.7/dist-packages (from kaggle) (2.8.1)\n",
            "Requirement already satisfied: python-slugify in /usr/local/lib/python3.7/dist-packages (from kaggle) (5.0.2)\n",
            "Requirement already satisfied: six>=1.10 in /usr/local/lib/python3.7/dist-packages (from kaggle) (1.15.0)\n",
            "Requirement already satisfied: certifi in /usr/local/lib/python3.7/dist-packages (from kaggle) (2021.5.30)\n",
            "Requirement already satisfied: requests in /usr/local/lib/python3.7/dist-packages (from kaggle) (2.23.0)\n",
            "Requirement already satisfied: tqdm in /usr/local/lib/python3.7/dist-packages (from kaggle) (4.41.1)\n",
            "Requirement already satisfied: urllib3 in /usr/local/lib/python3.7/dist-packages (from kaggle) (1.24.3)\n",
            "Requirement already satisfied: text-unidecode>=1.3 in /usr/local/lib/python3.7/dist-packages (from python-slugify->kaggle) (1.3)\n",
            "Requirement already satisfied: chardet<4,>=3.0.2 in /usr/local/lib/python3.7/dist-packages (from requests->kaggle) (3.0.4)\n",
            "Requirement already satisfied: idna<3,>=2.5 in /usr/local/lib/python3.7/dist-packages (from requests->kaggle) (2.10)\n",
            "Collecting ta\n",
            "  Downloading https://files.pythonhosted.org/packages/a9/22/a355ecf2d67da8150332d22ef65c3a1f79109528279bf5d40735b6f2bd72/ta-0.7.0.tar.gz\n",
            "Requirement already satisfied: numpy in /usr/local/lib/python3.7/dist-packages (from ta) (1.19.5)\n",
            "Requirement already satisfied: pandas in /usr/local/lib/python3.7/dist-packages (from ta) (1.1.5)\n",
            "Requirement already satisfied: pytz>=2017.2 in /usr/local/lib/python3.7/dist-packages (from pandas->ta) (2018.9)\n",
            "Requirement already satisfied: python-dateutil>=2.7.3 in /usr/local/lib/python3.7/dist-packages (from pandas->ta) (2.8.1)\n",
            "Requirement already satisfied: six>=1.5 in /usr/local/lib/python3.7/dist-packages (from python-dateutil>=2.7.3->pandas->ta) (1.15.0)\n",
            "Building wheels for collected packages: ta\n",
            "  Building wheel for ta (setup.py) ... \u001b[?25l\u001b[?25hdone\n",
            "  Created wheel for ta: filename=ta-0.7.0-cp37-none-any.whl size=28716 sha256=6cbc4a10e3f2217c39e2d49b542b7bebfb790f2d6f56802d4852046560a07db2\n",
            "  Stored in directory: /root/.cache/pip/wheels/dd/88/30/de9553fb54a474eb7480b937cdbb140bdda613d29cf4da7994\n",
            "Successfully built ta\n",
            "Installing collected packages: ta\n",
            "Successfully installed ta-0.7.0\n"
          ],
          "name": "stdout"
        }
      ]
    },
    {
      "cell_type": "code",
      "metadata": {
        "colab": {
          "resources": {
            "http://localhost:8080/nbextensions/google.colab/files.js": {
              "data": "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",
              "headers": [
                [
                  "content-type",
                  "application/javascript"
                ]
              ],
              "ok": true,
              "status": 200,
              "status_text": ""
            }
          },
          "base_uri": "https://localhost:8080/",
          "height": 91
        },
        "id": "njwbwhDgVvHn",
        "outputId": "bf4e321c-fdc1-4552-ef3c-55b3e23a5cd5"
      },
      "source": [
        "from google.colab import files\n",
        "files.upload()"
      ],
      "execution_count": null,
      "outputs": [
        {
          "output_type": "display_data",
          "data": {
            "text/html": [
              "\n",
              "     <input type=\"file\" id=\"files-787413bf-a93f-4614-844d-7e3a1c06fb5b\" name=\"files[]\" multiple disabled\n",
              "        style=\"border:none\" />\n",
              "     <output id=\"result-787413bf-a93f-4614-844d-7e3a1c06fb5b\">\n",
              "      Upload widget is only available when the cell has been executed in the\n",
              "      current browser session. Please rerun this cell to enable.\n",
              "      </output>\n",
              "      <script src=\"/nbextensions/google.colab/files.js\"></script> "
            ],
            "text/plain": [
              "<IPython.core.display.HTML object>"
            ]
          },
          "metadata": {
            "tags": []
          }
        },
        {
          "output_type": "stream",
          "text": [
            "Saving kaggle.json to kaggle.json\n"
          ],
          "name": "stdout"
        },
        {
          "output_type": "execute_result",
          "data": {
            "text/plain": [
              "{'kaggle.json': b'{\"username\":\"adelante4\",\"key\":\"03ce7ef6b6693eea773f084c9340b5b9\"}'}"
            ]
          },
          "metadata": {
            "tags": []
          },
          "execution_count": 3
        }
      ]
    },
    {
      "cell_type": "code",
      "metadata": {
        "id": "m5uaYTbFV0V5"
      },
      "source": [
        "!mkdir -p ~/.kaggle\n",
        "!cp kaggle.json ~/.kaggle/\n",
        "!chmod 600 ~/.kaggle/kaggle.json"
      ],
      "execution_count": null,
      "outputs": []
    },
    {
      "cell_type": "markdown",
      "metadata": {
        "id": "nM5GBa0hauSu"
      },
      "source": [
        "# Mobile Data"
      ]
    },
    {
      "cell_type": "code",
      "metadata": {
        "colab": {
          "base_uri": "https://localhost:8080/"
        },
        "id": "pqbGZa5aV2IF",
        "outputId": "848ca20f-3f05-4939-82dd-17002346f2a7"
      },
      "source": [
        "!kaggle datasets download -d iabhishekofficial/mobile-price-classification"
      ],
      "execution_count": null,
      "outputs": [
        {
          "output_type": "stream",
          "text": [
            "Downloading mobile-price-classification.zip to /content\n",
            "\r  0% 0.00/70.6k [00:00<?, ?B/s]\n",
            "\r100% 70.6k/70.6k [00:00<00:00, 33.4MB/s]\n"
          ],
          "name": "stdout"
        }
      ]
    },
    {
      "cell_type": "markdown",
      "metadata": {
        "id": "uswZGXXb61-v"
      },
      "source": [
        "## Data Preprocessing"
      ]
    },
    {
      "cell_type": "code",
      "metadata": {
        "id": "y1L2L3K6W29t"
      },
      "source": [
        "import zipfile\n",
        "zip_ref = zipfile.ZipFile('mobile-price-classification.zip', 'r')\n",
        "zip_ref.extractall('files')\n",
        "zip_ref.close()\n",
        "mobile_train=pd.read_csv('/content/files/train.csv')\n",
        "mobile_test=pd.read_csv('/content/files/test.csv')"
      ],
      "execution_count": null,
      "outputs": []
    },
    {
      "cell_type": "code",
      "metadata": {
        "colab": {
          "base_uri": "https://localhost:8080/",
          "height": 218
        },
        "id": "_PMLO_IZW3gM",
        "outputId": "f93332b6-940b-40e9-a9ba-782530a1bfd7"
      },
      "source": [
        "mobile_train.head()"
      ],
      "execution_count": null,
      "outputs": [
        {
          "output_type": "execute_result",
          "data": {
            "text/html": [
              "<div>\n",
              "<style scoped>\n",
              "    .dataframe tbody tr th:only-of-type {\n",
              "        vertical-align: middle;\n",
              "    }\n",
              "\n",
              "    .dataframe tbody tr th {\n",
              "        vertical-align: top;\n",
              "    }\n",
              "\n",
              "    .dataframe thead th {\n",
              "        text-align: right;\n",
              "    }\n",
              "</style>\n",
              "<table border=\"1\" class=\"dataframe\">\n",
              "  <thead>\n",
              "    <tr style=\"text-align: right;\">\n",
              "      <th></th>\n",
              "      <th>battery_power</th>\n",
              "      <th>blue</th>\n",
              "      <th>clock_speed</th>\n",
              "      <th>dual_sim</th>\n",
              "      <th>fc</th>\n",
              "      <th>four_g</th>\n",
              "      <th>int_memory</th>\n",
              "      <th>m_dep</th>\n",
              "      <th>mobile_wt</th>\n",
              "      <th>n_cores</th>\n",
              "      <th>pc</th>\n",
              "      <th>px_height</th>\n",
              "      <th>px_width</th>\n",
              "      <th>ram</th>\n",
              "      <th>sc_h</th>\n",
              "      <th>sc_w</th>\n",
              "      <th>talk_time</th>\n",
              "      <th>three_g</th>\n",
              "      <th>touch_screen</th>\n",
              "      <th>wifi</th>\n",
              "      <th>price_range</th>\n",
              "    </tr>\n",
              "  </thead>\n",
              "  <tbody>\n",
              "    <tr>\n",
              "      <th>0</th>\n",
              "      <td>842</td>\n",
              "      <td>0</td>\n",
              "      <td>2.2</td>\n",
              "      <td>0</td>\n",
              "      <td>1</td>\n",
              "      <td>0</td>\n",
              "      <td>7</td>\n",
              "      <td>0.6</td>\n",
              "      <td>188</td>\n",
              "      <td>2</td>\n",
              "      <td>2</td>\n",
              "      <td>20</td>\n",
              "      <td>756</td>\n",
              "      <td>2549</td>\n",
              "      <td>9</td>\n",
              "      <td>7</td>\n",
              "      <td>19</td>\n",
              "      <td>0</td>\n",
              "      <td>0</td>\n",
              "      <td>1</td>\n",
              "      <td>1</td>\n",
              "    </tr>\n",
              "    <tr>\n",
              "      <th>1</th>\n",
              "      <td>1021</td>\n",
              "      <td>1</td>\n",
              "      <td>0.5</td>\n",
              "      <td>1</td>\n",
              "      <td>0</td>\n",
              "      <td>1</td>\n",
              "      <td>53</td>\n",
              "      <td>0.7</td>\n",
              "      <td>136</td>\n",
              "      <td>3</td>\n",
              "      <td>6</td>\n",
              "      <td>905</td>\n",
              "      <td>1988</td>\n",
              "      <td>2631</td>\n",
              "      <td>17</td>\n",
              "      <td>3</td>\n",
              "      <td>7</td>\n",
              "      <td>1</td>\n",
              "      <td>1</td>\n",
              "      <td>0</td>\n",
              "      <td>2</td>\n",
              "    </tr>\n",
              "    <tr>\n",
              "      <th>2</th>\n",
              "      <td>563</td>\n",
              "      <td>1</td>\n",
              "      <td>0.5</td>\n",
              "      <td>1</td>\n",
              "      <td>2</td>\n",
              "      <td>1</td>\n",
              "      <td>41</td>\n",
              "      <td>0.9</td>\n",
              "      <td>145</td>\n",
              "      <td>5</td>\n",
              "      <td>6</td>\n",
              "      <td>1263</td>\n",
              "      <td>1716</td>\n",
              "      <td>2603</td>\n",
              "      <td>11</td>\n",
              "      <td>2</td>\n",
              "      <td>9</td>\n",
              "      <td>1</td>\n",
              "      <td>1</td>\n",
              "      <td>0</td>\n",
              "      <td>2</td>\n",
              "    </tr>\n",
              "    <tr>\n",
              "      <th>3</th>\n",
              "      <td>615</td>\n",
              "      <td>1</td>\n",
              "      <td>2.5</td>\n",
              "      <td>0</td>\n",
              "      <td>0</td>\n",
              "      <td>0</td>\n",
              "      <td>10</td>\n",
              "      <td>0.8</td>\n",
              "      <td>131</td>\n",
              "      <td>6</td>\n",
              "      <td>9</td>\n",
              "      <td>1216</td>\n",
              "      <td>1786</td>\n",
              "      <td>2769</td>\n",
              "      <td>16</td>\n",
              "      <td>8</td>\n",
              "      <td>11</td>\n",
              "      <td>1</td>\n",
              "      <td>0</td>\n",
              "      <td>0</td>\n",
              "      <td>2</td>\n",
              "    </tr>\n",
              "    <tr>\n",
              "      <th>4</th>\n",
              "      <td>1821</td>\n",
              "      <td>1</td>\n",
              "      <td>1.2</td>\n",
              "      <td>0</td>\n",
              "      <td>13</td>\n",
              "      <td>1</td>\n",
              "      <td>44</td>\n",
              "      <td>0.6</td>\n",
              "      <td>141</td>\n",
              "      <td>2</td>\n",
              "      <td>14</td>\n",
              "      <td>1208</td>\n",
              "      <td>1212</td>\n",
              "      <td>1411</td>\n",
              "      <td>8</td>\n",
              "      <td>2</td>\n",
              "      <td>15</td>\n",
              "      <td>1</td>\n",
              "      <td>1</td>\n",
              "      <td>0</td>\n",
              "      <td>1</td>\n",
              "    </tr>\n",
              "  </tbody>\n",
              "</table>\n",
              "</div>"
            ],
            "text/plain": [
              "   battery_power  blue  clock_speed  ...  touch_screen  wifi  price_range\n",
              "0            842     0          2.2  ...             0     1            1\n",
              "1           1021     1          0.5  ...             1     0            2\n",
              "2            563     1          0.5  ...             1     0            2\n",
              "3            615     1          2.5  ...             0     0            2\n",
              "4           1821     1          1.2  ...             1     0            1\n",
              "\n",
              "[5 rows x 21 columns]"
            ]
          },
          "metadata": {
            "tags": []
          },
          "execution_count": 7
        }
      ]
    },
    {
      "cell_type": "code",
      "metadata": {
        "id": "LnYNlkYOXSbq"
      },
      "source": [
        "def prep_data(data):\n",
        "  X_train = data[[c for c in data.columns if c != 'price_rance']].values\n",
        "  y_train = data['price_range']\n",
        "\n",
        "  X_train, X_test, y_train, y_test = train_test_split(X_train, y_train, test_size=0.8)\n",
        "\n",
        "  X_scaler = StandardScaler()\n",
        "  X_train = X_scaler.fit_transform(X_train)\n",
        "\n",
        "  X_test = X_scaler.transform(X_test)\n",
        "\n",
        "  return X_train, X_test, y_train, y_test"
      ],
      "execution_count": null,
      "outputs": []
    },
    {
      "cell_type": "code",
      "metadata": {
        "id": "AqR5fMkDRHTj"
      },
      "source": [
        "X_train, X_test, y_train, y_test = prep_data(mobile_train)"
      ],
      "execution_count": null,
      "outputs": []
    },
    {
      "cell_type": "markdown",
      "metadata": {
        "id": "OMhogG7O65hn"
      },
      "source": [
        "## Training SVM with different parameters"
      ]
    },
    {
      "cell_type": "code",
      "metadata": {
        "id": "Lp8C9aaJXjAC"
      },
      "source": [
        "svm_linear = SVC(kernel='linear')\n",
        "svm_linear = svm_linear.fit(X_train, y_train)"
      ],
      "execution_count": null,
      "outputs": []
    },
    {
      "cell_type": "code",
      "metadata": {
        "colab": {
          "base_uri": "https://localhost:8080/"
        },
        "id": "ltO599SEZpd0",
        "outputId": "9f54c95a-67f2-4abd-be05-de7a3a0f86a9"
      },
      "source": [
        "svm_linear.score(X_test, y_test)"
      ],
      "execution_count": null,
      "outputs": [
        {
          "output_type": "execute_result",
          "data": {
            "text/plain": [
              "1.0"
            ]
          },
          "metadata": {
            "tags": []
          },
          "execution_count": 11
        }
      ]
    },
    {
      "cell_type": "code",
      "metadata": {
        "id": "xac6rxeqaATF"
      },
      "source": [
        "svm_rbf_scale = SVC(kernel='rbf', gamma='scale')\n",
        "svm_rbf_scale = svm_rbf_scale.fit(X_train, y_train)"
      ],
      "execution_count": null,
      "outputs": []
    },
    {
      "cell_type": "code",
      "metadata": {
        "colab": {
          "base_uri": "https://localhost:8080/"
        },
        "id": "RQh34wTam-MD",
        "outputId": "1c4eae67-b2ce-40cd-cbc6-fd0ff2daa194"
      },
      "source": [
        "svm_rbf_scale.score(X_test, y_test)"
      ],
      "execution_count": null,
      "outputs": [
        {
          "output_type": "execute_result",
          "data": {
            "text/plain": [
              "0.995625"
            ]
          },
          "metadata": {
            "tags": []
          },
          "execution_count": 13
        }
      ]
    },
    {
      "cell_type": "code",
      "metadata": {
        "id": "411H06iKnBZy"
      },
      "source": [
        "svm_rbf_auto = SVC(kernel='rbf', gamma='auto')\n",
        "svm_rbf_auto = svm_rbf_auto.fit(X_train, y_train)"
      ],
      "execution_count": null,
      "outputs": []
    },
    {
      "cell_type": "code",
      "metadata": {
        "colab": {
          "base_uri": "https://localhost:8080/"
        },
        "id": "NmQzFcI5nSkK",
        "outputId": "ebc74910-db4c-4a83-92a0-6a0efbc5b6f7"
      },
      "source": [
        "svm_rbf_auto.score(X_test, y_test)"
      ],
      "execution_count": null,
      "outputs": [
        {
          "output_type": "execute_result",
          "data": {
            "text/plain": [
              "0.995625"
            ]
          },
          "metadata": {
            "tags": []
          },
          "execution_count": 15
        }
      ]
    },
    {
      "cell_type": "code",
      "metadata": {
        "id": "DG6HIQBgnamq"
      },
      "source": [
        "svm_poly_2 = SVC(kernel='poly', degree=2)\n",
        "svm_poly_2 = svm_poly_2.fit(X_train, y_train)"
      ],
      "execution_count": null,
      "outputs": []
    },
    {
      "cell_type": "code",
      "metadata": {
        "colab": {
          "base_uri": "https://localhost:8080/"
        },
        "id": "xDlBkWA7oEPU",
        "outputId": "ff7a602d-5da2-4a9c-f0a6-3d09c8fc7607"
      },
      "source": [
        "svm_poly_2.score(X_test, y_test)"
      ],
      "execution_count": null,
      "outputs": [
        {
          "output_type": "execute_result",
          "data": {
            "text/plain": [
              "0.5025"
            ]
          },
          "metadata": {
            "tags": []
          },
          "execution_count": 17
        }
      ]
    },
    {
      "cell_type": "code",
      "metadata": {
        "id": "W2JXb63JoGBx"
      },
      "source": [
        "svm_poly_3 = SVC(kernel='poly', degree=3)\n",
        "svm_poly_3 = svm_poly_3.fit(X_train, y_train)"
      ],
      "execution_count": null,
      "outputs": []
    },
    {
      "cell_type": "code",
      "metadata": {
        "colab": {
          "base_uri": "https://localhost:8080/"
        },
        "id": "QgaXdeHko39x",
        "outputId": "443bffa9-0eab-437e-ce1d-6915d3452c05"
      },
      "source": [
        "svm_poly_3.score(X_test, y_test)"
      ],
      "execution_count": null,
      "outputs": [
        {
          "output_type": "execute_result",
          "data": {
            "text/plain": [
              "0.795"
            ]
          },
          "metadata": {
            "tags": []
          },
          "execution_count": 19
        }
      ]
    },
    {
      "cell_type": "code",
      "metadata": {
        "id": "VKAL2zyro7uR"
      },
      "source": [
        "svm_sigmoid = SVC(kernel='sigmoid')\n",
        "svm_sigmoid = svm_sigmoid.fit(X_train, y_train)"
      ],
      "execution_count": null,
      "outputs": []
    },
    {
      "cell_type": "code",
      "metadata": {
        "colab": {
          "base_uri": "https://localhost:8080/"
        },
        "id": "mkJ1IQV0pIox",
        "outputId": "7cf26445-6f1b-43f8-9a27-713243605ff6"
      },
      "source": [
        "svm_sigmoid.score(X_test, y_test)"
      ],
      "execution_count": null,
      "outputs": [
        {
          "output_type": "execute_result",
          "data": {
            "text/plain": [
              "1.0"
            ]
          },
          "metadata": {
            "tags": []
          },
          "execution_count": 21
        }
      ]
    },
    {
      "cell_type": "markdown",
      "metadata": {
        "id": "BKHOiQt2Znh_"
      },
      "source": [
        "### Soft and hard margin"
      ]
    },
    {
      "cell_type": "code",
      "metadata": {
        "id": "yERme28-ZqDK"
      },
      "source": [
        "svm_linear = SVC(kernel='linear', C=0.1e-10)\n",
        "svm_linear = svm_linear.fit(X_train, y_train)"
      ],
      "execution_count": null,
      "outputs": []
    },
    {
      "cell_type": "code",
      "metadata": {
        "colab": {
          "base_uri": "https://localhost:8080/"
        },
        "id": "jxNV05pHZ7dI",
        "outputId": "0ac088e2-3a0c-454b-9baf-1ddc5eada7b7"
      },
      "source": [
        "svm_linear.score(X_test, y_test)"
      ],
      "execution_count": null,
      "outputs": [
        {
          "output_type": "execute_result",
          "data": {
            "text/plain": [
              "0.24"
            ]
          },
          "metadata": {
            "tags": []
          },
          "execution_count": 31
        }
      ]
    },
    {
      "cell_type": "code",
      "metadata": {
        "id": "dC1peuPKZ8ly"
      },
      "source": [
        "svm_linear = SVC(kernel='linear', C=100000000000000000000000000000)\n",
        "svm_linear = svm_linear.fit(X_train, y_train)"
      ],
      "execution_count": null,
      "outputs": []
    },
    {
      "cell_type": "code",
      "metadata": {
        "colab": {
          "base_uri": "https://localhost:8080/"
        },
        "id": "E7ee2u90aC7A",
        "outputId": "9dbd72d5-6deb-4963-9a36-55c4aa10ef27"
      },
      "source": [
        "svm_linear.score(X_test, y_test)"
      ],
      "execution_count": null,
      "outputs": [
        {
          "output_type": "execute_result",
          "data": {
            "text/plain": [
              "1.0"
            ]
          },
          "metadata": {
            "tags": []
          },
          "execution_count": 18
        }
      ]
    },
    {
      "cell_type": "markdown",
      "metadata": {
        "id": "YHm8NTCG7QML"
      },
      "source": [
        "## Data transformations"
      ]
    },
    {
      "cell_type": "markdown",
      "metadata": {
        "id": "Y-lmtZDP7G-9"
      },
      "source": [
        "### Binning features"
      ]
    },
    {
      "cell_type": "code",
      "metadata": {
        "colab": {
          "base_uri": "https://localhost:8080/"
        },
        "id": "Gcf24E36x-Qb",
        "outputId": "de203535-79e0-4369-eb42-fdd7ab6fd0d2"
      },
      "source": [
        "fig, ax = plt.subplots()\n",
        "mobile_train['battery_power'].hist(color='#A9C5D3', edgecolor='black',  \n",
        "                          grid=False)\n",
        "ax.set_title('Battery Power Histogram', fontsize=12)\n",
        "ax.set_xlabel('BP', fontsize=12)\n",
        "ax.set_ylabel('Frequency', fontsize=12)\n"
      ],
      "execution_count": null,
      "outputs": [
        {
          "output_type": "execute_result",
          "data": {
            "text/plain": [
              "Text(0, 0.5, 'Frequency')"
            ]
          },
          "metadata": {
            "tags": []
          },
          "execution_count": 22
        },
        {
          "output_type": "display_data",
          "data": {
            "image/png": "[encoded data removed]",
            "text/plain": [
              "<Figure size 432x288 with 1 Axes>"
            ]
          },
          "metadata": {
            "tags": []
          }
        }
      ]
    },
    {
      "cell_type": "markdown",
      "metadata": {
        "id": "CcF5yglu7WbO"
      },
      "source": [
        "#### Custom bins"
      ]
    },
    {
      "cell_type": "code",
      "metadata": {
        "id": "djYQgdnjx_W8"
      },
      "source": [
        "bin_ranges = [0, 650, 800, 950, 1100, 1250, 1400, 1550, 1700, 1850, 2000]\n",
        "bin_names = [1, 2, 3, 4, 5, 6, 7, 8, 9, 10]\n",
        "BP_bin1_feature = pd.Series(pd.cut(\n",
        "                                           np.array(\n",
        "                                              mobile_train['battery_power']), \n",
        "                                              bins=bin_ranges, \n",
        "                                              labels=bin_names), name='BP_bin1')\n",
        "BP_bin1 = pd.concat([mobile_train, BP_bin1_feature], axis=1)"
      ],
      "execution_count": null,
      "outputs": []
    },
    {
      "cell_type": "code",
      "metadata": {
        "colab": {
          "base_uri": "https://localhost:8080/"
        },
        "id": "Pv2erwBqST5C",
        "outputId": "88d0ebb8-b9d3-4842-e12a-cb936fef7579"
      },
      "source": [
        "X_train, X_test, y_train, y_test = prep_data(BP_bin1)\n",
        "svm_test = SVC(kernel='poly', degree=3)\n",
        "svm_test = svm_test.fit(X_train, y_train)\n",
        "svm_test.score(X_test, y_test)"
      ],
      "execution_count": null,
      "outputs": [
        {
          "output_type": "execute_result",
          "data": {
            "text/plain": [
              "0.79125"
            ]
          },
          "metadata": {
            "tags": []
          },
          "execution_count": 24
        }
      ]
    },
    {
      "cell_type": "markdown",
      "metadata": {
        "id": "STvDdnC-7a9t"
      },
      "source": [
        "#### Custom bins"
      ]
    },
    {
      "cell_type": "code",
      "metadata": {
        "id": "d8eBpvKi4n_B"
      },
      "source": [
        "bin_ranges = [0, 800, 1100, 1400, 1700, 2000]\n",
        "bin_names = [1, 2, 3, 4, 5]\n",
        "BP_bin2_feature = pd.Series(pd.cut(\n",
        "                                           np.array(\n",
        "                                              mobile_train['battery_power']), \n",
        "                                              bins=bin_ranges, \n",
        "                                              labels=bin_names), name='BP_bin2')\n",
        "BP_bin2 = pd.concat([mobile_train, BP_bin2_feature], axis=1)"
      ],
      "execution_count": null,
      "outputs": []
    },
    {
      "cell_type": "code",
      "metadata": {
        "colab": {
          "base_uri": "https://localhost:8080/"
        },
        "id": "NQM7asDkSkdY",
        "outputId": "370f1ad6-0f6a-414e-e254-75cbf8ca59b5"
      },
      "source": [
        "X_train, X_test, y_train, y_test = prep_data(BP_bin2)\n",
        "svm_test = SVC(kernel='poly', degree=3)\n",
        "svm_test = svm_test.fit(X_train, y_train)\n",
        "svm_test.score(X_test, y_test)"
      ],
      "execution_count": null,
      "outputs": [
        {
          "output_type": "execute_result",
          "data": {
            "text/plain": [
              "0.78375"
            ]
          },
          "metadata": {
            "tags": []
          },
          "execution_count": 26
        }
      ]
    },
    {
      "cell_type": "markdown",
      "metadata": {
        "id": "PHq3hOeZ7fxf"
      },
      "source": [
        "#### Quantiles bins"
      ]
    },
    {
      "cell_type": "code",
      "metadata": {
        "colab": {
          "base_uri": "https://localhost:8080/"
        },
        "id": "2Iui9eOJ5iiy",
        "outputId": "4b7f30c3-6501-4663-b35a-1501d58dc76a"
      },
      "source": [
        "quantiles = [0, .25, .5, .75, 1.]\n",
        "quantiles = mobile_train['battery_power'].quantile(quantiles)\n",
        "\n",
        "fig, ax = plt.subplots()\n",
        "mobile_train['battery_power'].hist(bins=30, color='#A9C5D3', \n",
        "                             edgecolor='black', grid=False)\n",
        "for quantile in quantiles:\n",
        "    qvl = plt.axvline(quantile, color='r')\n",
        "ax.legend([qvl], ['Quantiles'], fontsize=10)\n",
        "ax.set_title('Battery Power Histogram with Quantiles', fontsize=12)\n",
        "ax.set_xlabel('BP', fontsize=12)\n",
        "ax.set_ylabel('Frequency', fontsize=12)"
      ],
      "execution_count": null,
      "outputs": [
        {
          "output_type": "execute_result",
          "data": {
            "text/plain": [
              "Text(0, 0.5, 'Frequency')"
            ]
          },
          "metadata": {
            "tags": []
          },
          "execution_count": 27
        },
        {
          "output_type": "display_data",
          "data": {
            "image/png": "[encoded data removed]",
            "text/plain": [
              "<Figure size 432x288 with 1 Axes>"
            ]
          },
          "metadata": {
            "tags": []
          }
        }
      ]
    },
    {
      "cell_type": "code",
      "metadata": {
        "id": "DoZfz4Hp6Cod"
      },
      "source": [
        "bin_names = [1, 2, 3, 4]\n",
        "BP_bin3_feature = pd.Series(pd.qcut(\n",
        "                                            mobile_train['battery_power'], \n",
        "                                            q=[0, .25, .5, .75, 1.],       \n",
        "                                            labels=bin_names), name='BP_bin3')\n",
        "BP_bin3 = pd.concat([mobile_train, BP_bin3_feature], axis=1)"
      ],
      "execution_count": null,
      "outputs": []
    },
    {
      "cell_type": "code",
      "metadata": {
        "colab": {
          "base_uri": "https://localhost:8080/"
        },
        "id": "7BX0pQ0BSqsd",
        "outputId": "d3893121-1cd4-4321-bba3-e4a0eee1d251"
      },
      "source": [
        "X_train, X_test, y_train, y_test = prep_data(BP_bin3)\n",
        "svm_test = SVC(kernel='poly', degree=3)\n",
        "svm_test = svm_test.fit(X_train, y_train)\n",
        "svm_test.score(X_test, y_test)"
      ],
      "execution_count": null,
      "outputs": [
        {
          "output_type": "execute_result",
          "data": {
            "text/plain": [
              "0.76375"
            ]
          },
          "metadata": {
            "tags": []
          },
          "execution_count": 29
        }
      ]
    },
    {
      "cell_type": "markdown",
      "metadata": {
        "id": "tJ61md8g7kgy"
      },
      "source": [
        "### One-hot encoding"
      ]
    },
    {
      "cell_type": "code",
      "metadata": {
        "id": "h_X_mP7c8BZe"
      },
      "source": [
        "def encode_and_bind(original_dataframe, feature_to_encode):\n",
        "    dummies = pd.get_dummies(original_dataframe[feature_to_encode])\n",
        "    res = pd.concat([original_dataframe, dummies], axis=1)\n",
        "    res = res.drop([feature_to_encode], axis=1)\n",
        "    return res, dummies "
      ],
      "execution_count": null,
      "outputs": []
    },
    {
      "cell_type": "code",
      "metadata": {
        "id": "kWI7xayW6nio"
      },
      "source": [
        "res, res_features = encode_and_bind(mobile_train, 'n_cores')"
      ],
      "execution_count": null,
      "outputs": []
    },
    {
      "cell_type": "code",
      "metadata": {
        "colab": {
          "base_uri": "https://localhost:8080/"
        },
        "id": "lz2CcW-b80kk",
        "outputId": "f8a80e39-97b0-4d79-8b34-57ef630362f7"
      },
      "source": [
        "X_train, X_test, y_train, y_test = prep_data(res)\n",
        "svm_test = SVC(kernel='poly', degree=3)\n",
        "svm_test = svm_test.fit(X_train, y_train)\n",
        "svm_test.score(X_test, y_test)"
      ],
      "execution_count": null,
      "outputs": [
        {
          "output_type": "execute_result",
          "data": {
            "text/plain": [
              "0.71375"
            ]
          },
          "metadata": {
            "tags": []
          },
          "execution_count": 32
        }
      ]
    },
    {
      "cell_type": "markdown",
      "metadata": {
        "id": "kHw1a8Bk7rHt"
      },
      "source": [
        "### Log transform"
      ]
    },
    {
      "cell_type": "code",
      "metadata": {
        "colab": {
          "base_uri": "https://localhost:8080/"
        },
        "id": "SXsI6xNH809L",
        "outputId": "931e041c-2806-4f73-8a0a-72250b7ec971"
      },
      "source": [
        "fig, axes = plt.subplots(nrows=int(len(mobile_train.columns)/3), ncols=3, figsize=(20,10))\n",
        "for col, ax in zip(mobile_train, axes.ravel()):\n",
        "    mobile_train[col].value_counts().sort_index().plot.bar(ax=ax, title=col)\n",
        "\n",
        "plt.tight_layout()    \n",
        "plt.show()"
      ],
      "execution_count": null,
      "outputs": [
        {
          "output_type": "display_data",
          "data": {
            "image/png": "[encoded data removed]",
            "text/plain": [
              "<Figure size 1440x720 with 21 Axes>"
            ]
          },
          "metadata": {
            "tags": []
          }
        }
      ]
    },
    {
      "cell_type": "code",
      "metadata": {
        "id": "fIt92uBiFKqA"
      },
      "source": [
        "fc_log_feature = pd.Series(np.log((1+ mobile_train['fc'])), name='fc_log')\n",
        "fc_log = pd.concat([mobile_train, fc_log_feature], axis=1).drop(['fc'], axis=1)"
      ],
      "execution_count": null,
      "outputs": []
    },
    {
      "cell_type": "code",
      "metadata": {
        "colab": {
          "base_uri": "https://localhost:8080/"
        },
        "id": "E232eECmIQXX",
        "outputId": "37bdb1a1-705d-401b-8018-bbfcb7115dbd"
      },
      "source": [
        "fig, ax = plt.subplots()\n",
        "fc_log['fc_log'].hist(color='#A9C5D3', edgecolor='black',  \n",
        "                          grid=False)\n",
        "ax.set_title('FC Log Transformed Histogram', fontsize=12)\n",
        "ax.set_xlabel('FC Log', fontsize=12)\n",
        "ax.set_ylabel('Frequency', fontsize=12)\n"
      ],
      "execution_count": null,
      "outputs": [
        {
          "output_type": "execute_result",
          "data": {
            "text/plain": [
              "Text(0, 0.5, 'Frequency')"
            ]
          },
          "metadata": {
            "tags": []
          },
          "execution_count": 35
        },
        {
          "output_type": "display_data",
          "data": {
            "image/png": "[encoded data removed]",
            "text/plain": [
              "<Figure size 432x288 with 1 Axes>"
            ]
          },
          "metadata": {
            "tags": []
          }
        }
      ]
    },
    {
      "cell_type": "code",
      "metadata": {
        "colab": {
          "base_uri": "https://localhost:8080/"
        },
        "id": "4NWhhTMyS104",
        "outputId": "0a68af81-565a-4b0c-f5f9-135f694e869e"
      },
      "source": [
        "X_train, X_test, y_train, y_test = prep_data(fc_log)\n",
        "svm_test = SVC(kernel='poly', degree=3)\n",
        "svm_test = svm_test.fit(X_train, y_train)\n",
        "svm_test.score(X_test, y_test)"
      ],
      "execution_count": null,
      "outputs": [
        {
          "output_type": "execute_result",
          "data": {
            "text/plain": [
              "0.831875"
            ]
          },
          "metadata": {
            "tags": []
          },
          "execution_count": 36
        }
      ]
    },
    {
      "cell_type": "markdown",
      "metadata": {
        "id": "34q1vXs57ycy"
      },
      "source": [
        "### Adding area"
      ]
    },
    {
      "cell_type": "code",
      "metadata": {
        "id": "exHHLKXWISZu"
      },
      "source": [
        "area_feature = pd.Series(mobile_train['px_height']*mobile_train['px_width'], name='area')\n",
        "area = pd.concat([mobile_train, area_feature], axis=1)"
      ],
      "execution_count": null,
      "outputs": []
    },
    {
      "cell_type": "code",
      "metadata": {
        "colab": {
          "base_uri": "https://localhost:8080/"
        },
        "id": "dx61ieK-JjNv",
        "outputId": "d61696b9-9c88-412d-cfd9-9f4284290553"
      },
      "source": [
        "X_train, X_test, y_train, y_test = prep_data(area)\n",
        "svm_test = SVC(kernel='poly', degree=3)\n",
        "svm_test = svm_test.fit(X_train, y_train)\n",
        "svm_test.score(X_test, y_test)"
      ],
      "execution_count": null,
      "outputs": [
        {
          "output_type": "execute_result",
          "data": {
            "text/plain": [
              "0.798125"
            ]
          },
          "metadata": {
            "tags": []
          },
          "execution_count": 38
        }
      ]
    },
    {
      "cell_type": "markdown",
      "metadata": {
        "id": "3VDma2a071q_"
      },
      "source": [
        "### All tranformations together"
      ]
    },
    {
      "cell_type": "code",
      "metadata": {
        "colab": {
          "base_uri": "https://localhost:8080/"
        },
        "id": "8-0gMkQkJj4d",
        "outputId": "0e1ee35e-19a8-455a-9bce-88e57861a49b"
      },
      "source": [
        "final = pd.concat([area_feature, fc_log_feature, res_features, BP_bin1_feature, BP_bin2_feature, BP_bin3_feature, mobile_train], axis=1).drop(['n_cores', 'fc'], axis=1)\n",
        "X_train, X_test, y_train, y_test = prep_data(final)\n",
        "svm_test = SVC(kernel='poly', degree=3)\n",
        "svm_test = svm_test.fit(X_train, y_train)\n",
        "svm_test.score(X_test, y_test)"
      ],
      "execution_count": null,
      "outputs": [
        {
          "output_type": "execute_result",
          "data": {
            "text/plain": [
              "0.65"
            ]
          },
          "metadata": {
            "tags": []
          },
          "execution_count": 39
        }
      ]
    },
    {
      "cell_type": "markdown",
      "metadata": {
        "id": "N1orbSHe764_"
      },
      "source": [
        "## Training decision trees with different parameters"
      ]
    },
    {
      "cell_type": "code",
      "metadata": {
        "id": "PMb7iPeaWn7b"
      },
      "source": [
        "X_train, X_test, y_train, y_test = prep_data(mobile_train)"
      ],
      "execution_count": null,
      "outputs": []
    },
    {
      "cell_type": "code",
      "metadata": {
        "colab": {
          "base_uri": "https://localhost:8080/"
        },
        "id": "Z6E9LdFwUXz8",
        "outputId": "052d7cdd-b48f-439f-cafb-c37d5f48ad73"
      },
      "source": [
        "tree_clf = DecisionTreeClassifier(random_state=0)\n",
        "tree_clf.fit(X_train, y_train)\n",
        "tree_clf.score(X_test, y_test)"
      ],
      "execution_count": null,
      "outputs": [
        {
          "output_type": "execute_result",
          "data": {
            "text/plain": [
              "1.0"
            ]
          },
          "metadata": {
            "tags": []
          },
          "execution_count": 41
        }
      ]
    },
    {
      "cell_type": "code",
      "metadata": {
        "colab": {
          "base_uri": "https://localhost:8080/"
        },
        "id": "sWU_LS8fnxp9",
        "outputId": "0eee3524-0ee8-4a6a-c6f8-6ed3004bca63"
      },
      "source": [
        "parameters = {'min_samples_split':[2, 5, 10, 20], 'max_depth':[2, 5, 10, 15, 25]}\n",
        "grid_tree = GridSearchCV(tree_clf, parameters)\n",
        "grid_tree.fit(X_train, y_train)\n",
        "sorted(grid_tree.cv_results_)"
      ],
      "execution_count": null,
      "outputs": [
        {
          "output_type": "execute_result",
          "data": {
            "text/plain": [
              "['mean_fit_time',\n",
              " 'mean_score_time',\n",
              " 'mean_test_score',\n",
              " 'param_max_depth',\n",
              " 'param_min_samples_split',\n",
              " 'params',\n",
              " 'rank_test_score',\n",
              " 'split0_test_score',\n",
              " 'split1_test_score',\n",
              " 'split2_test_score',\n",
              " 'split3_test_score',\n",
              " 'split4_test_score',\n",
              " 'std_fit_time',\n",
              " 'std_score_time',\n",
              " 'std_test_score']"
            ]
          },
          "metadata": {
            "tags": []
          },
          "execution_count": 42
        }
      ]
    },
    {
      "cell_type": "code",
      "metadata": {
        "colab": {
          "base_uri": "https://localhost:8080/"
        },
        "id": "Tn5sAsJgpW6A",
        "outputId": "81f2c1ef-6d30-4284-fe2c-016f14442693"
      },
      "source": [
        "print(grid_tree.cv_results_['param_max_depth'])\n",
        "print(grid_tree.cv_results_['param_min_samples_split'])\n",
        "print(grid_tree.cv_results_['mean_test_score'])"
      ],
      "execution_count": null,
      "outputs": [
        {
          "output_type": "stream",
          "text": [
            "[2 2 2 2 5 5 5 5 10 10 10 10 15 15 15 15 25 25 25 25]\n",
            "[2 5 10 20 2 5 10 20 2 5 10 20 2 5 10 20 2 5 10 20]\n",
            "[0.7575 0.7575 0.7575 0.7575 1.     1.     1.     1.     1.     1.\n",
            " 1.     1.     1.     1.     1.     1.     1.     1.     1.     1.    ]\n"
          ],
          "name": "stdout"
        }
      ]
    },
    {
      "cell_type": "markdown",
      "metadata": {
        "id": "lXX9WbRH8COU"
      },
      "source": [
        "## Training random forest"
      ]
    },
    {
      "cell_type": "code",
      "metadata": {
        "colab": {
          "base_uri": "https://localhost:8080/"
        },
        "id": "SgWu2-dIppGJ",
        "outputId": "6e9dc77f-d576-4a72-88a6-5a036ba951bd"
      },
      "source": [
        "rf = RandomForestClassifier(max_depth=2, random_state=0)\n",
        "rf.fit(X_train, y_train)\n",
        "rf.score(X_test, y_test)"
      ],
      "execution_count": null,
      "outputs": [
        {
          "output_type": "execute_result",
          "data": {
            "text/plain": [
              "0.911875"
            ]
          },
          "metadata": {
            "tags": []
          },
          "execution_count": 44
        }
      ]
    },
    {
      "cell_type": "code",
      "metadata": {
        "id": "uiiCfzVl6ajv"
      },
      "source": [
        ""
      ],
      "execution_count": null,
      "outputs": []
    },
    {
      "cell_type": "markdown",
      "metadata": {
        "id": "CKTmKTpOayH7"
      },
      "source": [
        "# BitCoin Data"
      ]
    },
    {
      "cell_type": "markdown",
      "metadata": {
        "id": "RxI-J9utmaC1"
      },
      "source": [
        "##Data Preprocessing"
      ]
    },
    {
      "cell_type": "code",
      "metadata": {
        "id": "607Q_3sHa0YA"
      },
      "source": [
        "bit = pd.read_csv('bitcoin.csv')"
      ],
      "execution_count": null,
      "outputs": []
    },
    {
      "cell_type": "code",
      "metadata": {
        "colab": {
          "base_uri": "https://localhost:8080/",
          "height": 198
        },
        "id": "WqCrqPdibDVR",
        "outputId": "bcdcacda-c4f6-4874-e1c2-307f2730a89e"
      },
      "source": [
        "bit.head()"
      ],
      "execution_count": null,
      "outputs": [
        {
          "output_type": "execute_result",
          "data": {
            "text/html": [
              "<div>\n",
              "<style scoped>\n",
              "    .dataframe tbody tr th:only-of-type {\n",
              "        vertical-align: middle;\n",
              "    }\n",
              "\n",
              "    .dataframe tbody tr th {\n",
              "        vertical-align: top;\n",
              "    }\n",
              "\n",
              "    .dataframe thead th {\n",
              "        text-align: right;\n",
              "    }\n",
              "</style>\n",
              "<table border=\"1\" class=\"dataframe\">\n",
              "  <thead>\n",
              "    <tr style=\"text-align: right;\">\n",
              "      <th></th>\n",
              "      <th>Date</th>\n",
              "      <th>Price</th>\n",
              "      <th>Open</th>\n",
              "      <th>High</th>\n",
              "      <th>Low</th>\n",
              "      <th>Vol.</th>\n",
              "      <th>Change %</th>\n",
              "    </tr>\n",
              "  </thead>\n",
              "  <tbody>\n",
              "    <tr>\n",
              "      <th>0</th>\n",
              "      <td>May 01, 2021</td>\n",
              "      <td>57,807.1</td>\n",
              "      <td>57,719.1</td>\n",
              "      <td>58,449.4</td>\n",
              "      <td>57,029.5</td>\n",
              "      <td>63.41K</td>\n",
              "      <td>0.15%</td>\n",
              "    </tr>\n",
              "    <tr>\n",
              "      <th>1</th>\n",
              "      <td>Apr 30, 2021</td>\n",
              "      <td>57,720.3</td>\n",
              "      <td>53,562.3</td>\n",
              "      <td>57,925.6</td>\n",
              "      <td>53,088.7</td>\n",
              "      <td>103.74K</td>\n",
              "      <td>7.77%</td>\n",
              "    </tr>\n",
              "    <tr>\n",
              "      <th>2</th>\n",
              "      <td>Apr 29, 2021</td>\n",
              "      <td>53,560.8</td>\n",
              "      <td>54,838.6</td>\n",
              "      <td>55,173.7</td>\n",
              "      <td>52,400.0</td>\n",
              "      <td>83.90K</td>\n",
              "      <td>-2.34%</td>\n",
              "    </tr>\n",
              "    <tr>\n",
              "      <th>3</th>\n",
              "      <td>Apr 28, 2021</td>\n",
              "      <td>54,841.4</td>\n",
              "      <td>55,036.0</td>\n",
              "      <td>56,419.9</td>\n",
              "      <td>53,876.4</td>\n",
              "      <td>86.96K</td>\n",
              "      <td>-0.35%</td>\n",
              "    </tr>\n",
              "    <tr>\n",
              "      <th>4</th>\n",
              "      <td>Apr 27, 2021</td>\n",
              "      <td>55,036.5</td>\n",
              "      <td>54,011.1</td>\n",
              "      <td>55,427.8</td>\n",
              "      <td>53,345.0</td>\n",
              "      <td>84.08K</td>\n",
              "      <td>1.88%</td>\n",
              "    </tr>\n",
              "  </tbody>\n",
              "</table>\n",
              "</div>"
            ],
            "text/plain": [
              "           Date     Price      Open      High       Low     Vol. Change %\n",
              "0  May 01, 2021  57,807.1  57,719.1  58,449.4  57,029.5   63.41K    0.15%\n",
              "1  Apr 30, 2021  57,720.3  53,562.3  57,925.6  53,088.7  103.74K    7.77%\n",
              "2  Apr 29, 2021  53,560.8  54,838.6  55,173.7  52,400.0   83.90K   -2.34%\n",
              "3  Apr 28, 2021  54,841.4  55,036.0  56,419.9  53,876.4   86.96K   -0.35%\n",
              "4  Apr 27, 2021  55,036.5  54,011.1  55,427.8  53,345.0   84.08K    1.88%"
            ]
          },
          "metadata": {
            "tags": []
          },
          "execution_count": 4
        }
      ]
    },
    {
      "cell_type": "code",
      "metadata": {
        "id": "f1iEx8M1ddFm"
      },
      "source": [
        "def mdy_to_ymd(d):\n",
        "     return datetime.strptime(d, '%b %d, %Y').strftime('%Y-%m-%d')\n",
        "\n",
        "def fix_numbers(string):\n",
        "     fixed = string.replace(',', '').replace('K', '000').replace('M', '000000').replace('%', '')\n",
        "     if fixed == '-':\n",
        "       fixed = '-1'\n",
        "     return float(fixed)"
      ],
      "execution_count": null,
      "outputs": []
    },
    {
      "cell_type": "code",
      "metadata": {
        "id": "tV9x5el2bEhR"
      },
      "source": [
        "bit['date'] = bit.Date.apply(mdy_to_ymd)\n",
        "bit['date'] = pd.to_datetime(bit.date)\n",
        "bit.drop('Date', axis=1, inplace=True)\n",
        "bit.set_index('date', inplace=True)\n",
        "\n",
        "numerics = [c for c in bit.columns if c!='date']\n",
        "bit[numerics] = bit[numerics].applymap(fix_numbers)"
      ],
      "execution_count": null,
      "outputs": []
    },
    {
      "cell_type": "code",
      "metadata": {
        "id": "69It2QVoI4VD"
      },
      "source": [
        "scaler = StandardScaler()\n",
        "bit['Price'] = scaler.fit_transform(bit['Price'].values.reshape(-1, 1))"
      ],
      "execution_count": null,
      "outputs": []
    },
    {
      "cell_type": "code",
      "metadata": {
        "colab": {
          "base_uri": "https://localhost:8080/"
        },
        "id": "m-IjkbwsdNwK",
        "outputId": "497e86d2-6cd4-4b41-e2dc-a707b67cf1e9"
      },
      "source": [
        "bit_train = bit[bit.index<'2020-01-02']\n",
        "bit_test = bit[bit.index>='2020-01-02']\n",
        "print('training data shape : ', bit_train.shape)\n",
        "print('test data shape : ', bit_test.shape)"
      ],
      "execution_count": null,
      "outputs": [
        {
          "output_type": "stream",
          "text": [
            "training data shape :  (3455, 6)\n",
            "test data shape :  (486, 6)\n"
          ],
          "name": "stdout"
        }
      ]
    },
    {
      "cell_type": "code",
      "metadata": {
        "colab": {
          "base_uri": "https://localhost:8080/",
          "height": 297
        },
        "id": "KdMySiJMsF52",
        "outputId": "9cd52967-c70d-4540-adf4-39c5dd7caec3"
      },
      "source": [
        "bit_train['Vol.'].sort_index().plot()"
      ],
      "execution_count": null,
      "outputs": [
        {
          "output_type": "execute_result",
          "data": {
            "text/plain": [
              "<matplotlib.axes._subplots.AxesSubplot at 0x7fc2c052ef10>"
            ]
          },
          "metadata": {
            "tags": []
          },
          "execution_count": 8
        },
        {
          "output_type": "display_data",
          "data": {
            "image/png": "[encoded data removed]",
            "text/plain": [
              "<Figure size 432x288 with 1 Axes>"
            ]
          },
          "metadata": {
            "tags": []
          }
        }
      ]
    },
    {
      "cell_type": "code",
      "metadata": {
        "colab": {
          "base_uri": "https://localhost:8080/",
          "height": 296
        },
        "id": "tXN02v3HkehP",
        "outputId": "42322b44-fcf8-4cdd-9b61-c08f0454f160"
      },
      "source": [
        "bit_train.Price.sort_index().plot()"
      ],
      "execution_count": null,
      "outputs": [
        {
          "output_type": "execute_result",
          "data": {
            "text/plain": [
              "<matplotlib.axes._subplots.AxesSubplot at 0x7f727ee16b10>"
            ]
          },
          "metadata": {
            "tags": []
          },
          "execution_count": 10
        },
        {
          "output_type": "display_data",
          "data": {
            "image/png": "[encoded data removed]",
            "text/plain": [
              "<Figure size 432x288 with 1 Axes>"
            ]
          },
          "metadata": {
            "tags": []
          }
        }
      ]
    },
    {
      "cell_type": "code",
      "metadata": {
        "colab": {
          "base_uri": "https://localhost:8080/",
          "height": 308
        },
        "id": "xP3LVOBY6E_y",
        "outputId": "f7acbaf7-14e7-449e-a871-83a342c292f1"
      },
      "source": [
        "bit_test.Price.sort_index().plot()"
      ],
      "execution_count": null,
      "outputs": [
        {
          "output_type": "execute_result",
          "data": {
            "text/plain": [
              "<matplotlib.axes._subplots.AxesSubplot at 0x7f727e7fdb50>"
            ]
          },
          "metadata": {
            "tags": []
          },
          "execution_count": 11
        },
        {
          "output_type": "display_data",
          "data": {
            "image/png": "[encoded data removed]",
            "text/plain": [
              "<Figure size 432x288 with 1 Axes>"
            ]
          },
          "metadata": {
            "tags": []
          }
        }
      ]
    },
    {
      "cell_type": "code",
      "metadata": {
        "id": "XNvR1YEPdqsZ"
      },
      "source": [
        "def prep_time_series(df, input_ts=30, output_ts=1):\n",
        "  X_train = []\n",
        "  y_train = []\n",
        "\n",
        "  df = df.sort_index()\n",
        "  for i in tqdm(range(len(df)-input_ts-output_ts) ):\n",
        "    X_train.append(df.iloc[i: i+input_ts]['Price'])\n",
        "    y_train.append(df.iloc[i+input_ts: i+input_ts+output_ts]['Price'].values)\n",
        "\n",
        "  return np.array(X_train), np.array(y_train)"
      ],
      "execution_count": null,
      "outputs": []
    },
    {
      "cell_type": "code",
      "metadata": {
        "colab": {
          "base_uri": "https://localhost:8080/",
          "height": 117,
          "referenced_widgets": [
            "f9bf84c902c440fb9b33f4619dc70fa0",
            "41c74d22478441f5b2f83983ad763e0c",
            "f54226bb448e4a3ab43b60bca7ea29f2",
            "d5fcdde9cc2e48bb9b647d9db0baef51",
            "4c337b5994ac4f2cbc63938a770310e8",
            "19b00afa6b094861a84454a1cd539b8d",
            "ba58004003914e25bed855fe2a6fb757",
            "b0c62bf9e94e415a9a367de1dd058d3c",
            "3741e181643e4f909f7ee22aa648ed08",
            "d47f439efe664ea89b7a29300ed024c0",
            "2f90354def7d44048678026d067fd97a",
            "8d22fd25cb0845a9b14817de791cfbc2",
            "5f8560a7e82e47da8fdf3a50b9c89532",
            "cb4ca3c2146e43e086046ba4f61b7383",
            "9714583f760e4dee9abd69679bfd63d3",
            "3b03205f179c4e9b966027edbfa7947a"
          ]
        },
        "id": "LJrTqZQQSF0w",
        "outputId": "3ef6b9d3-6f34-4244-dda2-68ce8db9e606"
      },
      "source": [
        "X_train, y_train = prep_time_series(bit_train, input_ts=7)\n",
        "y_train = y_train.reshape(-1,)\n",
        "X_test, y_test = prep_time_series(bit_test, input_ts=7)\n",
        "y_test = y_test.reshape(-1,)"
      ],
      "execution_count": null,
      "outputs": [
        {
          "output_type": "display_data",
          "data": {
            "application/vnd.jupyter.widget-view+json": {
              "model_id": "f9bf84c902c440fb9b33f4619dc70fa0",
              "version_major": 2,
              "version_minor": 0
            },
            "text/plain": [
              "HBox(children=(FloatProgress(value=0.0, max=3447.0), HTML(value='')))"
            ]
          },
          "metadata": {
            "tags": []
          }
        },
        {
          "output_type": "stream",
          "text": [
            "\n"
          ],
          "name": "stdout"
        },
        {
          "output_type": "display_data",
          "data": {
            "application/vnd.jupyter.widget-view+json": {
              "model_id": "3741e181643e4f909f7ee22aa648ed08",
              "version_major": 2,
              "version_minor": 0
            },
            "text/plain": [
              "HBox(children=(FloatProgress(value=0.0, max=478.0), HTML(value='')))"
            ]
          },
          "metadata": {
            "tags": []
          }
        },
        {
          "output_type": "stream",
          "text": [
            "\n"
          ],
          "name": "stdout"
        }
      ]
    },
    {
      "cell_type": "markdown",
      "metadata": {
        "id": "R3plGDkrm97P"
      },
      "source": [
        "## Trying different models for prediction"
      ]
    },
    {
      "cell_type": "code",
      "metadata": {
        "id": "oHgCBCjV3y1D"
      },
      "source": [
        "def accuracy(y_hat, y_test, alpha=.05):\n",
        "  error = np.abs(y_test.flatten() - y_hat)\n",
        "  error_rate = error/y_test.flatten()\n",
        "  res = error_rate < alpha\n",
        "\n",
        "  return res.sum()/res.shape[0]"
      ],
      "execution_count": null,
      "outputs": []
    },
    {
      "cell_type": "code",
      "metadata": {
        "id": "3J7DZ06fY3NH"
      },
      "source": [
        "def res_report(y_test, y_hat):\n",
        "  y_hat = scaler.inverse_transform(y_hat)\n",
        "  y_test = scaler.inverse_transform(y_test)\n",
        "  print('RMSE : ', mean_squared_error(y_test, y_hat, squared=False))\n",
        "  print('--------------------------------------------------------------')\n",
        "  print('accuracy with 5% error : ', accuracy(y_test, y_hat))"
      ],
      "execution_count": null,
      "outputs": []
    },
    {
      "cell_type": "code",
      "metadata": {
        "colab": {
          "base_uri": "https://localhost:8080/"
        },
        "id": "e4DMslMXSLud",
        "outputId": "78e9487a-21f7-4216-b6d7-f4eb7aa19007"
      },
      "source": [
        "X_train.shape"
      ],
      "execution_count": null,
      "outputs": [
        {
          "output_type": "execute_result",
          "data": {
            "text/plain": [
              "(3447, 7)"
            ]
          },
          "metadata": {
            "tags": []
          },
          "execution_count": 23
        }
      ]
    },
    {
      "cell_type": "markdown",
      "metadata": {
        "id": "eJWxl9DRnB_D"
      },
      "source": [
        "### Random Forest"
      ]
    },
    {
      "cell_type": "code",
      "metadata": {
        "colab": {
          "base_uri": "https://localhost:8080/"
        },
        "id": "MJYY7589qIZC",
        "outputId": "8604fb26-5ebc-4eab-8cd7-e72cd6c9899b"
      },
      "source": [
        "rf_reg = RandomForestRegressor()\n",
        "parameters = {'n_estimators':[10, 50, 100, 200, 500], 'min_samples_split':[10, 20, 50], 'max_depth':[3, 5, 7]}\n",
        "grid_reg = GridSearchCV(rf_reg, parameters)\n",
        "grid_reg.fit(X_train, y_train)\n",
        "sorted(grid_reg.cv_results_)"
      ],
      "execution_count": null,
      "outputs": [
        {
          "output_type": "execute_result",
          "data": {
            "text/plain": [
              "['mean_fit_time',\n",
              " 'mean_score_time',\n",
              " 'mean_test_score',\n",
              " 'param_max_depth',\n",
              " 'param_min_samples_split',\n",
              " 'param_n_estimators',\n",
              " 'params',\n",
              " 'rank_test_score',\n",
              " 'split0_test_score',\n",
              " 'split1_test_score',\n",
              " 'split2_test_score',\n",
              " 'split3_test_score',\n",
              " 'split4_test_score',\n",
              " 'std_fit_time',\n",
              " 'std_score_time',\n",
              " 'std_test_score']"
            ]
          },
          "metadata": {
            "tags": []
          },
          "execution_count": 15
        }
      ]
    },
    {
      "cell_type": "code",
      "metadata": {
        "colab": {
          "base_uri": "https://localhost:8080/"
        },
        "id": "hPXdVxB5rS0X",
        "outputId": "bbac03ab-4ada-4278-b79d-e25dfa49bcb8"
      },
      "source": [
        "print(grid_reg.cv_results_['param_max_depth'])\n",
        "print(grid_reg.cv_results_['param_min_samples_split'])\n",
        "print(grid_reg.cv_results_['param_n_estimators'])\n",
        "print(grid_reg.cv_results_['mean_test_score'])"
      ],
      "execution_count": null,
      "outputs": [
        {
          "output_type": "stream",
          "text": [
            "[3 3 3 3 3 3 3 3 3 3 3 3 3 3 3 5 5 5 5 5 5 5 5 5 5 5 5 5 5 5 7 7 7 7 7 7 7\n",
            " 7 7 7 7 7 7 7 7]\n",
            "[10 10 10 10 10 20 20 20 20 20 50 50 50 50 50 10 10 10 10 10 20 20 20 20\n",
            " 20 50 50 50 50 50 10 10 10 10 10 20 20 20 20 20 50 50 50 50 50]\n",
            "[10 50 100 200 500 10 50 100 200 500 10 50 100 200 500 10 50 100 200 500\n",
            " 10 50 100 200 500 10 50 100 200 500 10 50 100 200 500 10 50 100 200 500\n",
            " 10 50 100 200 500]\n",
            "[-4.60844047e+02 -4.52998709e+02 -4.56324860e+02 -4.55161361e+02\n",
            " -4.55683128e+02 -4.45382789e+02 -4.52538186e+02 -4.53154692e+02\n",
            " -4.55581775e+02 -4.53013574e+02 -4.60448886e+02 -4.61847071e+02\n",
            " -4.54898841e+02 -4.52019540e+02 -4.53677601e+02 -3.96667559e-01\n",
            " -3.57942995e-01 -3.79067703e-01 -3.99998788e-01 -3.87581980e-01\n",
            " -4.44048921e-01 -3.87640469e-01 -3.96605593e-01 -4.07650054e-01\n",
            " -4.00298986e-01 -3.67389222e-01 -4.76604126e-01 -4.31470353e-01\n",
            " -4.35739824e-01 -4.34070660e-01  4.40016081e-01  4.02699772e-01\n",
            "  3.96117433e-01  4.11708960e-01  4.08379279e-01  4.21573299e-01\n",
            "  3.85388562e-01  4.05835601e-01  4.06698109e-01  4.01147031e-01\n",
            "  3.30995177e-01  3.35257035e-01  3.55230799e-01  3.72327797e-01\n",
            "  3.56709629e-01]\n"
          ],
          "name": "stdout"
        }
      ]
    },
    {
      "cell_type": "code",
      "metadata": {
        "colab": {
          "base_uri": "https://localhost:8080/"
        },
        "id": "SBIQhkB6ogk3",
        "outputId": "1df1f62e-627f-4bf6-e425-6aad438459b5"
      },
      "source": [
        "grid_reg.best_estimator_"
      ],
      "execution_count": null,
      "outputs": [
        {
          "output_type": "execute_result",
          "data": {
            "text/plain": [
              "RandomForestRegressor(bootstrap=True, ccp_alpha=0.0, criterion='mse',\n",
              "                      max_depth=7, max_features='auto', max_leaf_nodes=None,\n",
              "                      max_samples=None, min_impurity_decrease=0.0,\n",
              "                      min_impurity_split=None, min_samples_leaf=1,\n",
              "                      min_samples_split=10, min_weight_fraction_leaf=0.0,\n",
              "                      n_estimators=10, n_jobs=None, oob_score=False,\n",
              "                      random_state=None, verbose=0, warm_start=False)"
            ]
          },
          "metadata": {
            "tags": []
          },
          "execution_count": 17
        }
      ]
    },
    {
      "cell_type": "code",
      "metadata": {
        "colab": {
          "base_uri": "https://localhost:8080/"
        },
        "id": "HsdBZ2PGr6zs",
        "outputId": "fa6e0ff8-b20d-40e1-8a98-ab1ba6d78dd6"
      },
      "source": [
        "res_report(y_test, grid_reg.best_estimator_.predict(X_test))"
      ],
      "execution_count": null,
      "outputs": [
        {
          "output_type": "stream",
          "text": [
            "RMSE :  16329.027051500707\n",
            "--------------------------------------------------------------\n",
            "accuracy with 5% error :  0.5397489539748954\n"
          ],
          "name": "stdout"
        }
      ]
    },
    {
      "cell_type": "markdown",
      "metadata": {
        "id": "chLh4ff6nGxz"
      },
      "source": [
        "### MLP Regessor"
      ]
    },
    {
      "cell_type": "code",
      "metadata": {
        "id": "Cfp5NexlxfrI"
      },
      "source": [
        "nn_reg = MLPRegressor(max_iter=500).fit(X_train, y_train)"
      ],
      "execution_count": null,
      "outputs": []
    },
    {
      "cell_type": "code",
      "metadata": {
        "colab": {
          "base_uri": "https://localhost:8080/"
        },
        "id": "B-tcwx1j4OJo",
        "outputId": "6be2d8d5-e20a-4031-ebf3-b0120233a2a6"
      },
      "source": [
        "res_report(y_test, nn_reg.predict(X_test))"
      ],
      "execution_count": null,
      "outputs": [
        {
          "output_type": "stream",
          "text": [
            "RMSE :  4637.311646596395\n",
            "--------------------------------------------------------------\n",
            "accuracy with 5% error :  0.5585774058577406\n"
          ],
          "name": "stdout"
        }
      ]
    },
    {
      "cell_type": "markdown",
      "metadata": {
        "id": "xl_IPe5KnRUV"
      },
      "source": [
        "### Gradient Boosting"
      ]
    },
    {
      "cell_type": "code",
      "metadata": {
        "id": "UL6PeHD22nvH"
      },
      "source": [
        "gb = GradientBoostingRegressor(n_estimators=50, max_depth=2, learning_rate=0.1).fit(X_train, y_train)"
      ],
      "execution_count": null,
      "outputs": []
    },
    {
      "cell_type": "code",
      "metadata": {
        "colab": {
          "base_uri": "https://localhost:8080/"
        },
        "id": "-2faLZeC4DFr",
        "outputId": "a6a87827-cebe-40f3-dd7d-c6a1dbb956c2"
      },
      "source": [
        "res_report(y_test, gb.predict(X_test))"
      ],
      "execution_count": null,
      "outputs": [
        {
          "output_type": "stream",
          "text": [
            "RMSE :  16112.93608767365\n",
            "--------------------------------------------------------------\n",
            "accuracy with 5% error :  0.5878661087866108\n"
          ],
          "name": "stdout"
        }
      ]
    },
    {
      "cell_type": "markdown",
      "metadata": {
        "id": "0Zg8RDVsTqgA"
      },
      "source": [
        "### XgBoost"
      ]
    },
    {
      "cell_type": "code",
      "metadata": {
        "colab": {
          "base_uri": "https://localhost:8080/"
        },
        "id": "8URl1OQuTtKI",
        "outputId": "0f1efcc0-130c-4d28-eea1-d3df40483481"
      },
      "source": [
        "xgb = XGBRegressor().fit(X_train, y_train)"
      ],
      "execution_count": null,
      "outputs": [
        {
          "output_type": "stream",
          "text": [
            "[13:52:42] WARNING: /workspace/src/objective/regression_obj.cu:152: reg:linear is now deprecated in favor of reg:squarederror.\n"
          ],
          "name": "stdout"
        }
      ]
    },
    {
      "cell_type": "code",
      "metadata": {
        "colab": {
          "base_uri": "https://localhost:8080/"
        },
        "id": "MIdD4enyUc1Z",
        "outputId": "42bb82b2-89fe-4759-cd7f-d96997bfe220"
      },
      "source": [
        "res_report(y_test, xgb.predict(X_test))"
      ],
      "execution_count": null,
      "outputs": [
        {
          "output_type": "stream",
          "text": [
            "RMSE :  16443.322527470613\n",
            "--------------------------------------------------------------\n",
            "accuracy with 5% error :  0.5732217573221757\n"
          ],
          "name": "stdout"
        }
      ]
    },
    {
      "cell_type": "markdown",
      "metadata": {
        "id": "NdkIYSN1p4Mt"
      },
      "source": [
        "### AdaBoost"
      ]
    },
    {
      "cell_type": "code",
      "metadata": {
        "id": "xGEQJF9Np8We"
      },
      "source": [
        "ada = AdaBoostRegressor()"
      ],
      "execution_count": null,
      "outputs": []
    },
    {
      "cell_type": "code",
      "metadata": {
        "colab": {
          "base_uri": "https://localhost:8080/"
        },
        "id": "vSHWgjnrtGM-",
        "outputId": "fd8658b0-4413-47c3-c7bb-7d78e8f500c4"
      },
      "source": [
        "ada = AdaBoostRegressor(n_estimators=100).fit(X_train, y_train)\n",
        "parameters = {'n_estimators':[10, 50, 100, 200, 500], 'learning_rate':[1, .1, .01], 'loss':['linear', 'square']}\n",
        "grid_ada = GridSearchCV(ada, parameters, scoring='r2')\n",
        "grid_ada.fit(X_train, y_train)\n",
        "sorted(grid_ada.cv_results_)"
      ],
      "execution_count": null,
      "outputs": [
        {
          "output_type": "execute_result",
          "data": {
            "text/plain": [
              "['mean_fit_time',\n",
              " 'mean_score_time',\n",
              " 'mean_test_score',\n",
              " 'param_learning_rate',\n",
              " 'param_loss',\n",
              " 'param_n_estimators',\n",
              " 'params',\n",
              " 'rank_test_score',\n",
              " 'split0_test_score',\n",
              " 'split1_test_score',\n",
              " 'split2_test_score',\n",
              " 'split3_test_score',\n",
              " 'split4_test_score',\n",
              " 'std_fit_time',\n",
              " 'std_score_time',\n",
              " 'std_test_score']"
            ]
          },
          "metadata": {
            "tags": []
          },
          "execution_count": 33
        }
      ]
    },
    {
      "cell_type": "code",
      "metadata": {
        "colab": {
          "base_uri": "https://localhost:8080/"
        },
        "id": "k1Rf26gpt4LQ",
        "outputId": "0b52e7d6-fa70-40d5-f408-13f56dddeb65"
      },
      "source": [
        "grid_ada.best_estimator_"
      ],
      "execution_count": null,
      "outputs": [
        {
          "output_type": "execute_result",
          "data": {
            "text/plain": [
              "AdaBoostRegressor(base_estimator=None, learning_rate=0.01, loss='square',\n",
              "                  n_estimators=50, random_state=None)"
            ]
          },
          "metadata": {
            "tags": []
          },
          "execution_count": 34
        }
      ]
    },
    {
      "cell_type": "code",
      "metadata": {
        "colab": {
          "base_uri": "https://localhost:8080/"
        },
        "id": "Vwb60Hw1qhuJ",
        "outputId": "8a7997b0-a664-4e99-e422-c811aa905c69"
      },
      "source": [
        "res_report(y_test, ada.predict(X_test))"
      ],
      "execution_count": null,
      "outputs": [
        {
          "output_type": "stream",
          "text": [
            "RMSE :  15761.331683344924\n",
            "--------------------------------------------------------------\n",
            "accuracy with 5% error :  0.5460251046025104\n"
          ],
          "name": "stdout"
        }
      ]
    },
    {
      "cell_type": "markdown",
      "metadata": {
        "id": "FqWuto0vnn0b"
      },
      "source": [
        "### SVM Regression"
      ]
    },
    {
      "cell_type": "code",
      "metadata": {
        "id": "r1u3LsCp4dCL"
      },
      "source": [
        "svm_reg = SVR().fit(X_train, y_train)"
      ],
      "execution_count": null,
      "outputs": []
    },
    {
      "cell_type": "code",
      "metadata": {
        "colab": {
          "base_uri": "https://localhost:8080/"
        },
        "id": "ZyiOeFuK40zA",
        "outputId": "a2e4b193-abf8-4ea2-96c8-c65b3508b9df"
      },
      "source": [
        "res_report(y_test, svm_reg.predict(X_test))"
      ],
      "execution_count": null,
      "outputs": [
        {
          "output_type": "stream",
          "text": [
            "RMSE :  19797.625679009638\n",
            "--------------------------------------------------------------\n",
            "accuracy with 5% error :  0.5711297071129707\n"
          ],
          "name": "stdout"
        }
      ]
    },
    {
      "cell_type": "markdown",
      "metadata": {
        "id": "eNEtGoyzn98o"
      },
      "source": [
        "### Vanilla RNN"
      ]
    },
    {
      "cell_type": "code",
      "metadata": {
        "colab": {
          "base_uri": "https://localhost:8080/",
          "height": 117,
          "referenced_widgets": [
            "ce32fa1c17e74d8dbaea3804f95d175e",
            "a296d157a9364c808cec1a0e61233b66",
            "b5b6dda57efb4fa59936ba3111a35e41",
            "ea731a57b61f4b839db17d14ecb13469",
            "d2203b7a0e0046ecafee700c1d450709",
            "4f6f036eb95749bc9d6c1a8df3512b9d",
            "c03bc87415b140f18385d2511c696ab4",
            "9861f3583de1455481523136c31d9a1d",
            "aff97a507d0b40ca9b683b0cd1e86d53",
            "6dd3ca966cfe4ab1a586c6e37a2222d4",
            "d10eb0533574456f83c547db8a9e8880",
            "9d83cbae7b674391a5760feac1f5a9e2",
            "f3c8011d5d3e4203960d67c2b895789f",
            "98b6e86303754ae78828adb96c962aad",
            "e6055a7dc7c749ceae7273e45d32206a",
            "bd327dd9ef50420b9de3d2567718267f"
          ]
        },
        "id": "FQGbljDynvmd",
        "outputId": "b5591ee6-85a8-405d-b410-75ceddb141f4"
      },
      "source": [
        "lookback = 7\n",
        "X_train, y_train = prep_time_series(bit_train, input_ts=lookback)\n",
        "y_train = y_train.reshape(-1, 1)\n",
        "X_train = X_train.reshape(-1,lookback, 1)\n",
        "X_test, y_test = prep_time_series(bit_test, input_ts=lookback)\n",
        "y_test = y_test.reshape(-1, 1)\n",
        "X_test = X_test.reshape(-1,lookback, 1)\n",
        "X_train, X_val, y_train, y_val = train_test_split(X_train, y_train, test_size=.2, shuffle=False)"
      ],
      "execution_count": null,
      "outputs": [
        {
          "output_type": "display_data",
          "data": {
            "application/vnd.jupyter.widget-view+json": {
              "model_id": "ce32fa1c17e74d8dbaea3804f95d175e",
              "version_major": 2,
              "version_minor": 0
            },
            "text/plain": [
              "HBox(children=(FloatProgress(value=0.0, max=3447.0), HTML(value='')))"
            ]
          },
          "metadata": {
            "tags": []
          }
        },
        {
          "output_type": "stream",
          "text": [
            "\n"
          ],
          "name": "stdout"
        },
        {
          "output_type": "display_data",
          "data": {
            "application/vnd.jupyter.widget-view+json": {
              "model_id": "aff97a507d0b40ca9b683b0cd1e86d53",
              "version_major": 2,
              "version_minor": 0
            },
            "text/plain": [
              "HBox(children=(FloatProgress(value=0.0, max=478.0), HTML(value='')))"
            ]
          },
          "metadata": {
            "tags": []
          }
        },
        {
          "output_type": "stream",
          "text": [
            "\n"
          ],
          "name": "stdout"
        }
      ]
    },
    {
      "cell_type": "code",
      "metadata": {
        "id": "3IR17iy7_TKE"
      },
      "source": [
        "from torch.utils.data import TensorDataset, DataLoader\n",
        "\n",
        "batch_size = 64\n",
        "\n",
        "train_features = torch.Tensor(X_train)\n",
        "train_targets = torch.Tensor(y_train)\n",
        "val_features = torch.Tensor(X_val)\n",
        "val_targets = torch.Tensor(y_val)\n",
        "test_features = torch.Tensor(X_test)\n",
        "test_targets = torch.Tensor(y_test)\n",
        "\n",
        "train = TensorDataset(train_features, train_targets)\n",
        "val = TensorDataset(val_features, val_targets)\n",
        "test = TensorDataset(test_features, test_targets)\n",
        "\n",
        "train_loader = DataLoader(train, batch_size=batch_size, shuffle=False, drop_last=True)\n",
        "val_loader = DataLoader(val, batch_size=batch_size, shuffle=False, drop_last=True)\n",
        "test_loader = DataLoader(test, batch_size=batch_size, shuffle=False, drop_last=True)\n",
        "test_loader_one = DataLoader(test, batch_size=1, shuffle=False, drop_last=True)"
      ],
      "execution_count": null,
      "outputs": []
    },
    {
      "cell_type": "code",
      "metadata": {
        "id": "eGXcphGhpAOV"
      },
      "source": [
        "class Optimization:\n",
        "    def __init__(self, model, loss_fn, optimizer):\n",
        "        self.model = model\n",
        "        self.loss_fn = loss_fn\n",
        "        self.optimizer = optimizer\n",
        "        self.train_losses = []\n",
        "        self.val_losses = []\n",
        "    \n",
        "    def diff(self, seq, increase_only=False):\n",
        "        shift = torch.zeros(seq.shape)\n",
        "        shift[:, 1:, :] = seq[:, 0:-1, :]\n",
        "        res =  seq - shift \n",
        "        res = res[:, 1:, :]\n",
        "        x_diff = res[:, :-1, :]\n",
        "        y_diff = res[:, -1, :]\n",
        "        if increase_only:\n",
        "          x_diff = (x_diff > 0).float()\n",
        "          y_diff = (y_diff > 0).float()\n",
        "        return x_diff, y_diff\n",
        "\n",
        "    def train_step(self, x, y):\n",
        "        # Sets model to train mode\n",
        "        self.model.train()\n",
        "\n",
        "        # Makes predictions\n",
        "        yhat = self.model(x)\n",
        "\n",
        "        # Computes loss\n",
        "        # print(y.shape)\n",
        "        # print(yhat.shape)\n",
        "        loss = self.loss_fn(yhat, y)\n",
        "\n",
        "        # Computes gradients\n",
        "        loss.backward()\n",
        "\n",
        "        # Updates parameters and zeroes gradients\n",
        "        self.optimizer.step()\n",
        "        self.optimizer.zero_grad()\n",
        "\n",
        "        # Returns the loss\n",
        "        return loss.item()\n",
        "\n",
        "    def train(self, train_loader, val_loader, batch_size=64, n_epochs=50, n_features=1, n_input=7, min_max_window=False, diff=False, fc=False, increase_only=False, cnn=False):\n",
        "\n",
        "        for epoch in range(1, n_epochs + 1):\n",
        "            batch_losses = []\n",
        "            for x_batch, y_batch in train_loader:\n",
        "                ### min max scale each window\n",
        "                if min_max_window:\n",
        "                    scaler = MinMaxScaler()\n",
        "                    x_batch = torch.tensor(scaler.fit_transform(x_batch.reshape(-1, n_input).T).T.reshape(-1, n_input, 1), dtype=torch.float).cuda()\n",
        "                    y_batch = y_batch.cuda()\n",
        "                    # y_batch = torch.tensor(scaler.transform(y_batch.reshape(-1, 1).T).T, dtype=torch.float)\n",
        "                ### convert window to difference with the previous day\n",
        "                elif diff:\n",
        "                    full_batch = torch.cat((x_batch, y_batch.unsqueeze(-1)), 1)\n",
        "                    x_batch, y_batch = self.diff(full_batch, increase_only)\n",
        "                    x_batch = x_batch.cuda()\n",
        "                    y_batch = y_batch.cuda()\n",
        "                ### reshape input for fully connected networks\n",
        "                elif fc:\n",
        "                    x_batch = x_batch.reshape(-1, n_input).cuda()\n",
        "                    y_batch = y_batch.cuda()\n",
        "                ### reshape input for cnn\n",
        "                elif cnn:\n",
        "                    x_batch = x_batch.view([batch_size, n_features, -1]).cuda()\n",
        "                    y_batch = y_batch.cuda()\n",
        "                else:\n",
        "                    x_batch = x_batch.view([batch_size, -1, n_features]).cuda()\n",
        "                    y_batch = y_batch.cuda()\n",
        "                loss = self.train_step(x_batch, y_batch)\n",
        "                batch_losses.append(loss)\n",
        "            training_loss = np.mean(batch_losses)\n",
        "            self.train_losses.append(training_loss)\n",
        "\n",
        "            with torch.no_grad():\n",
        "                batch_val_losses = []\n",
        "                for x_val, y_val in val_loader:\n",
        "                    ### min max scale each window\n",
        "                    if min_max_window:\n",
        "                        scaler = MinMaxScaler()\n",
        "                        x_val = torch.tensor(scaler.fit_transform(x_val.reshape(-1, n_input).T).T.reshape(-1, n_input, 1), dtype=torch.float).cuda()\n",
        "                        y_val = y_val.cuda()\n",
        "                        # y_val = torch.tensor(scaler.transform(y_val.reshape(-1, 1).T).T, dtype=torch.float).cuda()\n",
        "                    ### convert window to difference with the previous day\n",
        "                    elif diff:\n",
        "                        full_batch = torch.cat((x_val, y_val.unsqueeze(-1)), 1)\n",
        "                        x_val, y_val = self.diff(full_batch, increase_only)\n",
        "                        x_val = x_val.cuda()\n",
        "                        y_val = y_val.cuda()\n",
        "                    ### reshape input for fully connected networks\n",
        "                    elif fc:\n",
        "                        x_val = x_val.view([batch_size, -1, n_features]).reshape(-1, n_input).cuda()\n",
        "                        y_val = y_val.cuda()\n",
        "                    ### reshape input for cnn\n",
        "                    elif cnn:\n",
        "                        x_val = x_val.view([batch_size, n_features, -1]).cuda()\n",
        "                        y_val = y_val.cuda()\n",
        "                    else:\n",
        "                        x_val = x_val.view([batch_size, -1, n_features]).cuda()\n",
        "                        y_val = y_val.cuda()\n",
        "\n",
        "\n",
        "                    self.model.eval()\n",
        "                    yhat = self.model(x_val)\n",
        "                    val_loss = self.loss_fn(yhat, y_val).item()\n",
        "                    batch_val_losses.append(val_loss)\n",
        "                validation_loss = np.mean(batch_val_losses)\n",
        "                self.val_losses.append(validation_loss)\n",
        "\n",
        "            if (epoch <= 10) | (epoch % 50 == 0):\n",
        "                print(\n",
        "                    f\"[{epoch}/{n_epochs}] Training loss: {training_loss:.4f}\\t Validation loss: {validation_loss:.4f}\"\n",
        "                )\n",
        "\n",
        "\n",
        "    def evaluate(self, test_loader, batch_size=1, n_features=1, n_input=7, min_max_window=False, diff=False, fc=False, increase_only=False, cnn=False):\n",
        "        with torch.no_grad():\n",
        "            predictions = []\n",
        "            values = []\n",
        "            for xb, yb in test_loader:\n",
        "                ### min max scale each window\n",
        "                if min_max_window:\n",
        "                    scaler = MinMaxScaler()\n",
        "                    xb = torch.tensor(scaler.fit_transform(xb.reshape(-1, n_input).T).T.reshape(-1, n_input, 1), dtype=torch.float).cuda()\n",
        "                    yb = yb.cuda()\n",
        "                    # yb = torch.tensor(scaler.transform(yb.reshape(-1, 1).T).T, dtype=torch.float).cuda()\n",
        "                ### convert window to difference with the previous day\n",
        "                elif diff:\n",
        "                    full_batch = torch.cat((xb, yb.unsqueeze(-1)), 1)\n",
        "                    xb, yb = self.diff(full_batch, increase_only)\n",
        "                    xb = xb.cuda()\n",
        "                    yb = yb.cuda()\n",
        "                ### reshape input for fully connected networks\n",
        "                elif fc:\n",
        "                    xb = xb.view([batch_size, -1, n_features]).reshape(-1, n_input).cuda()\n",
        "                    yb = yb.cuda()\n",
        "                ### reshape input for cnn\n",
        "                elif cnn:\n",
        "                    xb = xb.view([batch_size, n_features, -1]).cuda()\n",
        "                    yb = yb.cuda()\n",
        "                else:\n",
        "                    xb = xb.view([batch_size, -1, n_features]).cuda()\n",
        "                    yb = yb.cuda()\n",
        "\n",
        "\n",
        "                self.model.eval()\n",
        "                yhat = self.model(xb)\n",
        "                \n",
        "                predictions.append(yhat.cpu().detach().numpy())\n",
        "                values.append(yb.cpu().detach().numpy())\n",
        "\n",
        "        return predictions, values\n",
        "\n",
        "    def plot_losses(self):\n",
        "        plt.plot(self.train_losses, label=\"Training loss\")\n",
        "        plt.plot(self.val_losses, label=\"Validation loss\")\n",
        "        plt.legend()\n",
        "        plt.title(\"Losses\")\n",
        "        plt.show()\n",
        "        plt.close()"
      ],
      "execution_count": null,
      "outputs": []
    },
    {
      "cell_type": "code",
      "metadata": {
        "id": "rizOOaVwHTOK"
      },
      "source": [
        "def inverse_transform(scaler, df, columns):\n",
        "    for col in columns:\n",
        "        df[col] = scaler.inverse_transform(df[col])\n",
        "    return df\n",
        "\n",
        "\n",
        "def format_predictions(predictions, values, df_test, scaler):\n",
        "    vals = np.concatenate(values, axis=0).ravel()\n",
        "    preds = np.concatenate(predictions, axis=0).ravel()\n",
        "    df_result = pd.DataFrame(data={\"value\": vals, \"prediction\": preds})\n",
        "    df_result = df_result.sort_index()\n",
        "    if scaler:\n",
        "      df_result = inverse_transform(scaler, df_result, [[\"value\", \"prediction\"]])\n",
        "    return df_result"
      ],
      "execution_count": null,
      "outputs": []
    },
    {
      "cell_type": "code",
      "metadata": {
        "id": "XULGJUkvHcYM"
      },
      "source": [
        "def calculate_metrics(df):\n",
        "    return {'mae' : mean_absolute_error(df.value, df.prediction),\n",
        "            'rmse' : mean_squared_error(df.value, df.prediction) ** 0.5,\n",
        "            'r2' : r2_score(df.value, df.prediction),\n",
        "            'accuracy': accuracy(np.array(df.value), np.array(df.prediction))}"
      ],
      "execution_count": null,
      "outputs": []
    },
    {
      "cell_type": "code",
      "metadata": {
        "id": "EEjhLIEC3gdB"
      },
      "source": [
        "class RNNModel(nn.Module):\n",
        "    def __init__(self, input_dim, hidden_dim, layer_dim, output_dim, dropout_prob):\n",
        "        super(RNNModel, self).__init__()\n",
        "\n",
        "        # Defining the number of layers and the nodes in each layer\n",
        "        self.hidden_dim = hidden_dim\n",
        "        self.layer_dim = layer_dim\n",
        "\n",
        "        # RNN layers\n",
        "        self.rnn = nn.RNN(\n",
        "            input_dim, hidden_dim, layer_dim, batch_first=True, dropout=dropout_prob\n",
        "        )\n",
        "        # Fully connected layer\n",
        "        self.fc = nn.Linear(hidden_dim, output_dim)\n",
        "\n",
        "    def forward(self, x):\n",
        "        h0 = torch.zeros(self.layer_dim, x.size(0), self.hidden_dim).requires_grad_()\n",
        "\n",
        "        out, h0 = self.rnn(x, h0.cuda().detach())\n",
        "        out = out[:, -1, :]\n",
        "\n",
        "        out = self.fc(torch.relu(out))\n",
        "        return out"
      ],
      "execution_count": null,
      "outputs": []
    },
    {
      "cell_type": "code",
      "metadata": {
        "colab": {
          "base_uri": "https://localhost:8080/",
          "height": 621
        },
        "id": "EPKTuMIZ8ai5",
        "outputId": "b2efe6fb-026f-4a9b-c834-fc0efb36eb85"
      },
      "source": [
        "input_dim = 1\n",
        "output_dim = 1\n",
        "hidden_dim = 5\n",
        "layer_dim = 3\n",
        "batch_size = 64\n",
        "dropout = 0.2\n",
        "n_epochs = 500\n",
        "learning_rate = 1e-3\n",
        "weight_decay = 1e-6\n",
        "\n",
        "model = RNNModel(input_dim, hidden_dim, layer_dim, output_dim, dropout)\n",
        "\n",
        "model = model.cuda()\n",
        "loss_fn = nn.MSELoss(reduction=\"mean\")\n",
        "optimizer = torch.optim.Adam(model.parameters(), lr=learning_rate, weight_decay=weight_decay)\n",
        "\n",
        "opt = Optimization(model=model, loss_fn=loss_fn, optimizer=optimizer)\n",
        "opt.train(train_loader, val_loader, batch_size=batch_size, n_epochs=n_epochs, n_features=input_dim)\n",
        "opt.plot_losses()\n",
        "\n",
        "predictions, values = opt.evaluate(test_loader_one, batch_size=1, n_features=input_dim)"
      ],
      "execution_count": null,
      "outputs": [
        {
          "output_type": "stream",
          "text": [
            "[1/500] Training loss: 0.2318\t Validation loss: 0.2665\n",
            "[2/500] Training loss: 0.1164\t Validation loss: 0.4136\n",
            "[3/500] Training loss: 0.0826\t Validation loss: 0.5034\n",
            "[4/500] Training loss: 0.0731\t Validation loss: 0.5433\n",
            "[5/500] Training loss: 0.0703\t Validation loss: 0.5574\n",
            "[6/500] Training loss: 0.0691\t Validation loss: 0.5591\n",
            "[7/500] Training loss: 0.0687\t Validation loss: 0.5556\n",
            "[8/500] Training loss: 0.0672\t Validation loss: 0.5468\n",
            "[9/500] Training loss: 0.0631\t Validation loss: 0.5223\n",
            "[10/500] Training loss: 0.0425\t Validation loss: 0.4248\n",
            "[50/500] Training loss: 0.0042\t Validation loss: 0.0138\n",
            "[100/500] Training loss: 0.0039\t Validation loss: 0.0257\n",
            "[150/500] Training loss: 0.0034\t Validation loss: 0.0085\n",
            "[200/500] Training loss: 0.0033\t Validation loss: 0.0035\n",
            "[250/500] Training loss: 0.0034\t Validation loss: 0.0042\n",
            "[300/500] Training loss: 0.0027\t Validation loss: 0.0029\n",
            "[350/500] Training loss: 0.0026\t Validation loss: 0.0028\n",
            "[400/500] Training loss: 0.0025\t Validation loss: 0.0028\n",
            "[450/500] Training loss: 0.0024\t Validation loss: 0.0027\n",
            "[500/500] Training loss: 0.0025\t Validation loss: 0.0041\n"
          ],
          "name": "stdout"
        },
        {
          "output_type": "display_data",
          "data": {
            "image/png": "[encoded data removed]",
            "text/plain": [
              "<Figure size 432x288 with 1 Axes>"
            ]
          },
          "metadata": {
            "tags": []
          }
        }
      ]
    },
    {
      "cell_type": "code",
      "metadata": {
        "id": "8j2z1Yq_CtD8"
      },
      "source": [
        "df_result = format_predictions(predictions, values, X_test, scaler)\n",
        "result_metrics = calculate_metrics(df_result)"
      ],
      "execution_count": null,
      "outputs": []
    },
    {
      "cell_type": "code",
      "metadata": {
        "colab": {
          "base_uri": "https://localhost:8080/"
        },
        "id": "_vyFQIHXDVNG",
        "outputId": "18b2d6fa-9e9a-4836-8709-026ebf2e77e0"
      },
      "source": [
        "result_metrics"
      ],
      "execution_count": null,
      "outputs": [
        {
          "output_type": "execute_result",
          "data": {
            "text/plain": [
              "{'accuracy': 0.34309623430962344,\n",
              " 'mae': 8749.804,\n",
              " 'r2': 0.04992557369663353,\n",
              " 'rmse': 16770.633381002637}"
            ]
          },
          "metadata": {
            "tags": []
          },
          "execution_count": 96
        }
      ]
    },
    {
      "cell_type": "code",
      "metadata": {
        "colab": {
          "base_uri": "https://localhost:8080/",
          "height": 282
        },
        "id": "ONEIaE-zp_B5",
        "outputId": "983e5c09-0ba0-4abd-f466-2ce57bb9fd31"
      },
      "source": [
        "df_result.plot()"
      ],
      "execution_count": null,
      "outputs": [
        {
          "output_type": "execute_result",
          "data": {
            "text/plain": [
              "<matplotlib.axes._subplots.AxesSubplot at 0x7f542bc12850>"
            ]
          },
          "metadata": {
            "tags": []
          },
          "execution_count": 97
        },
        {
          "output_type": "display_data",
          "data": {
            "image/png": "[encoded data removed]",
            "text/plain": [
              "<Figure size 432x288 with 1 Axes>"
            ]
          },
          "metadata": {
            "tags": []
          }
        }
      ]
    },
    {
      "cell_type": "markdown",
      "metadata": {
        "id": "ICV-1b6Pqv_3"
      },
      "source": [
        "### LSTM"
      ]
    },
    {
      "cell_type": "code",
      "metadata": {
        "id": "6676iOwoSh1b"
      },
      "source": [
        "class LSTMModel(nn.Module):\n",
        "\n",
        "    def __init__(self, input_dim, hidden_dim, layer_dim, output_dim, dropout_prob):\n",
        "\n",
        "        super(LSTMModel, self).__init__()\n",
        "\n",
        "        # Defining the number of layers and the nodes in each layer\n",
        "        self.hidden_dim = hidden_dim\n",
        "        self.layer_dim = layer_dim\n",
        "\n",
        "        # LSTM layers\n",
        "        self.lstm = nn.LSTM(\n",
        "            input_dim, hidden_dim, layer_dim, batch_first=True, dropout=dropout_prob\n",
        "        )\n",
        "\n",
        "        # Fully connected layer\n",
        "        self.fc = nn.Linear(hidden_dim, output_dim)\n",
        "\n",
        "        self.scaler = StandardScaler()\n",
        "\n",
        "    def forward(self, x):\n",
        "\n",
        "        h0 = torch.zeros(self.layer_dim, x.size(0), self.hidden_dim).requires_grad_()\n",
        "\n",
        "        c0 = torch.zeros(self.layer_dim, x.size(0), self.hidden_dim).requires_grad_()\n",
        "        out, (hn, cn) = self.lstm(x, (h0.cuda().detach(), c0.cuda().detach()))\n",
        "        out = out[:, -1, :]\n",
        "\n",
        "        out = self.fc(torch.relu(out))\n",
        "        \n",
        "        return out"
      ],
      "execution_count": null,
      "outputs": []
    },
    {
      "cell_type": "code",
      "metadata": {
        "colab": {
          "base_uri": "https://localhost:8080/",
          "height": 621
        },
        "id": "clV7I6RxSjRf",
        "outputId": "6f5fd331-5130-42da-dee7-9622d94fb658"
      },
      "source": [
        "input_dim = 1\n",
        "output_dim = 1\n",
        "hidden_dim = 10\n",
        "layer_dim = 3\n",
        "batch_size = 64\n",
        "dropout = 0.2\n",
        "n_epochs = 500\n",
        "learning_rate = 1e-3\n",
        "weight_decay = 1e-6\n",
        "\n",
        "model = LSTMModel(input_dim, hidden_dim, layer_dim, output_dim, dropout)\n",
        "\n",
        "model = model.cuda()\n",
        "loss_fn = nn.MSELoss(reduction=\"mean\")\n",
        "optimizer = torch.optim.Adam(model.parameters(), lr=learning_rate, weight_decay=weight_decay)\n",
        "\n",
        "opt = Optimization(model=model, loss_fn=loss_fn, optimizer=optimizer)\n",
        "opt.train(train_loader, val_loader, batch_size=batch_size, n_epochs=n_epochs, n_features=input_dim)\n",
        "opt.plot_losses()\n",
        "\n",
        "predictions, values = opt.evaluate(test_loader_one, batch_size=1, n_features=input_dim)"
      ],
      "execution_count": null,
      "outputs": [
        {
          "output_type": "stream",
          "text": [
            "[1/500] Training loss: 0.0742\t Validation loss: 0.6052\n",
            "[2/500] Training loss: 0.0675\t Validation loss: 0.5721\n",
            "[3/500] Training loss: 0.0673\t Validation loss: 0.5559\n",
            "[4/500] Training loss: 0.0666\t Validation loss: 0.5434\n",
            "[5/500] Training loss: 0.0653\t Validation loss: 0.5276\n",
            "[6/500] Training loss: 0.0622\t Validation loss: 0.4954\n",
            "[7/500] Training loss: 0.0571\t Validation loss: 0.4322\n",
            "[8/500] Training loss: 0.0503\t Validation loss: 0.3472\n",
            "[9/500] Training loss: 0.0416\t Validation loss: 0.2490\n",
            "[10/500] Training loss: 0.0317\t Validation loss: 0.1532\n",
            "[50/500] Training loss: 0.0082\t Validation loss: 0.1191\n",
            "[100/500] Training loss: 0.0030\t Validation loss: 0.0117\n",
            "[150/500] Training loss: 0.0024\t Validation loss: 0.0111\n",
            "[200/500] Training loss: 0.0018\t Validation loss: 0.0031\n",
            "[250/500] Training loss: 0.0016\t Validation loss: 0.0040\n",
            "[300/500] Training loss: 0.0030\t Validation loss: 0.0155\n",
            "[350/500] Training loss: 0.0016\t Validation loss: 0.0066\n",
            "[400/500] Training loss: 0.0014\t Validation loss: 0.0047\n",
            "[450/500] Training loss: 0.0020\t Validation loss: 0.0060\n",
            "[500/500] Training loss: 0.0011\t Validation loss: 0.0018\n"
          ],
          "name": "stdout"
        },
        {
          "output_type": "display_data",
          "data": {
            "image/png": "[encoded data removed]",
            "text/plain": [
              "<Figure size 432x288 with 1 Axes>"
            ]
          },
          "metadata": {
            "tags": []
          }
        }
      ]
    },
    {
      "cell_type": "code",
      "metadata": {
        "id": "9wW5J-iTsqnN"
      },
      "source": [
        "df_result = format_predictions(predictions, values, X_test, scaler)\n",
        "result_metrics = calculate_metrics(df_result)"
      ],
      "execution_count": null,
      "outputs": []
    },
    {
      "cell_type": "code",
      "metadata": {
        "colab": {
          "base_uri": "https://localhost:8080/",
          "height": 282
        },
        "id": "SIvwRTRSs3dw",
        "outputId": "42f16376-192d-4f9c-8cfd-da5e24cc3555"
      },
      "source": [
        "df_result.plot()"
      ],
      "execution_count": null,
      "outputs": [
        {
          "output_type": "execute_result",
          "data": {
            "text/plain": [
              "<matplotlib.axes._subplots.AxesSubplot at 0x7f542bd945d0>"
            ]
          },
          "metadata": {
            "tags": []
          },
          "execution_count": 76
        },
        {
          "output_type": "display_data",
          "data": {
            "image/png": "[encoded data removed]",
            "text/plain": [
              "<Figure size 432x288 with 1 Axes>"
            ]
          },
          "metadata": {
            "tags": []
          }
        }
      ]
    },
    {
      "cell_type": "code",
      "metadata": {
        "colab": {
          "base_uri": "https://localhost:8080/"
        },
        "id": "ICNfGzmDI53U",
        "outputId": "54687a7c-e36c-463b-91b4-446a0ea25c8d"
      },
      "source": [
        "result_metrics"
      ],
      "execution_count": null,
      "outputs": [
        {
          "output_type": "execute_result",
          "data": {
            "text/plain": [
              "{'accuracy': 0.401673640167364,\n",
              " 'mae': 0.91858786,\n",
              " 'r2': 0.09154286159127223,\n",
              " 'rmse': 1.8018581124690987}"
            ]
          },
          "metadata": {
            "tags": []
          },
          "execution_count": 77
        }
      ]
    },
    {
      "cell_type": "markdown",
      "metadata": {
        "id": "wQ45zXu2JEKg"
      },
      "source": [
        "### GRU"
      ]
    },
    {
      "cell_type": "code",
      "metadata": {
        "id": "Tuu7bFawBWEf"
      },
      "source": [
        "class GRUModel(nn.Module):\n",
        "    def __init__(self, input_dim, hidden_dim, layer_dim, output_dim, dropout_prob):\n",
        "\n",
        "        super(GRUModel, self).__init__()\n",
        "\n",
        "        # Defining the number of layers and the nodes in each layer\n",
        "        self.layer_dim = layer_dim\n",
        "        self.hidden_dim = hidden_dim\n",
        "\n",
        "        # GRU layers\n",
        "        self.gru = nn.GRU(\n",
        "            input_dim, hidden_dim, layer_dim, batch_first=True, dropout=dropout_prob\n",
        "        )\n",
        "\n",
        "        # Fully connected layer\n",
        "        self.fc = nn.Linear(hidden_dim, output_dim)\n",
        "\n",
        "    def forward(self, x):\n",
        "\n",
        "        h0 = torch.zeros(self.layer_dim, x.size(0), self.hidden_dim).requires_grad_()\n",
        "\n",
        "        out, _ = self.gru(x, h0.cuda().detach())\n",
        "        out = out[:, -1, :]\n",
        "\n",
        "        out = self.fc(torch.relu(out))\n",
        "\n",
        "        return out\n"
      ],
      "execution_count": null,
      "outputs": []
    },
    {
      "cell_type": "code",
      "metadata": {
        "colab": {
          "base_uri": "https://localhost:8080/",
          "height": 621
        },
        "id": "IzoqvTNaJDWy",
        "outputId": "84c4a658-d276-454c-c97e-0fe66832d8c7"
      },
      "source": [
        "input_dim = 1\n",
        "output_dim = 1\n",
        "hidden_dim = 7\n",
        "layer_dim = 5\n",
        "batch_size = 64\n",
        "dropout = 0.2\n",
        "n_epochs = 500\n",
        "learning_rate = 1e-3\n",
        "weight_decay = 1e-6\n",
        "\n",
        "model = GRUModel(input_dim, hidden_dim, layer_dim, output_dim, dropout)\n",
        "\n",
        "model = model.cuda()\n",
        "loss_fn = nn.MSELoss(reduction=\"mean\")\n",
        "optimizer = torch.optim.Adam(model.parameters(), lr=learning_rate, weight_decay=weight_decay)\n",
        "\n",
        "opt = Optimization(model=model, loss_fn=loss_fn, optimizer=optimizer)\n",
        "opt.train(train_loader, val_loader, batch_size=batch_size, n_epochs=n_epochs, n_features=input_dim)\n",
        "opt.plot_losses()\n",
        "\n",
        "predictions, values = opt.evaluate(test_loader_one, batch_size=1, n_features=input_dim)"
      ],
      "execution_count": null,
      "outputs": [
        {
          "output_type": "stream",
          "text": [
            "[1/500] Training loss: 0.3398\t Validation loss: 0.4067\n",
            "[2/500] Training loss: 0.0887\t Validation loss: 0.6018\n",
            "[3/500] Training loss: 0.0762\t Validation loss: 0.5726\n",
            "[4/500] Training loss: 0.0773\t Validation loss: 0.5723\n",
            "[5/500] Training loss: 0.0763\t Validation loss: 0.5670\n",
            "[6/500] Training loss: 0.0757\t Validation loss: 0.5625\n",
            "[7/500] Training loss: 0.0742\t Validation loss: 0.5563\n",
            "[8/500] Training loss: 0.0731\t Validation loss: 0.5494\n",
            "[9/500] Training loss: 0.0706\t Validation loss: 0.5349\n",
            "[10/500] Training loss: 0.0677\t Validation loss: 0.5080\n",
            "[50/500] Training loss: 0.0085\t Validation loss: 0.0379\n",
            "[100/500] Training loss: 0.0054\t Validation loss: 0.0340\n",
            "[150/500] Training loss: 0.0045\t Validation loss: 0.0118\n",
            "[200/500] Training loss: 0.0044\t Validation loss: 0.0303\n",
            "[250/500] Training loss: 0.0038\t Validation loss: 0.0084\n",
            "[300/500] Training loss: 0.0036\t Validation loss: 0.0059\n",
            "[350/500] Training loss: 0.0027\t Validation loss: 0.0078\n",
            "[400/500] Training loss: 0.0029\t Validation loss: 0.0115\n",
            "[450/500] Training loss: 0.0043\t Validation loss: 0.0153\n",
            "[500/500] Training loss: 0.0020\t Validation loss: 0.0027\n"
          ],
          "name": "stdout"
        },
        {
          "output_type": "display_data",
          "data": {
            "image/png": "[encoded data removed]",
            "text/plain": [
              "<Figure size 432x288 with 1 Axes>"
            ]
          },
          "metadata": {
            "tags": []
          }
        }
      ]
    },
    {
      "cell_type": "code",
      "metadata": {
        "id": "SVlH8VYwPlYL"
      },
      "source": [
        "df_result = format_predictions(predictions, values, X_test, scaler)\n",
        "result_metrics = calculate_metrics(df_result)"
      ],
      "execution_count": null,
      "outputs": []
    },
    {
      "cell_type": "code",
      "metadata": {
        "colab": {
          "base_uri": "https://localhost:8080/",
          "height": 282
        },
        "id": "65BtyfeLRfZK",
        "outputId": "069b359a-0cff-4cde-d53b-13253408531e"
      },
      "source": [
        "df_result.plot()"
      ],
      "execution_count": null,
      "outputs": [
        {
          "output_type": "execute_result",
          "data": {
            "text/plain": [
              "<matplotlib.axes._subplots.AxesSubplot at 0x7f542b507ad0>"
            ]
          },
          "metadata": {
            "tags": []
          },
          "execution_count": 106
        },
        {
          "output_type": "display_data",
          "data": {
            "image/png": "[encoded data removed]",
            "text/plain": [
              "<Figure size 432x288 with 1 Axes>"
            ]
          },
          "metadata": {
            "tags": []
          }
        }
      ]
    },
    {
      "cell_type": "code",
      "metadata": {
        "colab": {
          "base_uri": "https://localhost:8080/"
        },
        "id": "QjIH7VWfRh3b",
        "outputId": "08d257c9-a700-4b4a-c780-a273bc8c83e7"
      },
      "source": [
        "result_metrics"
      ],
      "execution_count": null,
      "outputs": [
        {
          "output_type": "execute_result",
          "data": {
            "text/plain": [
              "{'accuracy': 0.45397489539748953,\n",
              " 'mae': 8759.393,\n",
              " 'r2': 0.03436745996878088,\n",
              " 'rmse': 16907.391046521636}"
            ]
          },
          "metadata": {
            "tags": []
          },
          "execution_count": 107
        }
      ]
    },
    {
      "cell_type": "markdown",
      "metadata": {
        "id": "xwaqOBesJH3e"
      },
      "source": [
        "### Torch NN"
      ]
    },
    {
      "cell_type": "code",
      "metadata": {
        "id": "HNiDfZGThR0v"
      },
      "source": [
        "class Net(torch.nn.Module):\n",
        "  def __init__(self):\n",
        "    super(Net, self).__init__()\n",
        "    self.hid1 = torch.nn.Linear(7, 10) \n",
        "    self.hid2 = torch.nn.Linear(10, 20)\n",
        "    self.hid3 = torch.nn.Linear(20, 20)\n",
        "    self.hid4 = torch.nn.Linear(20, 10)\n",
        "    self.oupt = torch.nn.Linear(10, 1)\n",
        "\n",
        "    torch.nn.init.xavier_uniform_(self.hid1.weight)\n",
        "    torch.nn.init.zeros_(self.hid1.bias)\n",
        "    torch.nn.init.xavier_uniform_(self.hid2.weight)\n",
        "    torch.nn.init.zeros_(self.hid2.bias)\n",
        "    torch.nn.init.xavier_uniform_(self.oupt.weight)\n",
        "    torch.nn.init.zeros_(self.oupt.bias)\n",
        "    torch.nn.init.xavier_uniform_(self.hid3.weight)\n",
        "    torch.nn.init.zeros_(self.hid3.bias)\n",
        "    torch.nn.init.xavier_uniform_(self.hid4.weight)\n",
        "    torch.nn.init.zeros_(self.hid4.bias)\n",
        "\n",
        "  def forward(self, x):\n",
        "    z = torch.relu(self.hid1(x))\n",
        "    z = torch.relu(self.hid2(z))\n",
        "    z = torch.relu(self.hid3(z))\n",
        "    z = torch.relu(self.hid4(z))\n",
        "    z = self.oupt(z)\n",
        "    return z"
      ],
      "execution_count": null,
      "outputs": []
    },
    {
      "cell_type": "code",
      "metadata": {
        "colab": {
          "base_uri": "https://localhost:8080/",
          "height": 621
        },
        "id": "kGVqCrUQR12g",
        "outputId": "4a63f8b5-88c4-4c7c-a332-2cd99ccd04f7"
      },
      "source": [
        "batch_size = 64\n",
        "dropout = 0.2\n",
        "n_epochs = 500\n",
        "learning_rate = 1e-3\n",
        "weight_decay = 1e-6\n",
        "\n",
        "model = Net()\n",
        "\n",
        "model = model.cuda()\n",
        "loss_fn = nn.MSELoss(reduction=\"mean\")\n",
        "optimizer = torch.optim.Adam(model.parameters(), lr=learning_rate, weight_decay=weight_decay)\n",
        "\n",
        "opt = Optimization(model=model, loss_fn=loss_fn, optimizer=optimizer)\n",
        "opt.train(train_loader, val_loader, batch_size=batch_size, n_epochs=n_epochs, n_features=1, fc=True)\n",
        "opt.plot_losses()\n",
        "\n",
        "predictions, values = opt.evaluate(test_loader_one, batch_size=1, n_features=1, fc=True)"
      ],
      "execution_count": null,
      "outputs": [
        {
          "output_type": "stream",
          "text": [
            "[1/500] Training loss: 0.1703\t Validation loss: 0.1818\n",
            "[2/500] Training loss: 0.0381\t Validation loss: 0.1871\n",
            "[3/500] Training loss: 0.0210\t Validation loss: 0.1327\n",
            "[4/500] Training loss: 0.0168\t Validation loss: 0.0957\n",
            "[5/500] Training loss: 0.0122\t Validation loss: 0.0617\n",
            "[6/500] Training loss: 0.0081\t Validation loss: 0.0358\n",
            "[7/500] Training loss: 0.0044\t Validation loss: 0.0137\n",
            "[8/500] Training loss: 0.0020\t Validation loss: 0.0036\n",
            "[9/500] Training loss: 0.0012\t Validation loss: 0.0051\n",
            "[10/500] Training loss: 0.0010\t Validation loss: 0.0047\n",
            "[50/500] Training loss: 0.0011\t Validation loss: 0.0057\n",
            "[100/500] Training loss: 0.0009\t Validation loss: 0.0056\n",
            "[150/500] Training loss: 0.0008\t Validation loss: 0.0050\n",
            "[200/500] Training loss: 0.0008\t Validation loss: 0.0047\n",
            "[250/500] Training loss: 0.0008\t Validation loss: 0.0047\n",
            "[300/500] Training loss: 0.0007\t Validation loss: 0.0045\n",
            "[350/500] Training loss: 0.0007\t Validation loss: 0.0043\n",
            "[400/500] Training loss: 0.0007\t Validation loss: 0.0043\n",
            "[450/500] Training loss: 0.0006\t Validation loss: 0.0042\n",
            "[500/500] Training loss: 0.0006\t Validation loss: 0.0040\n"
          ],
          "name": "stdout"
        },
        {
          "output_type": "display_data",
          "data": {
            "image/png": "[encoded data removed]",
            "text/plain": [
              "<Figure size 432x288 with 1 Axes>"
            ]
          },
          "metadata": {
            "tags": []
          }
        }
      ]
    },
    {
      "cell_type": "code",
      "metadata": {
        "id": "6pLXsQn1suWe"
      },
      "source": [
        "df_result = format_predictions(predictions, values, X_test, scaler)\n",
        "result_metrics = calculate_metrics(df_result)"
      ],
      "execution_count": null,
      "outputs": []
    },
    {
      "cell_type": "code",
      "metadata": {
        "colab": {
          "base_uri": "https://localhost:8080/",
          "height": 282
        },
        "id": "-3Rah35HTfGP",
        "outputId": "4fdfb938-6cae-4373-9670-5f0e75d865b8"
      },
      "source": [
        "df_result.plot()"
      ],
      "execution_count": null,
      "outputs": [
        {
          "output_type": "execute_result",
          "data": {
            "text/plain": [
              "<matplotlib.axes._subplots.AxesSubplot at 0x7f727e78ae10>"
            ]
          },
          "metadata": {
            "tags": []
          },
          "execution_count": 25
        },
        {
          "output_type": "display_data",
          "data": {
            "image/png": "[encoded data removed]",
            "text/plain": [
              "<Figure size 432x288 with 1 Axes>"
            ]
          },
          "metadata": {
            "tags": []
          }
        }
      ]
    },
    {
      "cell_type": "code",
      "metadata": {
        "colab": {
          "base_uri": "https://localhost:8080/"
        },
        "id": "8mtPQ_BZVfY8",
        "outputId": "4c08e5e2-2608-4897-eab7-6823de918e15"
      },
      "source": [
        "result_metrics  "
      ],
      "execution_count": null,
      "outputs": [
        {
          "output_type": "execute_result",
          "data": {
            "text/plain": [
              "{'accuracy': 0.401673640167364,\n",
              " 'mae': 1209.265,\n",
              " 'r2': 0.988426158422957,\n",
              " 'rmse': 1851.0127633271468}"
            ]
          },
          "metadata": {
            "tags": []
          },
          "execution_count": 26
        }
      ]
    },
    {
      "cell_type": "markdown",
      "metadata": {
        "id": "kD8T-dBAs6SY"
      },
      "source": [
        "### CNN"
      ]
    },
    {
      "cell_type": "code",
      "metadata": {
        "id": "mQG-Nl63s5SX"
      },
      "source": [
        "class CNN_ForecastNet(nn.Module):\n",
        "    def __init__(self):\n",
        "        super(CNN_ForecastNet,self).__init__()\n",
        "        self.conv1 = nn.Conv1d(1,3, kernel_size = 3, stride = 1, padding =1)\n",
        "        self.bn1 = nn.BatchNorm1d(3)\n",
        "        self.maxpool1 = nn.MaxPool1d(kernel_size=3, stride=1, padding=1)\n",
        "        self.dropout1 = nn.Dropout(0.3)\n",
        "        \n",
        "        self.conv2 = nn.Conv1d(3, 5, kernel_size=3, stride=2, padding=1)\n",
        "        self.bn2 = nn.BatchNorm1d(5)\n",
        "        self.dropout2 = nn.Dropout(0.3)\n",
        "        \n",
        "        self.conv3 = nn.Conv1d(5, 10, kernel_size=3, stride=1, padding=1)\n",
        "        self.bn3 = nn.BatchNorm1d(10)\n",
        "        self.dropout3 = nn.Dropout(0.3)\n",
        "        \n",
        "        self.fc = nn.Linear(10, 1)\n",
        "          \n",
        "    def forward(self,x):\n",
        "        x = self.conv1(x)\n",
        "        x = self.bn1(x)\n",
        "        x = torch.relu(x)\n",
        "\n",
        "        x = self.maxpool1(x)\n",
        "        x = self.dropout1(x)\n",
        "\n",
        "        x = self.conv2(x)\n",
        "        x = self.bn2(x)\n",
        "        x = torch.relu(x)\n",
        "\n",
        "        x = self.dropout2(x)\n",
        "\n",
        "        x = self.conv3(x)\n",
        "        x = self.bn3(x)\n",
        "        x = torch.relu(x)\n",
        "\n",
        "        x = self.dropout3(x)\n",
        "        x = torch.mean(x, dim = 2)\n",
        "        x = self.fc(x)\n",
        "        \n",
        "        return x"
      ],
      "execution_count": null,
      "outputs": []
    },
    {
      "cell_type": "code",
      "metadata": {
        "colab": {
          "base_uri": "https://localhost:8080/",
          "height": 499
        },
        "id": "fP5vKyakv_5O",
        "outputId": "0be5937d-261b-42c6-82e4-36889c57d952"
      },
      "source": [
        "batch_size = 64\n",
        "dropout = 0.2\n",
        "n_epochs = 100\n",
        "learning_rate = 1e-3\n",
        "weight_decay = 1e-6\n",
        "\n",
        "model = CNN_ForecastNet()\n",
        "\n",
        "model = model.cuda()\n",
        "loss_fn = nn.MSELoss(reduction=\"mean\")\n",
        "optimizer = torch.optim.Adam(model.parameters(), lr=learning_rate, weight_decay=weight_decay)\n",
        "\n",
        "opt = Optimization(model=model, loss_fn=loss_fn, optimizer=optimizer)\n",
        "opt.train(train_loader, val_loader, batch_size=batch_size, n_epochs=n_epochs, n_features=1, cnn=True)\n",
        "opt.plot_losses()\n",
        "\n",
        "predictions, values = opt.evaluate(test_loader_one, batch_size=1, n_features=1, cnn=True)"
      ],
      "execution_count": null,
      "outputs": [
        {
          "output_type": "stream",
          "text": [
            "[1/100] Training loss: 0.9277\t Validation loss: 0.2508\n",
            "[2/100] Training loss: 0.5155\t Validation loss: 0.8293\n",
            "[3/100] Training loss: 0.3022\t Validation loss: 0.2130\n",
            "[4/100] Training loss: 0.1687\t Validation loss: 0.1148\n",
            "[5/100] Training loss: 0.0983\t Validation loss: 0.1347\n",
            "[6/100] Training loss: 0.0617\t Validation loss: 0.1746\n",
            "[7/100] Training loss: 0.0459\t Validation loss: 0.2903\n",
            "[8/100] Training loss: 0.0386\t Validation loss: 0.3020\n",
            "[9/100] Training loss: 0.0363\t Validation loss: 0.3639\n",
            "[10/100] Training loss: 0.0345\t Validation loss: 0.3172\n",
            "[50/100] Training loss: 0.0172\t Validation loss: 0.7902\n",
            "[100/100] Training loss: 0.0048\t Validation loss: 0.3983\n"
          ],
          "name": "stdout"
        },
        {
          "output_type": "display_data",
          "data": {
            "image/png": "[encoded data removed]",
            "text/plain": [
              "<Figure size 432x288 with 1 Axes>"
            ]
          },
          "metadata": {
            "tags": []
          }
        }
      ]
    },
    {
      "cell_type": "code",
      "metadata": {
        "id": "LCV9IIUfhi69"
      },
      "source": [
        "df_result = format_predictions(predictions, values, X_test, scaler)\n",
        "result_metrics = calculate_metrics(df_result)"
      ],
      "execution_count": null,
      "outputs": []
    },
    {
      "cell_type": "code",
      "metadata": {
        "colab": {
          "base_uri": "https://localhost:8080/",
          "height": 283
        },
        "id": "CrgPbXqshqEP",
        "outputId": "8cacb4ca-ad89-4183-ca78-4d45d171815c"
      },
      "source": [
        "df_result.plot()"
      ],
      "execution_count": null,
      "outputs": [
        {
          "output_type": "execute_result",
          "data": {
            "text/plain": [
              "<matplotlib.axes._subplots.AxesSubplot at 0x7fc2b671b8d0>"
            ]
          },
          "metadata": {
            "tags": []
          },
          "execution_count": 267
        },
        {
          "output_type": "display_data",
          "data": {
            "image/png": "[encoded data removed]",
            "text/plain": [
              "<Figure size 432x288 with 1 Axes>"
            ]
          },
          "metadata": {
            "tags": []
          }
        }
      ]
    },
    {
      "cell_type": "code",
      "metadata": {
        "colab": {
          "base_uri": "https://localhost:8080/"
        },
        "id": "F-tPyPEThtpx",
        "outputId": "2b6e25e9-122e-4c50-d88f-4c38c00354da"
      },
      "source": [
        "result_metrics"
      ],
      "execution_count": null,
      "outputs": [
        {
          "output_type": "execute_result",
          "data": {
            "text/plain": [
              "{'accuracy': 0.01098901098901099,\n",
              " 'mae': 12332.331,\n",
              " 'r2': -0.04866431265727944,\n",
              " 'rmse': 17842.40611576813}"
            ]
          },
          "metadata": {
            "tags": []
          },
          "execution_count": 251
        }
      ]
    },
    {
      "cell_type": "markdown",
      "metadata": {
        "id": "7QqkjUwdb7IN"
      },
      "source": [
        "## Ensemble Learning"
      ]
    },
    {
      "cell_type": "markdown",
      "metadata": {
        "id": "ZT4NV0YKiT7Q"
      },
      "source": [
        "### Stacking"
      ]
    },
    {
      "cell_type": "code",
      "metadata": {
        "colab": {
          "base_uri": "https://localhost:8080/"
        },
        "id": "lSoty7Ckxahr",
        "outputId": "912aa36f-c7cb-431a-e3fb-25346eb1a1ea"
      },
      "source": [
        "estimators = [\n",
        "    ('rf', RandomForestRegressor()),\n",
        "    ('xgb', XGBRegressor()),\n",
        "    ('gb', GradientBoostingRegressor()),\n",
        "    ('ada', AdaBoostRegressor()), \n",
        "    ('svr', SVR())\n",
        "]\n",
        "ens = StackingRegressor(\n",
        "    estimators=estimators,\n",
        "    final_estimator=MLPRegressor(),\n",
        "    passthrough=True\n",
        ")\n",
        "\n",
        "ens = ens.fit(X_train, y_train)"
      ],
      "execution_count": null,
      "outputs": [
        {
          "output_type": "stream",
          "text": [
            "[15:40:11] WARNING: /workspace/src/objective/regression_obj.cu:152: reg:linear is now deprecated in favor of reg:squarederror.\n",
            "[15:40:19] WARNING: /workspace/src/objective/regression_obj.cu:152: reg:linear is now deprecated in favor of reg:squarederror.\n",
            "[15:40:19] WARNING: /workspace/src/objective/regression_obj.cu:152: reg:linear is now deprecated in favor of reg:squarederror.\n",
            "[15:40:19] WARNING: /workspace/src/objective/regression_obj.cu:152: reg:linear is now deprecated in favor of reg:squarederror.\n",
            "[15:40:19] WARNING: /workspace/src/objective/regression_obj.cu:152: reg:linear is now deprecated in favor of reg:squarederror.\n",
            "[15:40:19] WARNING: /workspace/src/objective/regression_obj.cu:152: reg:linear is now deprecated in favor of reg:squarederror.\n"
          ],
          "name": "stdout"
        }
      ]
    },
    {
      "cell_type": "code",
      "metadata": {
        "colab": {
          "base_uri": "https://localhost:8080/"
        },
        "id": "5eQVeDp4cz14",
        "outputId": "eec4dd34-fbeb-4f42-cfc0-c87acaf8b815"
      },
      "source": [
        "res_report(y_test, ens.predict(X_test))"
      ],
      "execution_count": null,
      "outputs": [
        {
          "output_type": "stream",
          "text": [
            "RMSE :  4594.954621296016\n",
            "--------------------------------------------------------------\n",
            "accuracy with 5% error :  0.5\n"
          ],
          "name": "stdout"
        }
      ]
    },
    {
      "cell_type": "markdown",
      "metadata": {
        "id": "t2EBzoZJiWLq"
      },
      "source": [
        "### Bagging"
      ]
    },
    {
      "cell_type": "code",
      "metadata": {
        "id": "xwSNzp8ldoGc"
      },
      "source": [
        "def subsample(dataset_x, dataset_y, ratio=1.0):\n",
        "    sample_x = []\n",
        "    sample_y = []\n",
        "    n_sample = round(len(dataset_x) * ratio)\n",
        "    while len(sample_x) < n_sample:\n",
        "      index = randrange(len(dataset_x))\n",
        "      sample_x.append(dataset_x[index])\n",
        "      sample_y.append(dataset_y[index])\n",
        "    return np.array(sample_x), np.array(sample_y)"
      ],
      "execution_count": null,
      "outputs": []
    },
    {
      "cell_type": "code",
      "metadata": {
        "id": "OvNmwno9kdXJ"
      },
      "source": [
        "def stack_results(models, X):\n",
        "  preds_data = []\n",
        "  for i in range(len(models)):\n",
        "    preds_data.append(models[i].predict(X))\n",
        "  final_data = np.vstack(preds_data).T\n",
        "\n",
        "  return final_data\n",
        "\n",
        "def bagging(estimators, final_model, X_train, y_train, X_test, y_test):  \n",
        "  ## training models on bootstrapped data\n",
        "  models = []\n",
        "  for i in range(len(estimators)):\n",
        "    bootst_x, bootst_y = subsample(X_train, y_train, 0.7)\n",
        "    models.append(estimators[i][1].fit(bootst_x, bootst_y))\n",
        "  \n",
        "  ## stacking result\n",
        "  final_data = stack_results(models, X_train)\n",
        "  \n",
        "  ## train final model on stacked results\n",
        "  final_model = final_model.fit(final_data, y_train)\n",
        "\n",
        "  ## testing \n",
        "  test_data = stack_results(models, X_test)\n",
        "  yhat = final_model.predict(test_data)\n",
        "\n",
        "  print(res_report(y_test, yhat))\n"
      ],
      "execution_count": null,
      "outputs": []
    },
    {
      "cell_type": "code",
      "metadata": {
        "colab": {
          "base_uri": "https://localhost:8080/"
        },
        "id": "IouDpnPZpxsO",
        "outputId": "98481f82-d6c6-4fae-ef98-d6b447b54adc"
      },
      "source": [
        "bagging(estimators, MLPRegressor(), X_train, y_train, X_test, y_test)"
      ],
      "execution_count": null,
      "outputs": [
        {
          "output_type": "stream",
          "text": [
            "[15:40:44] WARNING: /workspace/src/objective/regression_obj.cu:152: reg:linear is now deprecated in favor of reg:squarederror.\n",
            "RMSE :  16043.237039714808\n",
            "--------------------------------------------------------------\n",
            "accuracy with 5% error :  0.600418410041841\n",
            "None\n"
          ],
          "name": "stdout"
        }
      ]
    },
    {
      "cell_type": "markdown",
      "metadata": {
        "id": "Ysvpb6qRuy1V"
      },
      "source": [
        "## Bitcoin price increase classificaiton"
      ]
    },
    {
      "cell_type": "code",
      "metadata": {
        "colab": {
          "base_uri": "https://localhost:8080/",
          "height": 117,
          "referenced_widgets": [
            "6118400ff39b4c0681ab531b64e9903e",
            "d4a01b539c034c4aa2e69632ccb4089c",
            "cd8c4dd43d1d4ab3944f8af573ba3500",
            "11f683abd82b4556923e538af7a43152",
            "6b314999f3984f4dac27a4b9d284bf4f",
            "e352c689d4d14d5092a5e4eeb83627da",
            "abd2f3e1664a4d67a750198a4974a9f8",
            "daa998235a2641dbbc45804426cafb72",
            "990969e493ff41beb3617e83e373d2ca",
            "413eceb8f0094ea6b483dd2a080b44c4",
            "5616d6cb1fe94253af08aa5d57ff3926",
            "5c5063297da04f2b922000a6f952b7f8",
            "c00289560eea4e1181d605afb4f06fd2",
            "91ddd3122b42478cbda54548ec7c3d25",
            "2e3f7d92a90a4acca6af6ddb4ae97c5b",
            "f50b43c66abe40cba38ba559621449cb"
          ]
        },
        "id": "5aiOgTCWfv2J",
        "outputId": "30da8b31-5983-4a15-8d00-162ae501c72a"
      },
      "source": [
        "lookback = 7\n",
        "X_train, y_train = prep_time_series(bit_train, input_ts=lookback)\n",
        "y_train = y_train.reshape(-1, 1)\n",
        "X_train = X_train.reshape(-1,lookback, 1)\n",
        "X_test, y_test = prep_time_series(bit_test, input_ts=lookback)\n",
        "y_test = y_test.reshape(-1, 1)\n",
        "X_test = X_test.reshape(-1,lookback, 1)\n",
        "X_train, X_val, y_train, y_val = train_test_split(X_train, y_train, test_size=.2, shuffle=False)"
      ],
      "execution_count": null,
      "outputs": [
        {
          "output_type": "display_data",
          "data": {
            "application/vnd.jupyter.widget-view+json": {
              "model_id": "6118400ff39b4c0681ab531b64e9903e",
              "version_major": 2,
              "version_minor": 0
            },
            "text/plain": [
              "HBox(children=(FloatProgress(value=0.0, max=3447.0), HTML(value='')))"
            ]
          },
          "metadata": {
            "tags": []
          }
        },
        {
          "output_type": "stream",
          "text": [
            "\n"
          ],
          "name": "stdout"
        },
        {
          "output_type": "display_data",
          "data": {
            "application/vnd.jupyter.widget-view+json": {
              "model_id": "990969e493ff41beb3617e83e373d2ca",
              "version_major": 2,
              "version_minor": 0
            },
            "text/plain": [
              "HBox(children=(FloatProgress(value=0.0, max=478.0), HTML(value='')))"
            ]
          },
          "metadata": {
            "tags": []
          }
        },
        {
          "output_type": "stream",
          "text": [
            "\n"
          ],
          "name": "stdout"
        }
      ]
    },
    {
      "cell_type": "code",
      "metadata": {
        "id": "b8xNjvyDvv0d"
      },
      "source": [
        "from torch.utils.data import TensorDataset, DataLoader\n",
        "\n",
        "batch_size = 64\n",
        "\n",
        "train_features = torch.Tensor(X_train)\n",
        "train_targets = torch.Tensor(y_train)\n",
        "val_features = torch.Tensor(X_val)\n",
        "val_targets = torch.Tensor(y_val)\n",
        "test_features = torch.Tensor(X_test)\n",
        "test_targets = torch.Tensor(y_test)\n",
        "\n",
        "train = TensorDataset(train_features, train_targets)\n",
        "val = TensorDataset(val_features, val_targets)\n",
        "test = TensorDataset(test_features, test_targets)\n",
        "\n",
        "train_loader = DataLoader(train, batch_size=batch_size, shuffle=False, drop_last=True)\n",
        "val_loader = DataLoader(val, batch_size=batch_size, shuffle=False, drop_last=True)\n",
        "test_loader = DataLoader(test, batch_size=batch_size, shuffle=False, drop_last=True)\n",
        "test_loader_one = DataLoader(test, batch_size=1, shuffle=False, drop_last=True)"
      ],
      "execution_count": null,
      "outputs": []
    },
    {
      "cell_type": "code",
      "metadata": {
        "id": "40TzeW9DwEYL"
      },
      "source": [
        "class LSTMclf(nn.Module):\n",
        "\n",
        "    def __init__(self, input_dim, hidden_dim, layer_dim, output_dim, dropout_prob):\n",
        "\n",
        "        super(LSTMclf, self).__init__()\n",
        "\n",
        "        # Defining the number of layers and the nodes in each layer\n",
        "        self.hidden_dim = hidden_dim\n",
        "        self.layer_dim = layer_dim\n",
        "\n",
        "        # LSTM layers\n",
        "        self.lstm = nn.LSTM(\n",
        "            input_dim, hidden_dim, layer_dim, batch_first=True, dropout=dropout_prob\n",
        "        )\n",
        "\n",
        "        # Fully connected layer\n",
        "        self.fc = nn.Linear(hidden_dim, output_dim)\n",
        "\n",
        "        self.scaler = StandardScaler()\n",
        "\n",
        "    def forward(self, x):\n",
        "\n",
        "        h0 = torch.zeros(self.layer_dim, x.size(0), self.hidden_dim).requires_grad_()\n",
        "\n",
        "        c0 = torch.zeros(self.layer_dim, x.size(0), self.hidden_dim).requires_grad_()\n",
        "        out, (hn, cn) = self.lstm(x, (h0.cuda().detach(), c0.cuda().detach()))\n",
        "        out = out[:, -1, :]\n",
        "\n",
        "        out = self.fc(torch.relu(out))\n",
        "        ## add sigmoid to the output\n",
        "        out = torch.sigmoid(out)\n",
        "\n",
        "        return out.reshape(-1, 1)"
      ],
      "execution_count": null,
      "outputs": []
    },
    {
      "cell_type": "code",
      "metadata": {
        "colab": {
          "base_uri": "https://localhost:8080/",
          "height": 463
        },
        "id": "c4u-0mBbwUZX",
        "outputId": "7ac75922-0388-48c3-f243-349226ca5f90"
      },
      "source": [
        "input_dim = 1\n",
        "output_dim = 1\n",
        "hidden_dim = 7\n",
        "layer_dim = 3\n",
        "batch_size = 64\n",
        "dropout = 0.2\n",
        "n_epochs = 25\n",
        "learning_rate = 1e-3\n",
        "weight_decay = 1e-6\n",
        "\n",
        "model = LSTMclf(input_dim, hidden_dim, layer_dim, output_dim, dropout)\n",
        "\n",
        "model = model.cuda()\n",
        "loss_fn = nn.BCELoss()\n",
        "optimizer = torch.optim.Adam(model.parameters(), lr=learning_rate, weight_decay=weight_decay)\n",
        "\n",
        "opt = Optimization(model=model, loss_fn=loss_fn, optimizer=optimizer)\n",
        "opt.train(train_loader, val_loader, batch_size=batch_size, n_epochs=n_epochs, n_features=input_dim, diff=True, increase_only=True)\n",
        "opt.plot_losses()\n",
        "\n",
        "predictions, values = opt.evaluate(test_loader_one, batch_size=1, n_features=input_dim, diff=True, increase_only=True)"
      ],
      "execution_count": null,
      "outputs": [
        {
          "output_type": "stream",
          "text": [
            "[1/25] Training loss: 0.7101\t Validation loss: 0.7277\n",
            "[2/25] Training loss: 0.7018\t Validation loss: 0.7175\n",
            "[3/25] Training loss: 0.6979\t Validation loss: 0.7137\n",
            "[4/25] Training loss: 0.6969\t Validation loss: 0.7119\n",
            "[5/25] Training loss: 0.6960\t Validation loss: 0.7102\n",
            "[6/25] Training loss: 0.6953\t Validation loss: 0.7087\n",
            "[7/25] Training loss: 0.6946\t Validation loss: 0.7076\n",
            "[8/25] Training loss: 0.6942\t Validation loss: 0.7067\n",
            "[9/25] Training loss: 0.6939\t Validation loss: 0.7060\n",
            "[10/25] Training loss: 0.6936\t Validation loss: 0.7053\n"
          ],
          "name": "stdout"
        },
        {
          "output_type": "display_data",
          "data": {
            "image/png": "[encoded data removed]",
            "text/plain": [
              "<Figure size 432x288 with 1 Axes>"
            ]
          },
          "metadata": {
            "tags": []
          }
        }
      ]
    },
    {
      "cell_type": "code",
      "metadata": {
        "id": "StAbJuO8wbUo"
      },
      "source": [
        "df_result = format_predictions(predictions, values, X_test, scaler=None)"
      ],
      "execution_count": null,
      "outputs": []
    },
    {
      "cell_type": "code",
      "metadata": {
        "id": "K_KKnkWbAG4F"
      },
      "source": [
        "df_result['res'] = (df_result.prediction > 0.5).astype(int)"
      ],
      "execution_count": null,
      "outputs": []
    },
    {
      "cell_type": "code",
      "metadata": {
        "colab": {
          "base_uri": "https://localhost:8080/",
          "height": 407
        },
        "id": "h2ygZbaAPoFV",
        "outputId": "15217e1a-1d88-45cc-fb51-8fcd762f94e2"
      },
      "source": [
        "df_result"
      ],
      "execution_count": null,
      "outputs": [
        {
          "output_type": "execute_result",
          "data": {
            "text/html": [
              "<div>\n",
              "<style scoped>\n",
              "    .dataframe tbody tr th:only-of-type {\n",
              "        vertical-align: middle;\n",
              "    }\n",
              "\n",
              "    .dataframe tbody tr th {\n",
              "        vertical-align: top;\n",
              "    }\n",
              "\n",
              "    .dataframe thead th {\n",
              "        text-align: right;\n",
              "    }\n",
              "</style>\n",
              "<table border=\"1\" class=\"dataframe\">\n",
              "  <thead>\n",
              "    <tr style=\"text-align: right;\">\n",
              "      <th></th>\n",
              "      <th>value</th>\n",
              "      <th>prediction</th>\n",
              "      <th>res</th>\n",
              "    </tr>\n",
              "  </thead>\n",
              "  <tbody>\n",
              "    <tr>\n",
              "      <th>0</th>\n",
              "      <td>0.0</td>\n",
              "      <td>0.531154</td>\n",
              "      <td>1</td>\n",
              "    </tr>\n",
              "    <tr>\n",
              "      <th>1</th>\n",
              "      <td>1.0</td>\n",
              "      <td>0.530134</td>\n",
              "      <td>1</td>\n",
              "    </tr>\n",
              "    <tr>\n",
              "      <th>2</th>\n",
              "      <td>0.0</td>\n",
              "      <td>0.526643</td>\n",
              "      <td>1</td>\n",
              "    </tr>\n",
              "    <tr>\n",
              "      <th>3</th>\n",
              "      <td>1.0</td>\n",
              "      <td>0.531041</td>\n",
              "      <td>1</td>\n",
              "    </tr>\n",
              "    <tr>\n",
              "      <th>4</th>\n",
              "      <td>0.0</td>\n",
              "      <td>0.528208</td>\n",
              "      <td>1</td>\n",
              "    </tr>\n",
              "    <tr>\n",
              "      <th>...</th>\n",
              "      <td>...</td>\n",
              "      <td>...</td>\n",
              "      <td>...</td>\n",
              "    </tr>\n",
              "    <tr>\n",
              "      <th>473</th>\n",
              "      <td>1.0</td>\n",
              "      <td>0.513013</td>\n",
              "      <td>1</td>\n",
              "    </tr>\n",
              "    <tr>\n",
              "      <th>474</th>\n",
              "      <td>1.0</td>\n",
              "      <td>0.355481</td>\n",
              "      <td>0</td>\n",
              "    </tr>\n",
              "    <tr>\n",
              "      <th>475</th>\n",
              "      <td>0.0</td>\n",
              "      <td>0.362797</td>\n",
              "      <td>0</td>\n",
              "    </tr>\n",
              "    <tr>\n",
              "      <th>476</th>\n",
              "      <td>0.0</td>\n",
              "      <td>0.394535</td>\n",
              "      <td>0</td>\n",
              "    </tr>\n",
              "    <tr>\n",
              "      <th>477</th>\n",
              "      <td>1.0</td>\n",
              "      <td>0.487752</td>\n",
              "      <td>0</td>\n",
              "    </tr>\n",
              "  </tbody>\n",
              "</table>\n",
              "<p>478 rows × 3 columns</p>\n",
              "</div>"
            ],
            "text/plain": [
              "     value  prediction  res\n",
              "0      0.0    0.531154    1\n",
              "1      1.0    0.530134    1\n",
              "2      0.0    0.526643    1\n",
              "3      1.0    0.531041    1\n",
              "4      0.0    0.528208    1\n",
              "..     ...         ...  ...\n",
              "473    1.0    0.513013    1\n",
              "474    1.0    0.355481    0\n",
              "475    0.0    0.362797    0\n",
              "476    0.0    0.394535    0\n",
              "477    1.0    0.487752    0\n",
              "\n",
              "[478 rows x 3 columns]"
            ]
          },
          "metadata": {
            "tags": []
          },
          "execution_count": 188
        }
      ]
    },
    {
      "cell_type": "code",
      "metadata": {
        "colab": {
          "base_uri": "https://localhost:8080/"
        },
        "id": "6OX3aGkKAjTz",
        "outputId": "6412e4f9-9e65-4e9b-ee57-93d57f973989"
      },
      "source": [
        "(df_result.value == df_result.res).sum() / len(df_result)"
      ],
      "execution_count": null,
      "outputs": [
        {
          "output_type": "execute_result",
          "data": {
            "text/plain": [
              "0.5334728033472803"
            ]
          },
          "metadata": {
            "tags": []
          },
          "execution_count": 189
        }
      ]
    },
    {
      "cell_type": "code",
      "metadata": {
        "colab": {
          "base_uri": "https://localhost:8080/"
        },
        "id": "tJEGny6sP8xn",
        "outputId": "3425545e-400a-40fc-844f-c6dbbd11fb8f"
      },
      "source": [
        "df_result['value'].value_counts()"
      ],
      "execution_count": null,
      "outputs": [
        {
          "output_type": "execute_result",
          "data": {
            "text/plain": [
              "1.0    265\n",
              "0.0    213\n",
              "Name: value, dtype: int64"
            ]
          },
          "metadata": {
            "tags": []
          },
          "execution_count": 190
        }
      ]
    },
    {
      "cell_type": "markdown",
      "metadata": {
        "id": "0Yik3fAMslOK"
      },
      "source": [
        "# Stock prediction"
      ]
    },
    {
      "cell_type": "code",
      "metadata": {
        "colab": {
          "base_uri": "https://localhost:8080/"
        },
        "id": "LI9tCkW5Wi1v",
        "outputId": "84d8360f-12a1-43f2-e406-f5e8b30b5aa5"
      },
      "source": [
        "from google.colab import drive\n",
        "drive.mount('/content/drive/')"
      ],
      "execution_count": null,
      "outputs": [
        {
          "output_type": "stream",
          "text": [
            "Mounted at /content/drive/\n"
          ],
          "name": "stdout"
        }
      ]
    },
    {
      "cell_type": "code",
      "metadata": {
        "id": "7krXGLesZW_C"
      },
      "source": [
        "stock = pd.read_csv('/content/drive/MyDrive/Data/training_data.csv')"
      ],
      "execution_count": null,
      "outputs": []
    },
    {
      "cell_type": "code",
      "metadata": {
        "id": "CcYwIOxVb1ol"
      },
      "source": [
        "stock.set_index('id', inplace=True)\n",
        "stock.drop('data_type', axis=1, inplace=True)\n",
        "stock.drop('era', axis=1, inplace=True)"
      ],
      "execution_count": null,
      "outputs": []
    },
    {
      "cell_type": "code",
      "metadata": {
        "colab": {
          "base_uri": "https://localhost:8080/"
        },
        "id": "lmE7YQEPbL1B",
        "outputId": "318cb962-0b3e-45bc-e8d2-f0e92129126a"
      },
      "source": [
        "stock.feature_intelligence1.value_counts()"
      ],
      "execution_count": null,
      "outputs": [
        {
          "output_type": "execute_result",
          "data": {
            "text/plain": [
              "0.00    100407\n",
              "1.00    100388\n",
              "0.25    100338\n",
              "0.75    100338\n",
              "0.50    100337\n",
              "Name: feature_intelligence1, dtype: int64"
            ]
          },
          "metadata": {
            "tags": []
          },
          "execution_count": 39
        }
      ]
    },
    {
      "cell_type": "code",
      "metadata": {
        "id": "9Hj93OYoaPvR"
      },
      "source": [
        "X_train = stock[[s for s in stock.columns if s != 'target']]\n",
        "y_train = stock.target\n",
        "\n",
        "X_train, X_test, y_train, y_test = train_test_split(X_train, y_train, test_size=.2, shuffle=False)"
      ],
      "execution_count": null,
      "outputs": []
    },
    {
      "cell_type": "code",
      "metadata": {
        "colab": {
          "background_save": true,
          "base_uri": "https://localhost:8080/"
        },
        "id": "MVm16SYMa8Pl",
        "outputId": "ce781cc1-bf04-491e-a41a-0aa69f3d1d16"
      },
      "source": [
        "model = XGBRegressor(max_depth=5 , learning_rate=0.01, n_estimators=2000, colsample_bytree= 0.1)\n",
        "model = model.fit(X_train, y_train)"
      ],
      "execution_count": null,
      "outputs": [
        {
          "output_type": "stream",
          "text": [
            "[15:26:59] WARNING: /workspace/src/objective/regression_obj.cu:152: reg:linear is now deprecated in favor of reg:squarederror.\n"
          ],
          "name": "stdout"
        }
      ]
    },
    {
      "cell_type": "code",
      "metadata": {
        "colab": {
          "background_save": true
        },
        "id": "DGo-DSUUfkcm",
        "outputId": "1b2dd4ee-18e2-4b8c-87a3-211d558216ce"
      },
      "source": [
        "print('RMSE : ', mean_squared_error(y_test, model.predict(X_test), squared=False))\n",
        "print('--------------------------------------------------------------')\n",
        "print('accuracy with 5% error : ', accuracy(y_test, model.predict(X_test)))"
      ],
      "execution_count": null,
      "outputs": [
        {
          "output_type": "stream",
          "text": [
            "RMSE :  0.22312069615156965\n",
            "--------------------------------------------------------------\n",
            "accuracy with 5% error :  0.47514995715509856\n"
          ],
          "name": "stdout"
        }
      ]
    },
    {
      "cell_type": "code",
      "metadata": {
        "colab": {
          "background_save": true
        },
        "id": "PEkwcKhEsCK1"
      },
      "source": [
        "nn_reg = MLPRegressor(max_iter=500).fit(X_train, y_train)"
      ],
      "execution_count": null,
      "outputs": []
    },
    {
      "cell_type": "code",
      "metadata": {
        "colab": {
          "background_save": true
        },
        "id": "21ZaiAdBsd9j",
        "outputId": "b4a94ef2-1ce8-400e-bd35-1e46df22175b"
      },
      "source": [
        "print('RMSE : ', mean_squared_error(y_test, nn_reg.predict(X_test), squared=False))\n",
        "print('--------------------------------------------------------------')\n",
        "print('accuracy with 5% error : ', accuracy(y_test, nn_reg.predict(X_test)))"
      ],
      "execution_count": null,
      "outputs": [
        {
          "output_type": "stream",
          "text": [
            "RMSE :  0.22355014993065467\n",
            "--------------------------------------------------------------\n",
            "accuracy with 5% error :  0.472160777983699\n"
          ],
          "name": "stdout"
        }
      ]
    },
    {
      "cell_type": "code",
      "metadata": {
        "id": "WzlclU2zso3l"
      },
      "source": [
        "svr = SVR().fit(X_train, y_train)"
      ],
      "execution_count": null,
      "outputs": []
    },
    {
      "cell_type": "code",
      "metadata": {
        "id": "hxJlyjSWtHnu"
      },
      "source": [
        "print('RMSE : ', mean_squared_error(y_test, svr.predict(X_test), squared=False))\n",
        "print('--------------------------------------------------------------')\n",
        "print('accuracy with 5% error : ', accuracy(y_test, svr.predict(X_test)))"
      ],
      "execution_count": null,
      "outputs": []
    }
  ]
}