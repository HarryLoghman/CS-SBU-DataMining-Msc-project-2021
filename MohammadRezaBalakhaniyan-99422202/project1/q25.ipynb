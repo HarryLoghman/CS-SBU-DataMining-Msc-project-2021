{
 "cells": [
  {
   "cell_type": "code",
   "execution_count": 1,
   "id": "10d05cef-7d9b-443a-83ba-bd1d244903b4",
   "metadata": {},
   "outputs": [],
   "source": [
    "def RSI(series, period = 5):\n",
    "    delta = series.diff().dropna()\n",
    "    u = delta * 0\n",
    "    d = u.copy()\n",
    "    u[delta > 0] = delta[delta > 0]\n",
    "    d[delta < 0] = -delta[delta < 0]\n",
    "    u[u.index[period-1]] = np.mean( u[:period] ) #first value is sum of avg gains\n",
    "    u = u.drop(u.index[:(period-1)])\n",
    "    d[d.index[period-1]] = np.mean( d[:period] ) #first value is sum of avg losses\n",
    "    d = d.drop(d.index[:(period-1)])\n",
    "    rs = pd.DataFrame.ewm(u, com=period-1, adjust=False).mean() / \\\n",
    "         pd.DataFrame.ewm(d, com=period-1, adjust=False).mean()\n",
    "    return 100 - 100 / (1 + rs)"
   ]
  },
  {
   "cell_type": "code",
   "execution_count": 2,
   "id": "a033a4f4-a16c-48d4-993a-45923ad24a6d",
   "metadata": {},
   "outputs": [],
   "source": [
    "def SOI(ds,priod=14):\n",
    "    ds['14-high'] = ds['high'].rolling(priod).max()\n",
    "    ds['14-low'] = ds['low'].rolling(priod).min()\n",
    "    ds['K'] = (ds['14-low'])*100/(ds['14-high'] - ds['14-low'])\n",
    "    ds['D'] = ds['K'].rolling(3).mean()\n",
    "    return ds"
   ]
  },
  {
   "cell_type": "code",
   "execution_count": 3,
   "id": "33f4a4b1-67c3-4031-8425-c6a8e532960f",
   "metadata": {},
   "outputs": [],
   "source": [
    "def SMA(series,w = 3):\n",
    "    return series.rolling(window=w).mean()"
   ]
  },
  {
   "cell_type": "code",
   "execution_count": 4,
   "id": "15eef4d7-279b-427f-a4e6-eb65ce3a8c1c",
   "metadata": {},
   "outputs": [],
   "source": [
    "def CMA(series,mp=4):\n",
    "    return series.expanding(min_periods=mp).mean()"
   ]
  },
  {
   "cell_type": "code",
   "execution_count": 5,
   "id": "27c216de-c4db-4c54-96fc-212748dd797d",
   "metadata": {},
   "outputs": [],
   "source": [
    "def EMA(series,sp=40):\n",
    "    return series.ewm(span=sp,adjust=False).mean()"
   ]
  },
  {
   "cell_type": "code",
   "execution_count": 6,
   "id": "54c45a93-f420-4a6d-8e08-ca774f591b93",
   "metadata": {},
   "outputs": [],
   "source": [
    "import matplotlib\n",
    "import pandas as pd\n",
    "import numpy as np\n",
    "import time\n",
    "from datetime import datetime\n",
    "import matplotlib.pyplot as plt\n",
    "from sklearn.naive_bayes import *\n",
    "from sklearn.linear_model import LinearRegression\n",
    "from re import sub\n",
    "def mdy_to_ymd(d):\n",
    "    return time.mktime(datetime.strptime(d, '%d-%b-%y').timetuple())\n",
    "\n",
    "class Beautify:\n",
    "\n",
    "    @staticmethod\n",
    "    def beautify(path):\n",
    "        dataset = pd.read_csv(path)\n",
    "        dataset.columns = [\"date\", \"price\", \"open\", \"high\", \"low\", \"vol\", \"change\"]\n",
    "        dataset[\"date\"] = dataset.apply(lambda row: mdy_to_ymd(row['date']), axis=1)\n",
    "        for col in [\"price\", \"open\", \"high\", \"low\", \"vol\", \"change\"]:\n",
    "            dataset[col] = dataset.apply(\n",
    "                lambda row: (lambda x: 0 if x == '-' else float(x))(sub(r'[^\\d.-]', '', row[col])),\n",
    "                axis=1)\n",
    "        dataset = dataset.sort_values([\"date\"])\n",
    "        return dataset\n",
    "\n",
    "\n",
    "pd.set_option('display.float_format', lambda x: '%.0f' % x)"
   ]
  },
  {
   "cell_type": "code",
   "execution_count": 7,
   "id": "052bfd1b-c7fc-447e-a4b7-b03f95cdf30a",
   "metadata": {},
   "outputs": [],
   "source": [
    "dataset = SOI(Beautify.beautify(\"dataset.csv\"))\n",
    "dataset[\"RSI\"] = RSI(dataset.price)\n",
    "dataset[\"SMA\"] = SMA(dataset.price)\n",
    "dataset[\"CMA\"] = CMA(dataset.price)\n",
    "dataset[\"EMA\"] = EMA(dataset.price)"
   ]
  },
  {
   "cell_type": "code",
   "execution_count": 8,
   "id": "ae8aabdb-fcd0-4bad-b133-f6d6f254223b",
   "metadata": {},
   "outputs": [],
   "source": [
    "for name in [\"14-high\",\"14-low\",\"K\",\"D\",\"RSI\",\"SMA\",\"CMA\",\"EMA\"]:\n",
    "    dataset[name] = dataset[name].fillna(0)"
   ]
  },
  {
   "cell_type": "code",
   "execution_count": 9,
   "id": "4bf62328-e087-46e7-9c8f-b24941cd31cc",
   "metadata": {},
   "outputs": [],
   "source": [
    "dataset = dataset.drop([\"K\",\"open\",\"high\",\"low\",\"vol\",\"change\"],axis=1)"
   ]
  },
  {
   "cell_type": "code",
   "execution_count": 10,
   "id": "97af6e17-f821-44b9-b37b-4ff9cd4e0b11",
   "metadata": {},
   "outputs": [],
   "source": [
    "for i in [1,2,3,5,7,10,12,15,20,30,45]:\n",
    "    dataset[f\"s_{i}\"] = dataset[\"price\"].shift(i,fill_value=0)"
   ]
  },
  {
   "cell_type": "code",
   "execution_count": 11,
   "id": "debd0130-32fd-4d58-991e-7418b517d0af",
   "metadata": {},
   "outputs": [],
   "source": [
    "from sklearn.linear_model import LinearRegression\n",
    "from sklearn.linear_model import Lasso"
   ]
  },
  {
   "cell_type": "code",
   "execution_count": 12,
   "id": "af3ab0c0-4b90-438a-834b-427d53ee4e84",
   "metadata": {},
   "outputs": [],
   "source": [
    "TRAIN = time.mktime(datetime.strptime(\"20-01-02\", '%y-%m-%d').timetuple())\n",
    "train = dataset[dataset.date < TRAIN]\n",
    "test = dataset[dataset.date >= TRAIN]"
   ]
  },
  {
   "cell_type": "code",
   "execution_count": 13,
   "id": "85b091cc-49f2-416f-bc40-cd81d4a2a812",
   "metadata": {},
   "outputs": [
    {
     "name": "stderr",
     "output_type": "stream",
     "text": [
      "E:\\Anaconda2021\\lib\\site-packages\\pandas\\core\\frame.py:4308: SettingWithCopyWarning: \n",
      "A value is trying to be set on a copy of a slice from a DataFrame\n",
      "\n",
      "See the caveats in the documentation: https://pandas.pydata.org/pandas-docs/stable/user_guide/indexing.html#returning-a-view-versus-a-copy\n",
      "  return super().drop(\n"
     ]
    }
   ],
   "source": [
    "train.drop(\"date\",axis=1,inplace=True)\n",
    "test.drop(\"date\",axis=1,inplace=True)"
   ]
  },
  {
   "cell_type": "code",
   "execution_count": 14,
   "id": "c7bd62e4-ea00-49a2-be64-f7f5ce24c76e",
   "metadata": {},
   "outputs": [],
   "source": [
    "model = LinearRegression()\n",
    "model.fit(train.drop(\"price\",axis=1),train.price)\n",
    "pred = model.predict(test.drop(\"price\",axis=1))"
   ]
  },
  {
   "cell_type": "code",
   "execution_count": 15,
   "id": "a0fc95d7-fbcf-4ef6-af01-c3979f2431c3",
   "metadata": {},
   "outputs": [],
   "source": [
    "res = pd.DataFrame({\"index\": np.arange(len(pred)), \"real\": test.price, \"pred\": pred})"
   ]
  },
  {
   "cell_type": "code",
   "execution_count": 16,
   "id": "37ea7fe5-d8e1-46fb-bcb2-db3bbd482651",
   "metadata": {},
   "outputs": [
    {
     "data": {
      "text/plain": [
       "100.0"
      ]
     },
     "execution_count": 16,
     "metadata": {},
     "output_type": "execute_result"
    }
   ],
   "source": [
    "res[(res.pred * 0.95 <= res.real) & (res.pred * 1.05 >= res.real)].shape[0] / res.shape[0] * 100"
   ]
  },
  {
   "cell_type": "code",
   "execution_count": 17,
   "id": "c7c1e138-1ef0-4b54-887b-f561893e4078",
   "metadata": {},
   "outputs": [
    {
     "data": {
      "text/plain": [
       "1.3383895372576343e-07"
      ]
     },
     "execution_count": 17,
     "metadata": {},
     "output_type": "execute_result"
    }
   ],
   "source": [
    "from sklearn.metrics import mean_squared_error\n",
    "mean_squared_error(res.pred,res.real)"
   ]
  }
 ],
 "metadata": {
  "kernelspec": {
   "display_name": "Python 3",
   "language": "python",
   "name": "python3"
  },
  "language_info": {
   "codemirror_mode": {
    "name": "ipython",
    "version": 3
   },
   "file_extension": ".py",
   "mimetype": "text/x-python",
   "name": "python",
   "nbconvert_exporter": "python",
   "pygments_lexer": "ipython3",
   "version": "3.8.8"
  }
 },
 "nbformat": 4,
 "nbformat_minor": 5
}
