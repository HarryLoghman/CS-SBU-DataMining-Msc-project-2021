{
 "cells": [
  {
   "cell_type": "code",
   "execution_count": 1,
   "id": "b5c40b20-a1c3-4523-9cf9-13e9ec276da1",
   "metadata": {},
   "outputs": [],
   "source": [
    "import numpy as np\n",
    "import tensorflow as tf\n",
    "from tensorflow import keras\n",
    "import pandas as pd\n",
    "from re import sub\n",
    "from decimal import Decimal\n",
    "from sklearn.model_selection import train_test_split\n",
    "from sklearn.metrics import mean_squared_error\n",
    "from datetime import datetime\n",
    "import time\n",
    "import matplotlib.pylab as plt\n",
    "import math"
   ]
  },
  {
   "cell_type": "code",
   "execution_count": 2,
   "id": "89fe5b92-083a-4d24-9aaa-616bfda84870",
   "metadata": {},
   "outputs": [],
   "source": [
    "TRAIN = time.mktime(datetime.strptime(\"20-01-02\", '%y-%m-%d').timetuple())\n"
   ]
  },
  {
   "cell_type": "code",
   "execution_count": 3,
   "id": "4d213be8-09c6-40af-b681-feed2a45cc1d",
   "metadata": {},
   "outputs": [],
   "source": [
    "def moving_average(x, w):\n",
    "    return np.convolve(x, np.ones(w), 'valid') / w\n",
    "\n",
    "def mdy_to_ymd(d):\n",
    "    return time.mktime(datetime.strptime(d, '%d-%b-%y').timetuple())"
   ]
  },
  {
   "cell_type": "code",
   "execution_count": 4,
   "id": "6f67e81b-c36f-4544-a712-82cee71ddff5",
   "metadata": {},
   "outputs": [],
   "source": [
    "dataset = pd.read_csv(\"dataset.csv\")\n",
    "dataset.columns = [\"date\",\"price\",\"open\",\"high\",\"low\",\"vol\",\"change\"]"
   ]
  },
  {
   "cell_type": "code",
   "execution_count": 5,
   "id": "19b87c10-e130-442a-ad07-0ba1124baa2c",
   "metadata": {},
   "outputs": [],
   "source": [
    "for col in [\"price\",\"open\",\"high\",\"low\",\"vol\",\"change\"]:\n",
    "    dataset[col] = dataset.apply(lambda row : (lambda x: 0 if x == '-' else float(x))(sub(r'[^\\d.-]', '', row[col])), axis = 1)\n",
    "\n",
    "dataset[\"date\"] = dataset.apply(lambda row : mdy_to_ymd(row['date']), axis = 1)"
   ]
  },
  {
   "cell_type": "code",
   "execution_count": 6,
   "id": "a152ab22-85cc-450a-b0c1-bbd8536989b5",
   "metadata": {},
   "outputs": [],
   "source": [
    "dataset[\"PrevPrice\"] = dataset.price[1:].append(pd.Series([0],index=[dataset.shape[0]])).reset_index(drop=True)"
   ]
  },
  {
   "cell_type": "code",
   "execution_count": 70,
   "id": "89087ea2-9c48-4fd2-8c66-22e5a563f33d",
   "metadata": {},
   "outputs": [],
   "source": [
    "train = dataset[dataset.date < TRAIN]\n",
    "test = dataset[dataset.date >= TRAIN]"
   ]
  },
  {
   "cell_type": "code",
   "execution_count": 8,
   "id": "91e994ee-cc0c-4809-8499-cb0db6746658",
   "metadata": {},
   "outputs": [
    {
     "data": {
      "text/plain": [
       "LinearRegression()"
      ]
     },
     "execution_count": 8,
     "metadata": {},
     "output_type": "execute_result"
    }
   ],
   "source": [
    "from sklearn.linear_model import LinearRegression\n",
    "model = LinearRegression()\n",
    "model.fit(train[[\"PrevPrice\"]],train.price)\n",
    "\n"
   ]
  },
  {
   "cell_type": "code",
   "execution_count": 9,
   "id": "6262a7ef-cf0c-4143-a7b9-3a518b93e7cc",
   "metadata": {},
   "outputs": [],
   "source": [
    "df = pd.DataFrame()\n",
    "df[\"target\"] = test.price\n",
    "df[\"predict\"] = pd.Series(model.predict(test[[\"PrevPrice\"]]))"
   ]
  },
  {
   "cell_type": "code",
   "execution_count": 10,
   "id": "8e4b8237-7722-4f7e-a4b3-fafd6c6ae7f0",
   "metadata": {},
   "outputs": [
    {
     "data": {
      "text/plain": [
       "85.59670781893004"
      ]
     },
     "execution_count": 10,
     "metadata": {},
     "output_type": "execute_result"
    }
   ],
   "source": [
    "df[\"isAcc\"] = (df.target*0.95 <= df.predict) & (df.predict <= df.target*1.05)\n",
    "df[\"isAcc\"] = df.apply(lambda row: 1 if row[\"isAcc\"] else 0,axis = 1)\n",
    "df.isAcc.sum()/df.shape[0]*100"
   ]
  },
  {
   "cell_type": "code",
   "execution_count": 11,
   "id": "389c998f-de37-4ece-8ddf-12a733b9215e",
   "metadata": {},
   "outputs": [
    {
     "data": {
      "text/plain": [
       "<AxesSubplot:xlabel='predict'>"
      ]
     },
     "execution_count": 11,
     "metadata": {},
     "output_type": "execute_result"
    },
    {
     "data": {
      "image/png": "[encoded data removed]",
      "text/plain": [
       "<Figure size 432x288 with 1 Axes>"
      ]
     },
     "metadata": {
      "needs_background": "light"
     },
     "output_type": "display_data"
    }
   ],
   "source": [
    "df.plot(x = \"predict\", y = \"target\")"
   ]
  },
  {
   "cell_type": "code",
   "execution_count": 12,
   "id": "f2b29eaf-024c-4a7e-a7f5-206c08255f97",
   "metadata": {},
   "outputs": [
    {
     "data": {
      "text/plain": [
       "582.8963196947335"
      ]
     },
     "execution_count": 12,
     "metadata": {},
     "output_type": "execute_result"
    }
   ],
   "source": [
    "np.abs(df.target - df.predict).mean()"
   ]
  },
  {
   "cell_type": "code",
   "execution_count": 13,
   "id": "50d74ad7-7f23-46f8-84a0-4513630ffaee",
   "metadata": {},
   "outputs": [
    {
     "data": {
      "text/plain": [
       "1086.5880430569164"
      ]
     },
     "execution_count": 13,
     "metadata": {},
     "output_type": "execute_result"
    }
   ],
   "source": [
    "mean_squared_error(df.target,df.predict,squared=False)"
   ]
  },
  {
   "cell_type": "code",
   "execution_count": 31,
   "id": "8235a3d5-c7b3-49b8-85da-27fb2aa0e02d",
   "metadata": {},
   "outputs": [
    {
     "data": {
      "text/html": [
       "<div>\n",
       "<style scoped>\n",
       "    .dataframe tbody tr th:only-of-type {\n",
       "        vertical-align: middle;\n",
       "    }\n",
       "\n",
       "    .dataframe tbody tr th {\n",
       "        vertical-align: top;\n",
       "    }\n",
       "\n",
       "    .dataframe thead th {\n",
       "        text-align: right;\n",
       "    }\n",
       "</style>\n",
       "<table border=\"1\" class=\"dataframe\">\n",
       "  <thead>\n",
       "    <tr style=\"text-align: right;\">\n",
       "      <th></th>\n",
       "      <th>t0</th>\n",
       "      <th>t1</th>\n",
       "      <th>t2</th>\n",
       "      <th>t3</th>\n",
       "      <th>t4</th>\n",
       "      <th>t5</th>\n",
       "      <th>t6</th>\n",
       "      <th>t7</th>\n",
       "      <th>t8</th>\n",
       "      <th>t9</th>\n",
       "      <th>...</th>\n",
       "      <th>t51</th>\n",
       "      <th>t52</th>\n",
       "      <th>t53</th>\n",
       "      <th>t54</th>\n",
       "      <th>t55</th>\n",
       "      <th>t56</th>\n",
       "      <th>t57</th>\n",
       "      <th>t58</th>\n",
       "      <th>t59</th>\n",
       "      <th>target</th>\n",
       "    </tr>\n",
       "  </thead>\n",
       "  <tbody>\n",
       "    <tr>\n",
       "      <th>0</th>\n",
       "      <td>57807.1</td>\n",
       "      <td>57720.3</td>\n",
       "      <td>53560.8</td>\n",
       "      <td>54841.4</td>\n",
       "      <td>55036.5</td>\n",
       "      <td>54020.5</td>\n",
       "      <td>48963.6</td>\n",
       "      <td>50088.9</td>\n",
       "      <td>51143.6</td>\n",
       "      <td>51729.5</td>\n",
       "      <td>...</td>\n",
       "      <td>57799.5</td>\n",
       "      <td>55851.9</td>\n",
       "      <td>54879.0</td>\n",
       "      <td>52311.0</td>\n",
       "      <td>50982.3</td>\n",
       "      <td>48855.6</td>\n",
       "      <td>48792.5</td>\n",
       "      <td>48428.0</td>\n",
       "      <td>50395.1</td>\n",
       "      <td>48424.2</td>\n",
       "    </tr>\n",
       "    <tr>\n",
       "      <th>1</th>\n",
       "      <td>57720.3</td>\n",
       "      <td>53560.8</td>\n",
       "      <td>54841.4</td>\n",
       "      <td>55036.5</td>\n",
       "      <td>54020.5</td>\n",
       "      <td>48963.6</td>\n",
       "      <td>50088.9</td>\n",
       "      <td>51143.6</td>\n",
       "      <td>51729.5</td>\n",
       "      <td>53820.2</td>\n",
       "      <td>...</td>\n",
       "      <td>55851.9</td>\n",
       "      <td>54879.0</td>\n",
       "      <td>52311.0</td>\n",
       "      <td>50982.3</td>\n",
       "      <td>48855.6</td>\n",
       "      <td>48792.5</td>\n",
       "      <td>48428.0</td>\n",
       "      <td>50395.1</td>\n",
       "      <td>48424.2</td>\n",
       "      <td>49595.5</td>\n",
       "    </tr>\n",
       "    <tr>\n",
       "      <th>2</th>\n",
       "      <td>53560.8</td>\n",
       "      <td>54841.4</td>\n",
       "      <td>55036.5</td>\n",
       "      <td>54020.5</td>\n",
       "      <td>48963.6</td>\n",
       "      <td>50088.9</td>\n",
       "      <td>51143.6</td>\n",
       "      <td>51729.5</td>\n",
       "      <td>53820.2</td>\n",
       "      <td>56483.2</td>\n",
       "      <td>...</td>\n",
       "      <td>54879.0</td>\n",
       "      <td>52311.0</td>\n",
       "      <td>50982.3</td>\n",
       "      <td>48855.6</td>\n",
       "      <td>48792.5</td>\n",
       "      <td>48428.0</td>\n",
       "      <td>50395.1</td>\n",
       "      <td>48424.2</td>\n",
       "      <td>49595.5</td>\n",
       "      <td>45164.0</td>\n",
       "    </tr>\n",
       "    <tr>\n",
       "      <th>3</th>\n",
       "      <td>54841.4</td>\n",
       "      <td>55036.5</td>\n",
       "      <td>54020.5</td>\n",
       "      <td>48963.6</td>\n",
       "      <td>50088.9</td>\n",
       "      <td>51143.6</td>\n",
       "      <td>51729.5</td>\n",
       "      <td>53820.2</td>\n",
       "      <td>56483.2</td>\n",
       "      <td>55646.1</td>\n",
       "      <td>...</td>\n",
       "      <td>52311.0</td>\n",
       "      <td>50982.3</td>\n",
       "      <td>48855.6</td>\n",
       "      <td>48792.5</td>\n",
       "      <td>48428.0</td>\n",
       "      <td>50395.1</td>\n",
       "      <td>48424.2</td>\n",
       "      <td>49595.5</td>\n",
       "      <td>45164.0</td>\n",
       "      <td>46136.7</td>\n",
       "    </tr>\n",
       "    <tr>\n",
       "      <th>4</th>\n",
       "      <td>55036.5</td>\n",
       "      <td>54020.5</td>\n",
       "      <td>48963.6</td>\n",
       "      <td>50088.9</td>\n",
       "      <td>51143.6</td>\n",
       "      <td>51729.5</td>\n",
       "      <td>53820.2</td>\n",
       "      <td>56483.2</td>\n",
       "      <td>55646.1</td>\n",
       "      <td>56207.1</td>\n",
       "      <td>...</td>\n",
       "      <td>50982.3</td>\n",
       "      <td>48855.6</td>\n",
       "      <td>48792.5</td>\n",
       "      <td>48428.0</td>\n",
       "      <td>50395.1</td>\n",
       "      <td>48424.2</td>\n",
       "      <td>49595.5</td>\n",
       "      <td>45164.0</td>\n",
       "      <td>46136.7</td>\n",
       "      <td>46345.6</td>\n",
       "    </tr>\n",
       "    <tr>\n",
       "      <th>...</th>\n",
       "      <td>...</td>\n",
       "      <td>...</td>\n",
       "      <td>...</td>\n",
       "      <td>...</td>\n",
       "      <td>...</td>\n",
       "      <td>...</td>\n",
       "      <td>...</td>\n",
       "      <td>...</td>\n",
       "      <td>...</td>\n",
       "      <td>...</td>\n",
       "      <td>...</td>\n",
       "      <td>...</td>\n",
       "      <td>...</td>\n",
       "      <td>...</td>\n",
       "      <td>...</td>\n",
       "      <td>...</td>\n",
       "      <td>...</td>\n",
       "      <td>...</td>\n",
       "      <td>...</td>\n",
       "      <td>...</td>\n",
       "      <td>...</td>\n",
       "    </tr>\n",
       "    <tr>\n",
       "      <th>3876</th>\n",
       "      <td>0.1</td>\n",
       "      <td>0.1</td>\n",
       "      <td>0.1</td>\n",
       "      <td>0.1</td>\n",
       "      <td>0.1</td>\n",
       "      <td>0.1</td>\n",
       "      <td>0.1</td>\n",
       "      <td>0.1</td>\n",
       "      <td>0.1</td>\n",
       "      <td>0.1</td>\n",
       "      <td>...</td>\n",
       "      <td>0.1</td>\n",
       "      <td>0.1</td>\n",
       "      <td>0.1</td>\n",
       "      <td>0.1</td>\n",
       "      <td>0.1</td>\n",
       "      <td>0.1</td>\n",
       "      <td>0.1</td>\n",
       "      <td>0.1</td>\n",
       "      <td>0.1</td>\n",
       "      <td>0.1</td>\n",
       "    </tr>\n",
       "    <tr>\n",
       "      <th>3877</th>\n",
       "      <td>0.1</td>\n",
       "      <td>0.1</td>\n",
       "      <td>0.1</td>\n",
       "      <td>0.1</td>\n",
       "      <td>0.1</td>\n",
       "      <td>0.1</td>\n",
       "      <td>0.1</td>\n",
       "      <td>0.1</td>\n",
       "      <td>0.1</td>\n",
       "      <td>0.1</td>\n",
       "      <td>...</td>\n",
       "      <td>0.1</td>\n",
       "      <td>0.1</td>\n",
       "      <td>0.1</td>\n",
       "      <td>0.1</td>\n",
       "      <td>0.1</td>\n",
       "      <td>0.1</td>\n",
       "      <td>0.1</td>\n",
       "      <td>0.1</td>\n",
       "      <td>0.1</td>\n",
       "      <td>0.1</td>\n",
       "    </tr>\n",
       "    <tr>\n",
       "      <th>3878</th>\n",
       "      <td>0.1</td>\n",
       "      <td>0.1</td>\n",
       "      <td>0.1</td>\n",
       "      <td>0.1</td>\n",
       "      <td>0.1</td>\n",
       "      <td>0.1</td>\n",
       "      <td>0.1</td>\n",
       "      <td>0.1</td>\n",
       "      <td>0.1</td>\n",
       "      <td>0.1</td>\n",
       "      <td>...</td>\n",
       "      <td>0.1</td>\n",
       "      <td>0.1</td>\n",
       "      <td>0.1</td>\n",
       "      <td>0.1</td>\n",
       "      <td>0.1</td>\n",
       "      <td>0.1</td>\n",
       "      <td>0.1</td>\n",
       "      <td>0.1</td>\n",
       "      <td>0.1</td>\n",
       "      <td>0.1</td>\n",
       "    </tr>\n",
       "    <tr>\n",
       "      <th>3879</th>\n",
       "      <td>0.1</td>\n",
       "      <td>0.1</td>\n",
       "      <td>0.1</td>\n",
       "      <td>0.1</td>\n",
       "      <td>0.1</td>\n",
       "      <td>0.1</td>\n",
       "      <td>0.1</td>\n",
       "      <td>0.1</td>\n",
       "      <td>0.1</td>\n",
       "      <td>0.1</td>\n",
       "      <td>...</td>\n",
       "      <td>0.1</td>\n",
       "      <td>0.1</td>\n",
       "      <td>0.1</td>\n",
       "      <td>0.1</td>\n",
       "      <td>0.1</td>\n",
       "      <td>0.1</td>\n",
       "      <td>0.1</td>\n",
       "      <td>0.1</td>\n",
       "      <td>0.1</td>\n",
       "      <td>0.1</td>\n",
       "    </tr>\n",
       "    <tr>\n",
       "      <th>3880</th>\n",
       "      <td>0.1</td>\n",
       "      <td>0.1</td>\n",
       "      <td>0.1</td>\n",
       "      <td>0.1</td>\n",
       "      <td>0.1</td>\n",
       "      <td>0.1</td>\n",
       "      <td>0.1</td>\n",
       "      <td>0.1</td>\n",
       "      <td>0.1</td>\n",
       "      <td>0.1</td>\n",
       "      <td>...</td>\n",
       "      <td>0.1</td>\n",
       "      <td>0.1</td>\n",
       "      <td>0.1</td>\n",
       "      <td>0.1</td>\n",
       "      <td>0.1</td>\n",
       "      <td>0.1</td>\n",
       "      <td>0.1</td>\n",
       "      <td>0.1</td>\n",
       "      <td>0.1</td>\n",
       "      <td>0.1</td>\n",
       "    </tr>\n",
       "  </tbody>\n",
       "</table>\n",
       "<p>3881 rows × 61 columns</p>\n",
       "</div>"
      ],
      "text/plain": [
       "           t0       t1       t2       t3       t4       t5       t6       t7  \\\n",
       "0     57807.1  57720.3  53560.8  54841.4  55036.5  54020.5  48963.6  50088.9   \n",
       "1     57720.3  53560.8  54841.4  55036.5  54020.5  48963.6  50088.9  51143.6   \n",
       "2     53560.8  54841.4  55036.5  54020.5  48963.6  50088.9  51143.6  51729.5   \n",
       "3     54841.4  55036.5  54020.5  48963.6  50088.9  51143.6  51729.5  53820.2   \n",
       "4     55036.5  54020.5  48963.6  50088.9  51143.6  51729.5  53820.2  56483.2   \n",
       "...       ...      ...      ...      ...      ...      ...      ...      ...   \n",
       "3876      0.1      0.1      0.1      0.1      0.1      0.1      0.1      0.1   \n",
       "3877      0.1      0.1      0.1      0.1      0.1      0.1      0.1      0.1   \n",
       "3878      0.1      0.1      0.1      0.1      0.1      0.1      0.1      0.1   \n",
       "3879      0.1      0.1      0.1      0.1      0.1      0.1      0.1      0.1   \n",
       "3880      0.1      0.1      0.1      0.1      0.1      0.1      0.1      0.1   \n",
       "\n",
       "           t8       t9  ...      t51      t52      t53      t54      t55  \\\n",
       "0     51143.6  51729.5  ...  57799.5  55851.9  54879.0  52311.0  50982.3   \n",
       "1     51729.5  53820.2  ...  55851.9  54879.0  52311.0  50982.3  48855.6   \n",
       "2     53820.2  56483.2  ...  54879.0  52311.0  50982.3  48855.6  48792.5   \n",
       "3     56483.2  55646.1  ...  52311.0  50982.3  48855.6  48792.5  48428.0   \n",
       "4     55646.1  56207.1  ...  50982.3  48855.6  48792.5  48428.0  50395.1   \n",
       "...       ...      ...  ...      ...      ...      ...      ...      ...   \n",
       "3876      0.1      0.1  ...      0.1      0.1      0.1      0.1      0.1   \n",
       "3877      0.1      0.1  ...      0.1      0.1      0.1      0.1      0.1   \n",
       "3878      0.1      0.1  ...      0.1      0.1      0.1      0.1      0.1   \n",
       "3879      0.1      0.1  ...      0.1      0.1      0.1      0.1      0.1   \n",
       "3880      0.1      0.1  ...      0.1      0.1      0.1      0.1      0.1   \n",
       "\n",
       "          t56      t57      t58      t59   target  \n",
       "0     48855.6  48792.5  48428.0  50395.1  48424.2  \n",
       "1     48792.5  48428.0  50395.1  48424.2  49595.5  \n",
       "2     48428.0  50395.1  48424.2  49595.5  45164.0  \n",
       "3     50395.1  48424.2  49595.5  45164.0  46136.7  \n",
       "4     48424.2  49595.5  45164.0  46136.7  46345.6  \n",
       "...       ...      ...      ...      ...      ...  \n",
       "3876      0.1      0.1      0.1      0.1      0.1  \n",
       "3877      0.1      0.1      0.1      0.1      0.1  \n",
       "3878      0.1      0.1      0.1      0.1      0.1  \n",
       "3879      0.1      0.1      0.1      0.1      0.1  \n",
       "3880      0.1      0.1      0.1      0.1      0.1  \n",
       "\n",
       "[3881 rows x 61 columns]"
      ]
     },
     "execution_count": 31,
     "metadata": {},
     "output_type": "execute_result"
    }
   ],
   "source": [
    "SIZE = 60 #we take 2 past months here for each time-series point\n",
    "COLUMNS = ['t{}'.format(x) for x in range(SIZE)] + ['target']\n",
    "df = []\n",
    "for i in range(SIZE, dataset.shape[0]):\n",
    "    df.append(dataset.loc[i-SIZE:i, 'price'].tolist())\n",
    "df = pd.DataFrame(df, columns=COLUMNS)\n",
    "df"
   ]
  },
  {
   "cell_type": "code",
   "execution_count": 15,
   "id": "b3a4d9e1-517e-450b-a13f-797490d8be9b",
   "metadata": {},
   "outputs": [],
   "source": [
    "df[\"date\"] = dataset.head(dataset.shape[0] - 60).date"
   ]
  },
  {
   "cell_type": "code",
   "execution_count": 16,
   "id": "28fb0995-10ca-4fef-b211-66b43811e335",
   "metadata": {},
   "outputs": [],
   "source": [
    "train = df[df.date < TRAIN]\n",
    "test = df[df.date >= TRAIN]"
   ]
  },
  {
   "cell_type": "code",
   "execution_count": 17,
   "id": "a5c3fd2c-e08c-4e94-88af-46d9d25de5c9",
   "metadata": {},
   "outputs": [],
   "source": [
    "train = train.drop(columns=[\"date\"])\n",
    "test = test.drop(columns=[\"date\"])\n"
   ]
  },
  {
   "cell_type": "code",
   "execution_count": 18,
   "id": "9f769705-ea5c-4937-b2d4-cfae57f2a91f",
   "metadata": {},
   "outputs": [
    {
     "name": "stderr",
     "output_type": "stream",
     "text": [
      "E:\\AnacondaPy\\lib\\site-packages\\sklearn\\linear_model\\_coordinate_descent.py:530: ConvergenceWarning: Objective did not converge. You might want to increase the number of iterations. Duality gap: 65133764.53373925, tolerance: 3914614.2338123904\n",
      "  model = cd_fast.enet_coordinate_descent(\n"
     ]
    },
    {
     "data": {
      "text/plain": [
       "Lasso()"
      ]
     },
     "execution_count": 18,
     "metadata": {},
     "output_type": "execute_result"
    }
   ],
   "source": [
    "from sklearn.linear_model import Lasso\n",
    "model = Lasso()\n",
    "model.fit(train.drop(columns=[\"target\"]),train.target)"
   ]
  },
  {
   "cell_type": "code",
   "execution_count": 19,
   "id": "fde305ef-3e2a-45be-a85b-6d13c000c101",
   "metadata": {},
   "outputs": [
    {
     "data": {
      "text/plain": [
       "<AxesSubplot:>"
      ]
     },
     "execution_count": 19,
     "metadata": {},
     "output_type": "execute_result"
    },
    {
     "data": {
      "image/png": "[encoded data removed]",
      "text/plain": [
       "<Figure size 432x288 with 1 Axes>"
      ]
     },
     "metadata": {
      "needs_background": "light"
     },
     "output_type": "display_data"
    }
   ],
   "source": [
    "df = pd.DataFrame()\n",
    "df[\"target\"] = test.target\n",
    "df[\"predict\"] = pd.Series(model.predict(test.drop(columns=[\"target\"])))\n",
    "df.plot()"
   ]
  },
  {
   "cell_type": "code",
   "execution_count": 20,
   "id": "136a1f59-178f-4e9a-a1bf-95615c2231c7",
   "metadata": {},
   "outputs": [
    {
     "name": "stdout",
     "output_type": "stream",
     "text": [
      "478.229769957594\n"
     ]
    },
    {
     "data": {
      "text/plain": [
       "<AxesSubplot:xlabel='predict'>"
      ]
     },
     "execution_count": 20,
     "metadata": {},
     "output_type": "execute_result"
    },
    {
     "data": {
      "image/png": "[encoded data removed]",
      "text/plain": [
       "<Figure size 432x288 with 1 Axes>"
      ]
     },
     "metadata": {
      "needs_background": "light"
     },
     "output_type": "display_data"
    }
   ],
   "source": [
    "print(np.abs(df.target - df.predict).mean())\n",
    "df.plot(x = \"predict\", y =\"target\")"
   ]
  },
  {
   "cell_type": "code",
   "execution_count": 21,
   "id": "657c60d7-4e49-45c4-94d4-29636745f07b",
   "metadata": {},
   "outputs": [
    {
     "data": {
      "text/plain": [
       "871.6882047325115"
      ]
     },
     "execution_count": 21,
     "metadata": {},
     "output_type": "execute_result"
    }
   ],
   "source": [
    "mean_squared_error(df.target,df.predict,squared=False)"
   ]
  },
  {
   "cell_type": "code",
   "execution_count": 22,
   "id": "6064ebc1-71b9-434e-801f-f43aa32855d0",
   "metadata": {},
   "outputs": [
    {
     "data": {
      "text/plain": [
       "81.6872427983539"
      ]
     },
     "execution_count": 22,
     "metadata": {},
     "output_type": "execute_result"
    }
   ],
   "source": [
    "df[\"isAcc\"] = (df.target*0.95 <= df.predict) & (df.predict <= df.target*1.05)\n",
    "df[\"isAcc\"] = df.apply(lambda row: 1 if row[\"isAcc\"] else 0,axis = 1)\n",
    "df.isAcc.sum()/df.shape[0]*100"
   ]
  },
  {
   "cell_type": "code",
   "execution_count": 26,
   "id": "e95096ae-b4fd-491a-8138-e41707314e4e",
   "metadata": {},
   "outputs": [
    {
     "data": {
      "text/plain": [
       "8713.3447180173"
      ]
     },
     "execution_count": 26,
     "metadata": {},
     "output_type": "execute_result"
    }
   ],
   "source": [
    "mean_squared_error(df.target,df.predict,squared=False)"
   ]
  },
  {
   "cell_type": "markdown",
   "id": "caa85770-f1c6-4901-9223-137b92849355",
   "metadata": {},
   "source": [
    "## "
   ]
  }
 ],
 "metadata": {
  "kernelspec": {
   "display_name": "Python 3",
   "language": "python",
   "name": "python3"
  },
  "language_info": {
   "codemirror_mode": {
    "name": "ipython",
    "version": 3
   },
   "file_extension": ".py",
   "mimetype": "text/x-python",
   "name": "python",
   "nbconvert_exporter": "python",
   "pygments_lexer": "ipython3",
   "version": "3.8.8"
  }
 },
 "nbformat": 4,
 "nbformat_minor": 5
}
