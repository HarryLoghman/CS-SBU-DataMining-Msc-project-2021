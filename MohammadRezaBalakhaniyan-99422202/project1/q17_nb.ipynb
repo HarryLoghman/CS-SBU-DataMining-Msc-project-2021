{
 "cells": [
  {
   "cell_type": "code",
   "execution_count": null,
   "id": "f85f0f83-09e8-4a2d-9f35-1e670c63eab6",
   "metadata": {},
   "outputs": [],
   "source": [
    "import matplotlib\n",
    "import pandas as pd\n",
    "import numpy as np\n",
    "import time\n",
    "from datetime import datetime\n",
    "import matplotlib.pyplot as plt\n",
    "from sklearn.naive_bayes import *\n",
    "from sklearn.linear_model import LinearRegression\n",
    "from re import sub\n",
    "def mdy_to_ymd(d):\n",
    "    return time.mktime(datetime.strptime(d, '%d-%b-%y').timetuple())\n",
    "\n",
    "class Beautify:\n",
    "\n",
    "    @staticmethod\n",
    "    def beautify(path):\n",
    "        dataset = pd.read_csv(path)\n",
    "        dataset.columns = [\"date\", \"price\", \"open\", \"high\", \"low\", \"vol\", \"change\"]\n",
    "        dataset[\"date\"] = dataset.apply(lambda row: mdy_to_ymd(row['date']), axis=1)\n",
    "        for col in [\"price\", \"open\", \"high\", \"low\", \"vol\", \"change\"]:\n",
    "            dataset[col] = dataset.apply(\n",
    "                lambda row: (lambda x: 0 if x == '-' else float(x))(sub(r'[^\\d.-]', '', row[col])),\n",
    "                axis=1)\n",
    "        dataset = dataset.sort_values([\"date\"])\n",
    "        return dataset\n",
    "\n",
    "\n",
    "pd.set_option('display.float_format', lambda x: '%.0f' % x)"
   ]
  },
  {
   "cell_type": "code",
   "execution_count": null,
   "id": "aa9e9740-2866-4e05-ac2f-3459f8ce3296",
   "metadata": {},
   "outputs": [],
   "source": [
    "dataset = Beautify.beautify(\"dataset.csv\")[[\"date\",\"price\"]].reset_index(drop=True)"
   ]
  },
  {
   "cell_type": "code",
   "execution_count": null,
   "id": "018b719d-647b-4a99-a525-5ad7a035a136",
   "metadata": {},
   "outputs": [],
   "source": [
    "dataset[\"price\"].plot()"
   ]
  },
  {
   "cell_type": "code",
   "execution_count": null,
   "id": "70687351-856f-49d9-ace6-08e8047cf6d4",
   "metadata": {},
   "outputs": [],
   "source": [
    "TRAIN = time.mktime(datetime.strptime(\"20-01-02\", '%y-%m-%d').timetuple())\n",
    "train = dataset[dataset.date < TRAIN]\n",
    "test = dataset[dataset.date >= TRAIN]"
   ]
  },
  {
   "cell_type": "code",
   "execution_count": null,
   "id": "c29e1c95-8ec5-442b-b089-5b6cf0731156",
   "metadata": {},
   "outputs": [],
   "source": [
    "trend_removed = train[[\"price\"]]\n"
   ]
  },
  {
   "cell_type": "code",
   "execution_count": null,
   "id": "933ad28a-7e98-4c42-bea2-e1e49df2a7c1",
   "metadata": {},
   "outputs": [],
   "source": [
    "trend_removed[\"price\"]"
   ]
  },
  {
   "cell_type": "code",
   "execution_count": null,
   "id": "f857f7ab-01cf-470d-a005-e86f1c9948da",
   "metadata": {},
   "outputs": [],
   "source": [
    "n_bins = 45\n",
    "bins = np.linspace(trend_removed[\"price\"].min(), trend_removed[\"price\"].max(), n_bins)\n",
    "binned = np.digitize(trend_removed[\"price\"], bins)\n",
    "\n",
    "binned_series = pd.Series(binned, index = trend_removed.index)"
   ]
  },
  {
   "cell_type": "code",
   "execution_count": null,
   "id": "e97a267f-4819-447d-90ae-dbb9e8e72fbf",
   "metadata": {},
   "outputs": [],
   "source": [
    "bin_means = {}\n",
    "\n",
    "for binn in range(1,n_bins+1):\n",
    "    bin_means[binn] = trend_removed[binned == binn].mean()"
   ]
  },
  {
   "cell_type": "code",
   "execution_count": null,
   "id": "ca0aa72e-3c86-4ee0-95fd-02745cc39e7b",
   "metadata": {},
   "outputs": [],
   "source": [
    "lagged_list = []\n",
    "for s in range(13):\n",
    "    lagged_list.append(binned_series.shift(s))\n",
    "    \n",
    "lagged_frame = pd.concat(lagged_list,1).dropna()\n",
    "\n",
    "train_X = lagged_frame.iloc[:,1:]\n",
    "train_y = lagged_frame.iloc[:,0]"
   ]
  },
  {
   "cell_type": "code",
   "execution_count": null,
   "id": "b9b98734-169f-4e5b-8fce-feb586369c00",
   "metadata": {},
   "outputs": [],
   "source": [
    "def get_mean_from_class(prediction):\n",
    "    return(bin_means[prediction[0]])"
   ]
  },
  {
   "cell_type": "code",
   "execution_count": null,
   "id": "d6aff2b1-18d7-4ea7-887d-2ff65ef4f4da",
   "metadata": {},
   "outputs": [],
   "source": [
    "model = GaussianNB()"
   ]
  },
  {
   "cell_type": "code",
   "execution_count": null,
   "id": "d855233a-6d2d-468f-a12a-4e4655299ddb",
   "metadata": {},
   "outputs": [],
   "source": [
    "model.fit(train_X, train_y)"
   ]
  },
  {
   "cell_type": "code",
   "execution_count": null,
   "id": "08e0f66b-b1bd-4ff0-87de-90fc766d6038",
   "metadata": {},
   "outputs": [],
   "source": [
    "train_X"
   ]
  },
  {
   "cell_type": "code",
   "execution_count": null,
   "id": "46af9aaf-8cd1-4a5a-8238-e113d343459a",
   "metadata": {},
   "outputs": [],
   "source": [
    "pred_insample = model.predict(train_X)\n",
    "pred_insample = pd.DataFrame(pred_insample, index = train_y.index)\n",
    "\n",
    "resulting_prediction = pd.Series(np.nan, index = train_y.index)\n",
    "for row in range(len(pred_insample)):\n",
    "    resulting_prediction.iloc[row] = get_mean_from_class(pred_insample.values[row])"
   ]
  },
  {
   "cell_type": "code",
   "execution_count": null,
   "id": "be0d9f0a-1647-4e70-900c-715892318822",
   "metadata": {},
   "outputs": [],
   "source": [
    "plt.figure(figsize = (12,6))\n",
    "plt.plot(trend_removed)\n",
    "plt.plot(resulting_prediction)\n",
    "resulting_prediction"
   ]
  },
  {
   "cell_type": "code",
   "execution_count": null,
   "id": "0b1750d4-0b55-484c-93a3-5d06604fe023",
   "metadata": {},
   "outputs": [],
   "source": [
    "bins = np.linspace(test[\"price\"].min(), test[\"price\"].max(), n_bins)\n",
    "binned = np.digitize(test[\"price\"], bins)\n",
    "\n",
    "binned_series = pd.Series(binned, index = test.index)\n",
    "bin_means = {}\n",
    "\n",
    "for binn in range(1,n_bins+1):\n",
    "    bin_means[binn] = test[binned == binn].mean()"
   ]
  },
  {
   "cell_type": "code",
   "execution_count": null,
   "id": "db90a554-896e-40f1-813c-5b6f0a864b06",
   "metadata": {},
   "outputs": [],
   "source": [
    "lagged_list = []\n",
    "for s in range(13):\n",
    "    lagged_list.append(binned_series.shift(s))\n",
    "    \n",
    "lagged_frame = pd.concat(lagged_list,1).dropna()\n",
    "\n",
    "test_X = lagged_frame.iloc[:,1:]\n",
    "test_y = lagged_frame.iloc[:,0]"
   ]
  },
  {
   "cell_type": "code",
   "execution_count": null,
   "id": "4fb2bd31-1737-4f94-bd6f-b2341c31900f",
   "metadata": {},
   "outputs": [],
   "source": [
    "pred_insample = model.predict(test_X)\n",
    "pred_insample = pd.DataFrame(pred_insample, index = test_y.index)\n",
    "resulting_prediction = pd.Series(np.nan, index = test_y.index)"
   ]
  },
  {
   "cell_type": "code",
   "execution_count": null,
   "id": "ccca70a6-52fb-4048-90d4-deaf9f630d55",
   "metadata": {},
   "outputs": [],
   "source": [
    "pred_insample.values.reshape(1,-1)"
   ]
  },
  {
   "cell_type": "code",
   "execution_count": null,
   "id": "6f2ff8a4-50c0-4105-8351-10eecdc1f586",
   "metadata": {},
   "outputs": [],
   "source": [
    "res = pd.DataFrame({\"pred\":pred_insample.values.reshape(1,-1)[0],\"real\":test_y.to_numpy()})"
   ]
  },
  {
   "cell_type": "code",
   "execution_count": null,
   "id": "d9cb4020-c453-487e-8ee8-562c08d3088d",
   "metadata": {},
   "outputs": [],
   "source": [
    "res[\"pred\"] = res.apply(lambda x: bin_means[x[\"pred\"]][\"price\"],axis=1)\n",
    "res[\"real\"] = res.apply(lambda x: bin_means[x[\"real\"]][\"price\"],axis=1)"
   ]
  },
  {
   "cell_type": "code",
   "execution_count": null,
   "id": "86696971-e7fd-468a-9fc8-a258f98944c2",
   "metadata": {},
   "outputs": [],
   "source": [
    "from sklearn.metrics import mean_squared_error\n",
    "res = res[~res.pred.isna()]\n",
    "mean_squared_error(res.real,res.pred)\n"
   ]
  },
  {
   "cell_type": "code",
   "execution_count": null,
   "id": "930190e0-4f83-41c1-a79c-1cc8dcf02986",
   "metadata": {},
   "outputs": [],
   "source": [
    "res[(res.pred >= res.real*0.95) & (res.pred <= res.real*1.05)].shape[0]/res.shape[0] * 100"
   ]
  },
  {
   "cell_type": "code",
   "execution_count": null,
   "id": "0aa5b084-5e42-41eb-9bed-36f4cc8f40ea",
   "metadata": {},
   "outputs": [],
   "source": []
  }
 ],
 "metadata": {
  "kernelspec": {
   "display_name": "Python 3",
   "language": "python",
   "name": "python3"
  },
  "language_info": {
   "codemirror_mode": {
    "name": "ipython",
    "version": 3
   },
   "file_extension": ".py",
   "mimetype": "text/x-python",
   "name": "python",
   "nbconvert_exporter": "python",
   "pygments_lexer": "ipython3",
   "version": "3.8.8"
  }
 },
 "nbformat": 4,
 "nbformat_minor": 5
}
