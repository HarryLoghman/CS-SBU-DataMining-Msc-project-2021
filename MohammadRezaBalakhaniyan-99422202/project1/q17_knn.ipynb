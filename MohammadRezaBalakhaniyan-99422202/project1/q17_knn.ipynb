{
 "cells": [
  {
   "cell_type": "code",
   "execution_count": 1,
   "id": "f85f0f83-09e8-4a2d-9f35-1e670c63eab6",
   "metadata": {},
   "outputs": [],
   "source": [
    "import matplotlib\n",
    "import pandas as pd\n",
    "import numpy as np\n",
    "import time\n",
    "from datetime import datetime\n",
    "import matplotlib.pyplot as plt\n",
    "from sklearn.naive_bayes import *\n",
    "from sklearn.neighbors import KNeighborsClassifier\n",
    "from sklearn.linear_model import LinearRegression\n",
    "from re import sub\n",
    "def mdy_to_ymd(d):\n",
    "    return time.mktime(datetime.strptime(d, '%d-%b-%y').timetuple())\n",
    "\n",
    "class Beautify:\n",
    "\n",
    "    @staticmethod\n",
    "    def beautify(path):\n",
    "        dataset = pd.read_csv(path)\n",
    "        dataset.columns = [\"date\", \"price\", \"open\", \"high\", \"low\", \"vol\", \"change\"]\n",
    "        dataset[\"date\"] = dataset.apply(lambda row: mdy_to_ymd(row['date']), axis=1)\n",
    "        for col in [\"price\", \"open\", \"high\", \"low\", \"vol\", \"change\"]:\n",
    "            dataset[col] = dataset.apply(\n",
    "                lambda row: (lambda x: 0 if x == '-' else float(x))(sub(r'[^\\d.-]', '', row[col])),\n",
    "                axis=1)\n",
    "        dataset = dataset.sort_values([\"date\"])\n",
    "        return dataset\n",
    "\n",
    "\n",
    "pd.set_option('display.float_format', lambda x: '%.0f' % x)"
   ]
  },
  {
   "cell_type": "code",
   "execution_count": 2,
   "id": "aa9e9740-2866-4e05-ac2f-3459f8ce3296",
   "metadata": {},
   "outputs": [],
   "source": [
    "dataset = Beautify.beautify(\"dataset.csv\")[[\"date\",\"price\",\"change\"]].reset_index(drop=True)\n",
    "dataset[\"change\"] = dataset.apply(lambda x: -1 if x[\"change\"] <= 0 else 1,axis=1)"
   ]
  },
  {
   "cell_type": "code",
   "execution_count": 3,
   "id": "018b719d-647b-4a99-a525-5ad7a035a136",
   "metadata": {},
   "outputs": [
    {
     "data": {
      "text/plain": [
       "<AxesSubplot:>"
      ]
     },
     "execution_count": 3,
     "metadata": {},
     "output_type": "execute_result"
    },
    {
     "data": {
      "image/png": "[encoded data removed]",
      "text/plain": [
       "<Figure size 432x288 with 1 Axes>"
      ]
     },
     "metadata": {
      "needs_background": "light"
     },
     "output_type": "display_data"
    }
   ],
   "source": [
    "dataset[\"price\"].plot()"
   ]
  },
  {
   "cell_type": "code",
   "execution_count": 4,
   "id": "70687351-856f-49d9-ace6-08e8047cf6d4",
   "metadata": {},
   "outputs": [],
   "source": [
    "TRAIN = time.mktime(datetime.strptime(\"20-01-02\", '%y-%m-%d').timetuple())\n",
    "train = dataset[dataset.date < TRAIN]\n",
    "test = dataset[dataset.date >= TRAIN]"
   ]
  },
  {
   "cell_type": "code",
   "execution_count": 5,
   "id": "c29e1c95-8ec5-442b-b089-5b6cf0731156",
   "metadata": {},
   "outputs": [],
   "source": [
    "trend_removed = train[[\"price\",\"change\"]]"
   ]
  },
  {
   "cell_type": "code",
   "execution_count": 6,
   "id": "f857f7ab-01cf-470d-a005-e86f1c9948da",
   "metadata": {},
   "outputs": [],
   "source": [
    "n_bins = 45\n",
    "bins = np.linspace(trend_removed[\"price\"].min(), trend_removed[\"price\"].max(), n_bins)\n",
    "binned = np.digitize(trend_removed[\"price\"], bins)\n",
    "\n",
    "binned_series = pd.Series(binned, index = trend_removed.index)"
   ]
  },
  {
   "cell_type": "code",
   "execution_count": 7,
   "id": "e97a267f-4819-447d-90ae-dbb9e8e72fbf",
   "metadata": {},
   "outputs": [],
   "source": [
    "bin_means = {}\n",
    "\n",
    "for binn in range(1,n_bins+1):\n",
    "    bin_means[binn] = trend_removed[binned == binn].mean()"
   ]
  },
  {
   "cell_type": "code",
   "execution_count": 8,
   "id": "ca0aa72e-3c86-4ee0-95fd-02745cc39e7b",
   "metadata": {},
   "outputs": [],
   "source": [
    "lagged_list = []\n",
    "for s in range(13):\n",
    "    lagged_list.append(binned_series.shift(s))\n",
    "    \n",
    "lagged_frame = pd.concat(lagged_list,1).dropna()\n",
    "\n",
    "train_X = lagged_frame.iloc[:,1:]\n",
    "train_y = lagged_frame.iloc[:,0]\n",
    "train_X[\"change\"] = train[\"change\"]"
   ]
  },
  {
   "cell_type": "code",
   "execution_count": 9,
   "id": "b9b98734-169f-4e5b-8fce-feb586369c00",
   "metadata": {},
   "outputs": [],
   "source": [
    "def get_mean_from_class(prediction):\n",
    "    return(bin_means[prediction[0]])"
   ]
  },
  {
   "cell_type": "code",
   "execution_count": 10,
   "id": "d6aff2b1-18d7-4ea7-887d-2ff65ef4f4da",
   "metadata": {},
   "outputs": [],
   "source": [
    "model = KNeighborsClassifier()"
   ]
  },
  {
   "cell_type": "code",
   "execution_count": 11,
   "id": "d855233a-6d2d-468f-a12a-4e4655299ddb",
   "metadata": {},
   "outputs": [
    {
     "data": {
      "text/plain": [
       "KNeighborsClassifier()"
      ]
     },
     "execution_count": 11,
     "metadata": {},
     "output_type": "execute_result"
    }
   ],
   "source": [
    "model.fit(train_X, train_y)"
   ]
  },
  {
   "cell_type": "code",
   "execution_count": 21,
   "id": "46af9aaf-8cd1-4a5a-8238-e113d343459a",
   "metadata": {},
   "outputs": [],
   "source": [
    "pred_insample = model.predict(train_X)\n",
    "pred_insample = pd.DataFrame(pred_insample, index = train_y.index)\n",
    "resulting_prediction = pd.Series(np.nan, index = train_y.index)\n",
    "for row in range(len(pred_insample)):\n",
    "    resulting_prediction.iloc[row] = bin_means[pred_insample.values[row][0]].price"
   ]
  },
  {
   "cell_type": "code",
   "execution_count": 22,
   "id": "be0d9f0a-1647-4e70-900c-715892318822",
   "metadata": {},
   "outputs": [
    {
     "data": {
      "text/plain": [
       "12      124\n",
       "13      124\n",
       "14      124\n",
       "15      124\n",
       "16      124\n",
       "       ... \n",
       "3450   7275\n",
       "3451   7275\n",
       "3452   7275\n",
       "3453   7275\n",
       "3454   7275\n",
       "Length: 3443, dtype: float64"
      ]
     },
     "execution_count": 22,
     "metadata": {},
     "output_type": "execute_result"
    },
    {
     "data": {
      "image/png": "[encoded data removed]",
      "text/plain": [
       "<Figure size 864x432 with 1 Axes>"
      ]
     },
     "metadata": {
      "needs_background": "light"
     },
     "output_type": "display_data"
    }
   ],
   "source": [
    "plt.figure(figsize = (12,6))\n",
    "plt.plot(trend_removed)\n",
    "plt.plot(resulting_prediction)\n",
    "resulting_prediction"
   ]
  },
  {
   "cell_type": "code",
   "execution_count": 29,
   "id": "0b1750d4-0b55-484c-93a3-5d06604fe023",
   "metadata": {},
   "outputs": [],
   "source": [
    "bins = np.linspace(test[\"price\"].min(), test[\"price\"].max(), n_bins)\n",
    "binned = np.digitize(test[\"price\"], bins)\n",
    "\n",
    "binned_series = pd.Series(binned, index = test.index)\n",
    "bin_means = {}\n",
    "\n",
    "for binn in range(1,n_bins+1):\n",
    "    bin_means[binn] = test[binned == binn].mean()"
   ]
  },
  {
   "cell_type": "code",
   "execution_count": 30,
   "id": "db90a554-896e-40f1-813c-5b6f0a864b06",
   "metadata": {},
   "outputs": [],
   "source": [
    "lagged_list = []\n",
    "for s in range(13):\n",
    "    lagged_list.append(binned_series.shift(s))\n",
    "    \n",
    "lagged_frame = pd.concat(lagged_list,1).dropna()\n",
    "\n",
    "test_X = lagged_frame.iloc[:,1:]\n",
    "test_y = lagged_frame.iloc[:,0]\n",
    "test_X[\"change\"] = test[\"change\"]"
   ]
  },
  {
   "cell_type": "code",
   "execution_count": 31,
   "id": "4fb2bd31-1737-4f94-bd6f-b2341c31900f",
   "metadata": {},
   "outputs": [],
   "source": [
    "pred_insample = model.predict(test_X)\n",
    "pred_insample = pd.DataFrame(pred_insample, index = test_y.index)\n",
    "resulting_prediction = pd.Series(np.nan, index = test_y.index)"
   ]
  },
  {
   "cell_type": "code",
   "execution_count": 32,
   "id": "ccca70a6-52fb-4048-90d4-deaf9f630d55",
   "metadata": {},
   "outputs": [
    {
     "data": {
      "text/plain": [
       "array([[ 3,  3,  3,  3,  3,  3,  3,  3,  3,  3,  3,  3,  3,  3,  3,  3,\n",
       "         4,  3,  4,  4,  4,  4,  4,  4,  4,  4,  4,  4,  4,  5,  4,  5,\n",
       "         4,  5,  4,  5,  4,  4,  4,  4,  5,  4,  4,  4,  4,  4,  4,  3,\n",
       "         4,  3,  3,  3,  3,  3,  3,  3,  3,  3,  3,  2,  2,  2,  2,  2,\n",
       "         2,  2,  2,  1,  2,  1,  2,  2,  2,  2,  2,  2,  2,  2,  2,  2,\n",
       "         2,  2,  2,  2,  2,  2,  2,  2,  2,  2,  2,  2,  2,  2,  2,  2,\n",
       "         2,  2,  2,  2,  2,  2,  2,  3,  3,  3,  3,  3,  3,  3,  3,  3,\n",
       "         4,  4,  4,  4,  4,  4,  4,  4,  4,  4,  4,  4,  4,  4,  4,  4,\n",
       "         4,  4,  4,  4,  4,  4,  4,  4,  4,  4,  4,  4,  4,  4,  4,  4,\n",
       "         4,  5,  4,  4,  4,  4,  4,  5,  4,  4,  4,  4,  4,  4,  4,  4,\n",
       "         4,  4,  4,  4,  4,  4,  4,  4,  4,  4,  4,  4,  4,  4,  4,  4,\n",
       "         4,  4,  4,  4,  4,  4,  4,  4,  4,  4,  4,  4,  4,  4,  4,  4,\n",
       "         4,  4,  4,  4,  4,  5,  4,  5,  5,  6,  5,  5,  5,  6,  6,  6,\n",
       "         6,  6,  6,  6,  6,  6,  6,  6,  6,  6,  6,  6,  6,  6,  6,  6,\n",
       "         6,  6,  6,  6,  6,  6,  6,  6,  6,  6,  6,  6,  6,  6,  6,  6,\n",
       "         6,  6,  6,  6,  5,  5,  5,  6,  5,  6,  6,  6,  6,  6,  6,  6,\n",
       "         6,  6,  6,  6,  6,  6,  6,  6,  6,  6,  6,  6,  6,  6,  6,  6,\n",
       "         6,  6,  6,  6,  6,  6,  6,  6,  6,  6,  6,  6,  7,  7,  7,  7,\n",
       "         6,  7,  7,  7,  6,  6,  7,  7,  7,  7,  8,  8,  8,  9,  8,  9,\n",
       "         9,  9,  9,  9,  9,  9,  9,  9, 10,  9, 10, 10, 10, 10, 10, 11,\n",
       "        11, 11, 11, 11, 11, 10, 11, 11, 10, 10, 11, 10, 10, 10, 10, 11,\n",
       "        10, 11, 11, 13, 13, 13, 13, 13, 13, 14, 14, 15, 14, 17, 17, 17,\n",
       "        17, 17, 17, 19, 19, 19, 22, 24, 25, 26, 26, 27, 24, 23, 24, 23,\n",
       "        24, 24, 23, 23, 23, 24, 22, 22, 19, 23, 19, 19, 20, 20, 20, 22,\n",
       "        22, 22, 23, 21, 26, 27, 27, 28, 28, 26, 28, 28, 26, 25, 39, 38,\n",
       "        35, 35, 35, 34, 35, 35, 35, 35, 31, 32, 32, 32, 26, 26, 26, 26,\n",
       "        26, 31, 35, 35, 35, 35, 35, 34, 35, 44, 34, 34, 32, 32, 32, 32,\n",
       "        32, 32, 32, 32, 32, 32, 32, 32, 33, 33, 33, 32, 32, 32, 32, 32,\n",
       "        32, 32, 32, 32, 32, 32, 32, 32, 32, 32, 32, 32, 32, 32, 32, 32,\n",
       "        32, 32, 32, 32, 33, 33, 33, 33, 26, 29]], dtype=int64)"
      ]
     },
     "execution_count": 32,
     "metadata": {},
     "output_type": "execute_result"
    }
   ],
   "source": [
    "pred_insample.values.reshape(1,-1)"
   ]
  },
  {
   "cell_type": "code",
   "execution_count": 33,
   "id": "6f2ff8a4-50c0-4105-8351-10eecdc1f586",
   "metadata": {},
   "outputs": [],
   "source": [
    "res = pd.DataFrame({\"pred\":pred_insample.values.reshape(1,-1)[0],\"real\":test_y.to_numpy()})"
   ]
  },
  {
   "cell_type": "code",
   "execution_count": 34,
   "id": "d9cb4020-c453-487e-8ee8-562c08d3088d",
   "metadata": {},
   "outputs": [],
   "source": [
    "res[\"pred\"] = res.apply(lambda x: bin_means[x[\"pred\"]][\"price\"],axis=1)\n",
    "res[\"real\"] = res.apply(lambda x: bin_means[x[\"real\"]][\"price\"],axis=1)"
   ]
  },
  {
   "cell_type": "code",
   "execution_count": 35,
   "id": "86696971-e7fd-468a-9fc8-a258f98944c2",
   "metadata": {},
   "outputs": [
    {
     "data": {
      "text/plain": [
       "14852064.455555504"
      ]
     },
     "execution_count": 35,
     "metadata": {},
     "output_type": "execute_result"
    }
   ],
   "source": [
    "from sklearn.metrics import mean_squared_error\n",
    "res = res[~res.pred.isna()]\n",
    "mean_squared_error(res.real,res.pred)\n"
   ]
  },
  {
   "cell_type": "code",
   "execution_count": 36,
   "id": "930190e0-4f83-41c1-a79c-1cc8dcf02986",
   "metadata": {},
   "outputs": [
    {
     "data": {
      "text/plain": [
       "53.304904051172706"
      ]
     },
     "execution_count": 36,
     "metadata": {},
     "output_type": "execute_result"
    }
   ],
   "source": [
    "res[(res.pred >= res.real*0.95) & (res.pred <= res.real*1.05)].shape[0]/res.shape[0] * 100"
   ]
  },
  {
   "cell_type": "code",
   "execution_count": null,
   "id": "41b7632a-14c8-48a1-abb7-a167bb9a9173",
   "metadata": {},
   "outputs": [],
   "source": []
  }
 ],
 "metadata": {
  "kernelspec": {
   "display_name": "Python 3",
   "language": "python",
   "name": "python3"
  },
  "language_info": {
   "codemirror_mode": {
    "name": "ipython",
    "version": 3
   },
   "file_extension": ".py",
   "mimetype": "text/x-python",
   "name": "python",
   "nbconvert_exporter": "python",
   "pygments_lexer": "ipython3",
   "version": "3.8.8"
  }
 },
 "nbformat": 4,
 "nbformat_minor": 5
}
