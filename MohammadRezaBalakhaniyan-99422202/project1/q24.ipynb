{
 "cells": [
  {
   "cell_type": "code",
   "execution_count": 1,
   "id": "ec7c3ffa-1a66-4be0-a8c3-76c739437909",
   "metadata": {},
   "outputs": [],
   "source": [
    "import matplotlib\n",
    "import pandas as pd\n",
    "import numpy as np\n",
    "import time\n",
    "from datetime import datetime\n",
    "from re import sub\n",
    "def mdy_to_ymd(d):\n",
    "    return time.mktime(datetime.strptime(d, '%d-%b-%y').timetuple())\n",
    "\n",
    "class Beautify:\n",
    "\n",
    "    @staticmethod\n",
    "    def beautify(path):\n",
    "        dataset = pd.read_csv(path)\n",
    "        dataset.columns = [\"date\", \"price\", \"open\", \"high\", \"low\", \"vol\", \"change\"]\n",
    "        dataset[\"date\"] = dataset.apply(lambda row: mdy_to_ymd(row['date']), axis=1)\n",
    "        for col in [\"price\", \"open\", \"high\", \"low\", \"vol\", \"change\"]:\n",
    "            dataset[col] = dataset.apply(\n",
    "                lambda row: (lambda x: 0 if x == '-' else float(x))(sub(r'[^\\d.-]', '', row[col])),\n",
    "                axis=1)\n",
    "        dataset = dataset.sort_values([\"date\"])\n",
    "        return dataset\n",
    "\n",
    "\n",
    "pd.set_option('display.float_format', lambda x: '%.0f' % x)"
   ]
  },
  {
   "cell_type": "code",
   "execution_count": 2,
   "id": "ebaf5043-830c-4702-b551-76b7f2f65bc3",
   "metadata": {},
   "outputs": [],
   "source": [
    "dataset = Beautify.beautify(\"dataset.csv\")[[\"date\",\"price\"]]"
   ]
  },
  {
   "cell_type": "code",
   "execution_count": 3,
   "id": "60f76729-0db2-427a-9a1a-664b01925c54",
   "metadata": {},
   "outputs": [],
   "source": [
    "TRAIN = time.mktime(datetime.strptime(\"20-01-02\", '%y-%m-%d').timetuple())\n",
    "train = dataset[dataset.date < TRAIN]\n",
    "test = dataset[dataset.date >= TRAIN]"
   ]
  },
  {
   "cell_type": "code",
   "execution_count": 4,
   "id": "72af007e-c7c1-47e6-9b65-469d7bc6b5c0",
   "metadata": {},
   "outputs": [],
   "source": [
    "train.columns = [\"ds\",\"y\"]\n",
    "test.columns = [\"ds\",\"y\"]"
   ]
  },
  {
   "cell_type": "code",
   "execution_count": null,
   "id": "482da6ae-9302-4938-9633-5740c4032991",
   "metadata": {},
   "outputs": [],
   "source": [
    "train[\"ds\"] = train.apply(lambda x: datetime.utcfromtimestamp(x[\"ds\"]).strftime('%Y-%m-%d'),axis=1)\n",
    "test[\"ds\"] = test.apply(lambda x: datetime.utcfromtimestamp(x[\"ds\"]).strftime('%Y-%m-%d'),axis=1)\n",
    "from fbprophet import Prophet\n",
    "prophet = Prophet(interval_width = 0.95,\n",
    "yearly_seasonality = True,\n",
    "weekly_seasonality = True,\n",
    "daily_seasonality = True,\n",
    "holidays = None,\n",
    "changepoint_prior_scale = 0.05)\n",
    "prophet.fit(train)\n",
    "future = prophet.make_future_dataframe(priods=500)\n",
    "prophet.predict(future)"
   ]
  }
 ],
 "metadata": {
  "kernelspec": {
   "display_name": "Python 3",
   "language": "python",
   "name": "python3"
  },
  "language_info": {
   "codemirror_mode": {
    "name": "ipython",
    "version": 3
   },
   "file_extension": ".py",
   "mimetype": "text/x-python",
   "name": "python",
   "nbconvert_exporter": "python",
   "pygments_lexer": "ipython3",
   "version": "3.8.8"
  }
 },
 "nbformat": 4,
 "nbformat_minor": 5
}
