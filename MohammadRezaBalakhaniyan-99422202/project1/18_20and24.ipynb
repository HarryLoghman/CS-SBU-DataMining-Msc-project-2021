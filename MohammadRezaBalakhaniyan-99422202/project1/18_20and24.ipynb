{
 "cells": [
  {
   "cell_type": "code",
   "execution_count": 1,
   "id": "6121d242-6e1a-4e65-9d7e-be24fd293e5d",
   "metadata": {},
   "outputs": [],
   "source": [
    "import matplotlib\n",
    "import pandas as pd\n",
    "import numpy as np\n",
    "import time\n",
    "from datetime import datetime\n",
    "import matplotlib.pyplot as plt\n",
    "from sklearn.naive_bayes import *\n",
    "from sklearn.linear_model import LinearRegression\n",
    "from re import sub\n",
    "def mdy_to_ymd(d):\n",
    "    return time.mktime(datetime.strptime(d, '%d-%b-%y').timetuple())\n",
    "\n",
    "class Beautify:\n",
    "\n",
    "    @staticmethod\n",
    "    def beautify(path):\n",
    "        dataset = pd.read_csv(path)\n",
    "        dataset.columns = [\"date\", \"price\", \"open\", \"high\", \"low\", \"vol\", \"change\"]\n",
    "        dataset[\"date\"] = dataset.apply(lambda row: mdy_to_ymd(row['date']), axis=1)\n",
    "        for col in [\"price\", \"open\", \"high\", \"low\", \"vol\", \"change\"]:\n",
    "            dataset[col] = dataset.apply(\n",
    "                lambda row: (lambda x: 0 if x == '-' else float(x))(sub(r'[^\\d.-]', '', row[col])),\n",
    "                axis=1)\n",
    "        dataset = dataset.sort_values([\"date\"])\n",
    "        return dataset\n",
    "\n",
    "\n",
    "pd.set_option('display.float_format', lambda x: '%.0f' % x)"
   ]
  },
  {
   "cell_type": "code",
   "execution_count": 2,
   "id": "63405e8a-2bf5-485f-9796-ff08ccebc646",
   "metadata": {},
   "outputs": [],
   "source": [
    "from sklearn.ensemble import BaggingRegressor"
   ]
  },
  {
   "cell_type": "code",
   "execution_count": 3,
   "id": "46b895ba-23b9-4195-bd96-d55374a8d3da",
   "metadata": {},
   "outputs": [],
   "source": [
    "dataset = Beautify.beautify(\"dataset.csv\")\n",
    "\n",
    "dataset = dataset[[\"date\",\"price\",\"change\"]]\n",
    "dataset[\"change\"] = dataset.apply(lambda x: -1 if x[\"change\"] <= 0 else 1,axis=1)"
   ]
  },
  {
   "cell_type": "code",
   "execution_count": 4,
   "id": "a36eb58e-8e66-487f-8831-75aec8f5bdf6",
   "metadata": {},
   "outputs": [],
   "source": [
    "for i in [1,2,3,5,7,10,12,15,20,30,45]:\n",
    "    dataset[f\"s_{i}\"] = dataset[\"price\"].shift(i,fill_value=0)"
   ]
  },
  {
   "cell_type": "code",
   "execution_count": 5,
   "id": "71f6b8da-0a7a-42c5-94e7-8cadef2e07be",
   "metadata": {},
   "outputs": [],
   "source": [
    "from sklearn.linear_model import LinearRegression\n",
    "from sklearn.linear_model import Lasso"
   ]
  },
  {
   "cell_type": "code",
   "execution_count": 6,
   "id": "2ab08261-16a9-483e-b6bf-877087ad1802",
   "metadata": {},
   "outputs": [],
   "source": [
    "TRAIN = time.mktime(datetime.strptime(\"20-01-02\", '%y-%m-%d').timetuple())\n",
    "train = dataset[dataset.date < TRAIN]\n",
    "test = dataset[dataset.date >= TRAIN]"
   ]
  },
  {
   "cell_type": "code",
   "execution_count": 7,
   "id": "c3f0e3d4-e2c8-4f9d-8b70-57a48baf6d23",
   "metadata": {},
   "outputs": [
    {
     "name": "stderr",
     "output_type": "stream",
     "text": [
      "E:\\Anaconda2021\\lib\\site-packages\\pandas\\core\\frame.py:4308: SettingWithCopyWarning: \n",
      "A value is trying to be set on a copy of a slice from a DataFrame\n",
      "\n",
      "See the caveats in the documentation: https://pandas.pydata.org/pandas-docs/stable/user_guide/indexing.html#returning-a-view-versus-a-copy\n",
      "  return super().drop(\n"
     ]
    }
   ],
   "source": [
    "train.drop(\"date\",axis=1,inplace=True)\n",
    "test.drop(\"date\",axis=1,inplace=True)"
   ]
  },
  {
   "cell_type": "code",
   "execution_count": 78,
   "id": "3136d7a6-9366-4163-9e66-67bb9bc15ab9",
   "metadata": {},
   "outputs": [],
   "source": [
    "from sklearn.ensemble import BaggingRegressor,AdaBoostRegressor,VotingRegressor,GradientBoostingRegressor,RandomForestRegressor\n",
    "from sklearn.neighbors import KNeighborsRegressor\n",
    "from sklearn.naive_bayes import GaussianNB"
   ]
  },
  {
   "cell_type": "code",
   "execution_count": 25,
   "id": "340e8c3c-a5d5-415d-860c-a8f703b188e1",
   "metadata": {},
   "outputs": [
    {
     "name": "stderr",
     "output_type": "stream",
     "text": [
      "E:\\Anaconda2021\\lib\\site-packages\\sklearn\\linear_model\\_coordinate_descent.py:530: ConvergenceWarning: Objective did not converge. You might want to increase the number of iterations. Duality gap: 60206971.72609579, tolerance: 4106899.6988909775\n",
      "  model = cd_fast.enet_coordinate_descent(\n"
     ]
    }
   ],
   "source": [
    "cls = VotingRegressor(estimators=[(\"l\",Lasso()),(\"lr\",LinearRegression()),(\"knn\",KNeighborsRegressor())])\n",
    "pred = cls.fit(train.drop(\"price\",axis=1), train.price).predict(test.drop(\"price\",axis=1))\n",
    "res = pd.DataFrame({\"index\": np.arange(len(pred)), \"real\": test.price, \"pred\": pred})"
   ]
  },
  {
   "cell_type": "code",
   "execution_count": 26,
   "id": "3c7a4476-8163-45f1-a020-6e8306f0672c",
   "metadata": {},
   "outputs": [
    {
     "name": "stdout",
     "output_type": "stream",
     "text": [
      "53.90946502057613\n"
     ]
    },
    {
     "data": {
      "text/plain": [
       "35600915.04876527"
      ]
     },
     "execution_count": 26,
     "metadata": {},
     "output_type": "execute_result"
    }
   ],
   "source": [
    "print(res[(res.pred * 0.95 <= res.real) & (res.pred * 1.05 >= res.real)].shape[0] / res.shape[0] * 100)\n",
    "from sklearn.metrics import mean_squared_error\n",
    "mean_squared_error(res.pred,res.real)"
   ]
  },
  {
   "cell_type": "code",
   "execution_count": 31,
   "id": "fca72c1e-65a2-42cd-8f1d-f16917a595eb",
   "metadata": {},
   "outputs": [
    {
     "name": "stdout",
     "output_type": "stream",
     "text": [
      "62.757201646090536\n"
     ]
    },
    {
     "data": {
      "text/plain": [
       "264894496.92937002"
      ]
     },
     "execution_count": 31,
     "metadata": {},
     "output_type": "execute_result"
    }
   ],
   "source": [
    "cls = GradientBoostingRegressor()\n",
    "pred = cls.fit(train.drop(\"price\",axis=1), train.price).predict(test.drop(\"price\",axis=1))\n",
    "res = pd.DataFrame({\"index\": np.arange(len(pred)), \"real\": test.price, \"pred\": pred})\n",
    "print(res[(res.pred * 0.95 <= res.real) & (res.pred * 1.05 >= res.real)].shape[0] / res.shape[0] * 100)\n",
    "from sklearn.metrics import mean_squared_error\n",
    "mean_squared_error(res.pred,res.real)"
   ]
  },
  {
   "cell_type": "code",
   "execution_count": 40,
   "id": "195feaf9-6d7e-4847-85b2-2799d133437d",
   "metadata": {},
   "outputs": [
    {
     "name": "stdout",
     "output_type": "stream",
     "text": [
      "Lasso()\n"
     ]
    },
    {
     "name": "stderr",
     "output_type": "stream",
     "text": [
      "E:\\Anaconda2021\\lib\\site-packages\\sklearn\\linear_model\\_coordinate_descent.py:530: ConvergenceWarning: Objective did not converge. You might want to increase the number of iterations. Duality gap: 54222360.297070935, tolerance: 4063701.203863298\n",
      "  model = cd_fast.enet_coordinate_descent(\n",
      "E:\\Anaconda2021\\lib\\site-packages\\sklearn\\linear_model\\_coordinate_descent.py:530: ConvergenceWarning: Objective did not converge. You might want to increase the number of iterations. Duality gap: 57602918.93519484, tolerance: 4243445.3897987185\n",
      "  model = cd_fast.enet_coordinate_descent(\n",
      "E:\\Anaconda2021\\lib\\site-packages\\sklearn\\linear_model\\_coordinate_descent.py:530: ConvergenceWarning: Objective did not converge. You might want to increase the number of iterations. Duality gap: 55984541.77357052, tolerance: 4163083.358879959\n",
      "  model = cd_fast.enet_coordinate_descent(\n",
      "E:\\Anaconda2021\\lib\\site-packages\\sklearn\\linear_model\\_coordinate_descent.py:530: ConvergenceWarning: Objective did not converge. You might want to increase the number of iterations. Duality gap: 57780119.28704244, tolerance: 4251475.04631058\n",
      "  model = cd_fast.enet_coordinate_descent(\n",
      "E:\\Anaconda2021\\lib\\site-packages\\sklearn\\linear_model\\_coordinate_descent.py:530: ConvergenceWarning: Objective did not converge. You might want to increase the number of iterations. Duality gap: 40892212.32932047, tolerance: 3932188.000700362\n",
      "  model = cd_fast.enet_coordinate_descent(\n",
      "E:\\Anaconda2021\\lib\\site-packages\\sklearn\\linear_model\\_coordinate_descent.py:530: ConvergenceWarning: Objective did not converge. You might want to increase the number of iterations. Duality gap: 59473904.99550122, tolerance: 3905040.9121107575\n",
      "  model = cd_fast.enet_coordinate_descent(\n",
      "E:\\Anaconda2021\\lib\\site-packages\\sklearn\\linear_model\\_coordinate_descent.py:530: ConvergenceWarning: Objective did not converge. You might want to increase the number of iterations. Duality gap: 57574119.22993994, tolerance: 4177994.424027365\n",
      "  model = cd_fast.enet_coordinate_descent(\n",
      "E:\\Anaconda2021\\lib\\site-packages\\sklearn\\linear_model\\_coordinate_descent.py:530: ConvergenceWarning: Objective did not converge. You might want to increase the number of iterations. Duality gap: 60754256.4437835, tolerance: 4003570.5126899094\n",
      "  model = cd_fast.enet_coordinate_descent(\n",
      "E:\\Anaconda2021\\lib\\site-packages\\sklearn\\linear_model\\_coordinate_descent.py:530: ConvergenceWarning: Objective did not converge. You might want to increase the number of iterations. Duality gap: 63252458.50866204, tolerance: 3984092.576089629\n",
      "  model = cd_fast.enet_coordinate_descent(\n",
      "E:\\Anaconda2021\\lib\\site-packages\\sklearn\\linear_model\\_coordinate_descent.py:530: ConvergenceWarning: Objective did not converge. You might want to increase the number of iterations. Duality gap: 45536893.04996474, tolerance: 3942624.9752333467\n",
      "  model = cd_fast.enet_coordinate_descent(\n"
     ]
    },
    {
     "name": "stdout",
     "output_type": "stream",
     "text": [
      "87.24279835390946\n",
      "1088563.8905726306\n",
      "LinearRegression()\n",
      "87.24279835390946\n",
      "1091416.723207294\n",
      "KNeighborsRegressor()\n",
      "23.662551440329217\n",
      "303233859.699593\n"
     ]
    }
   ],
   "source": [
    "for m in (models:=[Lasso(),LinearRegression(),KNeighborsRegressor()]):\n",
    "    print(str(m))\n",
    "    cls = BaggingRegressor(base_estimator=m,n_estimators=10)\n",
    "    cls.estimators_ = models.remove(m)\n",
    "    pred = cls.fit(train.drop(\"price\",axis=1), train.price).predict(test.drop(\"price\",axis=1))\n",
    "    res = pd.DataFrame({\"index\": np.arange(len(pred)), \"real\": test.price, \"pred\": pred})\n",
    "    print(res[(res.pred * 0.95 <= res.real) & (res.pred * 1.05 >= res.real)].shape[0] / res.shape[0] * 100)\n",
    "    from sklearn.metrics import mean_squared_error\n",
    "    print(mean_squared_error(res.pred,res.real))"
   ]
  },
  {
   "cell_type": "code",
   "execution_count": 77,
   "id": "712699c8-210e-4354-abea-25bd9798d317",
   "metadata": {},
   "outputs": [
    {
     "name": "stdout",
     "output_type": "stream",
     "text": [
      "accuracy: 89.30041152263375\n",
      "mse: 1035213.6440181762\n"
     ]
    }
   ],
   "source": [
    "cls = AdaBoostRegressor(base_estimator=LinearRegression(),n_estimators=100)\n",
    "pred = cls.fit(train.drop(\"price\",axis=1), train.price).predict(test.drop(\"price\",axis=1))\n",
    "res = pd.DataFrame({\"index\": np.arange(len(pred)), \"real\": test.price, \"pred\": pred})\n",
    "print(\"accuracy:\",res[(res.pred * 0.95 <= res.real) & (res.pred * 1.05 >= res.real)].shape[0] / res.shape[0] * 100)\n",
    "from sklearn.metrics import mean_squared_error\n",
    "print(\"mse:\",mean_squared_error(res.pred,res.real))"
   ]
  },
  {
   "cell_type": "code",
   "execution_count": 95,
   "id": "8abf501e-2850-43c4-ac9d-a819c634b6b1",
   "metadata": {},
   "outputs": [
    {
     "name": "stdout",
     "output_type": "stream",
     "text": [
      "accuracy: 53.49794238683128\n",
      "mse: 262158256.59917554\n"
     ]
    }
   ],
   "source": [
    "cls = RandomForestRegressor(bootstrap=False)\n",
    "pred = cls.fit(train.drop(\"price\",axis=1), train.price).predict(test.drop(\"price\",axis=1))\n",
    "res = pd.DataFrame({\"index\": np.arange(len(pred)), \"real\": test.price, \"pred\": pred})\n",
    "print(\"accuracy:\",res[(res.pred * 0.95 <= res.real) & (res.pred * 1.05 >= res.real)].shape[0] / res.shape[0] * 100)\n",
    "from sklearn.metrics import mean_squared_error\n",
    "print(\"mse:\",mean_squared_error(res.pred,res.real))"
   ]
  }
 ],
 "metadata": {
  "kernelspec": {
   "display_name": "Python 3",
   "language": "python",
   "name": "python3"
  },
  "language_info": {
   "codemirror_mode": {
    "name": "ipython",
    "version": 3
   },
   "file_extension": ".py",
   "mimetype": "text/x-python",
   "name": "python",
   "nbconvert_exporter": "python",
   "pygments_lexer": "ipython3",
   "version": "3.8.8"
  }
 },
 "nbformat": 4,
 "nbformat_minor": 5
}
