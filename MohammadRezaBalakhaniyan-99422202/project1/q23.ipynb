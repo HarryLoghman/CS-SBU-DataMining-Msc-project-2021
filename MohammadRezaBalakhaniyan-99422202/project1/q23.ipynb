{
 "cells": [
  {
   "cell_type": "code",
   "execution_count": 1,
   "id": "ef806f09-cbd0-472a-90b5-ce7f3900601c",
   "metadata": {},
   "outputs": [],
   "source": [
    "import matplotlib\n",
    "import pandas as pd\n",
    "import numpy as np\n",
    "import time\n",
    "from datetime import datetime\n",
    "import matplotlib.pyplot as plt\n",
    "from sklearn.naive_bayes import *\n",
    "from sklearn.linear_model import LinearRegression\n",
    "from re import sub\n",
    "def mdy_to_ymd(d):\n",
    "    return time.mktime(datetime.strptime(d, '%d-%b-%y').timetuple())\n",
    "\n",
    "class Beautify:\n",
    "\n",
    "    @staticmethod\n",
    "    def beautify(path):\n",
    "        dataset = pd.read_csv(path)\n",
    "        dataset.columns = [\"date\", \"price\", \"open\", \"high\", \"low\", \"vol\", \"change\"]\n",
    "        dataset[\"date\"] = dataset.apply(lambda row: mdy_to_ymd(row['date']), axis=1)\n",
    "        for col in [\"price\", \"open\", \"high\", \"low\", \"vol\", \"change\"]:\n",
    "            dataset[col] = dataset.apply(\n",
    "                lambda row: (lambda x: 0 if x == '-' else float(x))(sub(r'[^\\d.-]', '', row[col])),\n",
    "                axis=1)\n",
    "        dataset = dataset.sort_values([\"date\"])\n",
    "        return dataset\n",
    "\n",
    "\n",
    "pd.set_option('display.float_format', lambda x: '%.0f' % x)"
   ]
  },
  {
   "cell_type": "code",
   "execution_count": 2,
   "id": "b2a10088-ba08-4564-9b60-a1404d834e92",
   "metadata": {},
   "outputs": [],
   "source": [
    "dataset = Beautify.beautify(\"dataset.csv\")\n",
    "\n",
    "dataset = dataset[[\"date\",\"price\",\"change\"]]\n",
    "dataset[\"change\"] = dataset.apply(lambda x: -1 if x[\"change\"] <= 0 else 1,axis=1)"
   ]
  },
  {
   "cell_type": "code",
   "execution_count": 3,
   "id": "93317d57-627d-4eb7-a1bc-8b8f1caaf993",
   "metadata": {},
   "outputs": [],
   "source": [
    "for i in [1,2,3,5,7,10,12,15,20,30,45]:\n",
    "    dataset[f\"s_{i}\"] = dataset[\"price\"].shift(i,fill_value=0)"
   ]
  },
  {
   "cell_type": "code",
   "execution_count": 4,
   "id": "d37529e9-a660-44ac-8521-4cac653689bd",
   "metadata": {},
   "outputs": [],
   "source": [
    "from sklearn.linear_model import LinearRegression\n",
    "from sklearn.linear_model import Lasso\n",
    "model =  Lasso()"
   ]
  },
  {
   "cell_type": "code",
   "execution_count": 5,
   "id": "6fc809fb-1e1c-4254-966a-640abf8cec71",
   "metadata": {},
   "outputs": [],
   "source": [
    "TRAIN = time.mktime(datetime.strptime(\"20-01-02\", '%y-%m-%d').timetuple())\n",
    "train = dataset[dataset.date < TRAIN]\n",
    "test = dataset[dataset.date >= TRAIN]"
   ]
  },
  {
   "cell_type": "code",
   "execution_count": 6,
   "id": "07a5cfa6-c0ef-414c-a27f-45be90081179",
   "metadata": {},
   "outputs": [
    {
     "name": "stderr",
     "output_type": "stream",
     "text": [
      "E:\\Anaconda2021\\lib\\site-packages\\pandas\\core\\frame.py:4308: SettingWithCopyWarning: \n",
      "A value is trying to be set on a copy of a slice from a DataFrame\n",
      "\n",
      "See the caveats in the documentation: https://pandas.pydata.org/pandas-docs/stable/user_guide/indexing.html#returning-a-view-versus-a-copy\n",
      "  return super().drop(\n"
     ]
    }
   ],
   "source": [
    "train.drop(\"date\",axis=1,inplace=True)\n",
    "test.drop(\"date\",axis=1,inplace=True)"
   ]
  },
  {
   "cell_type": "code",
   "execution_count": 7,
   "id": "009235f0-f175-409c-ae75-d9700d83d209",
   "metadata": {},
   "outputs": [
    {
     "name": "stderr",
     "output_type": "stream",
     "text": [
      "E:\\Anaconda2021\\lib\\site-packages\\sklearn\\linear_model\\_coordinate_descent.py:530: ConvergenceWarning: Objective did not converge. You might want to increase the number of iterations. Duality gap: 61794532.24392402, tolerance: 4106899.6988909775\n",
      "  model = cd_fast.enet_coordinate_descent(\n"
     ]
    }
   ],
   "source": [
    "pred = model.fit(train.drop(\"price\",axis=1),train.price).predict(test.drop(\"price\",axis=1))"
   ]
  },
  {
   "cell_type": "code",
   "execution_count": 8,
   "id": "82c1d60a-28da-42fb-92fe-ecff4f2f6d13",
   "metadata": {},
   "outputs": [],
   "source": [
    "res = pd.DataFrame({\"index\": np.arange(len(pred)), \"real\": test.price, \"pred\": pred})"
   ]
  },
  {
   "cell_type": "code",
   "execution_count": 9,
   "id": "8dfa4958-5d62-4e58-84be-04fd90e09941",
   "metadata": {},
   "outputs": [
    {
     "data": {
      "text/plain": [
       "86.83127572016461"
      ]
     },
     "execution_count": 9,
     "metadata": {},
     "output_type": "execute_result"
    }
   ],
   "source": [
    "res[(res.pred * 0.95 <= res.real) & (res.pred * 1.05 >= res.real)].shape[0] / res.shape[0] * 100"
   ]
  },
  {
   "cell_type": "code",
   "execution_count": 10,
   "id": "5efc8fe3-fb00-4c46-ac9d-246555876dd3",
   "metadata": {},
   "outputs": [
    {
     "data": {
      "text/plain": [
       "1101097.1524989677"
      ]
     },
     "execution_count": 10,
     "metadata": {},
     "output_type": "execute_result"
    }
   ],
   "source": [
    "from sklearn.metrics import mean_squared_error\n",
    "mean_squared_error(res.pred,res.real)"
   ]
  }
 ],
 "metadata": {
  "kernelspec": {
   "display_name": "Python 3",
   "language": "python",
   "name": "python3"
  },
  "language_info": {
   "codemirror_mode": {
    "name": "ipython",
    "version": 3
   },
   "file_extension": ".py",
   "mimetype": "text/x-python",
   "name": "python",
   "nbconvert_exporter": "python",
   "pygments_lexer": "ipython3",
   "version": "3.8.8"
  }
 },
 "nbformat": 4,
 "nbformat_minor": 5
}
