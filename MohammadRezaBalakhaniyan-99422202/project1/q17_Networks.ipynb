{
 "cells": [
  {
   "cell_type": "code",
   "execution_count": null,
   "metadata": {
    "collapsed": false,
    "jupyter": {
     "outputs_hidden": false
    },
    "pycharm": {
     "name": "#%%\n"
    }
   },
   "outputs": [],
   "source": [
    "from datetime import datetime\n",
    "import time\n",
    "from re import sub\n",
    "import pandas as pd\n",
    "import numpy as np\n",
    "from keras import Sequential\n",
    "from keras.layers import Bidirectional\n",
    "from keras.layers import LSTM, Dense, Dropout, GRU\n",
    "from sklearn.preprocessing import MinMaxScaler\n",
    "import keras"
   ]
  },
  {
   "cell_type": "code",
   "execution_count": null,
   "metadata": {
    "collapsed": false,
    "jupyter": {
     "outputs_hidden": false
    },
    "pycharm": {
     "name": "#%%\n"
    }
   },
   "outputs": [],
   "source": [
    "def mdy_to_ymd(d):\n",
    "    return time.mktime(datetime.strptime(d, '%d-%b-%y').timetuple())\n",
    "\n",
    "\n",
    "def threeD_dataset(X, y, time_steps=1):\n",
    "    Xs, ys = [], []\n",
    "\n",
    "    for i in range(len(X) - time_steps):\n",
    "        v = X[i:i + time_steps, :]\n",
    "        Xs.append(v)\n",
    "        ys.append(y[i + time_steps])\n",
    "\n",
    "    return np.array(Xs), np.array(ys)\n",
    "\n",
    "\n",
    "class Beautify:\n",
    "\n",
    "    @staticmethod\n",
    "    def beautify(path):\n",
    "        dataset = pd.read_csv(path)\n",
    "        dataset.columns = [\"date\", \"price\", \"open\", \"high\", \"low\", \"vol\", \"change\"]\n",
    "        dataset[\"date\"] = dataset.apply(lambda row: mdy_to_ymd(row['date']), axis=1)\n",
    "        for col in [\"price\", \"open\", \"high\", \"low\", \"vol\", \"change\"]:\n",
    "            dataset[col] = dataset.apply(\n",
    "                lambda row: (lambda x: 0 if x == '-' else float(x))(sub(r'[^\\d.-]', '', row[col])),\n",
    "                axis=1)\n",
    "        dataset = dataset.sort_values([\"date\"])\n",
    "        return dataset\n",
    "\n",
    "\n",
    "pd.set_option('display.float_format', lambda x: '%.0f' % x)"
   ]
  },
  {
   "cell_type": "code",
   "execution_count": null,
   "metadata": {
    "collapsed": false,
    "jupyter": {
     "outputs_hidden": false
    },
    "pycharm": {
     "name": "#%%\n"
    }
   },
   "outputs": [],
   "source": [
    "dataset = Beautify.beautify(\"dataset.csv\")\n",
    "dataset = dataset.reset_index(drop=True)\n",
    "dataset[\"next_price\"] = dataset[\"price\"].shift(-1, fill_value=0)\n",
    "dataset.drop(dataset.tail(1).index, inplace=True)\n"
   ]
  },
  {
   "cell_type": "code",
   "execution_count": null,
   "metadata": {
    "collapsed": false,
    "jupyter": {
     "outputs_hidden": false
    },
    "pycharm": {
     "name": "#%%\n"
    }
   },
   "outputs": [],
   "source": [
    "TRAIN = time.mktime(datetime.strptime(\"20-01-02\", '%y-%m-%d').timetuple())\n",
    "train = dataset[dataset.date < TRAIN]\n",
    "test = dataset[dataset.date >= TRAIN]\n",
    "X_train = train.drop('next_price', axis=1)\n",
    "y_train = train.loc[:, ['next_price']]\n",
    "X_test = test.drop('next_price', axis=1)\n",
    "y_test = test.loc[:, ['next_price']]\n",
    "X_test.drop([\"date\", \"open\", \"high\", \"low\", \"vol\", \"change\"], axis=1, inplace=True)\n",
    "X_train.drop([\"date\", \"open\", \"high\", \"low\", \"vol\", \"change\"], axis=1, inplace=True)\n"
   ]
  },
  {
   "cell_type": "code",
   "execution_count": null,
   "metadata": {
    "collapsed": false,
    "jupyter": {
     "outputs_hidden": false
    },
    "pycharm": {
     "name": "#%%\n"
    }
   },
   "outputs": [],
   "source": [
    "scaler_x = MinMaxScaler(feature_range=(-1, 1))\n",
    "scaler_y = MinMaxScaler(feature_range=(-1, 1))\n",
    "input_scaler = scaler_x.fit(X_train)\n",
    "output_scaler = scaler_y.fit(y_train)\n",
    "train_y_norm = output_scaler.transform(y_train)\n",
    "train_x_norm = input_scaler.transform(X_train)\n",
    "test_y_norm = output_scaler.transform(y_test)\n",
    "test_x_norm = input_scaler.transform(X_test)\n",
    "TIME_STEPS = 10\n",
    "X_test, y_test = threeD_dataset(test_x_norm, test_y_norm, TIME_STEPS)\n",
    "X_train, y_train = threeD_dataset(train_x_norm, train_y_norm, TIME_STEPS)"
   ]
  },
  {
   "cell_type": "code",
   "execution_count": null,
   "metadata": {
    "collapsed": false,
    "jupyter": {
     "outputs_hidden": false
    },
    "pycharm": {
     "name": "#%%\n"
    }
   },
   "outputs": [],
   "source": [
    "def create_model_bilstm(units):\n",
    "    model = Sequential()\n",
    "    model.add(Bidirectional(LSTM(units=units, return_sequences=True),\n",
    "                            input_shape=(X_train.shape[1], X_train.shape[2])))\n",
    "    model.add(Bidirectional(LSTM(units=units)))\n",
    "    model.add(Dense(1))\n",
    "    model.compile(loss='mse', optimizer='adam')\n",
    "    return model\n",
    "\n",
    "\n",
    "def create_model(units, m):\n",
    "    model = Sequential()\n",
    "    model.add(m(units=units, return_sequences=True,\n",
    "                input_shape=[X_train.shape[1], X_train.shape[2]]))\n",
    "    model.add(Dropout(0.2))\n",
    "    model.add(m(units=units))\n",
    "    model.add(Dropout(0.2))\n",
    "    model.add(Dense(units=1))\n",
    "    model.compile(loss='mse', optimizer='adam')\n",
    "    return model\n",
    "\n",
    "\n",
    "model_bilstm = create_model_bilstm(64)\n",
    "model_gru = create_model(64, GRU)\n",
    "model_lstm = create_model(64, LSTM)"
   ]
  },
  {
   "cell_type": "code",
   "execution_count": null,
   "metadata": {
    "collapsed": false,
    "jupyter": {
     "outputs_hidden": false
    },
    "pycharm": {
     "name": "#%%\n"
    }
   },
   "outputs": [],
   "source": [
    "def fit_model(model):\n",
    "    early_stop = keras.callbacks.EarlyStopping(monitor='val_loss',\n",
    "                                               patience=10)\n",
    "    history = model.fit(X_train, y_train, epochs=100, validation_split=0.2,\n",
    "                        batch_size=32, shuffle=False, callbacks=[early_stop])\n",
    "    return history\n",
    "\n",
    "\n",
    "history_bilstm = fit_model(model_bilstm)\n",
    "history_lstm = fit_model(model_lstm)\n",
    "history_gru = fit_model(model_gru)"
   ]
  },
  {
   "cell_type": "code",
   "execution_count": null,
   "metadata": {
    "collapsed": false,
    "jupyter": {
     "outputs_hidden": false
    },
    "pycharm": {
     "name": "#%%\n"
    }
   },
   "outputs": [],
   "source": [
    "y_test = scaler_y.inverse_transform(y_test)\n",
    "y_train = scaler_y.inverse_transform(y_train)\n",
    "\n",
    "\n",
    "def prediction(model):\n",
    "    prediction = model.predict(X_test)\n",
    "    prediction = scaler_y.inverse_transform(prediction)\n",
    "    return prediction\n",
    "\n",
    "\n",
    "prediction_bilstm = prediction(model_bilstm)\n",
    "prediction_lstm = prediction(model_lstm)\n",
    "prediction_gru = prediction(model_gru)"
   ]
  },
  {
   "cell_type": "code",
   "execution_count": null,
   "metadata": {
    "collapsed": false,
    "jupyter": {
     "outputs_hidden": false
    },
    "pycharm": {
     "name": "#%%\n"
    }
   },
   "outputs": [],
   "source": [
    "def evaluate_prediction(pred, real, model_name):\n",
    "    errors = pred - real\n",
    "    mse = np.square(errors).mean()\n",
    "    res = pd.DataFrame({\"index\": np.arange(len(real)), \"real\": real.reshape(1, -1)[0], \"pred\": pred.reshape(1, -1)[0]})\n",
    "    print(model_name)\n",
    "    print(\"Accuracy: \",\n",
    "          res[(res.pred * 0.95 <= res.real) & (res.pred * 1.05 >= res.real)].shape[0] / res.shape[0] * 100)\n",
    "    print('Mean Absolute Error: {:.4f}'.format(mse))\n",
    "\n",
    "\n",
    "evaluate_prediction(prediction_bilstm, y_test, 'Bidirectional LSTM')\n",
    "evaluate_prediction(prediction_lstm, y_test, 'LSTM')\n",
    "evaluate_prediction(prediction_gru, y_test, 'GRU')"
   ]
  }
 ],
 "metadata": {
  "kernelspec": {
   "display_name": "Python 3",
   "language": "python",
   "name": "python3"
  },
  "language_info": {
   "codemirror_mode": {
    "name": "ipython",
    "version": 3
   },
   "file_extension": ".py",
   "mimetype": "text/x-python",
   "name": "python",
   "nbconvert_exporter": "python",
   "pygments_lexer": "ipython3",
   "version": "3.8.8"
  }
 },
 "nbformat": 4,
 "nbformat_minor": 4
}
