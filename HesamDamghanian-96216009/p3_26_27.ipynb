{
 "cells": [
  {
   "cell_type": "code",
   "execution_count": null,
   "metadata": {},
   "outputs": [],
   "source": [
    "import tensorflow as tf\n",
    "from tensorflow.keras import backend as K\n",
    "import numpy as np\n",
    "import pandas as pd\n",
    "\n",
    "from sklearn.metrics import mean_squared_error\n",
    "import matplotlib.pyplot as plt\n",
    "\n",
    "plt.style.use(['dark_background'])"
   ]
  },
  {
   "cell_type": "code",
   "execution_count": null,
   "metadata": {},
   "outputs": [],
   "source": [
    "data    =   pd.read_csv('2627/training_data.csv', index_col='id')\r\n",
    "tournament  =   pd.read_csv('2627/tournament_data.csv', index_col='id')"
   ]
  },
  {
   "cell_type": "code",
   "execution_count": null,
   "metadata": {},
   "outputs": [],
   "source": [
    "data    =   data.select_dtypes('double').astype('float16')"
   ]
  },
  {
   "cell_type": "code",
   "execution_count": null,
   "metadata": {},
   "outputs": [],
   "source": [
    "tournament  =   tournament.select_dtypes('double').astype('float16')"
   ]
  },
  {
   "cell_type": "code",
   "execution_count": null,
   "metadata": {},
   "outputs": [],
   "source": [
    "print(data.info())\n",
    "print(tournament.info())"
   ]
  },
  {
   "cell_type": "code",
   "execution_count": null,
   "metadata": {},
   "outputs": [],
   "source": [
    "x_train =   data.drop('target', axis=1)\n",
    "y_train =   data.target"
   ]
  },
  {
   "cell_type": "code",
   "execution_count": null,
   "metadata": {},
   "outputs": [],
   "source": [
    "from sklearn.decomposition import PCA\n",
    "\n",
    "pca =   PCA(n_components=0.6)\n",
    "\n",
    "x_train =   pd.DataFrame(pca.fit_transform(x_train), index=x_train.index)"
   ]
  },
  {
   "cell_type": "code",
   "execution_count": null,
   "metadata": {},
   "outputs": [],
   "source": [
    "x_test  =   tournament.dropna().drop('target', axis=1)\n",
    "y_test  =   tournament.dropna().target"
   ]
  },
  {
   "cell_type": "code",
   "execution_count": null,
   "metadata": {},
   "outputs": [],
   "source": [
    "pca =   PCA(n_components=x_train.shape[1])\n",
    "x_test =   pd.DataFrame(pca.fit_transform(x_test), index=x_test.index)"
   ]
  },
  {
   "cell_type": "code",
   "execution_count": null,
   "metadata": {},
   "outputs": [],
   "source": [
    "from assets import regression_performance, prediction_graph, get_sklearn_regression"
   ]
  },
  {
   "cell_type": "code",
   "execution_count": 11,
   "metadata": {},
   "outputs": [
    {
     "name": "stdout",
     "output_type": "stream",
     "text": [
      "\n",
      "Regressor: HistGradientBoostingRegressor\n",
      "RMSE: 0.22\n",
      "Performance Percentage: 0.50\n",
      "Precision: 68.76\n",
      "R2 Score Test = -0.001\n",
      "MAE Test =  0.152\n",
      "\n",
      "Regressor: LinearRegression\n",
      "RMSE: 0.22\n",
      "Performance Percentage: 0.50\n",
      "Precision: 68.78\n",
      "R2 Score Test = -0.001\n",
      "MAE Test =  0.153\n",
      "\n",
      "Regressor: BayesianRidge\n",
      "RMSE: 0.22\n",
      "Performance Percentage: 0.50\n",
      "Precision: 68.76\n",
      "R2 Score Test = -0.001\n",
      "MAE Test =  0.152\n",
      "\n",
      "Regressor: MLPRegressor\n",
      "RMSE: 0.22\n",
      "Performance Percentage: 0.47\n",
      "Precision: 73.35\n",
      "R2 Score Test = -0.003\n",
      "MAE Test =  0.155\n",
      "\n",
      "Regressor: DecisionTreeRegressor\n",
      "RMSE: 0.33\n",
      "Performance Percentage: 0.32\n",
      "Precision: 70.62\n",
      "R2 Score Test = -1.155\n",
      "MAE Test =  0.244\n"
     ]
    }
   ],
   "source": [
    "from sklearn.experimental import enable_hist_gradient_boosting\n",
    "from sklearn.ensemble import (\n",
    "    GradientBoostingRegressor, \n",
    "    HistGradientBoostingRegressor, \n",
    "    RandomForestRegressor, \n",
    ")\n",
    "from sklearn.linear_model import (\n",
    "    LinearRegression,\n",
    "    BayesianRidge,\n",
    "    RANSACRegressor\n",
    ")\n",
    "from sklearn.neighbors import KNeighborsRegressor\n",
    "from sklearn.neural_network import MLPRegressor\n",
    "from sklearn.tree import DecisionTreeRegressor\n",
    "\n",
    "regressors   =   [\n",
    "    #GradientBoostingRegressor, \n",
    "    HistGradientBoostingRegressor, \n",
    "    #RandomForestRegressor, \n",
    "    LinearRegression,\n",
    "    BayesianRidge,\n",
    "    # RANSACRegressor, \n",
    "    # KNeighborsRegressor, \n",
    "    MLPRegressor, \n",
    "    DecisionTreeRegressor\n",
    "]\n",
    "\n",
    "trained_regressors  =   get_sklearn_regression(regressors, x_train, y_train, x_test, y_test, graph=False, print_results=True)"
   ]
  },
  {
   "cell_type": "code",
   "execution_count": 12,
   "metadata": {},
   "outputs": [],
   "source": [
    "best_regressor  =   sorted(trained_regressors, key=lambda x:np.sqrt(mean_squared_error(x.predict(x_test), y_test)))"
   ]
  },
  {
   "cell_type": "code",
   "execution_count": 13,
   "metadata": {},
   "outputs": [
    {
     "name": "stdout",
     "output_type": "stream",
     "text": [
      "Regressor: HistGradientBoostingRegressor\n",
      "RMSE: 0.22\n",
      "Performance Percentage: 0.50\n",
      "Precision: 67.89\n",
      "R2 Score Test = -0.000\n",
      "MAE Test =  0.151\n",
      "Regressor: BayesianRidge\n",
      "RMSE: 0.22\n",
      "Performance Percentage: 0.50\n",
      "Precision: 68.57\n",
      "R2 Score Test = -0.001\n",
      "MAE Test =  0.152\n"
     ]
    }
   ],
   "source": [
    "# 27\n",
    "from assets import bagging_regerssion \n",
    "preds   =   bagging_regerssion(best_regressor[0:2], x_train, y_train, x_test, y_test, return_preds=True)"
   ]
  },
  {
   "cell_type": "code",
   "execution_count": 14,
   "metadata": {},
   "outputs": [
    {
     "name": "stdout",
     "output_type": "stream",
     "text": [
      "RMSE: 0.23\n",
      "Performance Percentage: 0.23\n",
      "Precision: 67.67\n",
      "R2 Score Test = -0.047\n",
      "MAE Test =  0.167\n"
     ]
    }
   ],
   "source": [
    "from sklearn.ensemble import VotingRegressor\n",
    "\n",
    "vr  =   VotingRegressor([(i.__class__.__name__, i) for i in best_regressor[:5]])\n",
    "vr.fit(x_train, y_train)\n",
    "pred=   vr.predict(x_test)\n",
    "\n",
    "performance, rmse, precision    = regression_performance(pred, y_test.to_numpy(), print_results=True)\n",
    "preds['VotingRegressor']    =   pred"
   ]
  },
  {
   "cell_type": "code",
   "execution_count": 15,
   "metadata": {},
   "outputs": [
    {
     "name": "stdout",
     "output_type": "stream",
     "text": [
      "\n",
      "Regressor: AdaBoostRegressor\n",
      "RMSE: 0.22\n",
      "Performance Percentage: 0.50\n",
      "Precision: 66.00\n",
      "R2 Score Test = -0.000\n",
      "MAE Test =  0.152\n",
      "\n",
      "AdaBoostRegressor, base estimator:  LinearRegression\n",
      "RMSE: 0.22\n",
      "Performance Percentage: 0.50\n",
      "Precision: 68.70\n",
      "R2 Score Test = -0.001\n",
      "MAE Test =  0.153\n"
     ]
    }
   ],
   "source": [
    "from sklearn.ensemble import AdaBoostRegressor\n",
    "from sklearn.linear_model import LinearRegression\n",
    "from sklearn.neural_network import MLPRegressor\n",
    "\n",
    "adaboostreg = get_sklearn_regression([AdaBoostRegressor], x_train, y_train, x_test, y_test, graph=False, print_results=True)\n",
    "preds['AdaBoostRegressor(DecisionTreeRegressor)']   =   adaboostreg[0].predict(x_test)\n",
    "abr =   AdaBoostRegressor(base_estimator=LinearRegression(), n_estimators=5).fit(x_train, y_train)\n",
    "print('\\nAdaBoostRegressor, base estimator: ', 'LinearRegression')\n",
    "_   =   regression_performance(abr.predict(x_test), y_test, print_results=True)\n",
    "preds['AdaBoostRegressor(LinearRegression)']    =   abr.predict(x_test)"
   ]
  },
  {
   "cell_type": "code",
   "execution_count": 16,
   "metadata": {},
   "outputs": [],
   "source": [
    "preds['Target']  =   y_test.values"
   ]
  },
  {
   "cell_type": "code",
   "execution_count": 17,
   "metadata": {},
   "outputs": [
    {
     "data": {
      "text/html": [
       "<div>\n",
       "<style scoped>\n",
       "    .dataframe tbody tr th:only-of-type {\n",
       "        vertical-align: middle;\n",
       "    }\n",
       "\n",
       "    .dataframe tbody tr th {\n",
       "        vertical-align: top;\n",
       "    }\n",
       "\n",
       "    .dataframe thead th {\n",
       "        text-align: right;\n",
       "    }\n",
       "</style>\n",
       "<table border=\"1\" class=\"dataframe\">\n",
       "  <thead>\n",
       "    <tr style=\"text-align: right;\">\n",
       "      <th></th>\n",
       "      <th>HistGradientBoostingRegressor</th>\n",
       "      <th>BayesianRidge</th>\n",
       "      <th>VotingRegressor</th>\n",
       "      <th>AdaBoostRegressor(DecisionTreeRegressor)</th>\n",
       "      <th>AdaBoostRegressor(LinearRegression)</th>\n",
       "      <th>Target</th>\n",
       "    </tr>\n",
       "  </thead>\n",
       "  <tbody>\n",
       "    <tr>\n",
       "      <th>HistGradientBoostingRegressor</th>\n",
       "      <td>1.000000</td>\n",
       "      <td>0.758899</td>\n",
       "      <td>0.127423</td>\n",
       "      <td>0.691904</td>\n",
       "      <td>0.740914</td>\n",
       "      <td>0.002048</td>\n",
       "    </tr>\n",
       "    <tr>\n",
       "      <th>BayesianRidge</th>\n",
       "      <td>0.758899</td>\n",
       "      <td>1.000000</td>\n",
       "      <td>0.129200</td>\n",
       "      <td>0.595326</td>\n",
       "      <td>0.980808</td>\n",
       "      <td>0.001313</td>\n",
       "    </tr>\n",
       "    <tr>\n",
       "      <th>VotingRegressor</th>\n",
       "      <td>0.127423</td>\n",
       "      <td>0.129200</td>\n",
       "      <td>1.000000</td>\n",
       "      <td>0.093359</td>\n",
       "      <td>0.128258</td>\n",
       "      <td>-0.000630</td>\n",
       "    </tr>\n",
       "    <tr>\n",
       "      <th>AdaBoostRegressor(DecisionTreeRegressor)</th>\n",
       "      <td>0.691904</td>\n",
       "      <td>0.595326</td>\n",
       "      <td>0.093359</td>\n",
       "      <td>1.000000</td>\n",
       "      <td>0.592640</td>\n",
       "      <td>-0.000281</td>\n",
       "    </tr>\n",
       "    <tr>\n",
       "      <th>AdaBoostRegressor(LinearRegression)</th>\n",
       "      <td>0.740914</td>\n",
       "      <td>0.980808</td>\n",
       "      <td>0.128258</td>\n",
       "      <td>0.592640</td>\n",
       "      <td>1.000000</td>\n",
       "      <td>0.000806</td>\n",
       "    </tr>\n",
       "    <tr>\n",
       "      <th>Target</th>\n",
       "      <td>0.002048</td>\n",
       "      <td>0.001313</td>\n",
       "      <td>-0.000630</td>\n",
       "      <td>-0.000281</td>\n",
       "      <td>0.000806</td>\n",
       "      <td>1.000000</td>\n",
       "    </tr>\n",
       "  </tbody>\n",
       "</table>\n",
       "</div>"
      ],
      "text/plain": [
       "                                          HistGradientBoostingRegressor  \\\n",
       "HistGradientBoostingRegressor                                  1.000000   \n",
       "BayesianRidge                                                  0.758899   \n",
       "VotingRegressor                                                0.127423   \n",
       "AdaBoostRegressor(DecisionTreeRegressor)                       0.691904   \n",
       "AdaBoostRegressor(LinearRegression)                            0.740914   \n",
       "Target                                                         0.002048   \n",
       "\n",
       "                                          BayesianRidge  VotingRegressor  \\\n",
       "HistGradientBoostingRegressor                  0.758899         0.127423   \n",
       "BayesianRidge                                  1.000000         0.129200   \n",
       "VotingRegressor                                0.129200         1.000000   \n",
       "AdaBoostRegressor(DecisionTreeRegressor)       0.595326         0.093359   \n",
       "AdaBoostRegressor(LinearRegression)            0.980808         0.128258   \n",
       "Target                                         0.001313        -0.000630   \n",
       "\n",
       "                                          AdaBoostRegressor(DecisionTreeRegressor)  \\\n",
       "HistGradientBoostingRegressor                                             0.691904   \n",
       "BayesianRidge                                                             0.595326   \n",
       "VotingRegressor                                                           0.093359   \n",
       "AdaBoostRegressor(DecisionTreeRegressor)                                  1.000000   \n",
       "AdaBoostRegressor(LinearRegression)                                       0.592640   \n",
       "Target                                                                   -0.000281   \n",
       "\n",
       "                                          AdaBoostRegressor(LinearRegression)  \\\n",
       "HistGradientBoostingRegressor                                        0.740914   \n",
       "BayesianRidge                                                        0.980808   \n",
       "VotingRegressor                                                      0.128258   \n",
       "AdaBoostRegressor(DecisionTreeRegressor)                             0.592640   \n",
       "AdaBoostRegressor(LinearRegression)                                  1.000000   \n",
       "Target                                                               0.000806   \n",
       "\n",
       "                                            Target  \n",
       "HistGradientBoostingRegressor             0.002048  \n",
       "BayesianRidge                             0.001313  \n",
       "VotingRegressor                          -0.000630  \n",
       "AdaBoostRegressor(DecisionTreeRegressor) -0.000281  \n",
       "AdaBoostRegressor(LinearRegression)       0.000806  \n",
       "Target                                    1.000000  "
      ]
     },
     "execution_count": 17,
     "metadata": {},
     "output_type": "execute_result"
    }
   ],
   "source": [
    "preds.corr()"
   ]
  },
  {
   "cell_type": "code",
   "execution_count": 44,
   "metadata": {},
   "outputs": [
    {
     "data": {
      "image/png": "[encoded data removed]",
      "text/plain": [
       "<Figure size 720x720 with 2 Axes>"
      ]
     },
     "metadata": {},
     "output_type": "display_data"
    }
   ],
   "source": [
    "from assets import plot_corr_matrix\r\n",
    "plot_corr_matrix(preds)"
   ]
  },
  {
   "cell_type": "code",
   "execution_count": 45,
   "metadata": {},
   "outputs": [
    {
     "name": "stdout",
     "output_type": "stream",
     "text": [
      "Stored 'preds' (DataFrame)\n",
      "Stored 'x_test' (DataFrame)\n",
      "Stored 'x_train' (DataFrame)\n",
      "Stored 'y_test' (Series)\n",
      "Stored 'y_train' (Series)\n",
      "Stored 'trained_regressors' (list)\n"
     ]
    }
   ],
   "source": [
    "%store preds x_test x_train y_test y_train trained_regressors"
   ]
  },
  {
   "cell_type": "code",
   "execution_count": null,
   "metadata": {},
   "outputs": [],
   "source": []
  }
 ],
 "metadata": {
  "interpreter": {
   "hash": "aa1116b8f86739385c83d88b54e7a31b1a018441c82f4465b00c22c6cced7382"
  },
  "kernelspec": {
   "display_name": "Python 3.9.5 64-bit",
   "name": "python3"
  },
  "language_info": {},
  "orig_nbformat": 4
 },
 "nbformat": 4,
 "nbformat_minor": 2
}